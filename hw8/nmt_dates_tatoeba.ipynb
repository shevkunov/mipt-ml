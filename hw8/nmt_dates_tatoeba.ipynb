{
 "cells": [
  {
   "cell_type": "markdown",
   "metadata": {},
   "source": [
    "<h1 align=\"center\">Organization Info</h1> \n",
    "\n",
    "* Дедлайн **DD MM 2018 23:59** для всех групп.\n",
    "* В качестве решения задания нужно прислать ноутбук с подробными комментариями (<span style='color:red'> без присланного решения результат контеста не будет засчитан </span>).\n",
    "* <span style='color:red'>Название команды в контесте должно соответствовать шаблону: НомерГруппы_Имя_Фамилия, например, 594_Ivan_Ivanov</span>."
   ]
  },
  {
   "cell_type": "markdown",
   "metadata": {},
   "source": [
    "**Оформление дз**: \n",
    "- Присылайте выполненное задание на почту ``ml.course.mipt@gmail.com``\n",
    "- Укажите тему письма в следующем формате ``ML2018_fall_<номер_группы>_<фамилия>``, к примеру -- ``ML2018_fall_495_ivanov``\n",
    "- Выполненное дз сохраните в файл ``<фамилия>_<группа>_task<номер>.ipnb, к примеру`` -- ``ivanov_401_task7.ipnb``\n",
    "\n",
    "**Вопросы**:\n",
    "- Присылайте вопросы на почту ``ml.course.mipt@gmail.com``\n",
    "- Укажите тему письма в следующем формате ``ML2018_fall Question <Содержание вопроса>``\n",
    "\n",
    "\n",
    "--------\n",
    "- **PS1:** Используются автоматические фильтры, и просто не найдем ваше дз, если вы неаккуратно его подпишите.\n",
    "- **PS2:**  Просроченный дедлайн снижает максимальный вес задания по формуле, указнной на первом семинаре\n",
    "- **PS3:** Допустимы исправление кода предложенного кода ниже, если вы считаете"
   ]
  },
  {
   "cell_type": "markdown",
   "metadata": {},
   "source": [
    "<h1 align=\"center\">Checking Questions</h1> \n",
    "\n",
    "**Вопрос 1**: Чем LSTM лучше/хуже чем обычная RNN?\n",
    "\n",
    "<Ответ>\n",
    "\n",
    "**Вопрос 2**:  Выпишите производную $\\frac{d c_{n+1}}{d c_{k}}$ для LSTM http://colah.github.io/posts/2015-08-Understanding-LSTMs/, объясните формулу, когда производная затухает, когда взрывается?\n",
    "\n",
    "<Ответ>\n",
    "\n",
    "**Вопрос 3**: Зачем нужен TBPTT почему BPTT плох?\n",
    "\n",
    "<Ответ>\n",
    "\n",
    "\n",
    "**Вопрос 4**: Как комбинировать рекуррентные и сверточные сети, а главное зачем? Приведите несколько примеров реальных задач.\n",
    "\n",
    "<Ответ>\n",
    "\n",
    "**Вопрос 5**: Можно ли использовать сверточные сети для классификации текстов? Если нет обоснуйте :D, если да то как? как решить проблему с произвольной длинной входа?\n",
    "\n",
    "<Ответ>\n",
    "\n",
    "**Вопрос 6**: Attention - что это такое, где применяют и как? Приведите пример использования на какой-нибудь задаче\n",
    "\n",
    "<Ответ>"
   ]
  },
  {
   "cell_type": "markdown",
   "metadata": {},
   "source": [
    "## Grading\n",
    "* starting at zero points\n",
    "* +2 for describing your iteration path in a report below (compare models).\n",
    "* +2 for correct check questions\n",
    "* +3 (7 total) for 99% accuracy with simple NMT model on __TEST__ dataset\n",
    "* +3 (10 total) for 99% accuracy with attention NMT model on __TEST__ dataset\n",
    "----\n",
    "* tatoeba bonus for accuracy on __TEST__ dataset:\n",
    "    * +2 for report\n",
    "    * 60% (14 total)\n",
    "    * 65% (16 total)\n",
    "    * 70% (18 total)\n",
    "    * 75% (20 total)\n",
    "    \n",
    "## Bonus points\n",
    "\n",
    "Common ways to get bonus points are:\n",
    "* Get higher score, obviously.\n",
    "* Anything special about your NN. For example \"A super-small/fast NN that gets 99%\" gets a bonus.\n",
    "* Any detailed analysis of the results. (attention maps, whatever)"
   ]
  },
  {
   "cell_type": "markdown",
   "metadata": {},
   "source": [
    "---"
   ]
  },
  {
   "cell_type": "code",
   "execution_count": 1,
   "metadata": {},
   "outputs": [],
   "source": [
    "# additional packages for this notebook"
   ]
  },
  {
   "cell_type": "code",
   "execution_count": 2,
   "metadata": {},
   "outputs": [],
   "source": [
    "# ! pip install faker tqdm babel"
   ]
  },
  {
   "cell_type": "markdown",
   "metadata": {},
   "source": [
    "## Task - translation\n",
    "\n",
    "The machine translation is old and well-known field in natural language processing. From the 1950s scientists tried to create a model to automatically translate from say French to English. Nowadays it became possible and the attention mechanism takes great part in that. Here the example image with attention map for the neural machine translation of sample phrase:\n",
    "<p align=\"center\">\n",
    "  <img src=\"http://d3kbpzbmcynnmx.cloudfront.net/wp-content/uploads/2015/12/Screen-Shot-2015-12-30-at-1.23.48-PM.png\" width=\"400\">\n",
    "</p>"
   ]
  },
  {
   "cell_type": "markdown",
   "metadata": {},
   "source": [
    "In our lab we will concentrate on much simplier task: we will translate from human readable date to machine readable one.\n",
    "\n",
    "To do this we need to get one more concept - Sequence-to-Sequence language modeling.\n",
    "The idea of such architecture is here:\n",
    "<p aling=\"center\">\n",
    "<img src=\"./img/simple_nmt.jpg\" width=\"400\">\n",
    "</p>\n",
    "\n",
    "There is an Embeding layer at the bottom, the RNN in the middle and softmax as an output."
   ]
  },
  {
   "cell_type": "code",
   "execution_count": 249,
   "metadata": {
    "colab": {
     "autoexec": {
      "startup": false,
      "wait_interval": 0
     },
     "base_uri": "https://localhost:8080/",
     "height": 34
    },
    "colab_type": "code",
    "executionInfo": {
     "elapsed": 1851,
     "status": "ok",
     "timestamp": 1524243931024,
     "user": {
      "displayName": "Sergey Kolesnikov",
      "photoUrl": "https://lh3.googleusercontent.com/a/default-user=s128",
      "userId": "110932373046251109968"
     },
     "user_tz": -180
    },
    "id": "z9tGNB0m5bq3",
    "outputId": "125c7891-6c6a-4e7c-fa41-6969a8d85574"
   },
   "outputs": [],
   "source": [
    "from keras.layers import Embedding, Bidirectional, Dot\n",
    "from keras.layers.core import *\n",
    "from keras.layers.recurrent import LSTM\n",
    "from keras.models import *\n",
    "from keras.layers.merge import Multiply, Concatenate\n",
    "from keras.utils import to_categorical\n",
    "from keras.layers import TimeDistributed\n",
    "\n",
    "import keras.backend as K\n",
    "import numpy as np"
   ]
  },
  {
   "cell_type": "markdown",
   "metadata": {},
   "source": [
    "---"
   ]
  },
  {
   "cell_type": "markdown",
   "metadata": {},
   "source": [
    "### Data"
   ]
  },
  {
   "cell_type": "markdown",
   "metadata": {
    "colab_type": "text",
    "id": "DiHiJe835brn"
   },
   "source": [
    "Now we need to generate data. It will be dates in different text formats and in fixed output format."
   ]
  },
  {
   "cell_type": "code",
   "execution_count": 4,
   "metadata": {
    "colab": {
     "autoexec": {
      "startup": false,
      "wait_interval": 0
     }
    },
    "colab_type": "code",
    "id": "Lqr3mM4D5bro"
   },
   "outputs": [],
   "source": [
    "from faker import Faker\n",
    "import random\n",
    "from tqdm import tqdm\n",
    "from babel.dates import format_date\n",
    "import numpy as np"
   ]
  },
  {
   "cell_type": "code",
   "execution_count": 5,
   "metadata": {
    "colab": {
     "autoexec": {
      "startup": false,
      "wait_interval": 0
     }
    },
    "colab_type": "code",
    "id": "Pi8idIsn5brw"
   },
   "outputs": [],
   "source": [
    "fake = Faker()\n",
    "\n",
    "FORMATS = ['short',\n",
    "           'medium',\n",
    "           'long',\n",
    "           'full',\n",
    "           'd MMM YYY', \n",
    "           'd MMMM YYY',\n",
    "           'dd MMM YYY',\n",
    "           'd MMM, YYY',\n",
    "           'd MMMM, YYY',\n",
    "           'dd, MMM YYY',\n",
    "           'd MM YY',\n",
    "           'd MMMM YYY',\n",
    "           'MMMM d YYY',\n",
    "           'MMMM d, YYY',\n",
    "           'dd.MM.YY']\n",
    "\n",
    "# change this if you want it to work with another language\n",
    "LOCALES = ['en_US']"
   ]
  },
  {
   "cell_type": "code",
   "execution_count": 6,
   "metadata": {
    "colab": {
     "autoexec": {
      "startup": false,
      "wait_interval": 0
     }
    },
    "colab_type": "code",
    "id": "67qzEjMm5br1"
   },
   "outputs": [],
   "source": [
    "def create_date():\n",
    "    \"\"\"\n",
    "        Creates some fake dates \n",
    "        :returns: tuple containing human readable string, machine readable string, and date object\n",
    "    \"\"\"\n",
    "    dt = fake.date_object()\n",
    "\n",
    "    try:\n",
    "        human_readable = format_date(dt, format=random.choice(FORMATS), locale=random.choice(LOCALES))\n",
    "\n",
    "        case_change = random.choice([0,1,2])\n",
    "        if case_change == 1:\n",
    "            human_readable = human_readable.upper()\n",
    "        elif case_change == 2:\n",
    "            human_readable = human_readable.lower()\n",
    "        # if case_change == 0, do nothing\n",
    "\n",
    "        machine_readable = dt.isoformat()\n",
    "    except AttributeError as e:\n",
    "        return None, None, None\n",
    "\n",
    "    return human_readable, machine_readable, dt"
   ]
  },
  {
   "cell_type": "code",
   "execution_count": 7,
   "metadata": {
    "colab": {
     "autoexec": {
      "startup": false,
      "wait_interval": 0
     }
    },
    "colab_type": "code",
    "id": "j9eTZ13P5br6"
   },
   "outputs": [],
   "source": [
    "def create_dataset(n_examples):\n",
    "    \"\"\"\n",
    "        Creates a dataset with n_examples and vocabularies\n",
    "        :n_examples: the number of examples to generate\n",
    "    \"\"\"\n",
    "    human_vocab = set()\n",
    "    machine_vocab = set()\n",
    "    dataset = []\n",
    "\n",
    "    for i in tqdm(range(n_examples)):\n",
    "        h, m, _ = create_date()\n",
    "        if h is not None:\n",
    "            dataset.append((h, m))\n",
    "            human_vocab.update(tuple(h))\n",
    "            machine_vocab.update(tuple(m))\n",
    "\n",
    "    human = dict(zip(list(human_vocab) + ['<unk>', '<pad>'], \n",
    "                     list(range(len(human_vocab) + 2))))\n",
    "    inv_machine = dict(enumerate(list(machine_vocab) + ['<unk>', '<pad>']))\n",
    "    machine = {v:k for k,v in inv_machine.items()}\n",
    " \n",
    "    return dataset, human, machine, inv_machine"
   ]
  },
  {
   "cell_type": "code",
   "execution_count": 8,
   "metadata": {
    "colab": {
     "autoexec": {
      "startup": false,
      "wait_interval": 0
     }
    },
    "colab_type": "code",
    "id": "EsQHOc3D5br9"
   },
   "outputs": [],
   "source": [
    "def string_to_int(string, lenght, vocab):\n",
    "    if len(string) > lenght:\n",
    "        string = string[:lenght]\n",
    "        \n",
    "    rep = list(map(lambda x: vocab.get(x, '<unk>'), string))\n",
    "    \n",
    "    if len(string) < lenght:\n",
    "        rep += [vocab['<pad>']] * (lenght - len(string))\n",
    "    \n",
    "    return rep"
   ]
  },
  {
   "cell_type": "code",
   "execution_count": 9,
   "metadata": {
    "colab": {
     "autoexec": {
      "startup": false,
      "wait_interval": 0
     }
    },
    "colab_type": "code",
    "id": "MYU62jZi5bsB"
   },
   "outputs": [],
   "source": [
    "def int_to_string(ints, inv_vocab):\n",
    "    return [inv_vocab[i] for i in ints]"
   ]
  },
  {
   "cell_type": "markdown",
   "metadata": {
    "colab_type": "text",
    "id": "yTghggDB5bsE"
   },
   "source": [
    "Actually generating data:"
   ]
  },
  {
   "cell_type": "code",
   "execution_count": 10,
   "metadata": {
    "colab": {
     "autoexec": {
      "startup": false,
      "wait_interval": 0
     },
     "base_uri": "https://localhost:8080/",
     "height": 34
    },
    "colab_type": "code",
    "executionInfo": {
     "elapsed": 20224,
     "status": "ok",
     "timestamp": 1524243982638,
     "user": {
      "displayName": "Sergey Kolesnikov",
      "photoUrl": "https://lh3.googleusercontent.com/a/default-user=s128",
      "userId": "110932373046251109968"
     },
     "user_tz": -180
    },
    "id": "As0XeIDa5bsF",
    "outputId": "8c6db3db-ec03-4707-8348-2008390a4c9f"
   },
   "outputs": [
    {
     "name": "stderr",
     "output_type": "stream",
     "text": [
      " 85%|████████▌ | 256469/300000 [00:09<00:01, 25826.81it/s]/home/shevkunov/tensorflow/lib/python3.6/site-packages/tqdm/_monitor.py:89: TqdmSynchronisationWarning: Set changed size during iteration (see https://github.com/tqdm/tqdm/issues/481)\n",
      "  TqdmSynchronisationWarning)\n",
      "100%|██████████| 300000/300000 [00:11<00:00, 25886.16it/s]\n"
     ]
    }
   ],
   "source": [
    "fake.seed(42)\n",
    "random.seed(42)\n",
    "N = int(3e5)\n",
    "dataset, human_vocab, machine_vocab, inv_machine_vocab = create_dataset(N)"
   ]
  },
  {
   "cell_type": "code",
   "execution_count": 11,
   "metadata": {
    "colab": {
     "autoexec": {
      "startup": false,
      "wait_interval": 0
     },
     "base_uri": "https://localhost:8080/",
     "height": 34
    },
    "colab_type": "code",
    "executionInfo": {
     "elapsed": 648,
     "status": "ok",
     "timestamp": 1524243983321,
     "user": {
      "displayName": "Sergey Kolesnikov",
      "photoUrl": "https://lh3.googleusercontent.com/a/default-user=s128",
      "userId": "110932373046251109968"
     },
     "user_tz": -180
    },
    "id": "qwN8hGFn23Pt",
    "outputId": "3e8f33c7-c4f0-45b6-a26d-29d813c266f2"
   },
   "outputs": [
    {
     "data": {
      "text/plain": [
       "('tuesday, september 14, 1971', '1971-09-14')"
      ]
     },
     "execution_count": 11,
     "metadata": {},
     "output_type": "execute_result"
    }
   ],
   "source": [
    "dataset[2]"
   ]
  },
  {
   "cell_type": "code",
   "execution_count": 14,
   "metadata": {
    "colab": {
     "autoexec": {
      "startup": false,
      "wait_interval": 0
     }
    },
    "colab_type": "code",
    "id": "ITej2gDY5bsN"
   },
   "outputs": [],
   "source": [
    "# TIME_STEP is undefined. Set to 20\n",
    "inputs, targets = zip(*dataset)\n",
    "inputs = np.array([string_to_int(i, TIME_STEPS, human_vocab) for i in inputs])\n",
    "targets = [string_to_int(t, TIME_STEPS, machine_vocab) for t in targets]\n",
    "targets = np.array(list(map(lambda x: to_categorical(x, num_classes=len(machine_vocab)), targets)))"
   ]
  },
  {
   "cell_type": "code",
   "execution_count": 15,
   "metadata": {},
   "outputs": [],
   "source": [
    "X_train, y_train, X_valid, y_valid, X_test, y_test = (\n",
    "    inputs[:int(2e5)], targets[:int(2e5)], \n",
    "    inputs[int(2e5):-int(5e4)], targets[int(2e5):-int(5e4)],  \n",
    "    inputs[-int(5e4):], targets[-int(5e4):], )"
   ]
  },
  {
   "cell_type": "markdown",
   "metadata": {},
   "source": [
    "---"
   ]
  },
  {
   "cell_type": "markdown",
   "metadata": {},
   "source": [
    "### Part 1: Simple NMT"
   ]
  },
  {
   "cell_type": "code",
   "execution_count": 98,
   "metadata": {
    "colab": {
     "autoexec": {
      "startup": false,
      "wait_interval": 0
     }
    },
    "colab_type": "code",
    "id": "qWo4x0DM5brd"
   },
   "outputs": [],
   "source": [
    "# :good-enouht:\n",
    "ENCODER_UNITS = 32 # change me if u want\n",
    "DECODER_UNITS = 32 # change me if u want\n",
    "TIME_STEPS = 20 # change me if u want"
   ]
  },
  {
   "cell_type": "code",
   "execution_count": 119,
   "metadata": {
    "colab": {
     "autoexec": {
      "startup": false,
      "wait_interval": 0
     }
    },
    "colab_type": "code",
    "id": "QQD_Dy8_0MSx"
   },
   "outputs": [],
   "source": [
    "# input - [bs; in_time_len]\n",
    "# output - [bs; out_time_len]; out_time_len=10\n",
    "\n",
    "def model_simple_nmt(in_chars, out_chars):\n",
    "    # RNN encoder -> hidden representation -> RNN decoder\n",
    "    \n",
    "    inputs = Input(shape=(TIME_STEPS,))\n",
    "    \n",
    "    # your code\n",
    "    e = Embedding(in_chars, TIME_STEPS, input_length=TIME_STEPS)(inputs)\n",
    "    encoder_outputs, state_h, state_c = LSTM(ENCODER_UNITS, return_sequences=True, return_state=True)(e)\n",
    "    encoder_states = [state_h, state_c]\n",
    "    \n",
    "    decoder_outputs,  _,  _ = LSTM(DECODER_UNITS, return_sequences=True, return_state=True)(\n",
    "        e, initial_state=encoder_states\n",
    "    )\n",
    "    d2 = Dense(out_chars)(decoder_outputs)\n",
    "    output = Activation('softmax')(d2)\n",
    "    # your code\n",
    "\n",
    "    model = Model(input=[inputs], output=output)\n",
    "    return model"
   ]
  },
  {
   "cell_type": "code",
   "execution_count": 120,
   "metadata": {},
   "outputs": [
    {
     "data": {
      "text/plain": [
       "20"
      ]
     },
     "execution_count": 120,
     "metadata": {},
     "output_type": "execute_result"
    }
   ],
   "source": [
    "TIME_STEPS"
   ]
  },
  {
   "cell_type": "code",
   "execution_count": 121,
   "metadata": {
    "colab": {
     "autoexec": {
      "startup": false,
      "wait_interval": 0
     },
     "base_uri": "https://localhost:8080/",
     "height": 404
    },
    "colab_type": "code",
    "executionInfo": {
     "elapsed": 3568,
     "status": "ok",
     "timestamp": 1524243831879,
     "user": {
      "displayName": "Sergey Kolesnikov",
      "photoUrl": "https://lh3.googleusercontent.com/a/default-user=s128",
      "userId": "110932373046251109968"
     },
     "user_tz": -180
    },
    "id": "ztwvgRe35bsJ",
    "outputId": "282819de-eae6-441c-be05-55a79d3eae66"
   },
   "outputs": [
    {
     "name": "stdout",
     "output_type": "stream",
     "text": [
      "__________________________________________________________________________________________________\n",
      "Layer (type)                    Output Shape         Param #     Connected to                     \n",
      "==================================================================================================\n",
      "input_24 (InputLayer)           (None, 20)           0                                            \n",
      "__________________________________________________________________________________________________\n",
      "embedding_16 (Embedding)        (None, 20, 20)       1200        input_24[0][0]                   \n",
      "__________________________________________________________________________________________________\n",
      "lstm_28 (LSTM)                  [(None, 20, 32), (No 6784        embedding_16[0][0]               \n",
      "__________________________________________________________________________________________________\n",
      "lstm_29 (LSTM)                  [(None, 20, 32), (No 6784        embedding_16[0][0]               \n",
      "                                                                 lstm_28[0][1]                    \n",
      "                                                                 lstm_28[0][2]                    \n",
      "__________________________________________________________________________________________________\n",
      "dense_9 (Dense)                 (None, 20, 13)       429         lstm_29[0][0]                    \n",
      "__________________________________________________________________________________________________\n",
      "activation_8 (Activation)       (None, 20, 13)       0           dense_9[0][0]                    \n",
      "==================================================================================================\n",
      "Total params: 15,197\n",
      "Trainable params: 15,197\n",
      "Non-trainable params: 0\n",
      "__________________________________________________________________________________________________\n",
      "None\n"
     ]
    },
    {
     "name": "stderr",
     "output_type": "stream",
     "text": [
      "/home/shevkunov/tensorflow/lib/python3.6/site-packages/ipykernel_launcher.py:19: UserWarning: Update your `Model` call to the Keras 2 API: `Model(inputs=[<tf.Tenso..., outputs=Tensor(\"ac...)`\n"
     ]
    }
   ],
   "source": [
    "m = model_simple_nmt(len(human_vocab), len(machine_vocab))\n",
    "\n",
    "m.compile(optimizer='adam', loss='categorical_crossentropy', metrics=['accuracy'])\n",
    "print(m.summary())"
   ]
  },
  {
   "cell_type": "code",
   "execution_count": 122,
   "metadata": {},
   "outputs": [
    {
     "data": {
      "text/plain": [
       "array([[ 0.,  0.,  0.,  0.,  1.,  0.,  0.,  0.,  0.,  0.,  0.,  0.,  0.],\n",
       "       [ 0.,  0.,  0.,  0.,  0.,  0.,  1.,  0.,  0.,  0.,  0.,  0.,  0.],\n",
       "       [ 0.,  0.,  1.,  0.,  0.,  0.,  0.,  0.,  0.,  0.,  0.,  0.,  0.],\n",
       "       [ 0.,  0.,  0.,  0.,  0.,  1.,  0.,  0.,  0.,  0.,  0.,  0.,  0.],\n",
       "       [ 0.,  1.,  0.,  0.,  0.,  0.,  0.,  0.,  0.,  0.,  0.,  0.,  0.],\n",
       "       [ 0.,  0.,  0.,  0.,  0.,  0.,  0.,  0.,  1.,  0.,  0.,  0.,  0.],\n",
       "       [ 0.,  0.,  0.,  1.,  0.,  0.,  0.,  0.,  0.,  0.,  0.,  0.,  0.],\n",
       "       [ 0.,  1.,  0.,  0.,  0.,  0.,  0.,  0.,  0.,  0.,  0.,  0.,  0.],\n",
       "       [ 0.,  0.,  0.,  0.,  0.,  0.,  0.,  0.,  0.,  1.,  0.,  0.,  0.],\n",
       "       [ 0.,  0.,  0.,  0.,  0.,  0.,  0.,  0.,  1.,  0.,  0.,  0.,  0.],\n",
       "       [ 0.,  0.,  0.,  0.,  0.,  0.,  0.,  0.,  0.,  0.,  0.,  0.,  1.],\n",
       "       [ 0.,  0.,  0.,  0.,  0.,  0.,  0.,  0.,  0.,  0.,  0.,  0.,  1.],\n",
       "       [ 0.,  0.,  0.,  0.,  0.,  0.,  0.,  0.,  0.,  0.,  0.,  0.,  1.],\n",
       "       [ 0.,  0.,  0.,  0.,  0.,  0.,  0.,  0.,  0.,  0.,  0.,  0.,  1.],\n",
       "       [ 0.,  0.,  0.,  0.,  0.,  0.,  0.,  0.,  0.,  0.,  0.,  0.,  1.],\n",
       "       [ 0.,  0.,  0.,  0.,  0.,  0.,  0.,  0.,  0.,  0.,  0.,  0.,  1.],\n",
       "       [ 0.,  0.,  0.,  0.,  0.,  0.,  0.,  0.,  0.,  0.,  0.,  0.,  1.],\n",
       "       [ 0.,  0.,  0.,  0.,  0.,  0.,  0.,  0.,  0.,  0.,  0.,  0.,  1.],\n",
       "       [ 0.,  0.,  0.,  0.,  0.,  0.,  0.,  0.,  0.,  0.,  0.,  0.,  1.],\n",
       "       [ 0.,  0.,  0.,  0.,  0.,  0.,  0.,  0.,  0.,  0.,  0.,  0.,  1.]])"
      ]
     },
     "execution_count": 122,
     "metadata": {},
     "output_type": "execute_result"
    }
   ],
   "source": [
    "y_valid[0]"
   ]
  },
  {
   "cell_type": "code",
   "execution_count": 123,
   "metadata": {
    "colab": {
     "autoexec": {
      "startup": false,
      "wait_interval": 0
     },
     "base_uri": "https://localhost:8080/",
     "height": 422
    },
    "colab_type": "code",
    "executionInfo": {
     "elapsed": 838197,
     "status": "ok",
     "timestamp": 1524223757307,
     "user": {
      "displayName": "Sergey Kolesnikov",
      "photoUrl": "https://lh3.googleusercontent.com/a/default-user=s128",
      "userId": "110932373046251109968"
     },
     "user_tz": -180
    },
    "id": "l_wPSU2t5bsP",
    "outputId": "e809159c-6c8f-44f8-9bf7-5475237d442f"
   },
   "outputs": [
    {
     "name": "stdout",
     "output_type": "stream",
     "text": [
      "Train on 200000 samples, validate on 50000 samples\n",
      "Epoch 1/10\n",
      "200000/200000 [==============================] - 56s 278us/step - loss: 0.4298 - acc: 0.8542 - val_loss: 0.1613 - val_acc: 0.9480\n",
      "Epoch 2/10\n",
      "200000/200000 [==============================] - 54s 272us/step - loss: 0.0998 - acc: 0.9691 - val_loss: 0.0573 - val_acc: 0.9827\n",
      "Epoch 3/10\n",
      "200000/200000 [==============================] - 55s 275us/step - loss: 0.0419 - acc: 0.9875 - val_loss: 0.0310 - val_acc: 0.9907\n",
      "Epoch 4/10\n",
      "200000/200000 [==============================] - 57s 285us/step - loss: 0.0263 - acc: 0.9913 - val_loss: 0.0229 - val_acc: 0.9917\n",
      "Epoch 5/10\n",
      "200000/200000 [==============================] - 55s 277us/step - loss: 0.0219 - acc: 0.9920 - val_loss: 0.0212 - val_acc: 0.9923\n",
      "Epoch 6/10\n",
      "200000/200000 [==============================] - 57s 285us/step - loss: 0.0196 - acc: 0.9924 - val_loss: 0.0186 - val_acc: 0.9926\n",
      "Epoch 7/10\n",
      "200000/200000 [==============================] - 56s 280us/step - loss: 0.0187 - acc: 0.9925 - val_loss: 0.0186 - val_acc: 0.9926\n",
      "Epoch 8/10\n",
      "200000/200000 [==============================] - 55s 277us/step - loss: 0.0181 - acc: 0.9926 - val_loss: 0.0173 - val_acc: 0.9929\n",
      "Epoch 9/10\n",
      "200000/200000 [==============================] - 55s 276us/step - loss: 0.0175 - acc: 0.9926 - val_loss: 0.0167 - val_acc: 0.9928\n",
      "Epoch 10/10\n",
      "200000/200000 [==============================] - 55s 276us/step - loss: 0.0172 - acc: 0.9927 - val_loss: 0.0167 - val_acc: 0.9929\n"
     ]
    },
    {
     "data": {
      "text/plain": [
       "<keras.callbacks.History at 0x7f7604ee2240>"
      ]
     },
     "execution_count": 123,
     "metadata": {},
     "output_type": "execute_result"
    }
   ],
   "source": [
    "m.fit(\n",
    "    [X_train], y_train, \n",
    "    validation_data=(X_valid, y_valid),\n",
    "    epochs=10, batch_size=64, \n",
    "    validation_split=0.1)"
   ]
  },
  {
   "cell_type": "code",
   "execution_count": 124,
   "metadata": {},
   "outputs": [
    {
     "name": "stdout",
     "output_type": "stream",
     "text": [
      "50000/50000 [==============================] - 6s 112us/step\n"
     ]
    },
    {
     "data": {
      "text/plain": [
       "[0.016672639101073146, 0.99297300113677978]"
      ]
     },
     "execution_count": 124,
     "metadata": {},
     "output_type": "execute_result"
    }
   ],
   "source": [
    "m.evaluate([X_test], y_test)"
   ]
  },
  {
   "cell_type": "markdown",
   "metadata": {
    "colab_type": "text",
    "id": "fwYByTjJ5bsS"
   },
   "source": [
    "Lets check our model:"
   ]
  },
  {
   "cell_type": "code",
   "execution_count": 125,
   "metadata": {
    "colab": {
     "autoexec": {
      "startup": false,
      "wait_interval": 0
     }
    },
    "colab_type": "code",
    "id": "EIMBnjqY5bsS"
   },
   "outputs": [],
   "source": [
    "EXAMPLES = ['3 May 1979', '5 Apr 09', '20th February 2016', 'Wed 10 Jul 2007']\n",
    "\n",
    "def run_example(model, input_vocabulary, inv_output_vocabulary, text):\n",
    "    encoded = string_to_int(text, TIME_STEPS, input_vocabulary)\n",
    "    prediction = model.predict(np.array([encoded]))\n",
    "    prediction = np.argmax(prediction[0], axis=-1)\n",
    "    return int_to_string(prediction, inv_output_vocabulary)\n",
    "\n",
    "def run_examples(model, input_vocabulary, inv_output_vocabulary, examples=EXAMPLES):\n",
    "    predicted = []\n",
    "    for example in examples:\n",
    "        predicted.append(''.join(run_example(model, input_vocabulary, inv_output_vocabulary, example)))\n",
    "        print('input:', example)\n",
    "        print('output:', predicted[-1])\n",
    "    return predicted"
   ]
  },
  {
   "cell_type": "code",
   "execution_count": 126,
   "metadata": {
    "colab": {
     "autoexec": {
      "startup": false,
      "wait_interval": 0
     },
     "base_uri": "https://localhost:8080/",
     "height": 227
    },
    "colab_type": "code",
    "executionInfo": {
     "elapsed": 946,
     "status": "ok",
     "timestamp": 1524223952363,
     "user": {
      "displayName": "Sergey Kolesnikov",
      "photoUrl": "https://lh3.googleusercontent.com/a/default-user=s128",
      "userId": "110932373046251109968"
     },
     "user_tz": -180
    },
    "id": "0cSByOaY5bsW",
    "outputId": "bb237fb8-57d9-429a-fbe9-b654c3c1dcc2"
   },
   "outputs": [
    {
     "name": "stdout",
     "output_type": "stream",
     "text": [
      "input: 3 May 1979\n",
      "output: 1979-05-03<pad><pad><pad><pad><pad><pad><pad><pad><pad><pad>\n",
      "input: 5 Apr 09\n",
      "output: 2009-04-05<pad><pad><pad><pad><pad><pad><pad><pad><pad><pad>\n",
      "input: 20th February 2016\n",
      "output: 2016-02-20<pad><pad><pad><pad><pad><pad><pad><pad><pad><pad>\n",
      "input: Wed 10 Jul 2007\n",
      "output: 2007-06-00<pad><pad><pad><pad><pad><pad><pad><pad><pad><pad>\n"
     ]
    },
    {
     "data": {
      "text/plain": [
       "['1979-05-03<pad><pad><pad><pad><pad><pad><pad><pad><pad><pad>',\n",
       " '2009-04-05<pad><pad><pad><pad><pad><pad><pad><pad><pad><pad>',\n",
       " '2016-02-20<pad><pad><pad><pad><pad><pad><pad><pad><pad><pad>',\n",
       " '2007-06-00<pad><pad><pad><pad><pad><pad><pad><pad><pad><pad>']"
      ]
     },
     "execution_count": 126,
     "metadata": {},
     "output_type": "execute_result"
    }
   ],
   "source": [
    "run_examples(m, human_vocab, inv_machine_vocab)"
   ]
  },
  {
   "cell_type": "markdown",
   "metadata": {
    "colab": {
     "autoexec": {
      "startup": false,
      "wait_interval": 0
     }
    },
    "colab_type": "code",
    "id": "9dxpHKlg5bsy"
   },
   "source": [
    "---"
   ]
  },
  {
   "cell_type": "markdown",
   "metadata": {},
   "source": [
    "### Part 2: All u need is attention"
   ]
  },
  {
   "cell_type": "markdown",
   "metadata": {
    "colab_type": "text",
    "id": "-zDW4e6j5brg"
   },
   "source": [
    "Here we use more complex idea that simple seq2seq: we're adding two explicit parts of our network - encoder and decoder (which is applied attention on). The explanatory picture for this idea is below:\n",
    "<p aling=\"center\"><img src=\"https://i.stack.imgur.com/Zwsmz.png\"></p>\n",
    "\n",
    "The lower part of the network is encoding the input to some hidden intermediate representation and the upper part is decoing the hidвen represenataion into some readable output."
   ]
  },
  {
   "cell_type": "code",
   "execution_count": 368,
   "metadata": {},
   "outputs": [],
   "source": [
    "# :good-enouht:\n",
    "ENCODER_UNITS = 32 # change me if u want\n",
    "DECODER_UNITS = 32 # change me if u want\n",
    "TIME_STEPS = 20 # change me if u want"
   ]
  },
  {
   "cell_type": "code",
   "execution_count": 369,
   "metadata": {
    "colab": {
     "autoexec": {
      "startup": false,
      "wait_interval": 0
     }
    },
    "colab_type": "code",
    "id": "QQD_Dy8_0MSx"
   },
   "outputs": [],
   "source": [
    "def model_attention_nmt(in_chars, out_chars):\n",
    "    # RNN encoder -> hidden representation -> RNN decoder\n",
    "    inputs = Input(shape=(TIME_STEPS,))\n",
    "    \n",
    "    # your code\n",
    "    e = Embedding(in_chars, TIME_STEPS, input_length=TIME_STEPS)(inputs)\n",
    "    encoder_outputs, en_state_h, en_state_c = LSTM(ENCODER_UNITS, return_sequences=True, return_state=True)(e)\n",
    "    encoder_states = [en_state_h, en_state_c]\n",
    "    \n",
    "    f = Flatten()(encoder_outputs)\n",
    "    d = Dense(DECODER_UNITS)(f)\n",
    "\n",
    "    f2 = Flatten()(encoder_outputs)\n",
    "    d2 = Dense(DECODER_UNITS)(f2)\n",
    "    \n",
    "    decoder_outputs,  de_state_h, de_state_c = LSTM(DECODER_UNITS, return_sequences=True, return_state=True)(\n",
    "        e, initial_state=[d, d2]\n",
    "    )\n",
    "\n",
    "\n",
    "    d2 = Dense(out_chars)(decoder_outputs)\n",
    "    output = Activation('softmax')(d2)\n",
    "    # your code\n",
    "    \n",
    "    model = Model(input=[inputs], output=output)\n",
    "    return model"
   ]
  },
  {
   "cell_type": "code",
   "execution_count": 370,
   "metadata": {
    "colab": {
     "autoexec": {
      "startup": false,
      "wait_interval": 0
     },
     "base_uri": "https://localhost:8080/",
     "height": 404
    },
    "colab_type": "code",
    "executionInfo": {
     "elapsed": 3568,
     "status": "ok",
     "timestamp": 1524243831879,
     "user": {
      "displayName": "Sergey Kolesnikov",
      "photoUrl": "https://lh3.googleusercontent.com/a/default-user=s128",
      "userId": "110932373046251109968"
     },
     "user_tz": -180
    },
    "id": "ztwvgRe35bsJ",
    "outputId": "282819de-eae6-441c-be05-55a79d3eae66"
   },
   "outputs": [
    {
     "name": "stdout",
     "output_type": "stream",
     "text": [
      "__________________________________________________________________________________________________\n",
      "Layer (type)                    Output Shape         Param #     Connected to                     \n",
      "==================================================================================================\n",
      "input_132 (InputLayer)          (None, 20)           0                                            \n",
      "__________________________________________________________________________________________________\n",
      "embedding_124 (Embedding)       (None, 20, 20)       1200        input_132[0][0]                  \n",
      "__________________________________________________________________________________________________\n",
      "lstm_233 (LSTM)                 [(None, 20, 32), (No 6784        embedding_124[0][0]              \n",
      "__________________________________________________________________________________________________\n",
      "flatten_37 (Flatten)            (None, 640)          0           lstm_233[0][0]                   \n",
      "__________________________________________________________________________________________________\n",
      "flatten_38 (Flatten)            (None, 640)          0           lstm_233[0][0]                   \n",
      "__________________________________________________________________________________________________\n",
      "dense_92 (Dense)                (None, 32)           20512       flatten_37[0][0]                 \n",
      "__________________________________________________________________________________________________\n",
      "dense_93 (Dense)                (None, 32)           20512       flatten_38[0][0]                 \n",
      "__________________________________________________________________________________________________\n",
      "lstm_234 (LSTM)                 [(None, 20, 32), (No 6784        embedding_124[0][0]              \n",
      "                                                                 dense_92[0][0]                   \n",
      "                                                                 dense_93[0][0]                   \n",
      "__________________________________________________________________________________________________\n",
      "dense_94 (Dense)                (None, 20, 13)       429         lstm_234[0][0]                   \n",
      "__________________________________________________________________________________________________\n",
      "activation_151 (Activation)     (None, 20, 13)       0           dense_94[0][0]                   \n",
      "==================================================================================================\n",
      "Total params: 56,221\n",
      "Trainable params: 56,221\n",
      "Non-trainable params: 0\n",
      "__________________________________________________________________________________________________\n",
      "None\n"
     ]
    },
    {
     "name": "stderr",
     "output_type": "stream",
     "text": [
      "/home/shevkunov/tensorflow/lib/python3.6/site-packages/ipykernel_launcher.py:25: UserWarning: Update your `Model` call to the Keras 2 API: `Model(inputs=[<tf.Tenso..., outputs=Tensor(\"ac...)`\n"
     ]
    }
   ],
   "source": [
    "m = model_attention_nmt(len(human_vocab), len(machine_vocab))\n",
    "\n",
    "m.compile(optimizer='adam', loss='categorical_crossentropy', metrics=['accuracy'])\n",
    "print(m.summary())"
   ]
  },
  {
   "cell_type": "code",
   "execution_count": 371,
   "metadata": {},
   "outputs": [
    {
     "data": {
      "text/plain": [
       "(200000, 20)"
      ]
     },
     "execution_count": 371,
     "metadata": {},
     "output_type": "execute_result"
    }
   ],
   "source": [
    "X_train.shape"
   ]
  },
  {
   "cell_type": "code",
   "execution_count": 372,
   "metadata": {
    "colab": {
     "autoexec": {
      "startup": false,
      "wait_interval": 0
     },
     "base_uri": "https://localhost:8080/",
     "height": 422
    },
    "colab_type": "code",
    "executionInfo": {
     "elapsed": 838197,
     "status": "ok",
     "timestamp": 1524223757307,
     "user": {
      "displayName": "Sergey Kolesnikov",
      "photoUrl": "https://lh3.googleusercontent.com/a/default-user=s128",
      "userId": "110932373046251109968"
     },
     "user_tz": -180
    },
    "id": "l_wPSU2t5bsP",
    "outputId": "e809159c-6c8f-44f8-9bf7-5475237d442f"
   },
   "outputs": [
    {
     "name": "stdout",
     "output_type": "stream",
     "text": [
      "Train on 200000 samples, validate on 50000 samples\n",
      "Epoch 1/15\n",
      "200000/200000 [==============================] - 67s 335us/step - loss: 0.4311 - acc: 0.8544 - val_loss: 0.1521 - val_acc: 0.9536\n",
      "Epoch 2/15\n",
      "200000/200000 [==============================] - 63s 317us/step - loss: 0.0791 - acc: 0.9775 - val_loss: 0.0394 - val_acc: 0.9888\n",
      "Epoch 3/15\n",
      "200000/200000 [==============================] - 64s 321us/step - loss: 0.0290 - acc: 0.9908 - val_loss: 0.0215 - val_acc: 0.9925\n",
      "Epoch 4/15\n",
      "200000/200000 [==============================] - 69s 344us/step - loss: 0.0201 - acc: 0.9924 - val_loss: 0.0194 - val_acc: 0.9925\n",
      "Epoch 5/15\n",
      "200000/200000 [==============================] - 63s 316us/step - loss: 0.0181 - acc: 0.9927 - val_loss: 0.0178 - val_acc: 0.9928\n",
      "Epoch 6/15\n",
      "200000/200000 [==============================] - 63s 317us/step - loss: 0.0176 - acc: 0.9927 - val_loss: 0.0168 - val_acc: 0.9930\n",
      "Epoch 7/15\n",
      "200000/200000 [==============================] - 69s 345us/step - loss: 0.0170 - acc: 0.9928 - val_loss: 0.0165 - val_acc: 0.9929\n",
      "Epoch 8/15\n",
      "200000/200000 [==============================] - 64s 320us/step - loss: 0.0166 - acc: 0.9929 - val_loss: 0.0160 - val_acc: 0.9930\n",
      "Epoch 9/15\n",
      "200000/200000 [==============================] - 64s 318us/step - loss: 0.0164 - acc: 0.9929 - val_loss: 0.0159 - val_acc: 0.9931\n",
      "Epoch 10/15\n",
      "200000/200000 [==============================] - 63s 316us/step - loss: 0.0163 - acc: 0.9929 - val_loss: 0.0159 - val_acc: 0.9929\n",
      "Epoch 11/15\n",
      "200000/200000 [==============================] - 63s 316us/step - loss: 0.0163 - acc: 0.9929 - val_loss: 0.0161 - val_acc: 0.9929\n",
      "Epoch 12/15\n",
      "   704/200000 [..............................] - ETA: 3:40 - loss: 0.0172 - acc: 0.9923"
     ]
    },
    {
     "name": "stderr",
     "output_type": "stream",
     "text": [
      "/home/shevkunov/tensorflow/lib/python3.6/site-packages/keras/callbacks.py:120: UserWarning: Method on_batch_end() is slow compared to the batch update (0.117150). Check your callbacks.\n",
      "  % delta_t_median)\n"
     ]
    },
    {
     "name": "stdout",
     "output_type": "stream",
     "text": [
      "200000/200000 [==============================] - 62s 312us/step - loss: 0.0162 - acc: 0.9929 - val_loss: 0.0160 - val_acc: 0.9930\n",
      "Epoch 13/15\n",
      "200000/200000 [==============================] - 63s 313us/step - loss: 0.0160 - acc: 0.9929 - val_loss: 0.0157 - val_acc: 0.9931\n",
      "Epoch 14/15\n",
      "200000/200000 [==============================] - 62s 308us/step - loss: 0.0160 - acc: 0.9929 - val_loss: 0.0157 - val_acc: 0.9931\n",
      "Epoch 15/15\n",
      "200000/200000 [==============================] - 70s 348us/step - loss: 0.0160 - acc: 0.9930 - val_loss: 0.0164 - val_acc: 0.9930\n"
     ]
    },
    {
     "data": {
      "text/plain": [
       "<keras.callbacks.History at 0x7f75d9b90400>"
      ]
     },
     "execution_count": 372,
     "metadata": {},
     "output_type": "execute_result"
    }
   ],
   "source": [
    "m.fit(\n",
    "    [X_train], y_train, \n",
    "    validation_data=(X_valid, y_valid),\n",
    "    epochs=15, batch_size=64, \n",
    "    validation_split=0.1)"
   ]
  },
  {
   "cell_type": "code",
   "execution_count": 367,
   "metadata": {},
   "outputs": [
    {
     "name": "stdout",
     "output_type": "stream",
     "text": [
      "50000/50000 [==============================] - 7s 144us/step\n"
     ]
    },
    {
     "data": {
      "text/plain": [
       "[0.018978905791323632, 0.9928760002136231]"
      ]
     },
     "execution_count": 367,
     "metadata": {},
     "output_type": "execute_result"
    }
   ],
   "source": [
    "m.evaluate([X_test], y_test)"
   ]
  },
  {
   "cell_type": "markdown",
   "metadata": {},
   "source": [
    "### Report\n",
    "\n",
    "* final architectures\n",
    "* comparison\n",
    "* as well as training method and tricks\n"
   ]
  },
  {
   "cell_type": "markdown",
   "metadata": {},
   "source": [
    "---"
   ]
  },
  {
   "cell_type": "markdown",
   "metadata": {},
   "source": [
    "## Part 3*: tatoeba - real NMT"
   ]
  },
  {
   "cell_type": "markdown",
   "metadata": {},
   "source": [
    "### Data"
   ]
  },
  {
   "cell_type": "code",
   "execution_count": 373,
   "metadata": {},
   "outputs": [],
   "source": [
    "# dataset from http://www.manythings.org/anki/"
   ]
  },
  {
   "cell_type": "code",
   "execution_count": 374,
   "metadata": {},
   "outputs": [
    {
     "name": "stdout",
     "output_type": "stream",
     "text": [
      "--2018-05-05 16:15:31--  http://www.manythings.org/anki/rus-eng.zip\n",
      "Распознаётся www.manythings.org (www.manythings.org)… 104.24.109.196, 104.24.108.196, 2400:cb00:2048:1::6818:6cc4, ...\n",
      "Подключение к www.manythings.org (www.manythings.org)|104.24.109.196|:80... соединение установлено.\n",
      "HTTP-запрос отправлен. Ожидание ответа… 200 OK\n",
      "Длина: 6366669 (6,1M) [application/zip]\n",
      "Сохранение в: «rus-eng.zip»\n",
      "\n",
      "rus-eng.zip         100%[===================>]   6,07M  2,80MB/s    за 2,2s    \n",
      "\n",
      "2018-05-05 16:15:33 (2,80 MB/s) - «rus-eng.zip» сохранён [6366669/6366669]\n",
      "\n"
     ]
    }
   ],
   "source": [
    "! wget http://www.manythings.org/anki/rus-eng.zip"
   ]
  },
  {
   "cell_type": "code",
   "execution_count": 375,
   "metadata": {},
   "outputs": [
    {
     "name": "stdout",
     "output_type": "stream",
     "text": [
      "Archive:  ./rus-eng.zip\n",
      "  inflating: rus.txt                 \n",
      "  inflating: _about.txt              \n"
     ]
    }
   ],
   "source": [
    "! unzip ./rus-eng.zip"
   ]
  },
  {
   "cell_type": "code",
   "execution_count": 376,
   "metadata": {},
   "outputs": [],
   "source": [
    "with open(\"./rus.txt\") as fin:\n",
    "    data = fin.readlines()\n",
    "data = list(map(lambda x: x.replace(\"\\n\", \"\").lower(), data))"
   ]
  },
  {
   "cell_type": "code",
   "execution_count": 377,
   "metadata": {},
   "outputs": [
    {
     "data": {
      "text/plain": [
       "300108"
      ]
     },
     "execution_count": 377,
     "metadata": {},
     "output_type": "execute_result"
    }
   ],
   "source": [
    "len(data)"
   ]
  },
  {
   "cell_type": "code",
   "execution_count": 378,
   "metadata": {},
   "outputs": [],
   "source": [
    "data = data[:int(1e5)]"
   ]
  },
  {
   "cell_type": "code",
   "execution_count": 379,
   "metadata": {},
   "outputs": [
    {
     "data": {
      "text/plain": [
       "100000"
      ]
     },
     "execution_count": 379,
     "metadata": {},
     "output_type": "execute_result"
    }
   ],
   "source": [
    "len(data)"
   ]
  },
  {
   "cell_type": "code",
   "execution_count": 385,
   "metadata": {},
   "outputs": [
    {
     "name": "stdout",
     "output_type": "stream",
     "text": [
      "tom is here to see you.\tк тебе том пришёл.\n",
      "tom is here to help us.\tтом здесь, чтобы помочь нам.\n",
      "tom is here to help us.\tтом пришёл нам помочь.\n",
      "tom is having a crisis.\tу тома кризис.\n"
     ]
    }
   ],
   "source": [
    "for i in range(1, 5):\n",
    "    print(data[-i])"
   ]
  },
  {
   "cell_type": "markdown",
   "metadata": {},
   "source": [
    "----"
   ]
  },
  {
   "cell_type": "code",
   "execution_count": 386,
   "metadata": {},
   "outputs": [],
   "source": [
    "source = list(map(lambda x: x.split(\"\\t\")[0], data))\n",
    "target = list(map(lambda x: x.split(\"\\t\")[1], data))"
   ]
  },
  {
   "cell_type": "code",
   "execution_count": 387,
   "metadata": {},
   "outputs": [],
   "source": [
    "source_vocab = set(\"\".join(source).strip())\n",
    "target_vocab = set(\"\".join(target).strip())"
   ]
  },
  {
   "cell_type": "code",
   "execution_count": 388,
   "metadata": {},
   "outputs": [],
   "source": [
    "source_vocab = dict(zip(\n",
    "    list(source_vocab) + ['<unk>', '<pad>'], \n",
    "    list(range(len(source_vocab) + 2))))\n",
    "target_vocab = dict(zip(\n",
    "    list(target_vocab) + ['<unk>', '<pad>'], \n",
    "    list(range(len(target_vocab) + 2))))\n",
    "inv_target_vocab = dict(enumerate(list(target_vocab) + ['<unk>', '<pad>']))"
   ]
  },
  {
   "cell_type": "code",
   "execution_count": 393,
   "metadata": {},
   "outputs": [],
   "source": [
    "TIME_STEPS = 32\n",
    "ENCODER_UNITS = 32 # 256\n",
    "DECODER_UNITS = 32 # 256"
   ]
  },
  {
   "cell_type": "code",
   "execution_count": 394,
   "metadata": {},
   "outputs": [],
   "source": [
    "def model_simple_nmt_tatoeba(in_chars, out_chars):\n",
    "    inputs = Input(shape=(TIME_STEPS,))\n",
    "    \n",
    "    # your code\n",
    "    e = Embedding(in_chars, TIME_STEPS, input_length=TIME_STEPS)(inputs)\n",
    "    encoder_outputs, en_state_h, en_state_c = LSTM(ENCODER_UNITS, return_sequences=True, return_state=True)(e)\n",
    "    encoder_states = [en_state_h, en_state_c]\n",
    "    \n",
    "    f = Flatten()(encoder_outputs)\n",
    "    d = Dense(DECODER_UNITS)(f)\n",
    "\n",
    "    f2 = Flatten()(encoder_outputs)\n",
    "    d2 = Dense(DECODER_UNITS)(f2)\n",
    "    \n",
    "    decoder_outputs,  de_state_h, de_state_c = LSTM(DECODER_UNITS, return_sequences=True, return_state=True)(\n",
    "        e, initial_state=[d, d2]\n",
    "    )\n",
    "\n",
    "\n",
    "    d2 = Dense(out_chars)(decoder_outputs)\n",
    "    output = Activation('softmax')(d2)\n",
    "    # your code\n",
    "\n",
    "    model = Model(input=[inputs], output=output)\n",
    "    return model"
   ]
  },
  {
   "cell_type": "code",
   "execution_count": 395,
   "metadata": {},
   "outputs": [
    {
     "name": "stdout",
     "output_type": "stream",
     "text": [
      "__________________________________________________________________________________________________\n",
      "Layer (type)                    Output Shape         Param #     Connected to                     \n",
      "==================================================================================================\n",
      "input_134 (InputLayer)          (None, 32)           0                                            \n",
      "__________________________________________________________________________________________________\n",
      "embedding_126 (Embedding)       (None, 32, 32)       1920        input_134[0][0]                  \n",
      "__________________________________________________________________________________________________\n",
      "lstm_237 (LSTM)                 [(None, 32, 32), (No 8320        embedding_126[0][0]              \n",
      "__________________________________________________________________________________________________\n",
      "flatten_41 (Flatten)            (None, 1024)         0           lstm_237[0][0]                   \n",
      "__________________________________________________________________________________________________\n",
      "flatten_42 (Flatten)            (None, 1024)         0           lstm_237[0][0]                   \n",
      "__________________________________________________________________________________________________\n",
      "dense_98 (Dense)                (None, 32)           32800       flatten_41[0][0]                 \n",
      "__________________________________________________________________________________________________\n",
      "dense_99 (Dense)                (None, 32)           32800       flatten_42[0][0]                 \n",
      "__________________________________________________________________________________________________\n",
      "lstm_238 (LSTM)                 [(None, 32, 32), (No 8320        embedding_126[0][0]              \n",
      "                                                                 dense_98[0][0]                   \n",
      "                                                                 dense_99[0][0]                   \n",
      "__________________________________________________________________________________________________\n",
      "dense_100 (Dense)               (None, 32, 13)       429         lstm_238[0][0]                   \n",
      "__________________________________________________________________________________________________\n",
      "activation_153 (Activation)     (None, 32, 13)       0           dense_100[0][0]                  \n",
      "==================================================================================================\n",
      "Total params: 84,589\n",
      "Trainable params: 84,589\n",
      "Non-trainable params: 0\n",
      "__________________________________________________________________________________________________\n",
      "None\n"
     ]
    },
    {
     "name": "stderr",
     "output_type": "stream",
     "text": [
      "/home/shevkunov/tensorflow/lib/python3.6/site-packages/ipykernel_launcher.py:25: UserWarning: Update your `Model` call to the Keras 2 API: `Model(inputs=[<tf.Tenso..., outputs=Tensor(\"ac...)`\n"
     ]
    }
   ],
   "source": [
    "m = model_attention_nmt(len(human_vocab), len(machine_vocab))\n",
    "\n",
    "m.compile(optimizer='adam', loss='categorical_crossentropy', metrics=['accuracy'])\n",
    "print(m.summary())"
   ]
  },
  {
   "cell_type": "code",
   "execution_count": 396,
   "metadata": {},
   "outputs": [
    {
     "ename": "MemoryError",
     "evalue": "",
     "output_type": "error",
     "traceback": [
      "\u001b[0;31m---------------------------------------------------------------------------\u001b[0m",
      "\u001b[0;31mMemoryError\u001b[0m                               Traceback (most recent call last)",
      "\u001b[0;32m<ipython-input-396-24ad59337c70>\u001b[0m in \u001b[0;36m<module>\u001b[0;34m()\u001b[0m\n\u001b[1;32m      1\u001b[0m \u001b[0minputs\u001b[0m \u001b[0;34m=\u001b[0m \u001b[0mnp\u001b[0m\u001b[0;34m.\u001b[0m\u001b[0marray\u001b[0m\u001b[0;34m(\u001b[0m\u001b[0;34m[\u001b[0m\u001b[0mstring_to_int\u001b[0m\u001b[0;34m(\u001b[0m\u001b[0mi\u001b[0m\u001b[0;34m,\u001b[0m \u001b[0mTIME_STEPS\u001b[0m\u001b[0;34m,\u001b[0m \u001b[0msource_vocab\u001b[0m\u001b[0;34m)\u001b[0m \u001b[0;32mfor\u001b[0m \u001b[0mi\u001b[0m \u001b[0;32min\u001b[0m \u001b[0msource\u001b[0m\u001b[0;34m]\u001b[0m\u001b[0;34m)\u001b[0m\u001b[0;34m\u001b[0m\u001b[0m\n\u001b[1;32m      2\u001b[0m \u001b[0mtargets\u001b[0m \u001b[0;34m=\u001b[0m \u001b[0;34m[\u001b[0m\u001b[0mstring_to_int\u001b[0m\u001b[0;34m(\u001b[0m\u001b[0mt\u001b[0m\u001b[0;34m,\u001b[0m \u001b[0mTIME_STEPS\u001b[0m\u001b[0;34m,\u001b[0m \u001b[0mtarget_vocab\u001b[0m\u001b[0;34m)\u001b[0m \u001b[0;32mfor\u001b[0m \u001b[0mt\u001b[0m \u001b[0;32min\u001b[0m \u001b[0mtarget\u001b[0m\u001b[0;34m]\u001b[0m\u001b[0;34m\u001b[0m\u001b[0m\n\u001b[0;32m----> 3\u001b[0;31m \u001b[0mtargets\u001b[0m \u001b[0;34m=\u001b[0m \u001b[0mnp\u001b[0m\u001b[0;34m.\u001b[0m\u001b[0marray\u001b[0m\u001b[0;34m(\u001b[0m\u001b[0mlist\u001b[0m\u001b[0;34m(\u001b[0m\u001b[0mmap\u001b[0m\u001b[0;34m(\u001b[0m\u001b[0;32mlambda\u001b[0m \u001b[0mx\u001b[0m\u001b[0;34m:\u001b[0m \u001b[0mto_categorical\u001b[0m\u001b[0;34m(\u001b[0m\u001b[0mx\u001b[0m\u001b[0;34m,\u001b[0m \u001b[0mnum_classes\u001b[0m\u001b[0;34m=\u001b[0m\u001b[0mlen\u001b[0m\u001b[0;34m(\u001b[0m\u001b[0mtarget_vocab\u001b[0m\u001b[0;34m)\u001b[0m\u001b[0;34m)\u001b[0m\u001b[0;34m,\u001b[0m \u001b[0mtargets\u001b[0m\u001b[0;34m)\u001b[0m\u001b[0;34m)\u001b[0m\u001b[0;34m)\u001b[0m\u001b[0;34m\u001b[0m\u001b[0m\n\u001b[0m",
      "\u001b[0;31mMemoryError\u001b[0m: "
     ]
    }
   ],
   "source": [
    "inputs = np.array([string_to_int(i, TIME_STEPS, source_vocab) for i in source])\n",
    "targets = [string_to_int(t, TIME_STEPS, target_vocab) for t in target]\n",
    "targets = np.array(list(map(lambda x: to_categorical(x, num_classes=len(target_vocab)), targets)))"
   ]
  },
  {
   "cell_type": "code",
   "execution_count": null,
   "metadata": {},
   "outputs": [],
   "source": [
    "m.fit(\n",
    "    [inputs], targets, \n",
    "    epochs=10, batch_size=64, \n",
    "    validation_split=0.1)"
   ]
  },
  {
   "cell_type": "code",
   "execution_count": null,
   "metadata": {},
   "outputs": [],
   "source": [
    "run_example(m, source_vocab, inv_target_vocab, 'hello')"
   ]
  },
  {
   "cell_type": "markdown",
   "metadata": {},
   "source": [
    "### Tatoeba Report\n",
    "\n",
    "* final architectures\n",
    "* comparison\n",
    "* as well as training method and tricks\n"
   ]
  },
  {
   "cell_type": "code",
   "execution_count": null,
   "metadata": {},
   "outputs": [],
   "source": []
  }
 ],
 "metadata": {
  "accelerator": "GPU",
  "colab": {
   "collapsed_sections": [],
   "default_view": {},
   "name": "Copy of tf_seq2seq.ipynb",
   "provenance": [
    {
     "file_id": "1Xtn4UTJOeQ999g78urAnPaZgboio8dz5",
     "timestamp": 1524199403566
    }
   ],
   "version": "0.3.2",
   "views": {}
  },
  "kernelspec": {
   "display_name": "Python 3",
   "language": "python",
   "name": "python3"
  },
  "language_info": {
   "codemirror_mode": {
    "name": "ipython",
    "version": 3
   },
   "file_extension": ".py",
   "mimetype": "text/x-python",
   "name": "python",
   "nbconvert_exporter": "python",
   "pygments_lexer": "ipython3",
   "version": "3.6.3"
  }
 },
 "nbformat": 4,
 "nbformat_minor": 1
}
