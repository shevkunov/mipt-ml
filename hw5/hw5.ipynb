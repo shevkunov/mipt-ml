{
 "cells": [
  {
   "cell_type": "markdown",
   "metadata": {},
   "source": [
    "<span style=\"font-size: 14pt\">MIPT, Advanced ML, Spring 2018</span>\n",
    "\n",
    "<span style=\"font-size: 16pt\"> HW #5: Linear Models \n",
    "\n",
    "<span style=\"color:blue; font-size: 12pt\">Alexey Romanenko </span>,\n",
    "<span style=\"color:blue; font-size: 12pt; font-family: 'Verdana'\"> alexromsput@gmail.com</span>\n"
   ]
  },
  {
   "cell_type": "markdown",
   "metadata": {},
   "source": [
    "<h1 align=\"center\">Organization Info</h1> \n",
    "\n",
    "* Дедлайн **11 апреля 2018 02:59** для всех групп.\n",
    "* В качестве решения задания нужно прислать ноутбук с подробными комментариями (<span style='color:red'> без присланного решения результат контеста не будет засчитан </span>).\n",
    "* <span style='color:red'>Название команды в контесте должно соответствовать шаблону: НомерГруппы_Имя_Фамилия, например, 594_Ivan_Ivanov</span>."
   ]
  },
  {
   "cell_type": "markdown",
   "metadata": {},
   "source": [
    "**Оформление дз**: \n",
    "- Присылайте выполненное задание на почту ``ml.course.mipt@gmail.com``\n",
    "- Укажите тему письма в следующем формате ``ML2018_fall_<номер_группы>_<фамилия>``, к примеру -- ``ML2018_fall_495_ivanov``\n",
    "- Выполненное дз сохраните в файл ``<фамилия>_<группа>_task<номер>.ipnb, к примеру`` -- ``ivanov_401_task5.ipnb``\n",
    "\n",
    "**Вопросы**:\n",
    "- Присылайте вопросы на почту ``ml.course.mipt@gmail.com``\n",
    "- Укажите тему письма в следующем формате ``ML2018_fall Question <Содержание вопроса>``\n",
    "\n",
    "\n",
    "--------\n",
    "- **PS1:** Используются автоматические фильтры, и просто не найдем ваше дз, если вы неаккуратно его подпишите.\n",
    "- **PS2:**  Просроченный дедлайн снижает максимальный вес задания по формуле, указнной на первом семинаре\n",
    "- **PS3:** Допустимы исправление кода предложенного кода ниже, если вы считаете"
   ]
  },
  {
   "cell_type": "markdown",
   "metadata": {},
   "source": [
    "<h1 align=\"center\">Check Questions </h1> "
   ]
  },
  {
   "cell_type": "markdown",
   "metadata": {},
   "source": [
    "Ниже приводится список вопросов, с ответами на которые может быть полезно разобраться\n",
    "для понимания темы.\n",
    "\n",
    "**1.** Как выглядит решающее правило в линейной классификации? А зависимость, которой мы приближаем ответы в линейной регрессии?\n",
    "\n",
    "**2.** Что такое функции потерь в задачах классификации и регрессии? Зачем они нужны?\n",
    "\n",
    "**3.** Что такое регуляризаторы? Какими они бывают в задачах линейной классификации и регрессии? Зачем они нужны?\n",
    "\n",
    "**4.** Как в общем виде выглядит оптимизационная задача в линейной классификации или линейной регрессии?\n",
    "\n",
    "**5.** Как работает настройка весов в линейной модели с помощью SGD (Stochastic Gradient Decent)? Как выглядит правило обновления весов?\n",
    "\n",
    "**6.** Учитывается ли коэффициент сдвига w0 в регуляризаторе? Почему?\n",
    "\n",
    "**7.** Почему линейные модели рекомендуется применять к выборке с нормированными значениями признаков?\n",
    "\n",
    "**8.** Как выглядит оптимизационная задача в логистической регрессии? А в SVM?\n",
    "\n",
    "**9.** Выпишите и докажите формулу для весов в линейной регрессии (с квадратичной функцией потерь).\n",
    "То же самое для гребневой регрессии.\n",
    "\n",
    "**10.** Выпишите SGD для логистической регрессии с $l2$-регуляризацией и для SVM с линейным ядром.\n",
    "\n",
    "**11.** В чем заключается идея ядер в SVM?\n",
    "\n",
    "**12.** Какие преимущества и недостатки есть у линейных моделей?\n",
    "\n",
    "**13.** На какие 3 матрицы раскладывается произвольная матрица при SVD? Что такое сингулярные числа"
   ]
  },
  {
   "cell_type": "markdown",
   "metadata": {},
   "source": [
    "________________________________\n",
    "\n"
   ]
  },
  {
   "cell_type": "code",
   "execution_count": 1,
   "metadata": {},
   "outputs": [],
   "source": [
    "import re\n",
    "import numpy as np\n",
    "import pandas as pd\n",
    "import scipy\n",
    "\n",
    "from sklearn.linear_model import SGDClassifier\n",
    "from sklearn.svm import SVC, LinearSVC\n",
    "from sklearn.linear_model import LogisticRegression\n",
    "\n",
    "from sklearn.metrics import accuracy_score, roc_auc_score\n",
    "from sklearn.model_selection import cross_val_score, GridSearchCV, RandomizedSearchCV, ShuffleSplit, StratifiedKFold\n",
    "\n",
    "from sklearn.preprocessing import normalize\n",
    "from sklearn.feature_extraction.text import TfidfVectorizer\n",
    "from sklearn.model_selection import train_test_split\n",
    "%matplotlib inline"
   ]
  },
  {
   "cell_type": "markdown",
   "metadata": {},
   "source": [
    "<h1 align=\"center\">Contest 1 (40%)</h1> \n",
    "** Ссылка на контест: ** https://www.kaggle.com/t/68e2660e41d94d64a3c2251a1df16ab3"
   ]
  },
  {
   "cell_type": "markdown",
   "metadata": {},
   "source": [
    "# Критерии оценивания\n",
    "Для того чтобы получить оценку нужно\n",
    "* 1) прислать код вашей модели (можно использовать только линейные модели), которая выдает один из финальных сабмиттов.\n",
    "* 2) чтобы получить\n",
    "    - хор (5)  и выше нужно превзойти результат benchmark_1;\n",
    "    - отл (8) и выше нужно превзойти результат benchmark_2;\n",
    "* 3) Ваше имя в лидерборде должно иметь вид <НомерГруппы>\\_Имя\\_Фамилия, например: 594\\_Иван\\_Иванов. Если имя не будет соответствовать формату организаторы вправе снизить оценку."
   ]
  },
  {
   "cell_type": "code",
   "execution_count": 2,
   "metadata": {},
   "outputs": [],
   "source": [
    "# your code here"
   ]
  },
  {
   "cell_type": "markdown",
   "metadata": {},
   "source": [
    "<h1 align=\"center\">Contest 2 (40%)</h1> \n",
    "* Ссылка на контест: https://www.kaggle.com/t/2343d1882c6842258e3825b4a8a1e5a8\n",
    "\n",
    "# Критерии оценивания\n",
    "Для того чтобы получить оценку нужно\n",
    "* 1) Прислать код вашей модели, которая выдает один из финальных сабмиттов.\n",
    "* 2) чтобы получить\n",
    "    - хор (5)  и выше нужно превзойти результат benchmark_1;\n",
    "    - отл (8) и выше нужно превзойти результат benchmark_2;\n",
    "* 3) Ваше имя в лидерборде должно иметь вид <НомерГруппы>\\_Имя\\_Фамилия, например: 594\\_Иван\\_Иванов. Если имя не будет соответствовать формату организаторы вправе снизить оценку."
   ]
  },
  {
   "cell_type": "markdown",
   "metadata": {},
   "source": [
    "### Loading train"
   ]
  },
  {
   "cell_type": "code",
   "execution_count": 3,
   "metadata": {},
   "outputs": [
    {
     "name": "stdout",
     "output_type": "stream",
     "text": [
      "sampleSubmission.csv  test.csv\ttrain.csv\r\n"
     ]
    }
   ],
   "source": [
    "folder = \"~/workspace/datasets/ml-mipt-spring2018-hw5-v2/\"\n",
    "!ls $folder"
   ]
  },
  {
   "cell_type": "code",
   "execution_count": 4,
   "metadata": {},
   "outputs": [
    {
     "data": {
      "text/html": [
       "<div>\n",
       "<style scoped>\n",
       "    .dataframe tbody tr th:only-of-type {\n",
       "        vertical-align: middle;\n",
       "    }\n",
       "\n",
       "    .dataframe tbody tr th {\n",
       "        vertical-align: top;\n",
       "    }\n",
       "\n",
       "    .dataframe thead th {\n",
       "        text-align: right;\n",
       "    }\n",
       "</style>\n",
       "<table border=\"1\" class=\"dataframe\">\n",
       "  <thead>\n",
       "    <tr style=\"text-align: right;\">\n",
       "      <th></th>\n",
       "      <th>Unnamed: 0</th>\n",
       "      <th>author</th>\n",
       "      <th>content</th>\n",
       "      <th>sentiment</th>\n",
       "    </tr>\n",
       "  </thead>\n",
       "  <tbody>\n",
       "    <tr>\n",
       "      <th>0</th>\n",
       "      <td>26898</td>\n",
       "      <td>richardepryor</td>\n",
       "      <td>@treasaint salad stuff, some chillis, whatever...</td>\n",
       "      <td>happiness</td>\n",
       "    </tr>\n",
       "    <tr>\n",
       "      <th>1</th>\n",
       "      <td>27635</td>\n",
       "      <td>reese</td>\n",
       "      <td>@sunnyjamiel sunny, I'm a workin' on it. It's ...</td>\n",
       "      <td>neutral</td>\n",
       "    </tr>\n",
       "    <tr>\n",
       "      <th>2</th>\n",
       "      <td>3036</td>\n",
       "      <td>mutedriposte</td>\n",
       "      <td>@jolynnchew so early??</td>\n",
       "      <td>surprise</td>\n",
       "    </tr>\n",
       "    <tr>\n",
       "      <th>3</th>\n",
       "      <td>5604</td>\n",
       "      <td>sakizzie_1102</td>\n",
       "      <td>So now, I have conjunctivitis in my left eye. ...</td>\n",
       "      <td>sadness</td>\n",
       "    </tr>\n",
       "    <tr>\n",
       "      <th>4</th>\n",
       "      <td>36111</td>\n",
       "      <td>poptrash</td>\n",
       "      <td>Out and about in Deal, Kent. More sunshine req...</td>\n",
       "      <td>love</td>\n",
       "    </tr>\n",
       "  </tbody>\n",
       "</table>\n",
       "</div>"
      ],
      "text/plain": [
       "   Unnamed: 0         author  \\\n",
       "0       26898  richardepryor   \n",
       "1       27635          reese   \n",
       "2        3036   mutedriposte   \n",
       "3        5604  sakizzie_1102   \n",
       "4       36111       poptrash   \n",
       "\n",
       "                                             content  sentiment  \n",
       "0  @treasaint salad stuff, some chillis, whatever...  happiness  \n",
       "1  @sunnyjamiel sunny, I'm a workin' on it. It's ...    neutral  \n",
       "2                             @jolynnchew so early??   surprise  \n",
       "3  So now, I have conjunctivitis in my left eye. ...    sadness  \n",
       "4  Out and about in Deal, Kent. More sunshine req...       love  "
      ]
     },
     "execution_count": 4,
     "metadata": {},
     "output_type": "execute_result"
    }
   ],
   "source": [
    "df_train = pd.read_csv(folder + \"train.csv\")\n",
    "df_train.head()"
   ]
  },
  {
   "cell_type": "code",
   "execution_count": 5,
   "metadata": {},
   "outputs": [
    {
     "name": "stdout",
     "output_type": "stream",
     "text": [
      "['anger', 'boredom', 'empty', 'enthusiasm', 'fun', 'happiness', 'hate', 'love', 'neutral', 'relief', 'sadness', 'surprise', 'worry']\n"
     ]
    }
   ],
   "source": [
    "labels = list(np.unique(df_train.sentiment))\n",
    "print(labels)"
   ]
  },
  {
   "cell_type": "code",
   "execution_count": 6,
   "metadata": {},
   "outputs": [
    {
     "data": {
      "text/plain": [
       "array([0.00276667, 0.00453333, 0.0208    , 0.0185    , 0.04516667,\n",
       "       0.1307    , 0.03303333, 0.0967    , 0.21516667, 0.03636667,\n",
       "       0.12836667, 0.0557    , 0.2122    ])"
      ]
     },
     "execution_count": 6,
     "metadata": {},
     "output_type": "execute_result"
    }
   ],
   "source": [
    "np.unique(df_train.sentiment, return_counts=True)[1] / len(df_train)"
   ]
  },
  {
   "cell_type": "code",
   "execution_count": 7,
   "metadata": {},
   "outputs": [
    {
     "data": {
      "text/plain": [
       "(26148, 30000)"
      ]
     },
     "execution_count": 7,
     "metadata": {},
     "output_type": "execute_result"
    }
   ],
   "source": [
    "len(np.unique(df_train.author)), len(df_train)"
   ]
  },
  {
   "cell_type": "code",
   "execution_count": 8,
   "metadata": {},
   "outputs": [],
   "source": [
    "y_train = df_train.sentiment.values"
   ]
  },
  {
   "cell_type": "code",
   "execution_count": 77,
   "metadata": {},
   "outputs": [],
   "source": [
    "class SupaDupaModel:\n",
    "    def __init__(self, C = 1.0,\n",
    "                 author_max_features = 1000,\n",
    "                 content_char_features = 10000,\n",
    "                 content_word_features = 10000,\n",
    "                 author_ngram = (1, 3),\n",
    "                 content_char_ngram = (1, 5),\n",
    "                 content_word_ngram = (1, 5),\n",
    "                 stop_words = \"english\",\n",
    "                 logreg_penalty = \"l2\"\n",
    "                ):\n",
    "        self.C = C\n",
    "        self.author_max_features = author_max_features\n",
    "        self.content_char_features = content_char_features\n",
    "        self.content_word_features = content_word_features\n",
    "        self.author_ngram = author_ngram\n",
    "        self.content_char_ngram = content_char_ngram\n",
    "        self.content_word_ngram = content_word_ngram\n",
    "        self.stop_words = stop_words\n",
    "        self.logreg_penalty = logreg_penalty\n",
    "        \n",
    "    def fit(self, df, y):\n",
    "        self.clf = LogisticRegression(C = self.C, penalty = self.logreg_penalty)\n",
    "        \n",
    "        self.author_vect = TfidfVectorizer(lowercase=False,\n",
    "                                           analyzer=\"char\",\n",
    "                                           ngram_range=self.author_ngram,\n",
    "                                           max_features=self.author_max_features)\n",
    "        self.author_vect.fit(df.author)\n",
    "\n",
    "        \n",
    "        self.content_char_vect = TfidfVectorizer(stop_words=self.stop_words,\n",
    "                                                 analyzer=\"char\",\n",
    "                                                 ngram_range=self.content_char_ngram,\n",
    "                                                 max_features=self.content_char_features)\n",
    "        self.content_char_vect.fit(df.content)\n",
    "\n",
    "        \n",
    "        self.content_word_vect = TfidfVectorizer(stop_words=self.stop_words,\n",
    "                                                 analyzer=\"word\",\n",
    "                                                 ngram_range=self.content_word_ngram,\n",
    "                                                 max_features=self.content_word_features)\n",
    "        self.content_word_vect.fit(df.content)\n",
    "        \n",
    "        f_author = self.author_vect.transform(df.author)\n",
    "        f_content_char = self.content_char_vect.transform(df.content)\n",
    "        f_content_word = self.content_word_vect.transform(df.content)\n",
    "        f_train = scipy.sparse.hstack([f_author, f_content_char, f_content_word])\n",
    "        \n",
    "        self.clf.fit(f_train, y)\n",
    "        return self\n",
    "    \n",
    "    def predict(self, df):\n",
    "        f_test_author = self.author_vect.transform(df.author)\n",
    "        f_test_content_char = self.content_char_vect.transform(df.content)\n",
    "        f_test_content_word = self.content_word_vect.transform(df.content)\n",
    "        f_test = scipy.sparse.hstack([f_test_author, f_test_content_char, f_test_content_word])\n",
    "\n",
    "        return self.clf.predict(f_test)\n",
    "    \n",
    "    def get_params(self, deep=False):\n",
    "        return {\n",
    "            \"C\" : self.C, \n",
    "            \"author_max_features\" : self.author_max_features,\n",
    "            \"content_char_features\" : self.content_char_features,\n",
    "            \"content_word_features\" : self.content_word_features,\n",
    "            \"author_ngram\" : self.author_ngram,\n",
    "            \"content_char_ngram\" : self.content_char_ngram,\n",
    "            \"content_word_ngram\" : self.content_word_ngram, \n",
    "        }\n",
    "    \n",
    "    def set_params(self, **params):\n",
    "        self.__init__(**params)\n",
    "        return self\n",
    "    \n",
    "    def __str__(self):\n",
    "        return \"SupaDupaModel:\" + str(self.get_params())"
   ]
  },
  {
   "cell_type": "code",
   "execution_count": 85,
   "metadata": {},
   "outputs": [],
   "source": [
    "class MagicSearch:\n",
    "    def __init__(self, clf, params, start_params, iters, logfile,\n",
    "                 gscv_verbose=10, gscv_n_jobs=4, gscv_scoring=\"accuracy\",\n",
    "                 gscv_cv = StratifiedKFold(n_splits=3, shuffle=True)):\n",
    "        self.clf = clf\n",
    "        self.params = params\n",
    "        self.params_names = list(params.keys())\n",
    "        self.start_params = start_params\n",
    "        self.iters = iters\n",
    "        self.logfile = logfile\n",
    "        \n",
    "        self.gscv_verbose = gscv_verbose\n",
    "        self.gscv_n_jobs = gscv_n_jobs\n",
    "        self.gscv_scoring = gscv_scoring\n",
    "        self.gscv_cv = gscv_cv\n",
    "        \n",
    "        \n",
    "    def log(self, msg):\n",
    "        print(msg)\n",
    "        with open(self.logfile, \"a\") as f:\n",
    "            f.write(msg + \"\\n\")\n",
    "        \n",
    "    def fit(self, X, y, enforse_feature = None):\n",
    "        for i in range(self.iters):\n",
    "            params_gscv = {}\n",
    "            for key in start_params:\n",
    "                params_gscv[key] = [start_params[key]]\n",
    "\n",
    "            name_to_fit = None\n",
    "            if (enforse_feature is None) or (len(enforse_feature) <= i):\n",
    "                parameter_to_fit = np.random.randint(len(params))\n",
    "                name_to_fit = self.params_names[parameter_to_fit]\n",
    "            else:\n",
    "                name_to_fit = enforse_feature[i]\n",
    "\n",
    "            params_gscv[name_to_fit] = params[name_to_fit]\n",
    "\n",
    "            self.log(\"\\nIteration {}. Fitting with params {}\".format(i, params_gscv))\n",
    "\n",
    "\n",
    "            gscv = GridSearchCV(self.clf, params_gscv,\n",
    "                                verbose=self.gscv_verbose, n_jobs=self.gscv_n_jobs, scoring=self.gscv_scoring,\n",
    "                                cv = self.gscv_cv)\n",
    "            gscv.fit(X, y)\n",
    "\n",
    "            self.log(\"Iteration {}. Best: {}, {}\".format(i, gscv.best_params_, gscv.best_score_))\n",
    "            self.start_params[name_to_fit] = gscv.best_params_[name_to_fit]\n",
    "            self.log(\"Iteration {}. New start params: {}\".format(i, self.start_params))\n",
    "        return self.start_params"
   ]
  },
  {
   "cell_type": "markdown",
   "metadata": {},
   "source": [
    "### Cross val"
   ]
  },
  {
   "cell_type": "code",
   "execution_count": 86,
   "metadata": {
    "scrolled": true
   },
   "outputs": [
    {
     "name": "stdout",
     "output_type": "stream",
     "text": [
      "\n",
      "Iteration 0. Fitting with params {'C': [0.5736152510448679], 'author_max_features': [10], 'author_ngram': [(1, 1)], 'content_char_features': [5000], 'content_char_ngram': [(1, 4)], 'content_word_features': [100, 300, 500, 700, 1000, 3000, 5000, 7000, 10000, 15000, 20000, 25000, 30000, 35000], 'content_word_ngram': [(1, 3)], 'logreg_penalty': ['l2'], 'stop_words': [None]}\n",
      "Fitting 3 folds for each of 14 candidates, totalling 42 fits\n",
      "[CV] C=0.5736152510448679, author_max_features=10, author_ngram=(1, 1), content_char_features=5000, content_char_ngram=(1, 4), content_word_features=100, content_word_ngram=(1, 3), logreg_penalty=l2, stop_words=None \n",
      "[CV] C=0.5736152510448679, author_max_features=10, author_ngram=(1, 1), content_char_features=5000, content_char_ngram=(1, 4), content_word_features=100, content_word_ngram=(1, 3), logreg_penalty=l2, stop_words=None \n",
      "[CV] C=0.5736152510448679, author_max_features=10, author_ngram=(1, 1), content_char_features=5000, content_char_ngram=(1, 4), content_word_features=100, content_word_ngram=(1, 3), logreg_penalty=l2, stop_words=None \n",
      "[CV] C=0.5736152510448679, author_max_features=10, author_ngram=(1, 1), content_char_features=5000, content_char_ngram=(1, 4), content_word_features=300, content_word_ngram=(1, 3), logreg_penalty=l2, stop_words=None \n",
      "[CV]  C=0.5736152510448679, author_max_features=10, author_ngram=(1, 1), content_char_features=5000, content_char_ngram=(1, 4), content_word_features=100, content_word_ngram=(1, 3), logreg_penalty=l2, stop_words=None, score=0.35406459354064596, total=  36.4s\n",
      "[CV] C=0.5736152510448679, author_max_features=10, author_ngram=(1, 1), content_char_features=5000, content_char_ngram=(1, 4), content_word_features=300, content_word_ngram=(1, 3), logreg_penalty=l2, stop_words=None \n",
      "[CV]  C=0.5736152510448679, author_max_features=10, author_ngram=(1, 1), content_char_features=5000, content_char_ngram=(1, 4), content_word_features=300, content_word_ngram=(1, 3), logreg_penalty=l2, stop_words=None, score=0.356593022093372, total=  36.6s\n",
      "[CV]  C=0.5736152510448679, author_max_features=10, author_ngram=(1, 1), content_char_features=5000, content_char_ngram=(1, 4), content_word_features=100, content_word_ngram=(1, 3), logreg_penalty=l2, stop_words=None, score=0.35599320203938817, total=  36.7s\n",
      "[CV] C=0.5736152510448679, author_max_features=10, author_ngram=(1, 1), content_char_features=5000, content_char_ngram=(1, 4), content_word_features=300, content_word_ngram=(1, 3), logreg_penalty=l2, stop_words=None \n",
      "[CV] C=0.5736152510448679, author_max_features=10, author_ngram=(1, 1), content_char_features=5000, content_char_ngram=(1, 4), content_word_features=500, content_word_ngram=(1, 3), logreg_penalty=l2, stop_words=None \n",
      "[CV]  C=0.5736152510448679, author_max_features=10, author_ngram=(1, 1), content_char_features=5000, content_char_ngram=(1, 4), content_word_features=100, content_word_ngram=(1, 3), logreg_penalty=l2, stop_words=None, score=0.34223689475790314, total=  37.0s\n",
      "[CV] C=0.5736152510448679, author_max_features=10, author_ngram=(1, 1), content_char_features=5000, content_char_ngram=(1, 4), content_word_features=500, content_word_ngram=(1, 3), logreg_penalty=l2, stop_words=None \n",
      "[CV]  C=0.5736152510448679, author_max_features=10, author_ngram=(1, 1), content_char_features=5000, content_char_ngram=(1, 4), content_word_features=300, content_word_ngram=(1, 3), logreg_penalty=l2, stop_words=None, score=0.34343737494998, total=  35.7s\n",
      "[CV] C=0.5736152510448679, author_max_features=10, author_ngram=(1, 1), content_char_features=5000, content_char_ngram=(1, 4), content_word_features=500, content_word_ngram=(1, 3), logreg_penalty=l2, stop_words=None \n"
     ]
    },
    {
     "name": "stderr",
     "output_type": "stream",
     "text": [
      "[Parallel(n_jobs=4)]: Done   5 tasks      | elapsed:  1.3min\n"
     ]
    },
    {
     "name": "stdout",
     "output_type": "stream",
     "text": [
      "[CV]  C=0.5736152510448679, author_max_features=10, author_ngram=(1, 1), content_char_features=5000, content_char_ngram=(1, 4), content_word_features=300, content_word_ngram=(1, 3), logreg_penalty=l2, stop_words=None, score=0.3601639836016398, total=  36.1s\n",
      "[CV]  C=0.5736152510448679, author_max_features=10, author_ngram=(1, 1), content_char_features=5000, content_char_ngram=(1, 4), content_word_features=500, content_word_ngram=(1, 3), logreg_penalty=l2, stop_words=None, score=0.3638636136386361, total=  35.6s\n",
      "[CV] C=0.5736152510448679, author_max_features=10, author_ngram=(1, 1), content_char_features=5000, content_char_ngram=(1, 4), content_word_features=700, content_word_ngram=(1, 3), logreg_penalty=l2, stop_words=None \n",
      "[CV] C=0.5736152510448679, author_max_features=10, author_ngram=(1, 1), content_char_features=5000, content_char_ngram=(1, 4), content_word_features=700, content_word_ngram=(1, 3), logreg_penalty=l2, stop_words=None \n",
      "[CV]  C=0.5736152510448679, author_max_features=10, author_ngram=(1, 1), content_char_features=5000, content_char_ngram=(1, 4), content_word_features=500, content_word_ngram=(1, 3), logreg_penalty=l2, stop_words=None, score=0.3546935919224233, total=  36.0s\n",
      "[CV] C=0.5736152510448679, author_max_features=10, author_ngram=(1, 1), content_char_features=5000, content_char_ngram=(1, 4), content_word_features=700, content_word_ngram=(1, 3), logreg_penalty=l2, stop_words=None \n",
      "[CV]  C=0.5736152510448679, author_max_features=10, author_ngram=(1, 1), content_char_features=5000, content_char_ngram=(1, 4), content_word_features=500, content_word_ngram=(1, 3), logreg_penalty=l2, stop_words=None, score=0.3478391356542617, total=  36.2s\n",
      "[CV] C=0.5736152510448679, author_max_features=10, author_ngram=(1, 1), content_char_features=5000, content_char_ngram=(1, 4), content_word_features=1000, content_word_ngram=(1, 3), logreg_penalty=l2, stop_words=None \n",
      "[CV]  C=0.5736152510448679, author_max_features=10, author_ngram=(1, 1), content_char_features=5000, content_char_ngram=(1, 4), content_word_features=700, content_word_ngram=(1, 3), logreg_penalty=l2, stop_words=None, score=0.3474389755902361, total=  36.2s\n",
      "[CV] C=0.5736152510448679, author_max_features=10, author_ngram=(1, 1), content_char_features=5000, content_char_ngram=(1, 4), content_word_features=1000, content_word_ngram=(1, 3), logreg_penalty=l2, stop_words=None \n"
     ]
    },
    {
     "name": "stderr",
     "output_type": "stream",
     "text": [
      "[Parallel(n_jobs=4)]: Done  10 tasks      | elapsed:  2.0min\n"
     ]
    },
    {
     "name": "stdout",
     "output_type": "stream",
     "text": [
      "[CV]  C=0.5736152510448679, author_max_features=10, author_ngram=(1, 1), content_char_features=5000, content_char_ngram=(1, 4), content_word_features=700, content_word_ngram=(1, 3), logreg_penalty=l2, stop_words=None, score=0.35379386184144757, total=  36.6s\n",
      "[CV]  C=0.5736152510448679, author_max_features=10, author_ngram=(1, 1), content_char_features=5000, content_char_ngram=(1, 4), content_word_features=700, content_word_ngram=(1, 3), logreg_penalty=l2, stop_words=None, score=0.36406359364063595, total=  36.5s\n",
      "[CV] C=0.5736152510448679, author_max_features=10, author_ngram=(1, 1), content_char_features=5000, content_char_ngram=(1, 4), content_word_features=1000, content_word_ngram=(1, 3), logreg_penalty=l2, stop_words=None \n",
      "[CV] C=0.5736152510448679, author_max_features=10, author_ngram=(1, 1), content_char_features=5000, content_char_ngram=(1, 4), content_word_features=3000, content_word_ngram=(1, 3), logreg_penalty=l2, stop_words=None \n",
      "[CV]  C=0.5736152510448679, author_max_features=10, author_ngram=(1, 1), content_char_features=5000, content_char_ngram=(1, 4), content_word_features=1000, content_word_ngram=(1, 3), logreg_penalty=l2, stop_words=None, score=0.3491396558623449, total=  36.2s\n",
      "[CV]  C=0.5736152510448679, author_max_features=10, author_ngram=(1, 1), content_char_features=5000, content_char_ngram=(1, 4), content_word_features=1000, content_word_ngram=(1, 3), logreg_penalty=l2, stop_words=None, score=0.3564930520843747, total=  37.0s\n",
      "[CV]  C=0.5736152510448679, author_max_features=10, author_ngram=(1, 1), content_char_features=5000, content_char_ngram=(1, 4), content_word_features=1000, content_word_ngram=(1, 3), logreg_penalty=l2, stop_words=None, score=0.3641635836416358, total=  36.5s\n",
      "[CV] C=0.5736152510448679, author_max_features=10, author_ngram=(1, 1), content_char_features=5000, content_char_ngram=(1, 4), content_word_features=3000, content_word_ngram=(1, 3), logreg_penalty=l2, stop_words=None \n",
      "[CV] C=0.5736152510448679, author_max_features=10, author_ngram=(1, 1), content_char_features=5000, content_char_ngram=(1, 4), content_word_features=3000, content_word_ngram=(1, 3), logreg_penalty=l2, stop_words=None \n",
      "[CV] C=0.5736152510448679, author_max_features=10, author_ngram=(1, 1), content_char_features=5000, content_char_ngram=(1, 4), content_word_features=5000, content_word_ngram=(1, 3), logreg_penalty=l2, stop_words=None \n",
      "[CV]  C=0.5736152510448679, author_max_features=10, author_ngram=(1, 1), content_char_features=5000, content_char_ngram=(1, 4), content_word_features=3000, content_word_ngram=(1, 3), logreg_penalty=l2, stop_words=None, score=0.3622913126062181, total=  36.5s\n",
      "[CV] C=0.5736152510448679, author_max_features=10, author_ngram=(1, 1), content_char_features=5000, content_char_ngram=(1, 4), content_word_features=5000, content_word_ngram=(1, 3), logreg_penalty=l2, stop_words=None \n",
      "[CV]  C=0.5736152510448679, author_max_features=10, author_ngram=(1, 1), content_char_features=5000, content_char_ngram=(1, 4), content_word_features=3000, content_word_ngram=(1, 3), logreg_penalty=l2, stop_words=None, score=0.36546345365463456, total=  37.1s\n",
      "[CV] C=0.5736152510448679, author_max_features=10, author_ngram=(1, 1), content_char_features=5000, content_char_ngram=(1, 4), content_word_features=5000, content_word_ngram=(1, 3), logreg_penalty=l2, stop_words=None \n"
     ]
    },
    {
     "name": "stderr",
     "output_type": "stream",
     "text": [
      "[Parallel(n_jobs=4)]: Done  17 tasks      | elapsed:  3.3min\n"
     ]
    },
    {
     "name": "stdout",
     "output_type": "stream",
     "text": [
      "[CV]  C=0.5736152510448679, author_max_features=10, author_ngram=(1, 1), content_char_features=5000, content_char_ngram=(1, 4), content_word_features=5000, content_word_ngram=(1, 3), logreg_penalty=l2, stop_words=None, score=0.36426357364263573, total=  37.2s\n",
      "[CV]  C=0.5736152510448679, author_max_features=10, author_ngram=(1, 1), content_char_features=5000, content_char_ngram=(1, 4), content_word_features=3000, content_word_ngram=(1, 3), logreg_penalty=l2, stop_words=None, score=0.3524409763905562, total=  37.8s\n",
      "[CV] C=0.5736152510448679, author_max_features=10, author_ngram=(1, 1), content_char_features=5000, content_char_ngram=(1, 4), content_word_features=7000, content_word_ngram=(1, 3), logreg_penalty=l2, stop_words=None \n",
      "[CV] C=0.5736152510448679, author_max_features=10, author_ngram=(1, 1), content_char_features=5000, content_char_ngram=(1, 4), content_word_features=7000, content_word_ngram=(1, 3), logreg_penalty=l2, stop_words=None \n",
      "[CV]  C=0.5736152510448679, author_max_features=10, author_ngram=(1, 1), content_char_features=5000, content_char_ngram=(1, 4), content_word_features=5000, content_word_ngram=(1, 3), logreg_penalty=l2, stop_words=None, score=0.36259122263321003, total=  37.9s\n",
      "[CV] C=0.5736152510448679, author_max_features=10, author_ngram=(1, 1), content_char_features=5000, content_char_ngram=(1, 4), content_word_features=7000, content_word_ngram=(1, 3), logreg_penalty=l2, stop_words=None \n",
      "[CV]  C=0.5736152510448679, author_max_features=10, author_ngram=(1, 1), content_char_features=5000, content_char_ngram=(1, 4), content_word_features=5000, content_word_ngram=(1, 3), logreg_penalty=l2, stop_words=None, score=0.35264105642256904, total=  36.5s\n",
      "[CV] C=0.5736152510448679, author_max_features=10, author_ngram=(1, 1), content_char_features=5000, content_char_ngram=(1, 4), content_word_features=10000, content_word_ngram=(1, 3), logreg_penalty=l2, stop_words=None \n",
      "[CV]  C=0.5736152510448679, author_max_features=10, author_ngram=(1, 1), content_char_features=5000, content_char_ngram=(1, 4), content_word_features=7000, content_word_ngram=(1, 3), logreg_penalty=l2, stop_words=None, score=0.3648635136486351, total=  36.2s\n",
      "[CV] C=0.5736152510448679, author_max_features=10, author_ngram=(1, 1), content_char_features=5000, content_char_ngram=(1, 4), content_word_features=10000, content_word_ngram=(1, 3), logreg_penalty=l2, stop_words=None \n",
      "[CV]  C=0.5736152510448679, author_max_features=10, author_ngram=(1, 1), content_char_features=5000, content_char_ngram=(1, 4), content_word_features=7000, content_word_ngram=(1, 3), logreg_penalty=l2, stop_words=None, score=0.36489053284014794, total=  36.7s\n",
      "[CV] C=0.5736152510448679, author_max_features=10, author_ngram=(1, 1), content_char_features=5000, content_char_ngram=(1, 4), content_word_features=10000, content_word_ngram=(1, 3), logreg_penalty=l2, stop_words=None \n",
      "[CV]  C=0.5736152510448679, author_max_features=10, author_ngram=(1, 1), content_char_features=5000, content_char_ngram=(1, 4), content_word_features=7000, content_word_ngram=(1, 3), logreg_penalty=l2, stop_words=None, score=0.35344137655062025, total=  37.0s\n",
      "[CV] C=0.5736152510448679, author_max_features=10, author_ngram=(1, 1), content_char_features=5000, content_char_ngram=(1, 4), content_word_features=15000, content_word_ngram=(1, 3), logreg_penalty=l2, stop_words=None \n"
     ]
    },
    {
     "name": "stderr",
     "output_type": "stream",
     "text": [
      "[Parallel(n_jobs=4)]: Done  24 tasks      | elapsed:  4.0min\n"
     ]
    },
    {
     "name": "stdout",
     "output_type": "stream",
     "text": [
      "[CV]  C=0.5736152510448679, author_max_features=10, author_ngram=(1, 1), content_char_features=5000, content_char_ngram=(1, 4), content_word_features=10000, content_word_ngram=(1, 3), logreg_penalty=l2, stop_words=None, score=0.36566343365663434, total=  36.1s\n",
      "[CV] C=0.5736152510448679, author_max_features=10, author_ngram=(1, 1), content_char_features=5000, content_char_ngram=(1, 4), content_word_features=15000, content_word_ngram=(1, 3), logreg_penalty=l2, stop_words=None \n",
      "[CV]  C=0.5736152510448679, author_max_features=10, author_ngram=(1, 1), content_char_features=5000, content_char_ngram=(1, 4), content_word_features=10000, content_word_ngram=(1, 3), logreg_penalty=l2, stop_words=None, score=0.36409077276816953, total=  37.1s\n",
      "[CV] C=0.5736152510448679, author_max_features=10, author_ngram=(1, 1), content_char_features=5000, content_char_ngram=(1, 4), content_word_features=15000, content_word_ngram=(1, 3), logreg_penalty=l2, stop_words=None \n",
      "[CV]  C=0.5736152510448679, author_max_features=10, author_ngram=(1, 1), content_char_features=5000, content_char_ngram=(1, 4), content_word_features=10000, content_word_ngram=(1, 3), logreg_penalty=l2, stop_words=None, score=0.35194077631052423, total=  36.5s\n",
      "[CV] C=0.5736152510448679, author_max_features=10, author_ngram=(1, 1), content_char_features=5000, content_char_ngram=(1, 4), content_word_features=20000, content_word_ngram=(1, 3), logreg_penalty=l2, stop_words=None \n",
      "[CV]  C=0.5736152510448679, author_max_features=10, author_ngram=(1, 1), content_char_features=5000, content_char_ngram=(1, 4), content_word_features=15000, content_word_ngram=(1, 3), logreg_penalty=l2, stop_words=None, score=0.36359092272318305, total=  36.7s\n",
      "[CV] C=0.5736152510448679, author_max_features=10, author_ngram=(1, 1), content_char_features=5000, content_char_ngram=(1, 4), content_word_features=20000, content_word_ngram=(1, 3), logreg_penalty=l2, stop_words=None \n",
      "[CV]  C=0.5736152510448679, author_max_features=10, author_ngram=(1, 1), content_char_features=5000, content_char_ngram=(1, 4), content_word_features=15000, content_word_ngram=(1, 3), logreg_penalty=l2, stop_words=None, score=0.36396360363963604, total=  37.0s\n",
      "[CV] C=0.5736152510448679, author_max_features=10, author_ngram=(1, 1), content_char_features=5000, content_char_ngram=(1, 4), content_word_features=20000, content_word_ngram=(1, 3), logreg_penalty=l2, stop_words=None \n",
      "[CV]  C=0.5736152510448679, author_max_features=10, author_ngram=(1, 1), content_char_features=5000, content_char_ngram=(1, 4), content_word_features=15000, content_word_ngram=(1, 3), logreg_penalty=l2, stop_words=None, score=0.3524409763905562, total=  37.5s\n",
      "[CV] C=0.5736152510448679, author_max_features=10, author_ngram=(1, 1), content_char_features=5000, content_char_ngram=(1, 4), content_word_features=25000, content_word_ngram=(1, 3), logreg_penalty=l2, stop_words=None \n",
      "[CV]  C=0.5736152510448679, author_max_features=10, author_ngram=(1, 1), content_char_features=5000, content_char_ngram=(1, 4), content_word_features=20000, content_word_ngram=(1, 3), logreg_penalty=l2, stop_words=None, score=0.36409077276816953, total=  37.1s\n",
      "[CV] C=0.5736152510448679, author_max_features=10, author_ngram=(1, 1), content_char_features=5000, content_char_ngram=(1, 4), content_word_features=25000, content_word_ngram=(1, 3), logreg_penalty=l2, stop_words=None \n",
      "[CV]  C=0.5736152510448679, author_max_features=10, author_ngram=(1, 1), content_char_features=5000, content_char_ngram=(1, 4), content_word_features=20000, content_word_ngram=(1, 3), logreg_penalty=l2, stop_words=None, score=0.36536346365363465, total=  37.0s\n",
      "[CV] C=0.5736152510448679, author_max_features=10, author_ngram=(1, 1), content_char_features=5000, content_char_ngram=(1, 4), content_word_features=25000, content_word_ngram=(1, 3), logreg_penalty=l2, stop_words=None \n",
      "[CV]  C=0.5736152510448679, author_max_features=10, author_ngram=(1, 1), content_char_features=5000, content_char_ngram=(1, 4), content_word_features=20000, content_word_ngram=(1, 3), logreg_penalty=l2, stop_words=None, score=0.3532412965186074, total=  36.3s\n",
      "[CV] C=0.5736152510448679, author_max_features=10, author_ngram=(1, 1), content_char_features=5000, content_char_ngram=(1, 4), content_word_features=30000, content_word_ngram=(1, 3), logreg_penalty=l2, stop_words=None \n"
     ]
    },
    {
     "name": "stderr",
     "output_type": "stream",
     "text": [
      "[Parallel(n_jobs=4)]: Done  33 tasks      | elapsed:  6.0min\n"
     ]
    },
    {
     "name": "stdout",
     "output_type": "stream",
     "text": [
      "[CV]  C=0.5736152510448679, author_max_features=10, author_ngram=(1, 1), content_char_features=5000, content_char_ngram=(1, 4), content_word_features=25000, content_word_ngram=(1, 3), logreg_penalty=l2, stop_words=None, score=0.3639908027591722, total=  37.6s\n",
      "[CV] C=0.5736152510448679, author_max_features=10, author_ngram=(1, 1), content_char_features=5000, content_char_ngram=(1, 4), content_word_features=30000, content_word_ngram=(1, 3), logreg_penalty=l2, stop_words=None \n",
      "[CV]  C=0.5736152510448679, author_max_features=10, author_ngram=(1, 1), content_char_features=5000, content_char_ngram=(1, 4), content_word_features=25000, content_word_ngram=(1, 3), logreg_penalty=l2, stop_words=None, score=0.3517406962785114, total=  36.8s\n",
      "[CV] C=0.5736152510448679, author_max_features=10, author_ngram=(1, 1), content_char_features=5000, content_char_ngram=(1, 4), content_word_features=30000, content_word_ngram=(1, 3), logreg_penalty=l2, stop_words=None \n",
      "[CV]  C=0.5736152510448679, author_max_features=10, author_ngram=(1, 1), content_char_features=5000, content_char_ngram=(1, 4), content_word_features=25000, content_word_ngram=(1, 3), logreg_penalty=l2, stop_words=None, score=0.36706329367063295, total=  37.7s\n",
      "[CV] C=0.5736152510448679, author_max_features=10, author_ngram=(1, 1), content_char_features=5000, content_char_ngram=(1, 4), content_word_features=35000, content_word_ngram=(1, 3), logreg_penalty=l2, stop_words=None \n",
      "[CV]  C=0.5736152510448679, author_max_features=10, author_ngram=(1, 1), content_char_features=5000, content_char_ngram=(1, 4), content_word_features=30000, content_word_ngram=(1, 3), logreg_penalty=l2, stop_words=None, score=0.36379086274117767, total=  36.0s\n",
      "[CV] C=0.5736152510448679, author_max_features=10, author_ngram=(1, 1), content_char_features=5000, content_char_ngram=(1, 4), content_word_features=35000, content_word_ngram=(1, 3), logreg_penalty=l2, stop_words=None \n",
      "[CV]  C=0.5736152510448679, author_max_features=10, author_ngram=(1, 1), content_char_features=5000, content_char_ngram=(1, 4), content_word_features=30000, content_word_ngram=(1, 3), logreg_penalty=l2, stop_words=None, score=0.3513405362144858, total=  37.2s\n",
      "[CV] C=0.5736152510448679, author_max_features=10, author_ngram=(1, 1), content_char_features=5000, content_char_ngram=(1, 4), content_word_features=35000, content_word_ngram=(1, 3), logreg_penalty=l2, stop_words=None \n",
      "[CV]  C=0.5736152510448679, author_max_features=10, author_ngram=(1, 1), content_char_features=5000, content_char_ngram=(1, 4), content_word_features=30000, content_word_ngram=(1, 3), logreg_penalty=l2, stop_words=None, score=0.36626337366263373, total=  38.1s\n",
      "[CV]  C=0.5736152510448679, author_max_features=10, author_ngram=(1, 1), content_char_features=5000, content_char_ngram=(1, 4), content_word_features=35000, content_word_ngram=(1, 3), logreg_penalty=l2, stop_words=None, score=0.36359092272318305, total=  37.8s\n"
     ]
    },
    {
     "name": "stderr",
     "output_type": "stream",
     "text": [
      "[Parallel(n_jobs=4)]: Done  40 out of  42 | elapsed:  6.7min remaining:   20.2s\n"
     ]
    },
    {
     "name": "stdout",
     "output_type": "stream",
     "text": [
      "[CV]  C=0.5736152510448679, author_max_features=10, author_ngram=(1, 1), content_char_features=5000, content_char_ngram=(1, 4), content_word_features=35000, content_word_ngram=(1, 3), logreg_penalty=l2, stop_words=None, score=0.36436356364363565, total=  24.1s\n",
      "[CV]  C=0.5736152510448679, author_max_features=10, author_ngram=(1, 1), content_char_features=5000, content_char_ngram=(1, 4), content_word_features=35000, content_word_ngram=(1, 3), logreg_penalty=l2, stop_words=None, score=0.3524409763905562, total=  23.6s\n"
     ]
    },
    {
     "name": "stderr",
     "output_type": "stream",
     "text": [
      "[Parallel(n_jobs=4)]: Done  42 out of  42 | elapsed:  7.2min finished\n"
     ]
    },
    {
     "name": "stdout",
     "output_type": "stream",
     "text": [
      "Iteration 0. Best: {'C': 0.5736152510448679, 'author_max_features': 10, 'author_ngram': (1, 1), 'content_char_features': 5000, 'content_char_ngram': (1, 4), 'content_word_features': 7000, 'content_word_ngram': (1, 3), 'logreg_penalty': 'l2', 'stop_words': None}, 0.36106666666666665\n",
      "Iteration 0. New start params: {'C': 0.5736152510448679, 'author_max_features': 10, 'author_ngram': (1, 1), 'content_char_features': 5000, 'content_char_ngram': (1, 4), 'content_word_features': 7000, 'content_word_ngram': (1, 3), 'logreg_penalty': 'l2', 'stop_words': None}\n",
      "\n",
      "Iteration 1. Fitting with params {'C': [0.5736152510448679], 'author_max_features': [10], 'author_ngram': [(1, 1)], 'content_char_features': [5000], 'content_char_ngram': [(1, 4)], 'content_word_features': [7000], 'content_word_ngram': [(1, 1), (1, 3), (1, 4), (1, 5), (2, 3), (2, 4), (2, 5), (3, 5)], 'logreg_penalty': ['l2'], 'stop_words': [None]}\n",
      "Fitting 3 folds for each of 8 candidates, totalling 24 fits\n",
      "[CV] C=0.5736152510448679, author_max_features=10, author_ngram=(1, 1), content_char_features=5000, content_char_ngram=(1, 4), content_word_features=7000, content_word_ngram=(1, 1), logreg_penalty=l2, stop_words=None \n",
      "[CV] C=0.5736152510448679, author_max_features=10, author_ngram=(1, 1), content_char_features=5000, content_char_ngram=(1, 4), content_word_features=7000, content_word_ngram=(1, 1), logreg_penalty=l2, stop_words=None \n",
      "[CV] C=0.5736152510448679, author_max_features=10, author_ngram=(1, 1), content_char_features=5000, content_char_ngram=(1, 4), content_word_features=7000, content_word_ngram=(1, 1), logreg_penalty=l2, stop_words=None \n",
      "[CV] C=0.5736152510448679, author_max_features=10, author_ngram=(1, 1), content_char_features=5000, content_char_ngram=(1, 4), content_word_features=7000, content_word_ngram=(1, 3), logreg_penalty=l2, stop_words=None \n",
      "[CV]  C=0.5736152510448679, author_max_features=10, author_ngram=(1, 1), content_char_features=5000, content_char_ngram=(1, 4), content_word_features=7000, content_word_ngram=(1, 1), logreg_penalty=l2, stop_words=None, score=0.3588641135886411, total=  35.0s\n",
      "[CV]  C=0.5736152510448679, author_max_features=10, author_ngram=(1, 1), content_char_features=5000, content_char_ngram=(1, 4), content_word_features=7000, content_word_ngram=(1, 1), logreg_penalty=l2, stop_words=None, score=0.3540416166466587, total=  35.0s\n",
      "[CV] C=0.5736152510448679, author_max_features=10, author_ngram=(1, 1), content_char_features=5000, content_char_ngram=(1, 4), content_word_features=7000, content_word_ngram=(1, 3), logreg_penalty=l2, stop_words=None \n",
      "[CV] C=0.5736152510448679, author_max_features=10, author_ngram=(1, 1), content_char_features=5000, content_char_ngram=(1, 4), content_word_features=7000, content_word_ngram=(1, 3), logreg_penalty=l2, stop_words=None \n",
      "[CV]  C=0.5736152510448679, author_max_features=10, author_ngram=(1, 1), content_char_features=5000, content_char_ngram=(1, 4), content_word_features=7000, content_word_ngram=(1, 1), logreg_penalty=l2, stop_words=None, score=0.36659002299310206, total=  35.3s\n",
      "[CV] C=0.5736152510448679, author_max_features=10, author_ngram=(1, 1), content_char_features=5000, content_char_ngram=(1, 4), content_word_features=7000, content_word_ngram=(1, 4), logreg_penalty=l2, stop_words=None \n",
      "[CV]  C=0.5736152510448679, author_max_features=10, author_ngram=(1, 1), content_char_features=5000, content_char_ngram=(1, 4), content_word_features=7000, content_word_ngram=(1, 3), logreg_penalty=l2, stop_words=None, score=0.36519044286713986, total=  36.3s\n",
      "[CV] C=0.5736152510448679, author_max_features=10, author_ngram=(1, 1), content_char_features=5000, content_char_ngram=(1, 4), content_word_features=7000, content_word_ngram=(1, 4), logreg_penalty=l2, stop_words=None \n",
      "[CV]  C=0.5736152510448679, author_max_features=10, author_ngram=(1, 1), content_char_features=5000, content_char_ngram=(1, 4), content_word_features=7000, content_word_ngram=(1, 3), logreg_penalty=l2, stop_words=None, score=0.36136386361363865, total=  35.9s\n",
      "[CV] C=0.5736152510448679, author_max_features=10, author_ngram=(1, 1), content_char_features=5000, content_char_ngram=(1, 4), content_word_features=7000, content_word_ngram=(1, 4), logreg_penalty=l2, stop_words=None \n",
      "[CV]  C=0.5736152510448679, author_max_features=10, author_ngram=(1, 1), content_char_features=5000, content_char_ngram=(1, 4), content_word_features=7000, content_word_ngram=(1, 3), logreg_penalty=l2, stop_words=None, score=0.3546418567426971, total=  36.0s\n",
      "[CV] C=0.5736152510448679, author_max_features=10, author_ngram=(1, 1), content_char_features=5000, content_char_ngram=(1, 4), content_word_features=7000, content_word_ngram=(1, 5), logreg_penalty=l2, stop_words=None \n"
     ]
    },
    {
     "name": "stderr",
     "output_type": "stream",
     "text": [
      "[Parallel(n_jobs=4)]: Done   5 tasks      | elapsed:  1.3min\n"
     ]
    },
    {
     "name": "stdout",
     "output_type": "stream",
     "text": [
      "[CV]  C=0.5736152510448679, author_max_features=10, author_ngram=(1, 1), content_char_features=5000, content_char_ngram=(1, 4), content_word_features=7000, content_word_ngram=(1, 4), logreg_penalty=l2, stop_words=None, score=0.36509047285814256, total=  36.4s\n",
      "[CV] C=0.5736152510448679, author_max_features=10, author_ngram=(1, 1), content_char_features=5000, content_char_ngram=(1, 4), content_word_features=7000, content_word_ngram=(1, 5), logreg_penalty=l2, stop_words=None \n",
      "[CV]  C=0.5736152510448679, author_max_features=10, author_ngram=(1, 1), content_char_features=5000, content_char_ngram=(1, 4), content_word_features=7000, content_word_ngram=(1, 4), logreg_penalty=l2, stop_words=None, score=0.36106389361063895, total=  35.7s\n",
      "[CV] C=0.5736152510448679, author_max_features=10, author_ngram=(1, 1), content_char_features=5000, content_char_ngram=(1, 4), content_word_features=7000, content_word_ngram=(1, 5), logreg_penalty=l2, stop_words=None \n",
      "[CV]  C=0.5736152510448679, author_max_features=10, author_ngram=(1, 1), content_char_features=5000, content_char_ngram=(1, 4), content_word_features=7000, content_word_ngram=(1, 4), logreg_penalty=l2, stop_words=None, score=0.3543417366946779, total=  36.6s\n",
      "[CV] C=0.5736152510448679, author_max_features=10, author_ngram=(1, 1), content_char_features=5000, content_char_ngram=(1, 4), content_word_features=7000, content_word_ngram=(2, 3), logreg_penalty=l2, stop_words=None \n",
      "[CV]  C=0.5736152510448679, author_max_features=10, author_ngram=(1, 1), content_char_features=5000, content_char_ngram=(1, 4), content_word_features=7000, content_word_ngram=(1, 5), logreg_penalty=l2, stop_words=None, score=0.36569029291212635, total=  37.6s\n",
      "[CV] C=0.5736152510448679, author_max_features=10, author_ngram=(1, 1), content_char_features=5000, content_char_ngram=(1, 4), content_word_features=7000, content_word_ngram=(2, 3), logreg_penalty=l2, stop_words=None \n"
     ]
    },
    {
     "name": "stderr",
     "output_type": "stream",
     "text": [
      "[Parallel(n_jobs=4)]: Done  10 tasks      | elapsed:  2.0min\n"
     ]
    },
    {
     "name": "stdout",
     "output_type": "stream",
     "text": [
      "[CV]  C=0.5736152510448679, author_max_features=10, author_ngram=(1, 1), content_char_features=5000, content_char_ngram=(1, 4), content_word_features=7000, content_word_ngram=(1, 5), logreg_penalty=l2, stop_words=None, score=0.3601639836016398, total=  37.5s\n",
      "[CV] C=0.5736152510448679, author_max_features=10, author_ngram=(1, 1), content_char_features=5000, content_char_ngram=(1, 4), content_word_features=7000, content_word_ngram=(2, 3), logreg_penalty=l2, stop_words=None \n",
      "[CV]  C=0.5736152510448679, author_max_features=10, author_ngram=(1, 1), content_char_features=5000, content_char_ngram=(1, 4), content_word_features=7000, content_word_ngram=(1, 5), logreg_penalty=l2, stop_words=None, score=0.3551420568227291, total=  37.2s\n",
      "[CV] C=0.5736152510448679, author_max_features=10, author_ngram=(1, 1), content_char_features=5000, content_char_ngram=(1, 4), content_word_features=7000, content_word_ngram=(2, 4), logreg_penalty=l2, stop_words=None \n",
      "[CV]  C=0.5736152510448679, author_max_features=10, author_ngram=(1, 1), content_char_features=5000, content_char_ngram=(1, 4), content_word_features=7000, content_word_ngram=(2, 3), logreg_penalty=l2, stop_words=None, score=0.35589323203039086, total=  35.0s\n",
      "[CV] C=0.5736152510448679, author_max_features=10, author_ngram=(1, 1), content_char_features=5000, content_char_ngram=(1, 4), content_word_features=7000, content_word_ngram=(2, 4), logreg_penalty=l2, stop_words=None \n",
      "[CV]  C=0.5736152510448679, author_max_features=10, author_ngram=(1, 1), content_char_features=5000, content_char_ngram=(1, 4), content_word_features=7000, content_word_ngram=(2, 3), logreg_penalty=l2, stop_words=None, score=0.35296470352964704, total=  36.4s\n",
      "[CV] C=0.5736152510448679, author_max_features=10, author_ngram=(1, 1), content_char_features=5000, content_char_ngram=(1, 4), content_word_features=7000, content_word_ngram=(2, 4), logreg_penalty=l2, stop_words=None \n",
      "[CV]  C=0.5736152510448679, author_max_features=10, author_ngram=(1, 1), content_char_features=5000, content_char_ngram=(1, 4), content_word_features=7000, content_word_ngram=(2, 3), logreg_penalty=l2, stop_words=None, score=0.34663865546218486, total=  36.0s\n",
      "[CV] C=0.5736152510448679, author_max_features=10, author_ngram=(1, 1), content_char_features=5000, content_char_ngram=(1, 4), content_word_features=7000, content_word_ngram=(2, 5), logreg_penalty=l2, stop_words=None \n",
      "[CV]  C=0.5736152510448679, author_max_features=10, author_ngram=(1, 1), content_char_features=5000, content_char_ngram=(1, 4), content_word_features=7000, content_word_ngram=(2, 4), logreg_penalty=l2, stop_words=None, score=0.3569929021293612, total=  36.2s\n",
      "[CV] C=0.5736152510448679, author_max_features=10, author_ngram=(1, 1), content_char_features=5000, content_char_ngram=(1, 4), content_word_features=7000, content_word_ngram=(2, 5), logreg_penalty=l2, stop_words=None \n",
      "[CV]  C=0.5736152510448679, author_max_features=10, author_ngram=(1, 1), content_char_features=5000, content_char_ngram=(1, 4), content_word_features=7000, content_word_ngram=(2, 4), logreg_penalty=l2, stop_words=None, score=0.35156484351564843, total=  33.6s\n",
      "[CV] C=0.5736152510448679, author_max_features=10, author_ngram=(1, 1), content_char_features=5000, content_char_ngram=(1, 4), content_word_features=7000, content_word_ngram=(2, 5), logreg_penalty=l2, stop_words=None \n"
     ]
    },
    {
     "name": "stderr",
     "output_type": "stream",
     "text": [
      "[Parallel(n_jobs=4)]: Done  17 tasks      | elapsed:  3.2min\n"
     ]
    },
    {
     "name": "stdout",
     "output_type": "stream",
     "text": [
      "[CV]  C=0.5736152510448679, author_max_features=10, author_ngram=(1, 1), content_char_features=5000, content_char_ngram=(1, 4), content_word_features=7000, content_word_ngram=(2, 4), logreg_penalty=l2, stop_words=None, score=0.34673869547819125, total=  34.7s\n",
      "[CV] C=0.5736152510448679, author_max_features=10, author_ngram=(1, 1), content_char_features=5000, content_char_ngram=(1, 4), content_word_features=7000, content_word_ngram=(3, 5), logreg_penalty=l2, stop_words=None \n",
      "[CV]  C=0.5736152510448679, author_max_features=10, author_ngram=(1, 1), content_char_features=5000, content_char_ngram=(1, 4), content_word_features=7000, content_word_ngram=(2, 5), logreg_penalty=l2, stop_words=None, score=0.3573927821653504, total=  35.7s\n",
      "[CV] C=0.5736152510448679, author_max_features=10, author_ngram=(1, 1), content_char_features=5000, content_char_ngram=(1, 4), content_word_features=7000, content_word_ngram=(3, 5), logreg_penalty=l2, stop_words=None \n",
      "[CV]  C=0.5736152510448679, author_max_features=10, author_ngram=(1, 1), content_char_features=5000, content_char_ngram=(1, 4), content_word_features=7000, content_word_ngram=(2, 5), logreg_penalty=l2, stop_words=None, score=0.35106489351064896, total=  35.7s\n",
      "[CV] C=0.5736152510448679, author_max_features=10, author_ngram=(1, 1), content_char_features=5000, content_char_ngram=(1, 4), content_word_features=7000, content_word_ngram=(3, 5), logreg_penalty=l2, stop_words=None \n"
     ]
    },
    {
     "name": "stderr",
     "output_type": "stream",
     "text": [
      "[Parallel(n_jobs=4)]: Done  20 out of  24 | elapsed:  3.3min remaining:   39.9s\n"
     ]
    },
    {
     "name": "stdout",
     "output_type": "stream",
     "text": [
      "[CV]  C=0.5736152510448679, author_max_features=10, author_ngram=(1, 1), content_char_features=5000, content_char_ngram=(1, 4), content_word_features=7000, content_word_ngram=(2, 5), logreg_penalty=l2, stop_words=None, score=0.34663865546218486, total=  33.8s\n",
      "[CV]  C=0.5736152510448679, author_max_features=10, author_ngram=(1, 1), content_char_features=5000, content_char_ngram=(1, 4), content_word_features=7000, content_word_ngram=(3, 5), logreg_penalty=l2, stop_words=None, score=0.3547935619314206, total=  35.5s\n",
      "[CV]  C=0.5736152510448679, author_max_features=10, author_ngram=(1, 1), content_char_features=5000, content_char_ngram=(1, 4), content_word_features=7000, content_word_ngram=(3, 5), logreg_penalty=l2, stop_words=None, score=0.34966503349665035, total=  35.0s\n",
      "[CV]  C=0.5736152510448679, author_max_features=10, author_ngram=(1, 1), content_char_features=5000, content_char_ngram=(1, 4), content_word_features=7000, content_word_ngram=(3, 5), logreg_penalty=l2, stop_words=None, score=0.3491396558623449, total=  35.0s\n"
     ]
    },
    {
     "name": "stderr",
     "output_type": "stream",
     "text": [
      "[Parallel(n_jobs=4)]: Done  24 out of  24 | elapsed:  4.0min finished\n"
     ]
    },
    {
     "name": "stdout",
     "output_type": "stream",
     "text": [
      "Iteration 1. Best: {'C': 0.5736152510448679, 'author_max_features': 10, 'author_ngram': (1, 1), 'content_char_features': 5000, 'content_char_ngram': (1, 4), 'content_word_features': 7000, 'content_word_ngram': (1, 3), 'logreg_penalty': 'l2', 'stop_words': None}, 0.3604\n",
      "Iteration 1. New start params: {'C': 0.5736152510448679, 'author_max_features': 10, 'author_ngram': (1, 1), 'content_char_features': 5000, 'content_char_ngram': (1, 4), 'content_word_features': 7000, 'content_word_ngram': (1, 3), 'logreg_penalty': 'l2', 'stop_words': None}\n"
     ]
    },
    {
     "ename": "IndexError",
     "evalue": "list index out of range",
     "output_type": "error",
     "traceback": [
      "\u001b[0;31m---------------------------------------------------------------------------\u001b[0m",
      "\u001b[0;31mIndexError\u001b[0m                                Traceback (most recent call last)",
      "\u001b[0;32m<ipython-input-86-2e70747882e2>\u001b[0m in \u001b[0;36m<module>\u001b[0;34m()\u001b[0m\n\u001b[1;32m     25\u001b[0m \u001b[0mclf\u001b[0m \u001b[0;34m=\u001b[0m \u001b[0mSupaDupaModel\u001b[0m\u001b[0;34m(\u001b[0m\u001b[0mC\u001b[0m\u001b[0;34m=\u001b[0m\u001b[0;36m0.1\u001b[0m\u001b[0;34m)\u001b[0m\u001b[0;34m\u001b[0m\u001b[0m\n\u001b[1;32m     26\u001b[0m \u001b[0mms\u001b[0m \u001b[0;34m=\u001b[0m \u001b[0mMagicSearch\u001b[0m\u001b[0;34m(\u001b[0m\u001b[0mclf\u001b[0m\u001b[0;34m,\u001b[0m \u001b[0mparams\u001b[0m\u001b[0;34m,\u001b[0m \u001b[0mstart_params\u001b[0m\u001b[0;34m,\u001b[0m \u001b[0miters\u001b[0m\u001b[0;34m=\u001b[0m\u001b[0;36m5\u001b[0m\u001b[0;34m,\u001b[0m \u001b[0mlogfile\u001b[0m\u001b[0;34m=\u001b[0m\u001b[0;34m\"ms_log.txt\"\u001b[0m\u001b[0;34m)\u001b[0m\u001b[0;34m\u001b[0m\u001b[0m\n\u001b[0;32m---> 27\u001b[0;31m \u001b[0mnew_start_params\u001b[0m \u001b[0;34m=\u001b[0m  \u001b[0mms\u001b[0m\u001b[0;34m.\u001b[0m\u001b[0mfit\u001b[0m\u001b[0;34m(\u001b[0m\u001b[0mdf_train\u001b[0m\u001b[0;34m,\u001b[0m \u001b[0my_train\u001b[0m\u001b[0;34m,\u001b[0m \u001b[0;34m[\u001b[0m\u001b[0;34m\"content_word_features\"\u001b[0m\u001b[0;34m,\u001b[0m \u001b[0;34m\"content_word_ngram\"\u001b[0m\u001b[0;34m]\u001b[0m\u001b[0;34m)\u001b[0m\u001b[0;34m\u001b[0m\u001b[0m\n\u001b[0m\u001b[1;32m     28\u001b[0m \u001b[0mnew_start_params\u001b[0m\u001b[0;34m\u001b[0m\u001b[0m\n",
      "\u001b[0;32m<ipython-input-85-9af1a344b543>\u001b[0m in \u001b[0;36mfit\u001b[0;34m(self, X, y, enforse_feature)\u001b[0m\n\u001b[1;32m     32\u001b[0m                 \u001b[0mname_to_fit\u001b[0m \u001b[0;34m=\u001b[0m \u001b[0mself\u001b[0m\u001b[0;34m.\u001b[0m\u001b[0mparams_names\u001b[0m\u001b[0;34m[\u001b[0m\u001b[0mparameter_to_fit\u001b[0m\u001b[0;34m]\u001b[0m\u001b[0;34m\u001b[0m\u001b[0m\n\u001b[1;32m     33\u001b[0m             \u001b[0;32melse\u001b[0m\u001b[0;34m:\u001b[0m\u001b[0;34m\u001b[0m\u001b[0m\n\u001b[0;32m---> 34\u001b[0;31m                 \u001b[0mname_to_fit\u001b[0m \u001b[0;34m=\u001b[0m \u001b[0menforse_feature\u001b[0m\u001b[0;34m[\u001b[0m\u001b[0mi\u001b[0m\u001b[0;34m]\u001b[0m\u001b[0;34m\u001b[0m\u001b[0m\n\u001b[0m\u001b[1;32m     35\u001b[0m \u001b[0;34m\u001b[0m\u001b[0m\n\u001b[1;32m     36\u001b[0m             \u001b[0mparams_gscv\u001b[0m\u001b[0;34m[\u001b[0m\u001b[0mname_to_fit\u001b[0m\u001b[0;34m]\u001b[0m \u001b[0;34m=\u001b[0m \u001b[0mparams\u001b[0m\u001b[0;34m[\u001b[0m\u001b[0mname_to_fit\u001b[0m\u001b[0;34m]\u001b[0m\u001b[0;34m\u001b[0m\u001b[0m\n",
      "\u001b[0;31mIndexError\u001b[0m: list index out of range"
     ]
    }
   ],
   "source": [
    "params = {\n",
    "    \"C\": 10. ** np.linspace(-2, +1, 30),\n",
    "    \"author_max_features\" : [10, 100, 300, 500, 700, 1000],\n",
    "    \"content_char_features\" : [100, 300, 500, 700, 1000, 2000, 4000, 5000, 7000, 10000, 15000, 20000, 25000, 30000],\n",
    "    \"content_word_features\" : [100, 300, 500, 700, 1000, 3000, 5000, 7000, 10000, 15000, 20000, 25000, 30000, 35000],\n",
    "    \"author_ngram\" : [(1, 1), (1, 3), (1, 4), (1, 5), (2, 3), (2, 4), (2, 5), (3, 5)],\n",
    "    \"content_char_ngram\" : [(1, 1), (1, 3), (1, 4), (1, 5), (2, 3), (2, 4), (2, 5), (3, 5)],\n",
    "    \"content_word_ngram\" : [(1, 1), (1, 3), (1, 4), (1, 5), (2, 3), (2, 4), (2, 5), (3, 5)],\n",
    "    \"stop_words\" : [None, \"english\"],\n",
    "    \"logreg_penalty\" : [\"l1\", \"l2\"],\n",
    "}\n",
    "\n",
    "start_params = {\n",
    "    'C': 0.5736152510448679,\n",
    "    'author_max_features': 10,\n",
    "    'author_ngram': (1, 1),\n",
    "    'content_char_features': 5000,\n",
    "    'content_char_ngram': (1, 4),\n",
    "    'content_word_features': 30000,\n",
    "    'content_word_ngram': (1, 3),\n",
    "    'logreg_penalty': 'l2',\n",
    "    'stop_words': None\n",
    "}\n",
    "\n",
    "clf = SupaDupaModel(C=0.1)\n",
    "ms = MagicSearch(clf, params, start_params, iters=5, logfile=\"ms_log.txt\")\n",
    "new_start_params =  ms.fit(df_train, y_train, [\"content_word_features\", \"content_word_ngram\"])\n",
    "new_start_params"
   ]
  },
  {
   "cell_type": "code",
   "execution_count": 53,
   "metadata": {},
   "outputs": [
    {
     "data": {
      "text/plain": [
       "{'C': 0.5736152510448679,\n",
       " 'author_max_features': 10,\n",
       " 'author_ngram': (1, 1),\n",
       " 'content_char_features': 5000,\n",
       " 'content_char_ngram': (1, 4),\n",
       " 'content_word_features': 30000,\n",
       " 'content_word_ngram': (1, 3)}"
      ]
     },
     "execution_count": 53,
     "metadata": {},
     "output_type": "execute_result"
    }
   ],
   "source": [
    "new_start_params"
   ]
  },
  {
   "cell_type": "code",
   "execution_count": 46,
   "metadata": {},
   "outputs": [
    {
     "name": "stdout",
     "output_type": "stream",
     "text": [
      "CPU times: user 17min 29s, sys: 484 ms, total: 17min 29s\n",
      "Wall time: 17min 31s\n"
     ]
    }
   ],
   "source": [
    "%%time\n",
    "f_train_train, f_train_test, y_train_train, y_train_test = train_test_split(f_train, y_train, test_size=0.3)\n",
    "clf = SVC()\n",
    "clf.fit(f_train_train, y_train_train)\n",
    "accuracy_score(clf.predict(f_train_test), y_train_test)"
   ]
  },
  {
   "cell_type": "code",
   "execution_count": 47,
   "metadata": {},
   "outputs": [
    {
     "data": {
      "text/plain": [
       "0.20977777777777779"
      ]
     },
     "execution_count": 47,
     "metadata": {},
     "output_type": "execute_result"
    }
   ],
   "source": [
    "accuracy_score(clf.predict(f_train_test), y_train_test)"
   ]
  },
  {
   "cell_type": "markdown",
   "metadata": {},
   "source": [
    "### Submit"
   ]
  },
  {
   "cell_type": "code",
   "execution_count": 54,
   "metadata": {},
   "outputs": [
    {
     "data": {
      "text/html": [
       "<div>\n",
       "<style scoped>\n",
       "    .dataframe tbody tr th:only-of-type {\n",
       "        vertical-align: middle;\n",
       "    }\n",
       "\n",
       "    .dataframe tbody tr th {\n",
       "        vertical-align: top;\n",
       "    }\n",
       "\n",
       "    .dataframe thead th {\n",
       "        text-align: right;\n",
       "    }\n",
       "</style>\n",
       "<table border=\"1\" class=\"dataframe\">\n",
       "  <thead>\n",
       "    <tr style=\"text-align: right;\">\n",
       "      <th></th>\n",
       "      <th>id</th>\n",
       "      <th>author</th>\n",
       "      <th>content</th>\n",
       "    </tr>\n",
       "  </thead>\n",
       "  <tbody>\n",
       "    <tr>\n",
       "      <th>0</th>\n",
       "      <td>32823</td>\n",
       "      <td>valicast</td>\n",
       "      <td>Good Morning</td>\n",
       "    </tr>\n",
       "    <tr>\n",
       "      <th>1</th>\n",
       "      <td>16298</td>\n",
       "      <td>btb103</td>\n",
       "      <td>I just put my computer up on craigslist. I've ...</td>\n",
       "    </tr>\n",
       "    <tr>\n",
       "      <th>2</th>\n",
       "      <td>28505</td>\n",
       "      <td>anavil</td>\n",
       "      <td>in ten minutes shopping   demi lovato-back aro...</td>\n",
       "    </tr>\n",
       "    <tr>\n",
       "      <th>3</th>\n",
       "      <td>6689</td>\n",
       "      <td>ritwik1st</td>\n",
       "      <td>From twitterberry moved to ubertwitter - suffe...</td>\n",
       "    </tr>\n",
       "    <tr>\n",
       "      <th>4</th>\n",
       "      <td>26893</td>\n",
       "      <td>TightFreebies</td>\n",
       "      <td>@thriftymom TEAR*</td>\n",
       "    </tr>\n",
       "  </tbody>\n",
       "</table>\n",
       "</div>"
      ],
      "text/plain": [
       "      id         author                                            content\n",
       "0  32823       valicast                                       Good Morning\n",
       "1  16298         btb103  I just put my computer up on craigslist. I've ...\n",
       "2  28505         anavil  in ten minutes shopping   demi lovato-back aro...\n",
       "3   6689      ritwik1st  From twitterberry moved to ubertwitter - suffe...\n",
       "4  26893  TightFreebies                                  @thriftymom TEAR*"
      ]
     },
     "execution_count": 54,
     "metadata": {},
     "output_type": "execute_result"
    }
   ],
   "source": [
    "df_test = pd.read_csv(folder + \"test.csv\")\n",
    "df_test.head()"
   ]
  },
  {
   "cell_type": "code",
   "execution_count": 56,
   "metadata": {},
   "outputs": [
    {
     "data": {
      "text/html": [
       "<div>\n",
       "<style scoped>\n",
       "    .dataframe tbody tr th:only-of-type {\n",
       "        vertical-align: middle;\n",
       "    }\n",
       "\n",
       "    .dataframe tbody tr th {\n",
       "        vertical-align: top;\n",
       "    }\n",
       "\n",
       "    .dataframe thead th {\n",
       "        text-align: right;\n",
       "    }\n",
       "</style>\n",
       "<table border=\"1\" class=\"dataframe\">\n",
       "  <thead>\n",
       "    <tr style=\"text-align: right;\">\n",
       "      <th></th>\n",
       "      <th>id</th>\n",
       "      <th>sentiment</th>\n",
       "    </tr>\n",
       "  </thead>\n",
       "  <tbody>\n",
       "    <tr>\n",
       "      <th>0</th>\n",
       "      <td>32823</td>\n",
       "      <td>neutral</td>\n",
       "    </tr>\n",
       "    <tr>\n",
       "      <th>1</th>\n",
       "      <td>16298</td>\n",
       "      <td>neutral</td>\n",
       "    </tr>\n",
       "    <tr>\n",
       "      <th>2</th>\n",
       "      <td>28505</td>\n",
       "      <td>neutral</td>\n",
       "    </tr>\n",
       "    <tr>\n",
       "      <th>3</th>\n",
       "      <td>6689</td>\n",
       "      <td>neutral</td>\n",
       "    </tr>\n",
       "    <tr>\n",
       "      <th>4</th>\n",
       "      <td>26893</td>\n",
       "      <td>neutral</td>\n",
       "    </tr>\n",
       "  </tbody>\n",
       "</table>\n",
       "</div>"
      ],
      "text/plain": [
       "      id sentiment\n",
       "0  32823   neutral\n",
       "1  16298   neutral\n",
       "2  28505   neutral\n",
       "3   6689   neutral\n",
       "4  26893   neutral"
      ]
     },
     "execution_count": 56,
     "metadata": {},
     "output_type": "execute_result"
    }
   ],
   "source": [
    "df_sub  = pd.read_csv(folder + \"sampleSubmission.csv\")\n",
    "df_sub.head()"
   ]
  },
  {
   "cell_type": "code",
   "execution_count": 72,
   "metadata": {},
   "outputs": [
    {
     "data": {
      "text/plain": [
       "\"SupaDupaModel:{'C': 0.5736152510448679, 'author_max_features': 10, 'content_char_features': 5000, 'content_word_features': 30000, 'author_ngram': (1, 1), 'content_char_ngram': (1, 4), 'content_word_ngram': (1, 3)}\""
      ]
     },
     "execution_count": 72,
     "metadata": {},
     "output_type": "execute_result"
    }
   ],
   "source": [
    "clf = SupaDupaModel(**new_start_params)\n",
    "str(clf)"
   ]
  },
  {
   "cell_type": "code",
   "execution_count": 73,
   "metadata": {},
   "outputs": [
    {
     "data": {
      "text/plain": [
       "array(['neutral', 'neutral', 'love', ..., 'worry', 'worry', 'neutral'],\n",
       "      dtype=object)"
      ]
     },
     "execution_count": 73,
     "metadata": {},
     "output_type": "execute_result"
    }
   ],
   "source": [
    "clf.fit(df_train, y_train)\n",
    "prediction = clf.predict(df_test)\n",
    "prediction"
   ]
  },
  {
   "cell_type": "code",
   "execution_count": 75,
   "metadata": {},
   "outputs": [
    {
     "data": {
      "text/plain": [
       "True"
      ]
     },
     "execution_count": 75,
     "metadata": {},
     "output_type": "execute_result"
    }
   ],
   "source": [
    "(prediction == old_prediction).all()"
   ]
  },
  {
   "cell_type": "code",
   "execution_count": 71,
   "metadata": {},
   "outputs": [],
   "source": [
    "old_prediction = np.copy(prediction)"
   ]
  },
  {
   "cell_type": "code",
   "execution_count": 68,
   "metadata": {},
   "outputs": [
    {
     "data": {
      "text/html": [
       "<div>\n",
       "<style scoped>\n",
       "    .dataframe tbody tr th:only-of-type {\n",
       "        vertical-align: middle;\n",
       "    }\n",
       "\n",
       "    .dataframe tbody tr th {\n",
       "        vertical-align: top;\n",
       "    }\n",
       "\n",
       "    .dataframe thead th {\n",
       "        text-align: right;\n",
       "    }\n",
       "</style>\n",
       "<table border=\"1\" class=\"dataframe\">\n",
       "  <thead>\n",
       "    <tr style=\"text-align: right;\">\n",
       "      <th></th>\n",
       "      <th>id</th>\n",
       "      <th>sentiment</th>\n",
       "    </tr>\n",
       "  </thead>\n",
       "  <tbody>\n",
       "    <tr>\n",
       "      <th>0</th>\n",
       "      <td>32823</td>\n",
       "      <td>neutral</td>\n",
       "    </tr>\n",
       "    <tr>\n",
       "      <th>1</th>\n",
       "      <td>16298</td>\n",
       "      <td>neutral</td>\n",
       "    </tr>\n",
       "    <tr>\n",
       "      <th>2</th>\n",
       "      <td>28505</td>\n",
       "      <td>love</td>\n",
       "    </tr>\n",
       "    <tr>\n",
       "      <th>3</th>\n",
       "      <td>6689</td>\n",
       "      <td>neutral</td>\n",
       "    </tr>\n",
       "    <tr>\n",
       "      <th>4</th>\n",
       "      <td>26893</td>\n",
       "      <td>neutral</td>\n",
       "    </tr>\n",
       "  </tbody>\n",
       "</table>\n",
       "</div>"
      ],
      "text/plain": [
       "      id sentiment\n",
       "0  32823   neutral\n",
       "1  16298   neutral\n",
       "2  28505      love\n",
       "3   6689   neutral\n",
       "4  26893   neutral"
      ]
     },
     "execution_count": 68,
     "metadata": {},
     "output_type": "execute_result"
    }
   ],
   "source": [
    "df_sub.sentiment = prediction\n",
    "df_sub.head()"
   ]
  },
  {
   "cell_type": "code",
   "execution_count": 69,
   "metadata": {},
   "outputs": [],
   "source": [
    "df_sub.to_csv(\"sub.csv\", index=False)"
   ]
  },
  {
   "cell_type": "code",
   "execution_count": 70,
   "metadata": {},
   "outputs": [
    {
     "name": "stdout",
     "output_type": "stream",
     "text": [
      "id,sentiment\r\n",
      "32823,neutral\r\n",
      "16298,neutral\r\n",
      "28505,love\r\n",
      "6689,neutral\r\n",
      "cat: ошибка записи: Обрыв канала\r\n"
     ]
    }
   ],
   "source": [
    "!cat sub.csv | head -n 5\n"
   ]
  },
  {
   "cell_type": "markdown",
   "metadata": {},
   "source": [
    "______________________________\n",
    "<h1 align=\"center\">Теоретические задачи (20%)</h1> \n",
    "\n",
    "** Задача 1**\n",
    "Покажите, что регуляризатор в задаче линейной классификации имеет вероятностный смысл априорного распределения параметров моделей. Какие распределения задают 𝑙1-регуляризатор и 𝑙2-регуляризатор?"
   ]
  },
  {
   "cell_type": "markdown",
   "metadata": {},
   "source": [
    "$$\n",
    "Q = \\sum_{i=1}^{l} L(y_i, f(x_i)) + \\gamma V(w) \\rightarrow \\min\\limits_w \\\\\n",
    "-\\sum_{i=1}^{l} L(y_i, f(x_i)) - \\gamma V(w) \\rightarrow \\max\\limits_w \\\\\n",
    "\\sum_{i=1}^{l} \\ln{e^{-L(y_i, f(x_i))}} + \\ln{e^{-\\gamma V(w)}} \\rightarrow \\max\\limits_w \\\\\n",
    "$$ $$\n",
    "\\ln (\\prod_{i=1}^{l} e^{-L(y_i, f(x_i))} \\times e^{-\\gamma V(w)}) \\rightarrow \\max\\limits_w \\\\\n",
    "$$ $$\n",
    "e^{-\\gamma V(w)} \\times \\prod_{i=1}^{l} e^{-L(y_i, f(x_i))}  \\rightarrow \\max\\limits_w \\\\\n",
    "$$\n"
   ]
  },
  {
   "cell_type": "markdown",
   "metadata": {},
   "source": [
    "Собственно,написана максимизация правдоподобия с плотностью априорного распределения  $P = e^{-\\gamma V(w)}$ Выбирая $V(w) = \\gamma ||X||^2$ получим $$P = \\frac{1}{\\sqrt{2\\pi\\sigma^2}}e^{-\\frac{||X||^2}{2\\sigma^2}}$$ (константы связаны очевидным образом $\\gamma = \\frac{1}{2\\sigma^2} - \\log{\\frac{1}{\\sqrt{2\\pi\\sigma^2}}}$) - n-мерное гауссовское распределение.\n",
    "\n",
    "Для $V(w) = \\gamma ||X||$ получим $$P = \\frac{1}{(2C)^n}e^{-\\frac{||X||}{C}}$$ - n-мерное распределение Лапласа.\n",
    "\n",
    "Собственно, переход можно провести и наоборот: прологарифмировать фукнцию правдоподобия с данными априорными распределениями."
   ]
  },
  {
   "cell_type": "markdown",
   "metadata": {},
   "source": [
    "** Задача 2**\n",
    "Покажите, что в случае линейно разделимой выборки функционал, максимизируемый при обучении логистической регрессии, достигает своего максимума в бесконечности (при бесконечно больших значениях компонент вектора весов), а значит для процесса обучения необходимо добавить регуляризационный член."
   ]
  },
  {
   "cell_type": "markdown",
   "metadata": {},
   "source": [
    "$$ L(w, X, y) = \\sum_{i = 0}^{N} log (1 + exp(-y_ix_i^Tw))$$\n",
    "\n",
    "$$ L'(w, X, y) = \\sum \\frac{e ^ {-yX_i^Tw}}{1 + e ^ {-yX_i^Tw} }  (-yX_i^T)$$\n",
    "$$ L'(w, X, y)  = \\sum ( \\frac{-yX_i^T}{1 + e ^ {+yX_i^Tw} })$$\n",
    "\n",
    "При линейной разделимости к некоторому моменту реальные классы y и прогнозируемые x_i^Tw будут совпадать, так что в последней производно знаменатель будет константой. Числитель, очевидно, тоже константа, поэтому т.к. производная постоянная ненулевая максимум будет в бесконечности."
   ]
  },
  {
   "cell_type": "markdown",
   "metadata": {},
   "source": [
    "** Задача 3**\n",
    "Задана выборка объектов, каждый из которых принадлежит одному из двух классов $Y = \\{1; -1\\}$. В некотором спрямляющем пространстве, задаваемом ядром $K_1(x_1; x_2)$, эта выборка является линейно разделимой, а в некотором спрямляющем пространстве, задаваемом ядром $K_2(x_1; x_2)$, не является линейно разделимой. Существует ли спрямляемое пространство, задаваемое ядром $K(x_1; x_2) = K_1(x_1; x_2) + K_2(x_1; x_2)$, в котором эта выборка будет линейно разделимой?"
   ]
  },
  {
   "cell_type": "markdown",
   "metadata": {},
   "source": [
    "Да, существует.\n",
    "\n",
    "$$\n",
    "K_1(x_1, x_2) := (\\varphi_1(x_1), \\varphi_1(x_2)) \\\\\n",
    "K_2(x_1, x_2) := (\\varphi_2(x_1), \\varphi_2(x_2)) \\\\\n",
    "$$\n",
    "\n",
    "Функции $\\varphi_i$ переводят векторы признаков в спрямляющее пространство $H_i$ в котором можно выбрать базис ${e_j^i}$.  Соответственно, можно рассмотреть функцию $\\varphi$, которая переводит векторы признаков в спрямляющее пространство $H$ так, что  чётные координаты вектора в $H$ задаются координатами вектора $H_2$, а нечётные $H_1$. В качестве скалярного произведения в $H$ возьмём сумму скалярных произведений. Легко проверить, что это действительно скалярное произведение по определению. Таким образом, $H$ - гильбертово, причём можно считать, для любого вектора $\\varphi(x)$ вектор $\\varphi_1(x)$ является его проекцией (на нечётные координаты). Тогда если выборка была линейно разделимой в $H_1$, то она и осталась линейно разделимой, т.к. если разделимы проекции, то разделимы и сами обьекты."
   ]
  },
  {
   "cell_type": "markdown",
   "metadata": {},
   "source": [
    "** Задача 4**\n",
    "Покажите, что если предварительно центрировать выборку в задаче линейной регрессии, то параметр сдвига $𝑤_0$ (коэффициент перед константой) получится равным нулю."
   ]
  },
  {
   "cell_type": "markdown",
   "metadata": {},
   "source": [
    "По определению линейной модели:\n",
    "$$y_j = \\sum_{i=1}^{n} x_{j, i} w_i + w_0 +\\varepsilon_j; E(\\varepsilon) = 0$$\n",
    "\n",
    "$$\\hat{y_j} = y_j- \\frac{1}{n}\\sum y_j = \\sum_{i=1}^{n} x_{j, i} w_i + w_0 +\\varepsilon_j - \\frac{1}{n} \\sum\\limits_j (\\sum_{i=1}^{n} x_{j, i} w_i + w_0 +\\varepsilon_j) = \\\\\n",
    "= \\sum_{i=1}^{n} x_{j, i} w_i + w_0 +\\varepsilon_j - \\frac{n w_0}{n} - \\frac{1}{n} \\sum\\limits_j (\\sum_{i=1}^{n} x_{j, i} w_i +\\varepsilon_j) = \\\\\n",
    "= \\sum_{i=1}^{n} x_{j, i} w_i + \\varepsilon_j - \\frac{1}{n} \\sum\\limits_j (\\sum_{i=1}^{n} x_{j, i} w_i +\\varepsilon_j) = \n",
    "\\sum_{i=1}^{n} (...) w_i + \\hat{\\varepsilon_j} \n",
    "$$\n"
   ]
  },
  {
   "cell_type": "code",
   "execution_count": null,
   "metadata": {},
   "outputs": [],
   "source": []
  }
 ],
 "metadata": {
  "kernelspec": {
   "display_name": "Python 3",
   "language": "python",
   "name": "python3"
  },
  "language_info": {
   "codemirror_mode": {
    "name": "ipython",
    "version": 3
   },
   "file_extension": ".py",
   "mimetype": "text/x-python",
   "name": "python",
   "nbconvert_exporter": "python",
   "pygments_lexer": "ipython3",
   "version": "3.6.4"
  }
 },
 "nbformat": 4,
 "nbformat_minor": 1
}
