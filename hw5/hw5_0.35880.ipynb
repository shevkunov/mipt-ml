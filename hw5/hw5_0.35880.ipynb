{
 "cells": [
  {
   "cell_type": "markdown",
   "metadata": {},
   "source": [
    "<span style=\"font-size: 14pt\">MIPT, Advanced ML, Spring 2018</span>\n",
    "\n",
    "<span style=\"font-size: 16pt\"> HW #5: Linear Models \n",
    "\n",
    "<span style=\"color:blue; font-size: 12pt\">Alexey Romanenko </span>,\n",
    "<span style=\"color:blue; font-size: 12pt; font-family: 'Verdana'\"> alexromsput@gmail.com</span>\n"
   ]
  },
  {
   "cell_type": "markdown",
   "metadata": {},
   "source": [
    "<h1 align=\"center\">Organization Info</h1> \n",
    "\n",
    "* Дедлайн **11 апреля 2018 02:59** для всех групп.\n",
    "* В качестве решения задания нужно прислать ноутбук с подробными комментариями (<span style='color:red'> без присланного решения результат контеста не будет засчитан </span>).\n",
    "* <span style='color:red'>Название команды в контесте должно соответствовать шаблону: НомерГруппы_Имя_Фамилия, например, 594_Ivan_Ivanov</span>."
   ]
  },
  {
   "cell_type": "markdown",
   "metadata": {},
   "source": [
    "**Оформление дз**: \n",
    "- Присылайте выполненное задание на почту ``ml.course.mipt@gmail.com``\n",
    "- Укажите тему письма в следующем формате ``ML2018_fall_<номер_группы>_<фамилия>``, к примеру -- ``ML2018_fall_495_ivanov``\n",
    "- Выполненное дз сохраните в файл ``<фамилия>_<группа>_task<номер>.ipnb, к примеру`` -- ``ivanov_401_task5.ipnb``\n",
    "\n",
    "**Вопросы**:\n",
    "- Присылайте вопросы на почту ``ml.course.mipt@gmail.com``\n",
    "- Укажите тему письма в следующем формате ``ML2018_fall Question <Содержание вопроса>``\n",
    "\n",
    "\n",
    "--------\n",
    "- **PS1:** Используются автоматические фильтры, и просто не найдем ваше дз, если вы неаккуратно его подпишите.\n",
    "- **PS2:**  Просроченный дедлайн снижает максимальный вес задания по формуле, указнной на первом семинаре\n",
    "- **PS3:** Допустимы исправление кода предложенного кода ниже, если вы считаете"
   ]
  },
  {
   "cell_type": "markdown",
   "metadata": {},
   "source": [
    "<h1 align=\"center\">Check Questions </h1> "
   ]
  },
  {
   "cell_type": "markdown",
   "metadata": {},
   "source": [
    "Ниже приводится список вопросов, с ответами на которые может быть полезно разобраться\n",
    "для понимания темы.\n",
    "\n",
    "**1.** Как выглядит решающее правило в линейной классификации? А зависимость, которой мы приближаем ответы в линейной регрессии?\n",
    "\n",
    "**2.** Что такое функции потерь в задачах классификации и регрессии? Зачем они нужны?\n",
    "\n",
    "**3.** Что такое регуляризаторы? Какими они бывают в задачах линейной классификации и регрессии? Зачем они нужны?\n",
    "\n",
    "**4.** Как в общем виде выглядит оптимизационная задача в линейной классификации или линейной регрессии?\n",
    "\n",
    "**5.** Как работает настройка весов в линейной модели с помощью SGD (Stochastic Gradient Decent)? Как выглядит правило обновления весов?\n",
    "\n",
    "**6.** Учитывается ли коэффициент сдвига w0 в регуляризаторе? Почему?\n",
    "\n",
    "**7.** Почему линейные модели рекомендуется применять к выборке с нормированными значениями признаков?\n",
    "\n",
    "**8.** Как выглядит оптимизационная задача в логистической регрессии? А в SVM?\n",
    "\n",
    "**9.** Выпишите и докажите формулу для весов в линейной регрессии (с квадратичной функцией потерь).\n",
    "То же самое для гребневой регрессии.\n",
    "\n",
    "**10.** Выпишите SGD для логистической регрессии с $l2$-регуляризацией и для SVM с линейным ядром.\n",
    "\n",
    "**11.** В чем заключается идея ядер в SVM?\n",
    "\n",
    "**12.** Какие преимущества и недостатки есть у линейных моделей?\n",
    "\n",
    "**13.** На какие 3 матрицы раскладывается произвольная матрица при SVD? Что такое сингулярные числа"
   ]
  },
  {
   "cell_type": "markdown",
   "metadata": {},
   "source": [
    "________________________________\n",
    "\n"
   ]
  },
  {
   "cell_type": "code",
   "execution_count": 1,
   "metadata": {},
   "outputs": [],
   "source": [
    "import re\n",
    "import numpy as np\n",
    "import pandas as pd\n",
    "import scipy\n",
    "\n",
    "from sklearn.linear_model import SGDClassifier\n",
    "from sklearn.svm import SVC, LinearSVC\n",
    "from sklearn.linear_model import LogisticRegression\n",
    "\n",
    "from sklearn.metrics import accuracy_score, roc_auc_score\n",
    "from sklearn.model_selection import cross_val_score, GridSearchCV, RandomizedSearchCV, ShuffleSplit, StratifiedKFold\n",
    "\n",
    "from sklearn.preprocessing import normalize\n",
    "from sklearn.feature_extraction.text import TfidfVectorizer\n",
    "from sklearn.model_selection import train_test_split\n",
    "%matplotlib inline"
   ]
  },
  {
   "cell_type": "markdown",
   "metadata": {},
   "source": [
    "<h1 align=\"center\">Contest 1 (40%)</h1> \n",
    "** Ссылка на контест: ** https://www.kaggle.com/t/68e2660e41d94d64a3c2251a1df16ab3"
   ]
  },
  {
   "cell_type": "markdown",
   "metadata": {},
   "source": [
    "# Критерии оценивания\n",
    "Для того чтобы получить оценку нужно\n",
    "* 1) прислать код вашей модели (можно использовать только линейные модели), которая выдает один из финальных сабмиттов.\n",
    "* 2) чтобы получить\n",
    "    - хор (5)  и выше нужно превзойти результат benchmark_1;\n",
    "    - отл (8) и выше нужно превзойти результат benchmark_2;\n",
    "* 3) Ваше имя в лидерборде должно иметь вид <НомерГруппы>\\_Имя\\_Фамилия, например: 594\\_Иван\\_Иванов. Если имя не будет соответствовать формату организаторы вправе снизить оценку."
   ]
  },
  {
   "cell_type": "code",
   "execution_count": 2,
   "metadata": {},
   "outputs": [],
   "source": [
    "# your code here"
   ]
  },
  {
   "cell_type": "markdown",
   "metadata": {},
   "source": [
    "<h1 align=\"center\">Contest 2 (40%)</h1> \n",
    "* Ссылка на контест: https://www.kaggle.com/t/2343d1882c6842258e3825b4a8a1e5a8\n",
    "\n",
    "# Критерии оценивания\n",
    "Для того чтобы получить оценку нужно\n",
    "* 1) Прислать код вашей модели, которая выдает один из финальных сабмиттов.\n",
    "* 2) чтобы получить\n",
    "    - хор (5)  и выше нужно превзойти результат benchmark_1;\n",
    "    - отл (8) и выше нужно превзойти результат benchmark_2;\n",
    "* 3) Ваше имя в лидерборде должно иметь вид <НомерГруппы>\\_Имя\\_Фамилия, например: 594\\_Иван\\_Иванов. Если имя не будет соответствовать формату организаторы вправе снизить оценку."
   ]
  },
  {
   "cell_type": "markdown",
   "metadata": {},
   "source": [
    "### Loading train"
   ]
  },
  {
   "cell_type": "code",
   "execution_count": 3,
   "metadata": {},
   "outputs": [
    {
     "name": "stdout",
     "output_type": "stream",
     "text": [
      "sampleSubmission.csv  test.csv\ttrain.csv\r\n"
     ]
    }
   ],
   "source": [
    "folder = \"~/workspace/datasets/ml-mipt-spring2018-hw5-v2/\"\n",
    "!ls $folder"
   ]
  },
  {
   "cell_type": "code",
   "execution_count": 4,
   "metadata": {},
   "outputs": [
    {
     "data": {
      "text/html": [
       "<div>\n",
       "<style scoped>\n",
       "    .dataframe tbody tr th:only-of-type {\n",
       "        vertical-align: middle;\n",
       "    }\n",
       "\n",
       "    .dataframe tbody tr th {\n",
       "        vertical-align: top;\n",
       "    }\n",
       "\n",
       "    .dataframe thead th {\n",
       "        text-align: right;\n",
       "    }\n",
       "</style>\n",
       "<table border=\"1\" class=\"dataframe\">\n",
       "  <thead>\n",
       "    <tr style=\"text-align: right;\">\n",
       "      <th></th>\n",
       "      <th>Unnamed: 0</th>\n",
       "      <th>author</th>\n",
       "      <th>content</th>\n",
       "      <th>sentiment</th>\n",
       "    </tr>\n",
       "  </thead>\n",
       "  <tbody>\n",
       "    <tr>\n",
       "      <th>0</th>\n",
       "      <td>26898</td>\n",
       "      <td>richardepryor</td>\n",
       "      <td>@treasaint salad stuff, some chillis, whatever...</td>\n",
       "      <td>happiness</td>\n",
       "    </tr>\n",
       "    <tr>\n",
       "      <th>1</th>\n",
       "      <td>27635</td>\n",
       "      <td>reese</td>\n",
       "      <td>@sunnyjamiel sunny, I'm a workin' on it. It's ...</td>\n",
       "      <td>neutral</td>\n",
       "    </tr>\n",
       "    <tr>\n",
       "      <th>2</th>\n",
       "      <td>3036</td>\n",
       "      <td>mutedriposte</td>\n",
       "      <td>@jolynnchew so early??</td>\n",
       "      <td>surprise</td>\n",
       "    </tr>\n",
       "    <tr>\n",
       "      <th>3</th>\n",
       "      <td>5604</td>\n",
       "      <td>sakizzie_1102</td>\n",
       "      <td>So now, I have conjunctivitis in my left eye. ...</td>\n",
       "      <td>sadness</td>\n",
       "    </tr>\n",
       "    <tr>\n",
       "      <th>4</th>\n",
       "      <td>36111</td>\n",
       "      <td>poptrash</td>\n",
       "      <td>Out and about in Deal, Kent. More sunshine req...</td>\n",
       "      <td>love</td>\n",
       "    </tr>\n",
       "  </tbody>\n",
       "</table>\n",
       "</div>"
      ],
      "text/plain": [
       "   Unnamed: 0         author  \\\n",
       "0       26898  richardepryor   \n",
       "1       27635          reese   \n",
       "2        3036   mutedriposte   \n",
       "3        5604  sakizzie_1102   \n",
       "4       36111       poptrash   \n",
       "\n",
       "                                             content  sentiment  \n",
       "0  @treasaint salad stuff, some chillis, whatever...  happiness  \n",
       "1  @sunnyjamiel sunny, I'm a workin' on it. It's ...    neutral  \n",
       "2                             @jolynnchew so early??   surprise  \n",
       "3  So now, I have conjunctivitis in my left eye. ...    sadness  \n",
       "4  Out and about in Deal, Kent. More sunshine req...       love  "
      ]
     },
     "execution_count": 4,
     "metadata": {},
     "output_type": "execute_result"
    }
   ],
   "source": [
    "df_train = pd.read_csv(folder + \"train.csv\")\n",
    "df_train.head()"
   ]
  },
  {
   "cell_type": "code",
   "execution_count": 5,
   "metadata": {},
   "outputs": [
    {
     "name": "stdout",
     "output_type": "stream",
     "text": [
      "['anger', 'boredom', 'empty', 'enthusiasm', 'fun', 'happiness', 'hate', 'love', 'neutral', 'relief', 'sadness', 'surprise', 'worry']\n"
     ]
    }
   ],
   "source": [
    "labels = list(np.unique(df_train.sentiment))\n",
    "print(labels)"
   ]
  },
  {
   "cell_type": "code",
   "execution_count": 6,
   "metadata": {},
   "outputs": [
    {
     "data": {
      "text/plain": [
       "array([0.00276667, 0.00453333, 0.0208    , 0.0185    , 0.04516667,\n",
       "       0.1307    , 0.03303333, 0.0967    , 0.21516667, 0.03636667,\n",
       "       0.12836667, 0.0557    , 0.2122    ])"
      ]
     },
     "execution_count": 6,
     "metadata": {},
     "output_type": "execute_result"
    }
   ],
   "source": [
    "np.unique(df_train.sentiment, return_counts=True)[1] / len(df_train)"
   ]
  },
  {
   "cell_type": "code",
   "execution_count": 7,
   "metadata": {},
   "outputs": [
    {
     "data": {
      "text/plain": [
       "(26148, 30000)"
      ]
     },
     "execution_count": 7,
     "metadata": {},
     "output_type": "execute_result"
    }
   ],
   "source": [
    "len(np.unique(df_train.author)), len(df_train)"
   ]
  },
  {
   "cell_type": "code",
   "execution_count": 8,
   "metadata": {},
   "outputs": [],
   "source": [
    "y_train = df_train.sentiment.values"
   ]
  },
  {
   "cell_type": "code",
   "execution_count": 63,
   "metadata": {},
   "outputs": [],
   "source": [
    "class SupaDupaModel:\n",
    "    def __init__(self, C = 1.0,\n",
    "                 author_max_features = 1000,\n",
    "                 content_char_features = 10000,\n",
    "                 content_word_features = 10000,\n",
    "                 author_ngram = (1, 3),\n",
    "                 content_char_ngram = (1, 5),\n",
    "                 content_word_ngram = (1, 5),\n",
    "                ):\n",
    "        self.C = C\n",
    "        self.author_max_features = author_max_features\n",
    "        self.content_char_features = content_char_features\n",
    "        self.content_word_features = content_word_features\n",
    "        self.author_ngram = author_ngram\n",
    "        self.content_char_ngram = content_char_ngram\n",
    "        self.content_word_ngram = content_word_ngram\n",
    "        \n",
    "        \n",
    "    def fit(self, df, y):\n",
    "        self.clf = LogisticRegression(C = self.C)\n",
    "        \n",
    "        self.author_vect = TfidfVectorizer(lowercase=False,\n",
    "                                           analyzer=\"char\",\n",
    "                                           ngram_range=self.author_ngram,\n",
    "                                           max_features=self.author_max_features)\n",
    "        self.author_vect.fit(df.author)\n",
    "\n",
    "        \n",
    "        self.content_char_vect = TfidfVectorizer(stop_words=\"english\",\n",
    "                                                 analyzer=\"char\",\n",
    "                                                 ngram_range=self.content_char_ngram,\n",
    "                                                 max_features=self.content_char_features)\n",
    "        self.content_char_vect.fit(df.content)\n",
    "\n",
    "        \n",
    "        self.content_word_vect = TfidfVectorizer(stop_words=\"english\",\n",
    "                                                 analyzer=\"word\",\n",
    "                                                 ngram_range=self.content_word_ngram,\n",
    "                                                 max_features=self.content_word_features)\n",
    "        self.content_word_vect.fit(df.content)\n",
    "        \n",
    "        f_author = self.author_vect.transform(df.author)\n",
    "        f_content_char = self.content_char_vect.transform(df.content)\n",
    "        f_content_word = self.content_word_vect.transform(df.content)\n",
    "        f_train = scipy.sparse.hstack([f_author, f_content_char, f_content_word])\n",
    "        \n",
    "        self.clf.fit(f_train, y)\n",
    "        return self\n",
    "    \n",
    "    def predict(self, df):\n",
    "        f_test_author = self.author_vect.transform(df.author)\n",
    "        f_test_content_char = self.content_char_vect.transform(df.content)\n",
    "        f_test_content_word = self.content_word_vect.transform(df.content)\n",
    "        f_test = scipy.sparse.hstack([f_test_author, f_test_content_char, f_test_content_word])\n",
    "\n",
    "        return self.clf.predict(f_test)\n",
    "    \n",
    "    def get_params(self, deep=False):\n",
    "        return {\n",
    "            \"C\" : self.C, \n",
    "            \"author_max_features\" : self.author_max_features,\n",
    "            \"content_char_features\" : self.content_char_features,\n",
    "            \"content_word_features\" : self.content_word_features,\n",
    "            \"author_ngram\" : self.author_ngram,\n",
    "            \"content_char_ngram\" : self.content_char_ngram,\n",
    "            \"content_word_ngram\" : self.content_word_ngram, \n",
    "        }\n",
    "    \n",
    "    def set_params(self, **params):\n",
    "        self.__init__(**params)\n",
    "        return self\n",
    "    \n",
    "    def __str__(self):\n",
    "        return \"SupaDupaModel:\" + str(self.get_params())"
   ]
  },
  {
   "cell_type": "code",
   "execution_count": 49,
   "metadata": {},
   "outputs": [],
   "source": [
    "class MagicSearch:\n",
    "    def __init__(self, clf, params, start_params, iters, logfile,\n",
    "                 gscv_verbose=10, gscv_n_jobs=4, gscv_scoring=\"accuracy\",\n",
    "                 gscv_cv = StratifiedKFold(n_splits=3, shuffle=True)):\n",
    "        self.clf = clf\n",
    "        self.params = params\n",
    "        self.params_names = list(params.keys())\n",
    "        self.start_params = start_params\n",
    "        self.iters = iters\n",
    "        self.logfile = logfile\n",
    "        \n",
    "        self.gscv_verbose = gscv_verbose\n",
    "        self.gscv_n_jobs = gscv_n_jobs\n",
    "        self.gscv_scoring = gscv_scoring\n",
    "        self.gscv_cv = gscv_cv\n",
    "        \n",
    "        \n",
    "    def log(self, msg):\n",
    "        print(msg)\n",
    "        with open(self.logfile, \"a\") as f:\n",
    "            f.write(msg + \"\\n\")\n",
    "        \n",
    "    def fit(self, X, y):\n",
    "        for i in range(self.iters):\n",
    "            params_gscv = {}\n",
    "            for key in start_params:\n",
    "                params_gscv[key] = [start_params[key]]\n",
    "\n",
    "            parameter_to_fit = np.random.randint(len(params))\n",
    "            name_to_fit = self.params_names[parameter_to_fit]\n",
    "            params_gscv[name_to_fit] = params[name_to_fit]\n",
    "\n",
    "            self.log(\"\\nIteration {}. Fitting with params {}\".format(i, params_gscv))\n",
    "\n",
    "\n",
    "            gscv = GridSearchCV(self.clf, params_gscv,\n",
    "                                verbose=self.gscv_verbose, n_jobs=self.gscv_n_jobs, scoring=self.gscv_scoring,\n",
    "                                cv = self.gscv_cv)\n",
    "            gscv.fit(X, y)\n",
    "\n",
    "            self.log(\"Iteration {}. Best: {}, {}\".format(i, gscv.best_params_, gscv.best_score_))\n",
    "            self.start_params[name_to_fit] = gscv.best_params_[name_to_fit]\n",
    "            self.log(\"Iteration {}. New start params: {}\".format(i, self.start_params))\n",
    "        return self.start_params"
   ]
  },
  {
   "cell_type": "markdown",
   "metadata": {},
   "source": [
    "### Cross val"
   ]
  },
  {
   "cell_type": "code",
   "execution_count": 51,
   "metadata": {
    "scrolled": true
   },
   "outputs": [
    {
     "name": "stdout",
     "output_type": "stream",
     "text": [
      "\n",
      "Iteration 0. Fitting with params {'C': [0.31622776601683794], 'author_max_features': [10], 'author_ngram': [(1, 1)], 'content_char_features': [10, 100, 300, 500, 700, 1000, 3000, 5000, 7000, 10000, 15000, 20000, 25000, 30000], 'content_char_ngram': [(1, 4)], 'content_word_features': [10000], 'content_word_ngram': [(1, 3)]}\n",
      "Fitting 3 folds for each of 14 candidates, totalling 42 fits\n",
      "[CV] C=0.31622776601683794, author_max_features=10, author_ngram=(1, 1), content_char_features=10, content_char_ngram=(1, 4), content_word_features=10000, content_word_ngram=(1, 3) \n",
      "[CV] C=0.31622776601683794, author_max_features=10, author_ngram=(1, 1), content_char_features=10, content_char_ngram=(1, 4), content_word_features=10000, content_word_ngram=(1, 3) \n",
      "[CV] C=0.31622776601683794, author_max_features=10, author_ngram=(1, 1), content_char_features=10, content_char_ngram=(1, 4), content_word_features=10000, content_word_ngram=(1, 3) \n",
      "[CV] C=0.31622776601683794, author_max_features=10, author_ngram=(1, 1), content_char_features=100, content_char_ngram=(1, 4), content_word_features=10000, content_word_ngram=(1, 3) \n",
      "[CV]  C=0.31622776601683794, author_max_features=10, author_ngram=(1, 1), content_char_features=10, content_char_ngram=(1, 4), content_word_features=10000, content_word_ngram=(1, 3), score=0.3367989603119064, total=  13.2s\n",
      "[CV] C=0.31622776601683794, author_max_features=10, author_ngram=(1, 1), content_char_features=100, content_char_ngram=(1, 4), content_word_features=10000, content_word_ngram=(1, 3) \n",
      "[CV]  C=0.31622776601683794, author_max_features=10, author_ngram=(1, 1), content_char_features=10, content_char_ngram=(1, 4), content_word_features=10000, content_word_ngram=(1, 3), score=0.3337666233376662, total=  13.6s\n",
      "[CV] C=0.31622776601683794, author_max_features=10, author_ngram=(1, 1), content_char_features=100, content_char_ngram=(1, 4), content_word_features=10000, content_word_ngram=(1, 3) \n",
      "[CV]  C=0.31622776601683794, author_max_features=10, author_ngram=(1, 1), content_char_features=10, content_char_ngram=(1, 4), content_word_features=10000, content_word_ngram=(1, 3), score=0.33913565426170467, total=  13.6s\n",
      "[CV] C=0.31622776601683794, author_max_features=10, author_ngram=(1, 1), content_char_features=300, content_char_ngram=(1, 4), content_word_features=10000, content_word_ngram=(1, 3) \n",
      "[CV]  C=0.31622776601683794, author_max_features=10, author_ngram=(1, 1), content_char_features=100, content_char_ngram=(1, 4), content_word_features=10000, content_word_ngram=(1, 3), score=0.35009497150854746, total=  15.5s\n",
      "[CV] C=0.31622776601683794, author_max_features=10, author_ngram=(1, 1), content_char_features=300, content_char_ngram=(1, 4), content_word_features=10000, content_word_ngram=(1, 3) \n",
      "[CV]  C=0.31622776601683794, author_max_features=10, author_ngram=(1, 1), content_char_features=100, content_char_ngram=(1, 4), content_word_features=10000, content_word_ngram=(1, 3), score=0.34436556344365565, total=  17.1s\n",
      "[CV] C=0.31622776601683794, author_max_features=10, author_ngram=(1, 1), content_char_features=300, content_char_ngram=(1, 4), content_word_features=10000, content_word_ngram=(1, 3) \n"
     ]
    },
    {
     "name": "stderr",
     "output_type": "stream",
     "text": [
      "[Parallel(n_jobs=4)]: Done   5 tasks      | elapsed:   35.8s\n"
     ]
    },
    {
     "name": "stdout",
     "output_type": "stream",
     "text": [
      "[CV]  C=0.31622776601683794, author_max_features=10, author_ngram=(1, 1), content_char_features=100, content_char_ngram=(1, 4), content_word_features=10000, content_word_ngram=(1, 3), score=0.35334133653461386, total=  17.1s\n",
      "[CV] C=0.31622776601683794, author_max_features=10, author_ngram=(1, 1), content_char_features=500, content_char_ngram=(1, 4), content_word_features=10000, content_word_ngram=(1, 3) \n",
      "[CV]  C=0.31622776601683794, author_max_features=10, author_ngram=(1, 1), content_char_features=300, content_char_ngram=(1, 4), content_word_features=10000, content_word_ngram=(1, 3), score=0.3579926022193342, total=  19.3s\n",
      "[CV] C=0.31622776601683794, author_max_features=10, author_ngram=(1, 1), content_char_features=500, content_char_ngram=(1, 4), content_word_features=10000, content_word_ngram=(1, 3) \n",
      "[CV]  C=0.31622776601683794, author_max_features=10, author_ngram=(1, 1), content_char_features=300, content_char_ngram=(1, 4), content_word_features=10000, content_word_ngram=(1, 3), score=0.34896510348965104, total=  18.4s\n",
      "[CV] C=0.31622776601683794, author_max_features=10, author_ngram=(1, 1), content_char_features=500, content_char_ngram=(1, 4), content_word_features=10000, content_word_ngram=(1, 3) \n",
      "[CV]  C=0.31622776601683794, author_max_features=10, author_ngram=(1, 1), content_char_features=300, content_char_ngram=(1, 4), content_word_features=10000, content_word_ngram=(1, 3), score=0.3552420968387355, total=  19.8s\n",
      "[CV] C=0.31622776601683794, author_max_features=10, author_ngram=(1, 1), content_char_features=700, content_char_ngram=(1, 4), content_word_features=10000, content_word_ngram=(1, 3) \n",
      "[CV]  C=0.31622776601683794, author_max_features=10, author_ngram=(1, 1), content_char_features=500, content_char_ngram=(1, 4), content_word_features=10000, content_word_ngram=(1, 3), score=0.3582925122463261, total=  20.7s\n",
      "[CV] C=0.31622776601683794, author_max_features=10, author_ngram=(1, 1), content_char_features=700, content_char_ngram=(1, 4), content_word_features=10000, content_word_ngram=(1, 3) \n"
     ]
    },
    {
     "name": "stderr",
     "output_type": "stream",
     "text": [
      "[Parallel(n_jobs=4)]: Done  10 tasks      | elapsed:  1.0min\n"
     ]
    },
    {
     "name": "stdout",
     "output_type": "stream",
     "text": [
      "[CV]  C=0.31622776601683794, author_max_features=10, author_ngram=(1, 1), content_char_features=500, content_char_ngram=(1, 4), content_word_features=10000, content_word_ngram=(1, 3), score=0.3491650834916508, total=  21.1s\n",
      "[CV] C=0.31622776601683794, author_max_features=10, author_ngram=(1, 1), content_char_features=700, content_char_ngram=(1, 4), content_word_features=10000, content_word_ngram=(1, 3) \n",
      "[CV]  C=0.31622776601683794, author_max_features=10, author_ngram=(1, 1), content_char_features=500, content_char_ngram=(1, 4), content_word_features=10000, content_word_ngram=(1, 3), score=0.3581432573029212, total=  20.9s\n",
      "[CV] C=0.31622776601683794, author_max_features=10, author_ngram=(1, 1), content_char_features=1000, content_char_ngram=(1, 4), content_word_features=10000, content_word_ngram=(1, 3) \n",
      "[CV]  C=0.31622776601683794, author_max_features=10, author_ngram=(1, 1), content_char_features=700, content_char_ngram=(1, 4), content_word_features=10000, content_word_ngram=(1, 3), score=0.3594921523542937, total=  22.0s\n",
      "[CV] C=0.31622776601683794, author_max_features=10, author_ngram=(1, 1), content_char_features=1000, content_char_ngram=(1, 4), content_word_features=10000, content_word_ngram=(1, 3) \n",
      "[CV]  C=0.31622776601683794, author_max_features=10, author_ngram=(1, 1), content_char_features=700, content_char_ngram=(1, 4), content_word_features=10000, content_word_ngram=(1, 3), score=0.35156484351564843, total=  22.1s\n",
      "[CV] C=0.31622776601683794, author_max_features=10, author_ngram=(1, 1), content_char_features=1000, content_char_ngram=(1, 4), content_word_features=10000, content_word_ngram=(1, 3) \n",
      "[CV]  C=0.31622776601683794, author_max_features=10, author_ngram=(1, 1), content_char_features=700, content_char_ngram=(1, 4), content_word_features=10000, content_word_ngram=(1, 3), score=0.35784313725490197, total=  22.8s\n",
      "[CV] C=0.31622776601683794, author_max_features=10, author_ngram=(1, 1), content_char_features=3000, content_char_ngram=(1, 4), content_word_features=10000, content_word_ngram=(1, 3) \n",
      "[CV]  C=0.31622776601683794, author_max_features=10, author_ngram=(1, 1), content_char_features=1000, content_char_ngram=(1, 4), content_word_features=10000, content_word_ngram=(1, 3), score=0.36269119264220734, total=  22.6s\n",
      "[CV] C=0.31622776601683794, author_max_features=10, author_ngram=(1, 1), content_char_features=3000, content_char_ngram=(1, 4), content_word_features=10000, content_word_ngram=(1, 3) \n",
      "[CV]  C=0.31622776601683794, author_max_features=10, author_ngram=(1, 1), content_char_features=1000, content_char_ngram=(1, 4), content_word_features=10000, content_word_ngram=(1, 3), score=0.3534646535346465, total=  22.8s\n",
      "[CV] C=0.31622776601683794, author_max_features=10, author_ngram=(1, 1), content_char_features=3000, content_char_ngram=(1, 4), content_word_features=10000, content_word_ngram=(1, 3) \n"
     ]
    },
    {
     "name": "stderr",
     "output_type": "stream",
     "text": [
      "[Parallel(n_jobs=4)]: Done  17 tasks      | elapsed:  1.8min\n"
     ]
    },
    {
     "name": "stdout",
     "output_type": "stream",
     "text": [
      "[CV]  C=0.31622776601683794, author_max_features=10, author_ngram=(1, 1), content_char_features=1000, content_char_ngram=(1, 4), content_word_features=10000, content_word_ngram=(1, 3), score=0.359343737494998, total=  23.3s\n",
      "[CV] C=0.31622776601683794, author_max_features=10, author_ngram=(1, 1), content_char_features=5000, content_char_ngram=(1, 4), content_word_features=10000, content_word_ngram=(1, 3) \n",
      "[CV]  C=0.31622776601683794, author_max_features=10, author_ngram=(1, 1), content_char_features=3000, content_char_ngram=(1, 4), content_word_features=10000, content_word_ngram=(1, 3), score=0.36199140257922624, total=  25.7s\n",
      "[CV] C=0.31622776601683794, author_max_features=10, author_ngram=(1, 1), content_char_features=5000, content_char_ngram=(1, 4), content_word_features=10000, content_word_ngram=(1, 3) \n",
      "[CV]  C=0.31622776601683794, author_max_features=10, author_ngram=(1, 1), content_char_features=3000, content_char_ngram=(1, 4), content_word_features=10000, content_word_ngram=(1, 3), score=0.3565643435656434, total=  25.7s\n",
      "[CV] C=0.31622776601683794, author_max_features=10, author_ngram=(1, 1), content_char_features=5000, content_char_ngram=(1, 4), content_word_features=10000, content_word_ngram=(1, 3) \n",
      "[CV]  C=0.31622776601683794, author_max_features=10, author_ngram=(1, 1), content_char_features=3000, content_char_ngram=(1, 4), content_word_features=10000, content_word_ngram=(1, 3), score=0.35984393757503, total=  24.2s\n",
      "[CV] C=0.31622776601683794, author_max_features=10, author_ngram=(1, 1), content_char_features=7000, content_char_ngram=(1, 4), content_word_features=10000, content_word_ngram=(1, 3) \n",
      "[CV]  C=0.31622776601683794, author_max_features=10, author_ngram=(1, 1), content_char_features=5000, content_char_ngram=(1, 4), content_word_features=10000, content_word_ngram=(1, 3), score=0.36559032290312904, total=  26.5s\n",
      "[CV] C=0.31622776601683794, author_max_features=10, author_ngram=(1, 1), content_char_features=7000, content_char_ngram=(1, 4), content_word_features=10000, content_word_ngram=(1, 3) \n",
      "[CV]  C=0.31622776601683794, author_max_features=10, author_ngram=(1, 1), content_char_features=5000, content_char_ngram=(1, 4), content_word_features=10000, content_word_ngram=(1, 3), score=0.35626437356264373, total=  27.2s\n",
      "[CV] C=0.31622776601683794, author_max_features=10, author_ngram=(1, 1), content_char_features=7000, content_char_ngram=(1, 4), content_word_features=10000, content_word_ngram=(1, 3) \n",
      "[CV]  C=0.31622776601683794, author_max_features=10, author_ngram=(1, 1), content_char_features=5000, content_char_ngram=(1, 4), content_word_features=10000, content_word_ngram=(1, 3), score=0.36214485794317725, total=  27.3s\n",
      "[CV] C=0.31622776601683794, author_max_features=10, author_ngram=(1, 1), content_char_features=10000, content_char_ngram=(1, 4), content_word_features=10000, content_word_ngram=(1, 3) \n"
     ]
    },
    {
     "name": "stderr",
     "output_type": "stream",
     "text": [
      "[Parallel(n_jobs=4)]: Done  24 tasks      | elapsed:  2.5min\n"
     ]
    },
    {
     "name": "stdout",
     "output_type": "stream",
     "text": [
      "[CV]  C=0.31622776601683794, author_max_features=10, author_ngram=(1, 1), content_char_features=7000, content_char_ngram=(1, 4), content_word_features=10000, content_word_ngram=(1, 3), score=0.36429071278616415, total=  26.1s\n",
      "[CV] C=0.31622776601683794, author_max_features=10, author_ngram=(1, 1), content_char_features=10000, content_char_ngram=(1, 4), content_word_features=10000, content_word_ngram=(1, 3) \n",
      "[CV]  C=0.31622776601683794, author_max_features=10, author_ngram=(1, 1), content_char_features=7000, content_char_ngram=(1, 4), content_word_features=10000, content_word_ngram=(1, 3), score=0.3574642535746425, total=  28.7s\n",
      "[CV] C=0.31622776601683794, author_max_features=10, author_ngram=(1, 1), content_char_features=10000, content_char_ngram=(1, 4), content_word_features=10000, content_word_ngram=(1, 3) \n",
      "[CV]  C=0.31622776601683794, author_max_features=10, author_ngram=(1, 1), content_char_features=7000, content_char_ngram=(1, 4), content_word_features=10000, content_word_ngram=(1, 3), score=0.3607442977190876, total=  29.2s\n",
      "[CV] C=0.31622776601683794, author_max_features=10, author_ngram=(1, 1), content_char_features=15000, content_char_ngram=(1, 4), content_word_features=10000, content_word_ngram=(1, 3) \n",
      "[CV]  C=0.31622776601683794, author_max_features=10, author_ngram=(1, 1), content_char_features=10000, content_char_ngram=(1, 4), content_word_features=10000, content_word_ngram=(1, 3), score=0.36359092272318305, total=  28.9s\n",
      "[CV] C=0.31622776601683794, author_max_features=10, author_ngram=(1, 1), content_char_features=15000, content_char_ngram=(1, 4), content_word_features=10000, content_word_ngram=(1, 3) \n",
      "[CV]  C=0.31622776601683794, author_max_features=10, author_ngram=(1, 1), content_char_features=10000, content_char_ngram=(1, 4), content_word_features=10000, content_word_ngram=(1, 3), score=0.3574642535746425, total=  23.4s\n",
      "[CV] C=0.31622776601683794, author_max_features=10, author_ngram=(1, 1), content_char_features=15000, content_char_ngram=(1, 4), content_word_features=10000, content_word_ngram=(1, 3) \n",
      "[CV]  C=0.31622776601683794, author_max_features=10, author_ngram=(1, 1), content_char_features=10000, content_char_ngram=(1, 4), content_word_features=10000, content_word_ngram=(1, 3), score=0.36104441776710683, total=  27.8s\n",
      "[CV] C=0.31622776601683794, author_max_features=10, author_ngram=(1, 1), content_char_features=20000, content_char_ngram=(1, 4), content_word_features=10000, content_word_ngram=(1, 3) \n",
      "[CV]  C=0.31622776601683794, author_max_features=10, author_ngram=(1, 1), content_char_features=15000, content_char_ngram=(1, 4), content_word_features=10000, content_word_ngram=(1, 3), score=0.36269119264220734, total=  29.9s\n",
      "[CV] C=0.31622776601683794, author_max_features=10, author_ngram=(1, 1), content_char_features=20000, content_char_ngram=(1, 4), content_word_features=10000, content_word_ngram=(1, 3) \n",
      "[CV]  C=0.31622776601683794, author_max_features=10, author_ngram=(1, 1), content_char_features=15000, content_char_ngram=(1, 4), content_word_features=10000, content_word_ngram=(1, 3), score=0.3571642835716428, total=  29.8s\n",
      "[CV] C=0.31622776601683794, author_max_features=10, author_ngram=(1, 1), content_char_features=20000, content_char_ngram=(1, 4), content_word_features=10000, content_word_ngram=(1, 3) \n",
      "[CV]  C=0.31622776601683794, author_max_features=10, author_ngram=(1, 1), content_char_features=15000, content_char_ngram=(1, 4), content_word_features=10000, content_word_ngram=(1, 3), score=0.36124449779911966, total=  27.0s\n",
      "[CV] C=0.31622776601683794, author_max_features=10, author_ngram=(1, 1), content_char_features=25000, content_char_ngram=(1, 4), content_word_features=10000, content_word_ngram=(1, 3) \n"
     ]
    },
    {
     "name": "stderr",
     "output_type": "stream",
     "text": [
      "[Parallel(n_jobs=4)]: Done  33 tasks      | elapsed:  3.8min\n"
     ]
    },
    {
     "name": "stdout",
     "output_type": "stream",
     "text": [
      "[CV]  C=0.31622776601683794, author_max_features=10, author_ngram=(1, 1), content_char_features=20000, content_char_ngram=(1, 4), content_word_features=10000, content_word_ngram=(1, 3), score=0.36139158252524245, total=  28.4s\n",
      "[CV] C=0.31622776601683794, author_max_features=10, author_ngram=(1, 1), content_char_features=25000, content_char_ngram=(1, 4), content_word_features=10000, content_word_ngram=(1, 3) \n",
      "[CV]  C=0.31622776601683794, author_max_features=10, author_ngram=(1, 1), content_char_features=20000, content_char_ngram=(1, 4), content_word_features=10000, content_word_ngram=(1, 3), score=0.35766423357664234, total=  30.9s\n",
      "[CV] C=0.31622776601683794, author_max_features=10, author_ngram=(1, 1), content_char_features=25000, content_char_ngram=(1, 4), content_word_features=10000, content_word_ngram=(1, 3) \n",
      "[CV]  C=0.31622776601683794, author_max_features=10, author_ngram=(1, 1), content_char_features=20000, content_char_ngram=(1, 4), content_word_features=10000, content_word_ngram=(1, 3), score=0.36124449779911966, total=  31.0s\n",
      "[CV] C=0.31622776601683794, author_max_features=10, author_ngram=(1, 1), content_char_features=30000, content_char_ngram=(1, 4), content_word_features=10000, content_word_ngram=(1, 3) \n",
      "[CV]  C=0.31622776601683794, author_max_features=10, author_ngram=(1, 1), content_char_features=25000, content_char_ngram=(1, 4), content_word_features=10000, content_word_ngram=(1, 3), score=0.36119164250724783, total=  27.9s\n",
      "[CV] C=0.31622776601683794, author_max_features=10, author_ngram=(1, 1), content_char_features=30000, content_char_ngram=(1, 4), content_word_features=10000, content_word_ngram=(1, 3) \n",
      "[CV]  C=0.31622776601683794, author_max_features=10, author_ngram=(1, 1), content_char_features=25000, content_char_ngram=(1, 4), content_word_features=10000, content_word_ngram=(1, 3), score=0.3575642435756424, total=  26.5s\n",
      "[CV] C=0.31622776601683794, author_max_features=10, author_ngram=(1, 1), content_char_features=30000, content_char_ngram=(1, 4), content_word_features=10000, content_word_ngram=(1, 3) \n",
      "[CV]  C=0.31622776601683794, author_max_features=10, author_ngram=(1, 1), content_char_features=25000, content_char_ngram=(1, 4), content_word_features=10000, content_word_ngram=(1, 3), score=0.36154461784713887, total=  29.9s\n",
      "[CV]  C=0.31622776601683794, author_max_features=10, author_ngram=(1, 1), content_char_features=30000, content_char_ngram=(1, 4), content_word_features=10000, content_word_ngram=(1, 3), score=0.36059182245326404, total=  30.4s\n"
     ]
    },
    {
     "name": "stderr",
     "output_type": "stream",
     "text": [
      "[Parallel(n_jobs=4)]: Done  40 out of  42 | elapsed:  4.7min remaining:   14.2s\n"
     ]
    },
    {
     "name": "stdout",
     "output_type": "stream",
     "text": [
      "[CV]  C=0.31622776601683794, author_max_features=10, author_ngram=(1, 1), content_char_features=30000, content_char_ngram=(1, 4), content_word_features=10000, content_word_ngram=(1, 3), score=0.3568643135686431, total=  28.7s\n",
      "[CV]  C=0.31622776601683794, author_max_features=10, author_ngram=(1, 1), content_char_features=30000, content_char_ngram=(1, 4), content_word_features=10000, content_word_ngram=(1, 3), score=0.36114445778311327, total=  22.8s\n"
     ]
    },
    {
     "name": "stderr",
     "output_type": "stream",
     "text": [
      "[Parallel(n_jobs=4)]: Done  42 out of  42 | elapsed:  4.9min finished\n"
     ]
    },
    {
     "name": "stdout",
     "output_type": "stream",
     "text": [
      "Iteration 0. Best: {'C': 0.31622776601683794, 'author_max_features': 10, 'author_ngram': (1, 1), 'content_char_features': 5000, 'content_char_ngram': (1, 4), 'content_word_features': 10000, 'content_word_ngram': (1, 3)}, 0.36133333333333334\n",
      "Iteration 0. New start params: {'C': 0.31622776601683794, 'author_max_features': 10, 'author_ngram': (1, 1), 'content_char_features': 5000, 'content_char_ngram': (1, 4), 'content_word_features': 10000, 'content_word_ngram': (1, 3)}\n",
      "\n",
      "Iteration 1. Fitting with params {'C': array([ 0.01      ,  0.01268961,  0.01610262,  0.0204336 ,  0.02592944,\n",
      "        0.03290345,  0.04175319,  0.05298317,  0.06723358,  0.08531679,\n",
      "        0.10826367,  0.13738238,  0.17433288,  0.22122163,  0.28072162,\n",
      "        0.35622479,  0.45203537,  0.57361525,  0.72789538,  0.92367086,\n",
      "        1.1721023 ,  1.48735211,  1.88739182,  2.39502662,  3.03919538,\n",
      "        3.85662042,  4.89390092,  6.21016942,  7.88046282, 10.        ]), 'author_max_features': [10], 'author_ngram': [(1, 1)], 'content_char_features': [5000], 'content_char_ngram': [(1, 4)], 'content_word_features': [10000], 'content_word_ngram': [(1, 3)]}\n",
      "Fitting 3 folds for each of 30 candidates, totalling 90 fits\n",
      "[CV] C=0.01, author_max_features=10, author_ngram=(1, 1), content_char_features=5000, content_char_ngram=(1, 4), content_word_features=10000, content_word_ngram=(1, 3) \n",
      "[CV] C=0.01, author_max_features=10, author_ngram=(1, 1), content_char_features=5000, content_char_ngram=(1, 4), content_word_features=10000, content_word_ngram=(1, 3) \n",
      "[CV] C=0.01, author_max_features=10, author_ngram=(1, 1), content_char_features=5000, content_char_ngram=(1, 4), content_word_features=10000, content_word_ngram=(1, 3) \n",
      "[CV] C=0.01268961003167922, author_max_features=10, author_ngram=(1, 1), content_char_features=5000, content_char_ngram=(1, 4), content_word_features=10000, content_word_ngram=(1, 3) \n",
      "[CV]  C=0.01, author_max_features=10, author_ngram=(1, 1), content_char_features=5000, content_char_ngram=(1, 4), content_word_features=10000, content_word_ngram=(1, 3), score=0.28551434569629114, total=  18.2s\n",
      "[CV] C=0.01268961003167922, author_max_features=10, author_ngram=(1, 1), content_char_features=5000, content_char_ngram=(1, 4), content_word_features=10000, content_word_ngram=(1, 3) \n",
      "[CV]  C=0.01, author_max_features=10, author_ngram=(1, 1), content_char_features=5000, content_char_ngram=(1, 4), content_word_features=10000, content_word_ngram=(1, 3), score=0.2917166866746699, total=  18.4s\n",
      "[CV] C=0.01268961003167922, author_max_features=10, author_ngram=(1, 1), content_char_features=5000, content_char_ngram=(1, 4), content_word_features=10000, content_word_ngram=(1, 3) \n",
      "[CV]  C=0.01, author_max_features=10, author_ngram=(1, 1), content_char_features=5000, content_char_ngram=(1, 4), content_word_features=10000, content_word_ngram=(1, 3), score=0.2903709629037096, total=  18.5s\n",
      "[CV] C=0.01610262027560939, author_max_features=10, author_ngram=(1, 1), content_char_features=5000, content_char_ngram=(1, 4), content_word_features=10000, content_word_ngram=(1, 3) \n",
      "[CV]  C=0.01268961003167922, author_max_features=10, author_ngram=(1, 1), content_char_features=5000, content_char_ngram=(1, 4), content_word_features=10000, content_word_ngram=(1, 3), score=0.29291212636209135, total=  18.5s\n",
      "[CV] C=0.01610262027560939, author_max_features=10, author_ngram=(1, 1), content_char_features=5000, content_char_ngram=(1, 4), content_word_features=10000, content_word_ngram=(1, 3) \n",
      "[CV]  C=0.01268961003167922, author_max_features=10, author_ngram=(1, 1), content_char_features=5000, content_char_ngram=(1, 4), content_word_features=10000, content_word_ngram=(1, 3), score=0.29557044295570445, total=  19.2s\n",
      "[CV] C=0.01610262027560939, author_max_features=10, author_ngram=(1, 1), content_char_features=5000, content_char_ngram=(1, 4), content_word_features=10000, content_word_ngram=(1, 3) \n"
     ]
    },
    {
     "name": "stderr",
     "output_type": "stream",
     "text": [
      "[Parallel(n_jobs=4)]: Done   5 tasks      | elapsed:   43.9s\n"
     ]
    },
    {
     "name": "stdout",
     "output_type": "stream",
     "text": [
      "[CV]  C=0.01268961003167922, author_max_features=10, author_ngram=(1, 1), content_char_features=5000, content_char_ngram=(1, 4), content_word_features=10000, content_word_ngram=(1, 3), score=0.29451780712284914, total=  19.5s\n",
      "[CV] C=0.020433597178569417, author_max_features=10, author_ngram=(1, 1), content_char_features=5000, content_char_ngram=(1, 4), content_word_features=10000, content_word_ngram=(1, 3) \n",
      "[CV]  C=0.01610262027560939, author_max_features=10, author_ngram=(1, 1), content_char_features=5000, content_char_ngram=(1, 4), content_word_features=10000, content_word_ngram=(1, 3), score=0.2969109267219834, total=  19.4s\n",
      "[CV]  C=0.01610262027560939, author_max_features=10, author_ngram=(1, 1), content_char_features=5000, content_char_ngram=(1, 4), content_word_features=10000, content_word_ngram=(1, 3), score=0.3017698230176982, total=  19.4s\n",
      "[CV] C=0.020433597178569417, author_max_features=10, author_ngram=(1, 1), content_char_features=5000, content_char_ngram=(1, 4), content_word_features=10000, content_word_ngram=(1, 3) \n",
      "[CV] C=0.020433597178569417, author_max_features=10, author_ngram=(1, 1), content_char_features=5000, content_char_ngram=(1, 4), content_word_features=10000, content_word_ngram=(1, 3) \n",
      "[CV]  C=0.01610262027560939, author_max_features=10, author_ngram=(1, 1), content_char_features=5000, content_char_ngram=(1, 4), content_word_features=10000, content_word_ngram=(1, 3), score=0.29891956782713086, total=  18.4s\n",
      "[CV] C=0.02592943797404667, author_max_features=10, author_ngram=(1, 1), content_char_features=5000, content_char_ngram=(1, 4), content_word_features=10000, content_word_ngram=(1, 3) \n",
      "[CV]  C=0.020433597178569417, author_max_features=10, author_ngram=(1, 1), content_char_features=5000, content_char_ngram=(1, 4), content_word_features=10000, content_word_ngram=(1, 3), score=0.3051220488195278, total=  18.8s\n",
      "[CV]  C=0.020433597178569417, author_max_features=10, author_ngram=(1, 1), content_char_features=5000, content_char_ngram=(1, 4), content_word_features=10000, content_word_ngram=(1, 3), score=0.30160951714485656, total=  18.9s\n",
      "[CV] C=0.02592943797404667, author_max_features=10, author_ngram=(1, 1), content_char_features=5000, content_char_ngram=(1, 4), content_word_features=10000, content_word_ngram=(1, 3) \n",
      "[CV]  C=0.020433597178569417, author_max_features=10, author_ngram=(1, 1), content_char_features=5000, content_char_ngram=(1, 4), content_word_features=10000, content_word_ngram=(1, 3), score=0.30716928307169283, total=  18.9s\n",
      "[CV] C=0.02592943797404667, author_max_features=10, author_ngram=(1, 1), content_char_features=5000, content_char_ngram=(1, 4), content_word_features=10000, content_word_ngram=(1, 3) \n",
      "[CV] C=0.03290344562312668, author_max_features=10, author_ngram=(1, 1), content_char_features=5000, content_char_ngram=(1, 4), content_word_features=10000, content_word_ngram=(1, 3) \n"
     ]
    },
    {
     "name": "stderr",
     "output_type": "stream",
     "text": [
      "[Parallel(n_jobs=4)]: Done  10 tasks      | elapsed:  1.1min\n"
     ]
    },
    {
     "name": "stdout",
     "output_type": "stream",
     "text": [
      "[CV]  C=0.02592943797404667, author_max_features=10, author_ngram=(1, 1), content_char_features=5000, content_char_ngram=(1, 4), content_word_features=10000, content_word_ngram=(1, 3), score=0.3077076876936919, total=  18.3s\n",
      "[CV] C=0.03290344562312668, author_max_features=10, author_ngram=(1, 1), content_char_features=5000, content_char_ngram=(1, 4), content_word_features=10000, content_word_ngram=(1, 3) \n",
      "[CV]  C=0.02592943797404667, author_max_features=10, author_ngram=(1, 1), content_char_features=5000, content_char_ngram=(1, 4), content_word_features=10000, content_word_ngram=(1, 3), score=0.31486851314868514, total=  19.2s\n",
      "[CV] C=0.03290344562312668, author_max_features=10, author_ngram=(1, 1), content_char_features=5000, content_char_ngram=(1, 4), content_word_features=10000, content_word_ngram=(1, 3) \n",
      "[CV]  C=0.02592943797404667, author_max_features=10, author_ngram=(1, 1), content_char_features=5000, content_char_ngram=(1, 4), content_word_features=10000, content_word_ngram=(1, 3), score=0.3138255302120848, total=  19.5s\n",
      "[CV] C=0.041753189365604, author_max_features=10, author_ngram=(1, 1), content_char_features=5000, content_char_ngram=(1, 4), content_word_features=10000, content_word_ngram=(1, 3) \n",
      "[CV]  C=0.03290344562312668, author_max_features=10, author_ngram=(1, 1), content_char_features=5000, content_char_ngram=(1, 4), content_word_features=10000, content_word_ngram=(1, 3), score=0.31330600819754073, total=  19.6s\n",
      "[CV] C=0.041753189365604, author_max_features=10, author_ngram=(1, 1), content_char_features=5000, content_char_ngram=(1, 4), content_word_features=10000, content_word_ngram=(1, 3) \n",
      "[CV]  C=0.03290344562312668, author_max_features=10, author_ngram=(1, 1), content_char_features=5000, content_char_ngram=(1, 4), content_word_features=10000, content_word_ngram=(1, 3), score=0.3197680231976802, total=  17.1s\n",
      "[CV] C=0.041753189365604, author_max_features=10, author_ngram=(1, 1), content_char_features=5000, content_char_ngram=(1, 4), content_word_features=10000, content_word_ngram=(1, 3) \n"
     ]
    },
    {
     "name": "stderr",
     "output_type": "stream",
     "text": [
      "[Parallel(n_jobs=4)]: Done  17 tasks      | elapsed:  1.8min\n"
     ]
    },
    {
     "name": "stdout",
     "output_type": "stream",
     "text": [
      "[CV]  C=0.03290344562312668, author_max_features=10, author_ngram=(1, 1), content_char_features=5000, content_char_ngram=(1, 4), content_word_features=10000, content_word_ngram=(1, 3), score=0.321328531412565, total=  19.2s\n",
      "[CV] C=0.05298316906283707, author_max_features=10, author_ngram=(1, 1), content_char_features=5000, content_char_ngram=(1, 4), content_word_features=10000, content_word_ngram=(1, 3) \n",
      "[CV]  C=0.041753189365604, author_max_features=10, author_ngram=(1, 1), content_char_features=5000, content_char_ngram=(1, 4), content_word_features=10000, content_word_ngram=(1, 3), score=0.3212036389083275, total=  19.8s\n",
      "[CV]  C=0.041753189365604, author_max_features=10, author_ngram=(1, 1), content_char_features=5000, content_char_ngram=(1, 4), content_word_features=10000, content_word_ngram=(1, 3), score=0.32726727327267274, total=  19.5s\n",
      "[CV] C=0.05298316906283707, author_max_features=10, author_ngram=(1, 1), content_char_features=5000, content_char_ngram=(1, 4), content_word_features=10000, content_word_ngram=(1, 3) \n",
      "[CV] C=0.05298316906283707, author_max_features=10, author_ngram=(1, 1), content_char_features=5000, content_char_ngram=(1, 4), content_word_features=10000, content_word_ngram=(1, 3) \n",
      "[CV]  C=0.041753189365604, author_max_features=10, author_ngram=(1, 1), content_char_features=5000, content_char_ngram=(1, 4), content_word_features=10000, content_word_ngram=(1, 3), score=0.32953181272509, total=  15.9s\n",
      "[CV] C=0.06723357536499334, author_max_features=10, author_ngram=(1, 1), content_char_features=5000, content_char_ngram=(1, 4), content_word_features=10000, content_word_ngram=(1, 3) \n",
      "[CV]  C=0.05298316906283707, author_max_features=10, author_ngram=(1, 1), content_char_features=5000, content_char_ngram=(1, 4), content_word_features=10000, content_word_ngram=(1, 3), score=0.32840147955613314, total=  20.1s\n",
      "[CV] C=0.06723357536499334, author_max_features=10, author_ngram=(1, 1), content_char_features=5000, content_char_ngram=(1, 4), content_word_features=10000, content_word_ngram=(1, 3) \n",
      "[CV]  C=0.05298316906283707, author_max_features=10, author_ngram=(1, 1), content_char_features=5000, content_char_ngram=(1, 4), content_word_features=10000, content_word_ngram=(1, 3), score=0.33426657334266574, total=  20.0s\n",
      "[CV] C=0.06723357536499334, author_max_features=10, author_ngram=(1, 1), content_char_features=5000, content_char_ngram=(1, 4), content_word_features=10000, content_word_ngram=(1, 3) \n",
      "[CV]  C=0.05298316906283707, author_max_features=10, author_ngram=(1, 1), content_char_features=5000, content_char_ngram=(1, 4), content_word_features=10000, content_word_ngram=(1, 3), score=0.3363345338135254, total=  20.1s\n",
      "[CV] C=0.08531678524172806, author_max_features=10, author_ngram=(1, 1), content_char_features=5000, content_char_ngram=(1, 4), content_word_features=10000, content_word_ngram=(1, 3) \n"
     ]
    },
    {
     "name": "stderr",
     "output_type": "stream",
     "text": [
      "[Parallel(n_jobs=4)]: Done  24 tasks      | elapsed:  2.3min\n"
     ]
    },
    {
     "name": "stdout",
     "output_type": "stream",
     "text": [
      "[CV]  C=0.06723357536499334, author_max_features=10, author_ngram=(1, 1), content_char_features=5000, content_char_ngram=(1, 4), content_word_features=10000, content_word_ngram=(1, 3), score=0.333000099970009, total=  16.3s\n",
      "[CV] C=0.08531678524172806, author_max_features=10, author_ngram=(1, 1), content_char_features=5000, content_char_ngram=(1, 4), content_word_features=10000, content_word_ngram=(1, 3) \n",
      "[CV]  C=0.06723357536499334, author_max_features=10, author_ngram=(1, 1), content_char_features=5000, content_char_ngram=(1, 4), content_word_features=10000, content_word_ngram=(1, 3), score=0.33726627337266274, total=  20.5s\n",
      "[CV] C=0.08531678524172806, author_max_features=10, author_ngram=(1, 1), content_char_features=5000, content_char_ngram=(1, 4), content_word_features=10000, content_word_ngram=(1, 3) \n",
      "[CV]  C=0.06723357536499334, author_max_features=10, author_ngram=(1, 1), content_char_features=5000, content_char_ngram=(1, 4), content_word_features=10000, content_word_ngram=(1, 3), score=0.34133653461384555, total=  20.9s\n",
      "[CV] C=0.10826367338740546, author_max_features=10, author_ngram=(1, 1), content_char_features=5000, content_char_ngram=(1, 4), content_word_features=10000, content_word_ngram=(1, 3) \n",
      "[CV]  C=0.08531678524172806, author_max_features=10, author_ngram=(1, 1), content_char_features=5000, content_char_ngram=(1, 4), content_word_features=10000, content_word_ngram=(1, 3), score=0.33939818054583626, total=  21.1s\n",
      "[CV] C=0.10826367338740546, author_max_features=10, author_ngram=(1, 1), content_char_features=5000, content_char_ngram=(1, 4), content_word_features=10000, content_word_ngram=(1, 3) \n",
      "[CV]  C=0.08531678524172806, author_max_features=10, author_ngram=(1, 1), content_char_features=5000, content_char_ngram=(1, 4), content_word_features=10000, content_word_ngram=(1, 3), score=0.34236576342365765, total=  16.6s\n",
      "[CV] C=0.10826367338740546, author_max_features=10, author_ngram=(1, 1), content_char_features=5000, content_char_ngram=(1, 4), content_word_features=10000, content_word_ngram=(1, 3) \n",
      "[CV]  C=0.08531678524172806, author_max_features=10, author_ngram=(1, 1), content_char_features=5000, content_char_ngram=(1, 4), content_word_features=10000, content_word_ngram=(1, 3), score=0.3433373349339736, total=  21.2s\n",
      "[CV] C=0.1373823795883263, author_max_features=10, author_ngram=(1, 1), content_char_features=5000, content_char_ngram=(1, 4), content_word_features=10000, content_word_ngram=(1, 3) \n",
      "[CV]  C=0.10826367338740546, author_max_features=10, author_ngram=(1, 1), content_char_features=5000, content_char_ngram=(1, 4), content_word_features=10000, content_word_ngram=(1, 3), score=0.3456962911126662, total=  22.4s\n",
      "[CV] C=0.1373823795883263, author_max_features=10, author_ngram=(1, 1), content_char_features=5000, content_char_ngram=(1, 4), content_word_features=10000, content_word_ngram=(1, 3) \n",
      "[CV]  C=0.10826367338740546, author_max_features=10, author_ngram=(1, 1), content_char_features=5000, content_char_ngram=(1, 4), content_word_features=10000, content_word_ngram=(1, 3), score=0.34756524347565243, total=  22.6s\n",
      "[CV] C=0.1373823795883263, author_max_features=10, author_ngram=(1, 1), content_char_features=5000, content_char_ngram=(1, 4), content_word_features=10000, content_word_ngram=(1, 3) \n",
      "[CV]  C=0.10826367338740546, author_max_features=10, author_ngram=(1, 1), content_char_features=5000, content_char_ngram=(1, 4), content_word_features=10000, content_word_ngram=(1, 3), score=0.3477390956382553, total=  20.2s\n",
      "[CV] C=0.17433288221999882, author_max_features=10, author_ngram=(1, 1), content_char_features=5000, content_char_ngram=(1, 4), content_word_features=10000, content_word_ngram=(1, 3) \n"
     ]
    },
    {
     "name": "stderr",
     "output_type": "stream",
     "text": [
      "[Parallel(n_jobs=4)]: Done  33 tasks      | elapsed:  3.2min\n"
     ]
    },
    {
     "name": "stdout",
     "output_type": "stream",
     "text": [
      "[CV]  C=0.1373823795883263, author_max_features=10, author_ngram=(1, 1), content_char_features=5000, content_char_ngram=(1, 4), content_word_features=10000, content_word_ngram=(1, 3), score=0.3485954213735879, total=  22.8s\n",
      "[CV] C=0.17433288221999882, author_max_features=10, author_ngram=(1, 1), content_char_features=5000, content_char_ngram=(1, 4), content_word_features=10000, content_word_ngram=(1, 3) \n",
      "[CV]  C=0.1373823795883263, author_max_features=10, author_ngram=(1, 1), content_char_features=5000, content_char_ngram=(1, 4), content_word_features=10000, content_word_ngram=(1, 3), score=0.3521647835216478, total=  23.9s\n",
      "[CV] C=0.17433288221999882, author_max_features=10, author_ngram=(1, 1), content_char_features=5000, content_char_ngram=(1, 4), content_word_features=10000, content_word_ngram=(1, 3) \n",
      "[CV]  C=0.1373823795883263, author_max_features=10, author_ngram=(1, 1), content_char_features=5000, content_char_ngram=(1, 4), content_word_features=10000, content_word_ngram=(1, 3), score=0.3536414565826331, total=  24.5s\n",
      "[CV] C=0.2212216291070449, author_max_features=10, author_ngram=(1, 1), content_char_features=5000, content_char_ngram=(1, 4), content_word_features=10000, content_word_ngram=(1, 3) \n",
      "[CV]  C=0.17433288221999882, author_max_features=10, author_ngram=(1, 1), content_char_features=5000, content_char_ngram=(1, 4), content_word_features=10000, content_word_ngram=(1, 3), score=0.35149455163450966, total=  23.1s\n",
      "[CV] C=0.2212216291070449, author_max_features=10, author_ngram=(1, 1), content_char_features=5000, content_char_ngram=(1, 4), content_word_features=10000, content_word_ngram=(1, 3) \n",
      "[CV]  C=0.17433288221999882, author_max_features=10, author_ngram=(1, 1), content_char_features=5000, content_char_ngram=(1, 4), content_word_features=10000, content_word_ngram=(1, 3), score=0.35536446355364465, total=  22.0s\n",
      "[CV] C=0.2212216291070449, author_max_features=10, author_ngram=(1, 1), content_char_features=5000, content_char_ngram=(1, 4), content_word_features=10000, content_word_ngram=(1, 3) \n",
      "[CV]  C=0.17433288221999882, author_max_features=10, author_ngram=(1, 1), content_char_features=5000, content_char_ngram=(1, 4), content_word_features=10000, content_word_ngram=(1, 3), score=0.35724289715886354, total=  25.1s\n",
      "[CV] C=0.2807216203941177, author_max_features=10, author_ngram=(1, 1), content_char_features=5000, content_char_ngram=(1, 4), content_word_features=10000, content_word_ngram=(1, 3) \n",
      "[CV]  C=0.2212216291070449, author_max_features=10, author_ngram=(1, 1), content_char_features=5000, content_char_ngram=(1, 4), content_word_features=10000, content_word_ngram=(1, 3), score=0.3549935019494152, total=  25.5s\n",
      "[CV] C=0.2807216203941177, author_max_features=10, author_ngram=(1, 1), content_char_features=5000, content_char_ngram=(1, 4), content_word_features=10000, content_word_ngram=(1, 3) \n",
      "[CV]  C=0.2212216291070449, author_max_features=10, author_ngram=(1, 1), content_char_features=5000, content_char_ngram=(1, 4), content_word_features=10000, content_word_ngram=(1, 3), score=0.35676432356764326, total=  24.7s\n",
      "[CV] C=0.2807216203941177, author_max_features=10, author_ngram=(1, 1), content_char_features=5000, content_char_ngram=(1, 4), content_word_features=10000, content_word_ngram=(1, 3) \n",
      "[CV]  C=0.2212216291070449, author_max_features=10, author_ngram=(1, 1), content_char_features=5000, content_char_ngram=(1, 4), content_word_features=10000, content_word_ngram=(1, 3), score=0.35984393757503, total=  22.8s\n",
      "[CV] C=0.3562247890262442, author_max_features=10, author_ngram=(1, 1), content_char_features=5000, content_char_ngram=(1, 4), content_word_features=10000, content_word_ngram=(1, 3) \n"
     ]
    },
    {
     "name": "stderr",
     "output_type": "stream",
     "text": [
      "[Parallel(n_jobs=4)]: Done  42 tasks      | elapsed:  4.4min\n"
     ]
    },
    {
     "name": "stdout",
     "output_type": "stream",
     "text": [
      "[CV]  C=0.2807216203941177, author_max_features=10, author_ngram=(1, 1), content_char_features=5000, content_char_ngram=(1, 4), content_word_features=10000, content_word_ngram=(1, 3), score=0.356593022093372, total=  28.5s\n",
      "[CV] C=0.3562247890262442, author_max_features=10, author_ngram=(1, 1), content_char_features=5000, content_char_ngram=(1, 4), content_word_features=10000, content_word_ngram=(1, 3) \n",
      "[CV]  C=0.2807216203941177, author_max_features=10, author_ngram=(1, 1), content_char_features=5000, content_char_ngram=(1, 4), content_word_features=10000, content_word_ngram=(1, 3), score=0.36066393360663934, total=  29.4s\n",
      "[CV] C=0.3562247890262442, author_max_features=10, author_ngram=(1, 1), content_char_features=5000, content_char_ngram=(1, 4), content_word_features=10000, content_word_ngram=(1, 3) \n",
      "[CV]  C=0.2807216203941177, author_max_features=10, author_ngram=(1, 1), content_char_features=5000, content_char_ngram=(1, 4), content_word_features=10000, content_word_ngram=(1, 3), score=0.3607442977190876, total=  29.2s\n",
      "[CV] C=0.4520353656360243, author_max_features=10, author_ngram=(1, 1), content_char_features=5000, content_char_ngram=(1, 4), content_word_features=10000, content_word_ngram=(1, 3) \n",
      "[CV]  C=0.3562247890262442, author_max_features=10, author_ngram=(1, 1), content_char_features=5000, content_char_ngram=(1, 4), content_word_features=10000, content_word_ngram=(1, 3), score=0.3588923323003099, total=  21.9s\n",
      "[CV] C=0.4520353656360243, author_max_features=10, author_ngram=(1, 1), content_char_features=5000, content_char_ngram=(1, 4), content_word_features=10000, content_word_ngram=(1, 3) \n",
      "[CV]  C=0.3562247890262442, author_max_features=10, author_ngram=(1, 1), content_char_features=5000, content_char_ngram=(1, 4), content_word_features=10000, content_word_ngram=(1, 3), score=0.36336366363363665, total=  28.9s\n",
      "[CV] C=0.4520353656360243, author_max_features=10, author_ngram=(1, 1), content_char_features=5000, content_char_ngram=(1, 4), content_word_features=10000, content_word_ngram=(1, 3) \n",
      "[CV]  C=0.3562247890262442, author_max_features=10, author_ngram=(1, 1), content_char_features=5000, content_char_ngram=(1, 4), content_word_features=10000, content_word_ngram=(1, 3), score=0.3628451380552221, total=  29.8s\n",
      "[CV] C=0.5736152510448679, author_max_features=10, author_ngram=(1, 1), content_char_features=5000, content_char_ngram=(1, 4), content_word_features=10000, content_word_ngram=(1, 3) \n",
      "[CV]  C=0.4520353656360243, author_max_features=10, author_ngram=(1, 1), content_char_features=5000, content_char_ngram=(1, 4), content_word_features=10000, content_word_ngram=(1, 3), score=0.35979206238128564, total=  31.3s\n",
      "[CV] C=0.5736152510448679, author_max_features=10, author_ngram=(1, 1), content_char_features=5000, content_char_ngram=(1, 4), content_word_features=10000, content_word_ngram=(1, 3) \n",
      "[CV]  C=0.4520353656360243, author_max_features=10, author_ngram=(1, 1), content_char_features=5000, content_char_ngram=(1, 4), content_word_features=10000, content_word_ngram=(1, 3), score=0.36296370362963704, total=  26.7s\n",
      "[CV] C=0.5736152510448679, author_max_features=10, author_ngram=(1, 1), content_char_features=5000, content_char_ngram=(1, 4), content_word_features=10000, content_word_ngram=(1, 3) \n",
      "[CV]  C=0.4520353656360243, author_max_features=10, author_ngram=(1, 1), content_char_features=5000, content_char_ngram=(1, 4), content_word_features=10000, content_word_ngram=(1, 3), score=0.3626450580232093, total=  27.5s\n",
      "[CV] C=0.727895384398315, author_max_features=10, author_ngram=(1, 1), content_char_features=5000, content_char_ngram=(1, 4), content_word_features=10000, content_word_ngram=(1, 3) \n",
      "[CV]  C=0.5736152510448679, author_max_features=10, author_ngram=(1, 1), content_char_features=5000, content_char_ngram=(1, 4), content_word_features=10000, content_word_ngram=(1, 3), score=0.36129161251624514, total=  31.8s\n",
      "[CV] C=0.727895384398315, author_max_features=10, author_ngram=(1, 1), content_char_features=5000, content_char_ngram=(1, 4), content_word_features=10000, content_word_ngram=(1, 3) \n",
      "[CV]  C=0.5736152510448679, author_max_features=10, author_ngram=(1, 1), content_char_features=5000, content_char_ngram=(1, 4), content_word_features=10000, content_word_ngram=(1, 3), score=0.36176382361763826, total=  31.6s\n",
      "[CV] C=0.727895384398315, author_max_features=10, author_ngram=(1, 1), content_char_features=5000, content_char_ngram=(1, 4), content_word_features=10000, content_word_ngram=(1, 3) \n"
     ]
    },
    {
     "name": "stderr",
     "output_type": "stream",
     "text": [
      "[Parallel(n_jobs=4)]: Done  53 tasks      | elapsed:  5.8min\n"
     ]
    },
    {
     "name": "stdout",
     "output_type": "stream",
     "text": [
      "[CV]  C=0.5736152510448679, author_max_features=10, author_ngram=(1, 1), content_char_features=5000, content_char_ngram=(1, 4), content_word_features=10000, content_word_ngram=(1, 3), score=0.3631452581032413, total=  30.0s\n",
      "[CV] C=0.9236708571873861, author_max_features=10, author_ngram=(1, 1), content_char_features=5000, content_char_ngram=(1, 4), content_word_features=10000, content_word_ngram=(1, 3) \n",
      "[CV]  C=0.727895384398315, author_max_features=10, author_ngram=(1, 1), content_char_features=5000, content_char_ngram=(1, 4), content_word_features=10000, content_word_ngram=(1, 3), score=0.3608917324802559, total=  28.5s\n",
      "[CV] C=0.9236708571873861, author_max_features=10, author_ngram=(1, 1), content_char_features=5000, content_char_ngram=(1, 4), content_word_features=10000, content_word_ngram=(1, 3) \n",
      "[CV]  C=0.727895384398315, author_max_features=10, author_ngram=(1, 1), content_char_features=5000, content_char_ngram=(1, 4), content_word_features=10000, content_word_ngram=(1, 3), score=0.36126387361263873, total=  34.0s\n",
      "[CV] C=0.9236708571873861, author_max_features=10, author_ngram=(1, 1), content_char_features=5000, content_char_ngram=(1, 4), content_word_features=10000, content_word_ngram=(1, 3) \n",
      "[CV]  C=0.727895384398315, author_max_features=10, author_ngram=(1, 1), content_char_features=5000, content_char_ngram=(1, 4), content_word_features=10000, content_word_ngram=(1, 3), score=0.36354541816726693, total=  33.9s\n",
      "[CV] C=1.1721022975334805, author_max_features=10, author_ngram=(1, 1), content_char_features=5000, content_char_ngram=(1, 4), content_word_features=10000, content_word_ngram=(1, 3) \n",
      "[CV]  C=0.9236708571873861, author_max_features=10, author_ngram=(1, 1), content_char_features=5000, content_char_ngram=(1, 4), content_word_features=10000, content_word_ngram=(1, 3), score=0.3599920023992802, total=  34.9s\n",
      "[CV] C=1.1721022975334805, author_max_features=10, author_ngram=(1, 1), content_char_features=5000, content_char_ngram=(1, 4), content_word_features=10000, content_word_ngram=(1, 3) \n",
      "[CV]  C=0.9236708571873861, author_max_features=10, author_ngram=(1, 1), content_char_features=5000, content_char_ngram=(1, 4), content_word_features=10000, content_word_ngram=(1, 3), score=0.3588641135886411, total=  29.9s\n",
      "[CV] C=1.1721022975334805, author_max_features=10, author_ngram=(1, 1), content_char_features=5000, content_char_ngram=(1, 4), content_word_features=10000, content_word_ngram=(1, 3) \n",
      "[CV]  C=0.9236708571873861, author_max_features=10, author_ngram=(1, 1), content_char_features=5000, content_char_ngram=(1, 4), content_word_features=10000, content_word_ngram=(1, 3), score=0.3634453781512605, total=  34.5s\n",
      "[CV] C=1.4873521072935119, author_max_features=10, author_ngram=(1, 1), content_char_features=5000, content_char_ngram=(1, 4), content_word_features=10000, content_word_ngram=(1, 3) \n",
      "[CV]  C=1.1721022975334805, author_max_features=10, author_ngram=(1, 1), content_char_features=5000, content_char_ngram=(1, 4), content_word_features=10000, content_word_ngram=(1, 3), score=0.356593022093372, total=  39.5s\n",
      "[CV] C=1.4873521072935119, author_max_features=10, author_ngram=(1, 1), content_char_features=5000, content_char_ngram=(1, 4), content_word_features=10000, content_word_ngram=(1, 3) \n",
      "[CV]  C=1.1721022975334805, author_max_features=10, author_ngram=(1, 1), content_char_features=5000, content_char_ngram=(1, 4), content_word_features=10000, content_word_ngram=(1, 3), score=0.35696430356964304, total=  38.4s\n",
      "[CV] C=1.4873521072935119, author_max_features=10, author_ngram=(1, 1), content_char_features=5000, content_char_ngram=(1, 4), content_word_features=10000, content_word_ngram=(1, 3) \n",
      "[CV]  C=1.1721022975334805, author_max_features=10, author_ngram=(1, 1), content_char_features=5000, content_char_ngram=(1, 4), content_word_features=10000, content_word_ngram=(1, 3), score=0.3607442977190876, total=  34.4s\n",
      "[CV] C=1.8873918221350976, author_max_features=10, author_ngram=(1, 1), content_char_features=5000, content_char_ngram=(1, 4), content_word_features=10000, content_word_ngram=(1, 3) \n",
      "[CV]  C=1.4873521072935119, author_max_features=10, author_ngram=(1, 1), content_char_features=5000, content_char_ngram=(1, 4), content_word_features=10000, content_word_ngram=(1, 3), score=0.35199440167949614, total=  38.8s\n",
      "[CV] C=1.8873918221350976, author_max_features=10, author_ngram=(1, 1), content_char_features=5000, content_char_ngram=(1, 4), content_word_features=10000, content_word_ngram=(1, 3) \n"
     ]
    },
    {
     "name": "stderr",
     "output_type": "stream",
     "text": [
      "[Parallel(n_jobs=4)]: Done  64 tasks      | elapsed:  7.7min\n"
     ]
    },
    {
     "name": "stdout",
     "output_type": "stream",
     "text": [
      "[CV]  C=1.4873521072935119, author_max_features=10, author_ngram=(1, 1), content_char_features=5000, content_char_ngram=(1, 4), content_word_features=10000, content_word_ngram=(1, 3), score=0.3534646535346465, total=  42.0s\n",
      "[CV] C=1.8873918221350976, author_max_features=10, author_ngram=(1, 1), content_char_features=5000, content_char_ngram=(1, 4), content_word_features=10000, content_word_ngram=(1, 3) \n",
      "[CV]  C=1.4873521072935119, author_max_features=10, author_ngram=(1, 1), content_char_features=5000, content_char_ngram=(1, 4), content_word_features=10000, content_word_ngram=(1, 3), score=0.35634253701480595, total=  41.5s\n",
      "[CV] C=2.395026619987486, author_max_features=10, author_ngram=(1, 1), content_char_features=5000, content_char_ngram=(1, 4), content_word_features=10000, content_word_ngram=(1, 3) \n",
      "[CV]  C=1.8873918221350976, author_max_features=10, author_ngram=(1, 1), content_char_features=5000, content_char_ngram=(1, 4), content_word_features=10000, content_word_ngram=(1, 3), score=0.3481955413375987, total=  40.5s\n",
      "[CV] C=2.395026619987486, author_max_features=10, author_ngram=(1, 1), content_char_features=5000, content_char_ngram=(1, 4), content_word_features=10000, content_word_ngram=(1, 3) \n",
      "[CV]  C=1.8873918221350976, author_max_features=10, author_ngram=(1, 1), content_char_features=5000, content_char_ngram=(1, 4), content_word_features=10000, content_word_ngram=(1, 3), score=0.3504649535046495, total=  41.7s\n",
      "[CV] C=2.395026619987486, author_max_features=10, author_ngram=(1, 1), content_char_features=5000, content_char_ngram=(1, 4), content_word_features=10000, content_word_ngram=(1, 3) \n",
      "[CV]  C=1.8873918221350976, author_max_features=10, author_ngram=(1, 1), content_char_features=5000, content_char_ngram=(1, 4), content_word_features=10000, content_word_ngram=(1, 3), score=0.35274109643857543, total=  43.9s\n",
      "[CV] C=3.039195382313198, author_max_features=10, author_ngram=(1, 1), content_char_features=5000, content_char_ngram=(1, 4), content_word_features=10000, content_word_ngram=(1, 3) \n",
      "[CV]  C=2.395026619987486, author_max_features=10, author_ngram=(1, 1), content_char_features=5000, content_char_ngram=(1, 4), content_word_features=10000, content_word_ngram=(1, 3), score=0.3454963510946716, total=  46.5s\n",
      "[CV] C=3.039195382313198, author_max_features=10, author_ngram=(1, 1), content_char_features=5000, content_char_ngram=(1, 4), content_word_features=10000, content_word_ngram=(1, 3) \n",
      "[CV]  C=2.395026619987486, author_max_features=10, author_ngram=(1, 1), content_char_features=5000, content_char_ngram=(1, 4), content_word_features=10000, content_word_ngram=(1, 3), score=0.3454654534546545, total=  44.8s\n",
      "[CV] C=3.039195382313198, author_max_features=10, author_ngram=(1, 1), content_char_features=5000, content_char_ngram=(1, 4), content_word_features=10000, content_word_ngram=(1, 3) \n",
      "[CV]  C=2.395026619987486, author_max_features=10, author_ngram=(1, 1), content_char_features=5000, content_char_ngram=(1, 4), content_word_features=10000, content_word_ngram=(1, 3), score=0.3475390156062425, total=  43.0s\n",
      "[CV] C=3.856620421163472, author_max_features=10, author_ngram=(1, 1), content_char_features=5000, content_char_ngram=(1, 4), content_word_features=10000, content_word_ngram=(1, 3) \n",
      "[CV]  C=3.039195382313198, author_max_features=10, author_ngram=(1, 1), content_char_features=5000, content_char_ngram=(1, 4), content_word_features=10000, content_word_ngram=(1, 3), score=0.34079776067179846, total=  50.0s\n",
      "[CV] C=3.856620421163472, author_max_features=10, author_ngram=(1, 1), content_char_features=5000, content_char_ngram=(1, 4), content_word_features=10000, content_word_ngram=(1, 3) \n",
      "[CV]  C=3.039195382313198, author_max_features=10, author_ngram=(1, 1), content_char_features=5000, content_char_ngram=(1, 4), content_word_features=10000, content_word_ngram=(1, 3), score=0.3401659834016598, total=  51.2s\n",
      "[CV] C=3.856620421163472, author_max_features=10, author_ngram=(1, 1), content_char_features=5000, content_char_ngram=(1, 4), content_word_features=10000, content_word_ngram=(1, 3) \n",
      "[CV]  C=3.039195382313198, author_max_features=10, author_ngram=(1, 1), content_char_features=5000, content_char_ngram=(1, 4), content_word_features=10000, content_word_ngram=(1, 3), score=0.34183673469387754, total=  49.0s\n",
      "[CV] C=4.893900918477494, author_max_features=10, author_ngram=(1, 1), content_char_features=5000, content_char_ngram=(1, 4), content_word_features=10000, content_word_ngram=(1, 3) \n",
      "[CV]  C=3.856620421163472, author_max_features=10, author_ngram=(1, 1), content_char_features=5000, content_char_ngram=(1, 4), content_word_features=10000, content_word_ngram=(1, 3), score=0.33629911026691994, total=  50.9s\n",
      "[CV] C=4.893900918477494, author_max_features=10, author_ngram=(1, 1), content_char_features=5000, content_char_ngram=(1, 4), content_word_features=10000, content_word_ngram=(1, 3) \n",
      "[CV]  C=3.856620421163472, author_max_features=10, author_ngram=(1, 1), content_char_features=5000, content_char_ngram=(1, 4), content_word_features=10000, content_word_ngram=(1, 3), score=0.33426657334266574, total=  54.1s\n",
      "[CV] C=4.893900918477494, author_max_features=10, author_ngram=(1, 1), content_char_features=5000, content_char_ngram=(1, 4), content_word_features=10000, content_word_ngram=(1, 3) \n"
     ]
    },
    {
     "name": "stderr",
     "output_type": "stream",
     "text": [
      "[Parallel(n_jobs=4)]: Done  77 tasks      | elapsed: 10.6min\n"
     ]
    },
    {
     "name": "stdout",
     "output_type": "stream",
     "text": [
      "[CV]  C=3.856620421163472, author_max_features=10, author_ngram=(1, 1), content_char_features=5000, content_char_ngram=(1, 4), content_word_features=10000, content_word_ngram=(1, 3), score=0.3363345338135254, total=  55.4s\n",
      "[CV] C=6.2101694189156165, author_max_features=10, author_ngram=(1, 1), content_char_features=5000, content_char_ngram=(1, 4), content_word_features=10000, content_word_ngram=(1, 3) \n",
      "[CV]  C=4.893900918477494, author_max_features=10, author_ngram=(1, 1), content_char_features=5000, content_char_ngram=(1, 4), content_word_features=10000, content_word_ngram=(1, 3), score=0.32950114965510346, total=  57.5s\n",
      "[CV] C=6.2101694189156165, author_max_features=10, author_ngram=(1, 1), content_char_features=5000, content_char_ngram=(1, 4), content_word_features=10000, content_word_ngram=(1, 3) \n",
      "[CV]  C=4.893900918477494, author_max_features=10, author_ngram=(1, 1), content_char_features=5000, content_char_ngram=(1, 4), content_word_features=10000, content_word_ngram=(1, 3), score=0.3294670532946705, total=  57.8s\n",
      "[CV] C=6.2101694189156165, author_max_features=10, author_ngram=(1, 1), content_char_features=5000, content_char_ngram=(1, 4), content_word_features=10000, content_word_ngram=(1, 3) \n",
      "[CV]  C=4.893900918477494, author_max_features=10, author_ngram=(1, 1), content_char_features=5000, content_char_ngram=(1, 4), content_word_features=10000, content_word_ngram=(1, 3), score=0.3315326130452181, total=  55.5s\n",
      "[CV] C=7.880462815669913, author_max_features=10, author_ngram=(1, 1), content_char_features=5000, content_char_ngram=(1, 4), content_word_features=10000, content_word_ngram=(1, 3) \n",
      "[CV]  C=6.2101694189156165, author_max_features=10, author_ngram=(1, 1), content_char_features=5000, content_char_ngram=(1, 4), content_word_features=10000, content_word_ngram=(1, 3), score=0.3221033689893032, total= 1.1min\n",
      "[CV] C=7.880462815669913, author_max_features=10, author_ngram=(1, 1), content_char_features=5000, content_char_ngram=(1, 4), content_word_features=10000, content_word_ngram=(1, 3) \n",
      "[CV]  C=6.2101694189156165, author_max_features=10, author_ngram=(1, 1), content_char_features=5000, content_char_ngram=(1, 4), content_word_features=10000, content_word_ngram=(1, 3), score=0.32426757324267574, total= 1.1min\n",
      "[CV] C=7.880462815669913, author_max_features=10, author_ngram=(1, 1), content_char_features=5000, content_char_ngram=(1, 4), content_word_features=10000, content_word_ngram=(1, 3) \n",
      "[CV]  C=6.2101694189156165, author_max_features=10, author_ngram=(1, 1), content_char_features=5000, content_char_ngram=(1, 4), content_word_features=10000, content_word_ngram=(1, 3), score=0.32492997198879553, total= 1.0min\n",
      "[CV] C=10.0, author_max_features=10, author_ngram=(1, 1), content_char_features=5000, content_char_ngram=(1, 4), content_word_features=10000, content_word_ngram=(1, 3) \n",
      "[CV]  C=7.880462815669913, author_max_features=10, author_ngram=(1, 1), content_char_features=5000, content_char_ngram=(1, 4), content_word_features=10000, content_word_ngram=(1, 3), score=0.31570528841347595, total= 1.1min\n",
      "[CV] C=10.0, author_max_features=10, author_ngram=(1, 1), content_char_features=5000, content_char_ngram=(1, 4), content_word_features=10000, content_word_ngram=(1, 3) \n",
      "[CV]  C=7.880462815669913, author_max_features=10, author_ngram=(1, 1), content_char_features=5000, content_char_ngram=(1, 4), content_word_features=10000, content_word_ngram=(1, 3), score=0.31756824317568244, total= 1.2min\n",
      "[CV] C=10.0, author_max_features=10, author_ngram=(1, 1), content_char_features=5000, content_char_ngram=(1, 4), content_word_features=10000, content_word_ngram=(1, 3) \n",
      "[CV]  C=7.880462815669913, author_max_features=10, author_ngram=(1, 1), content_char_features=5000, content_char_ngram=(1, 4), content_word_features=10000, content_word_ngram=(1, 3), score=0.3197278911564626, total= 1.1min\n",
      "[CV]  C=10.0, author_max_features=10, author_ngram=(1, 1), content_char_features=5000, content_char_ngram=(1, 4), content_word_features=10000, content_word_ngram=(1, 3), score=0.3115065480355893, total= 1.1min\n",
      "[CV]  C=10.0, author_max_features=10, author_ngram=(1, 1), content_char_features=5000, content_char_ngram=(1, 4), content_word_features=10000, content_word_ngram=(1, 3), score=0.31256874312568744, total=  57.4s\n",
      "[CV]  C=10.0, author_max_features=10, author_ngram=(1, 1), content_char_features=5000, content_char_ngram=(1, 4), content_word_features=10000, content_word_ngram=(1, 3), score=0.3135254101640656, total=  46.1s\n"
     ]
    },
    {
     "name": "stderr",
     "output_type": "stream",
     "text": [
      "[Parallel(n_jobs=4)]: Done  90 out of  90 | elapsed: 13.9min finished\n"
     ]
    },
    {
     "name": "stdout",
     "output_type": "stream",
     "text": [
      "Iteration 1. Best: {'C': 0.5736152510448679, 'author_max_features': 10, 'author_ngram': (1, 1), 'content_char_features': 5000, 'content_char_ngram': (1, 4), 'content_word_features': 10000, 'content_word_ngram': (1, 3)}, 0.36206666666666665\n",
      "Iteration 1. New start params: {'C': 0.5736152510448679, 'author_max_features': 10, 'author_ngram': (1, 1), 'content_char_features': 5000, 'content_char_ngram': (1, 4), 'content_word_features': 10000, 'content_word_ngram': (1, 3)}\n",
      "\n",
      "Iteration 2. Fitting with params {'C': [0.5736152510448679], 'author_max_features': [10, 100, 300, 500, 700, 1000], 'author_ngram': [(1, 1)], 'content_char_features': [5000], 'content_char_ngram': [(1, 4)], 'content_word_features': [10000], 'content_word_ngram': [(1, 3)]}\n",
      "Fitting 3 folds for each of 6 candidates, totalling 18 fits\n",
      "[CV] C=0.5736152510448679, author_max_features=10, author_ngram=(1, 1), content_char_features=5000, content_char_ngram=(1, 4), content_word_features=10000, content_word_ngram=(1, 3) \n",
      "[CV] C=0.5736152510448679, author_max_features=10, author_ngram=(1, 1), content_char_features=5000, content_char_ngram=(1, 4), content_word_features=10000, content_word_ngram=(1, 3) \n",
      "[CV] C=0.5736152510448679, author_max_features=10, author_ngram=(1, 1), content_char_features=5000, content_char_ngram=(1, 4), content_word_features=10000, content_word_ngram=(1, 3) \n",
      "[CV] C=0.5736152510448679, author_max_features=100, author_ngram=(1, 1), content_char_features=5000, content_char_ngram=(1, 4), content_word_features=10000, content_word_ngram=(1, 3) \n",
      "[CV]  C=0.5736152510448679, author_max_features=100, author_ngram=(1, 1), content_char_features=5000, content_char_ngram=(1, 4), content_word_features=10000, content_word_ngram=(1, 3), score=0.3591922423273018, total=  30.6s\n",
      "[CV] C=0.5736152510448679, author_max_features=100, author_ngram=(1, 1), content_char_features=5000, content_char_ngram=(1, 4), content_word_features=10000, content_word_ngram=(1, 3) \n",
      "[CV]  C=0.5736152510448679, author_max_features=10, author_ngram=(1, 1), content_char_features=5000, content_char_ngram=(1, 4), content_word_features=10000, content_word_ngram=(1, 3), score=0.36289113266020195, total=  33.9s\n",
      "[CV] C=0.5736152510448679, author_max_features=100, author_ngram=(1, 1), content_char_features=5000, content_char_ngram=(1, 4), content_word_features=10000, content_word_ngram=(1, 3) \n",
      "[CV]  C=0.5736152510448679, author_max_features=10, author_ngram=(1, 1), content_char_features=5000, content_char_ngram=(1, 4), content_word_features=10000, content_word_ngram=(1, 3), score=0.3618447378951581, total=  34.0s\n",
      "[CV] C=0.5736152510448679, author_max_features=300, author_ngram=(1, 1), content_char_features=5000, content_char_ngram=(1, 4), content_word_features=10000, content_word_ngram=(1, 3) \n",
      "[CV]  C=0.5736152510448679, author_max_features=10, author_ngram=(1, 1), content_char_features=5000, content_char_ngram=(1, 4), content_word_features=10000, content_word_ngram=(1, 3), score=0.35776422357764226, total=  34.1s\n",
      "[CV] C=0.5736152510448679, author_max_features=300, author_ngram=(1, 1), content_char_features=5000, content_char_ngram=(1, 4), content_word_features=10000, content_word_ngram=(1, 3) \n",
      "[CV]  C=0.5736152510448679, author_max_features=100, author_ngram=(1, 1), content_char_features=5000, content_char_ngram=(1, 4), content_word_features=10000, content_word_ngram=(1, 3), score=0.35696430356964304, total=  26.2s\n",
      "[CV] C=0.5736152510448679, author_max_features=300, author_ngram=(1, 1), content_char_features=5000, content_char_ngram=(1, 4), content_word_features=10000, content_word_ngram=(1, 3) \n"
     ]
    },
    {
     "name": "stderr",
     "output_type": "stream",
     "text": [
      "[Parallel(n_jobs=4)]: Done   5 tasks      | elapsed:  1.1min\n"
     ]
    },
    {
     "name": "stdout",
     "output_type": "stream",
     "text": [
      "[CV]  C=0.5736152510448679, author_max_features=100, author_ngram=(1, 1), content_char_features=5000, content_char_ngram=(1, 4), content_word_features=10000, content_word_ngram=(1, 3), score=0.36084433773509406, total=  29.2s\n",
      "[CV] C=0.5736152510448679, author_max_features=500, author_ngram=(1, 1), content_char_features=5000, content_char_ngram=(1, 4), content_word_features=10000, content_word_ngram=(1, 3) \n",
      "[CV]  C=0.5736152510448679, author_max_features=300, author_ngram=(1, 1), content_char_features=5000, content_char_ngram=(1, 4), content_word_features=10000, content_word_ngram=(1, 3), score=0.3591922423273018, total=  29.2s\n",
      "[CV] C=0.5736152510448679, author_max_features=500, author_ngram=(1, 1), content_char_features=5000, content_char_ngram=(1, 4), content_word_features=10000, content_word_ngram=(1, 3) \n",
      "[CV]  C=0.5736152510448679, author_max_features=300, author_ngram=(1, 1), content_char_features=5000, content_char_ngram=(1, 4), content_word_features=10000, content_word_ngram=(1, 3), score=0.35696430356964304, total=  29.2s\n",
      "[CV] C=0.5736152510448679, author_max_features=500, author_ngram=(1, 1), content_char_features=5000, content_char_ngram=(1, 4), content_word_features=10000, content_word_ngram=(1, 3) \n",
      "[CV]  C=0.5736152510448679, author_max_features=300, author_ngram=(1, 1), content_char_features=5000, content_char_ngram=(1, 4), content_word_features=10000, content_word_ngram=(1, 3), score=0.36084433773509406, total=  23.6s\n",
      "[CV] C=0.5736152510448679, author_max_features=700, author_ngram=(1, 1), content_char_features=5000, content_char_ngram=(1, 4), content_word_features=10000, content_word_ngram=(1, 3) \n",
      "[CV]  C=0.5736152510448679, author_max_features=500, author_ngram=(1, 1), content_char_features=5000, content_char_ngram=(1, 4), content_word_features=10000, content_word_ngram=(1, 3), score=0.3591922423273018, total=  28.6s\n",
      "[CV] C=0.5736152510448679, author_max_features=700, author_ngram=(1, 1), content_char_features=5000, content_char_ngram=(1, 4), content_word_features=10000, content_word_ngram=(1, 3) \n"
     ]
    },
    {
     "name": "stderr",
     "output_type": "stream",
     "text": [
      "[Parallel(n_jobs=4)]: Done  10 tasks      | elapsed:  1.7min\n"
     ]
    },
    {
     "name": "stdout",
     "output_type": "stream",
     "text": [
      "[CV]  C=0.5736152510448679, author_max_features=500, author_ngram=(1, 1), content_char_features=5000, content_char_ngram=(1, 4), content_word_features=10000, content_word_ngram=(1, 3), score=0.35696430356964304, total=  28.8s\n",
      "[CV] C=0.5736152510448679, author_max_features=700, author_ngram=(1, 1), content_char_features=5000, content_char_ngram=(1, 4), content_word_features=10000, content_word_ngram=(1, 3) \n",
      "[CV]  C=0.5736152510448679, author_max_features=500, author_ngram=(1, 1), content_char_features=5000, content_char_ngram=(1, 4), content_word_features=10000, content_word_ngram=(1, 3), score=0.36084433773509406, total=  28.7s\n",
      "[CV] C=0.5736152510448679, author_max_features=1000, author_ngram=(1, 1), content_char_features=5000, content_char_ngram=(1, 4), content_word_features=10000, content_word_ngram=(1, 3) \n",
      "[CV]  C=0.5736152510448679, author_max_features=700, author_ngram=(1, 1), content_char_features=5000, content_char_ngram=(1, 4), content_word_features=10000, content_word_ngram=(1, 3), score=0.3591922423273018, total=  20.0s\n",
      "[CV] C=0.5736152510448679, author_max_features=1000, author_ngram=(1, 1), content_char_features=5000, content_char_ngram=(1, 4), content_word_features=10000, content_word_ngram=(1, 3) \n"
     ]
    },
    {
     "name": "stderr",
     "output_type": "stream",
     "text": [
      "[Parallel(n_jobs=4)]: Done  13 out of  18 | elapsed:  1.9min remaining:   44.1s\n"
     ]
    },
    {
     "name": "stdout",
     "output_type": "stream",
     "text": [
      "[CV]  C=0.5736152510448679, author_max_features=700, author_ngram=(1, 1), content_char_features=5000, content_char_ngram=(1, 4), content_word_features=10000, content_word_ngram=(1, 3), score=0.35696430356964304, total=  28.4s\n",
      "[CV] C=0.5736152510448679, author_max_features=1000, author_ngram=(1, 1), content_char_features=5000, content_char_ngram=(1, 4), content_word_features=10000, content_word_ngram=(1, 3) \n",
      "[CV]  C=0.5736152510448679, author_max_features=700, author_ngram=(1, 1), content_char_features=5000, content_char_ngram=(1, 4), content_word_features=10000, content_word_ngram=(1, 3), score=0.36084433773509406, total=  28.6s\n",
      "[CV]  C=0.5736152510448679, author_max_features=1000, author_ngram=(1, 1), content_char_features=5000, content_char_ngram=(1, 4), content_word_features=10000, content_word_ngram=(1, 3), score=0.3591922423273018, total=  28.6s\n"
     ]
    },
    {
     "name": "stderr",
     "output_type": "stream",
     "text": [
      "[Parallel(n_jobs=4)]: Done  15 out of  18 | elapsed:  2.2min remaining:   26.8s\n"
     ]
    },
    {
     "name": "stdout",
     "output_type": "stream",
     "text": [
      "[CV]  C=0.5736152510448679, author_max_features=1000, author_ngram=(1, 1), content_char_features=5000, content_char_ngram=(1, 4), content_word_features=10000, content_word_ngram=(1, 3), score=0.35696430356964304, total=  22.5s\n",
      "[CV]  C=0.5736152510448679, author_max_features=1000, author_ngram=(1, 1), content_char_features=5000, content_char_ngram=(1, 4), content_word_features=10000, content_word_ngram=(1, 3), score=0.36084433773509406, total=  15.0s\n"
     ]
    },
    {
     "name": "stderr",
     "output_type": "stream",
     "text": [
      "[Parallel(n_jobs=4)]: Done  18 out of  18 | elapsed:  2.5min finished\n"
     ]
    },
    {
     "name": "stdout",
     "output_type": "stream",
     "text": [
      "Iteration 2. Best: {'C': 0.5736152510448679, 'author_max_features': 10, 'author_ngram': (1, 1), 'content_char_features': 5000, 'content_char_ngram': (1, 4), 'content_word_features': 10000, 'content_word_ngram': (1, 3)}, 0.36083333333333334\n",
      "Iteration 2. New start params: {'C': 0.5736152510448679, 'author_max_features': 10, 'author_ngram': (1, 1), 'content_char_features': 5000, 'content_char_ngram': (1, 4), 'content_word_features': 10000, 'content_word_ngram': (1, 3)}\n",
      "\n",
      "Iteration 3. Fitting with params {'C': [0.5736152510448679], 'author_max_features': [10], 'author_ngram': [(1, 1)], 'content_char_features': [5000], 'content_char_ngram': [(1, 4)], 'content_word_features': [10, 100, 300, 500, 700, 1000, 3000, 5000, 7000, 10000, 15000, 20000, 25000, 30000], 'content_word_ngram': [(1, 3)]}\n",
      "Fitting 3 folds for each of 14 candidates, totalling 42 fits\n",
      "[CV] C=0.5736152510448679, author_max_features=10, author_ngram=(1, 1), content_char_features=5000, content_char_ngram=(1, 4), content_word_features=10, content_word_ngram=(1, 3) \n",
      "[CV] C=0.5736152510448679, author_max_features=10, author_ngram=(1, 1), content_char_features=5000, content_char_ngram=(1, 4), content_word_features=10, content_word_ngram=(1, 3) \n",
      "[CV] C=0.5736152510448679, author_max_features=10, author_ngram=(1, 1), content_char_features=5000, content_char_ngram=(1, 4), content_word_features=10, content_word_ngram=(1, 3) \n",
      "[CV] C=0.5736152510448679, author_max_features=10, author_ngram=(1, 1), content_char_features=5000, content_char_ngram=(1, 4), content_word_features=100, content_word_ngram=(1, 3) \n",
      "[CV]  C=0.5736152510448679, author_max_features=10, author_ngram=(1, 1), content_char_features=5000, content_char_ngram=(1, 4), content_word_features=100, content_word_ngram=(1, 3), score=0.35509347195841245, total=  33.6s\n",
      "[CV] C=0.5736152510448679, author_max_features=10, author_ngram=(1, 1), content_char_features=5000, content_char_ngram=(1, 4), content_word_features=100, content_word_ngram=(1, 3) \n",
      "[CV]  C=0.5736152510448679, author_max_features=10, author_ngram=(1, 1), content_char_features=5000, content_char_ngram=(1, 4), content_word_features=10, content_word_ngram=(1, 3), score=0.3567929621113666, total=  33.8s\n",
      "[CV]  C=0.5736152510448679, author_max_features=10, author_ngram=(1, 1), content_char_features=5000, content_char_ngram=(1, 4), content_word_features=10, content_word_ngram=(1, 3), score=0.35074029611844737, total=  33.7s\n",
      "[CV] C=0.5736152510448679, author_max_features=10, author_ngram=(1, 1), content_char_features=5000, content_char_ngram=(1, 4), content_word_features=100, content_word_ngram=(1, 3) \n",
      "[CV] C=0.5736152510448679, author_max_features=10, author_ngram=(1, 1), content_char_features=5000, content_char_ngram=(1, 4), content_word_features=300, content_word_ngram=(1, 3) \n",
      "[CV]  C=0.5736152510448679, author_max_features=10, author_ngram=(1, 1), content_char_features=5000, content_char_ngram=(1, 4), content_word_features=10, content_word_ngram=(1, 3), score=0.34936506349365065, total=  34.0s\n",
      "[CV] C=0.5736152510448679, author_max_features=10, author_ngram=(1, 1), content_char_features=5000, content_char_ngram=(1, 4), content_word_features=300, content_word_ngram=(1, 3) \n",
      "[CV]  C=0.5736152510448679, author_max_features=10, author_ngram=(1, 1), content_char_features=5000, content_char_ngram=(1, 4), content_word_features=100, content_word_ngram=(1, 3), score=0.35494197679071626, total=  33.6s\n",
      "[CV] C=0.5736152510448679, author_max_features=10, author_ngram=(1, 1), content_char_features=5000, content_char_ngram=(1, 4), content_word_features=300, content_word_ngram=(1, 3) \n",
      "[CV]  C=0.5736152510448679, author_max_features=10, author_ngram=(1, 1), content_char_features=5000, content_char_ngram=(1, 4), content_word_features=300, content_word_ngram=(1, 3), score=0.359592122363291, total=  33.6s\n",
      "[CV] C=0.5736152510448679, author_max_features=10, author_ngram=(1, 1), content_char_features=5000, content_char_ngram=(1, 4), content_word_features=500, content_word_ngram=(1, 3) \n"
     ]
    },
    {
     "name": "stderr",
     "output_type": "stream",
     "text": [
      "[Parallel(n_jobs=4)]: Done   5 tasks      | elapsed:  1.2min\n"
     ]
    },
    {
     "name": "stdout",
     "output_type": "stream",
     "text": [
      "[CV]  C=0.5736152510448679, author_max_features=10, author_ngram=(1, 1), content_char_features=5000, content_char_ngram=(1, 4), content_word_features=300, content_word_ngram=(1, 3), score=0.35676432356764326, total=  33.7s\n",
      "[CV]  C=0.5736152510448679, author_max_features=10, author_ngram=(1, 1), content_char_features=5000, content_char_ngram=(1, 4), content_word_features=100, content_word_ngram=(1, 3), score=0.35566443355664434, total=  34.2s\n",
      "[CV] C=0.5736152510448679, author_max_features=10, author_ngram=(1, 1), content_char_features=5000, content_char_ngram=(1, 4), content_word_features=500, content_word_ngram=(1, 3) \n",
      "[CV] C=0.5736152510448679, author_max_features=10, author_ngram=(1, 1), content_char_features=5000, content_char_ngram=(1, 4), content_word_features=500, content_word_ngram=(1, 3) \n",
      "[CV]  C=0.5736152510448679, author_max_features=10, author_ngram=(1, 1), content_char_features=5000, content_char_ngram=(1, 4), content_word_features=500, content_word_ngram=(1, 3), score=0.357592722183345, total=  33.1s\n",
      "[CV] C=0.5736152510448679, author_max_features=10, author_ngram=(1, 1), content_char_features=5000, content_char_ngram=(1, 4), content_word_features=700, content_word_ngram=(1, 3) \n",
      "[CV]  C=0.5736152510448679, author_max_features=10, author_ngram=(1, 1), content_char_features=5000, content_char_ngram=(1, 4), content_word_features=300, content_word_ngram=(1, 3), score=0.3554421768707483, total=  33.4s\n",
      "[CV] C=0.5736152510448679, author_max_features=10, author_ngram=(1, 1), content_char_features=5000, content_char_ngram=(1, 4), content_word_features=700, content_word_ngram=(1, 3) \n"
     ]
    },
    {
     "name": "stderr",
     "output_type": "stream",
     "text": [
      "[Parallel(n_jobs=4)]: Done  10 tasks      | elapsed:  1.8min\n"
     ]
    },
    {
     "name": "stdout",
     "output_type": "stream",
     "text": [
      "[CV]  C=0.5736152510448679, author_max_features=10, author_ngram=(1, 1), content_char_features=5000, content_char_ngram=(1, 4), content_word_features=500, content_word_ngram=(1, 3), score=0.35824329731892757, total=  33.0s\n",
      "[CV] C=0.5736152510448679, author_max_features=10, author_ngram=(1, 1), content_char_features=5000, content_char_ngram=(1, 4), content_word_features=700, content_word_ngram=(1, 3) \n",
      "[CV]  C=0.5736152510448679, author_max_features=10, author_ngram=(1, 1), content_char_features=5000, content_char_ngram=(1, 4), content_word_features=500, content_word_ngram=(1, 3), score=0.3545645435456454, total=  33.3s\n",
      "[CV] C=0.5736152510448679, author_max_features=10, author_ngram=(1, 1), content_char_features=5000, content_char_ngram=(1, 4), content_word_features=1000, content_word_ngram=(1, 3) \n",
      "[CV]  C=0.5736152510448679, author_max_features=10, author_ngram=(1, 1), content_char_features=5000, content_char_ngram=(1, 4), content_word_features=700, content_word_ngram=(1, 3), score=0.3581641835816418, total=  33.1s\n",
      "[CV] C=0.5736152510448679, author_max_features=10, author_ngram=(1, 1), content_char_features=5000, content_char_ngram=(1, 4), content_word_features=1000, content_word_ngram=(1, 3) \n",
      "[CV]  C=0.5736152510448679, author_max_features=10, author_ngram=(1, 1), content_char_features=5000, content_char_ngram=(1, 4), content_word_features=700, content_word_ngram=(1, 3), score=0.3601919424172748, total=  33.5s\n",
      "[CV] C=0.5736152510448679, author_max_features=10, author_ngram=(1, 1), content_char_features=5000, content_char_ngram=(1, 4), content_word_features=1000, content_word_ngram=(1, 3) \n",
      "[CV]  C=0.5736152510448679, author_max_features=10, author_ngram=(1, 1), content_char_features=5000, content_char_ngram=(1, 4), content_word_features=700, content_word_ngram=(1, 3), score=0.36134453781512604, total=  33.3s\n",
      "[CV] C=0.5736152510448679, author_max_features=10, author_ngram=(1, 1), content_char_features=5000, content_char_ngram=(1, 4), content_word_features=3000, content_word_ngram=(1, 3) \n",
      "[CV]  C=0.5736152510448679, author_max_features=10, author_ngram=(1, 1), content_char_features=5000, content_char_ngram=(1, 4), content_word_features=1000, content_word_ngram=(1, 3), score=0.36199140257922624, total=  33.5s\n",
      "[CV] C=0.5736152510448679, author_max_features=10, author_ngram=(1, 1), content_char_features=5000, content_char_ngram=(1, 4), content_word_features=3000, content_word_ngram=(1, 3) \n",
      "[CV]  C=0.5736152510448679, author_max_features=10, author_ngram=(1, 1), content_char_features=5000, content_char_ngram=(1, 4), content_word_features=1000, content_word_ngram=(1, 3), score=0.3564643535646435, total=  33.3s\n",
      "[CV] C=0.5736152510448679, author_max_features=10, author_ngram=(1, 1), content_char_features=5000, content_char_ngram=(1, 4), content_word_features=3000, content_word_ngram=(1, 3) \n"
     ]
    },
    {
     "name": "stderr",
     "output_type": "stream",
     "text": [
      "[Parallel(n_jobs=4)]: Done  17 tasks      | elapsed:  3.1min\n"
     ]
    },
    {
     "name": "stdout",
     "output_type": "stream",
     "text": [
      "[CV]  C=0.5736152510448679, author_max_features=10, author_ngram=(1, 1), content_char_features=5000, content_char_ngram=(1, 4), content_word_features=1000, content_word_ngram=(1, 3), score=0.36144457783113243, total=  33.8s\n",
      "[CV] C=0.5736152510448679, author_max_features=10, author_ngram=(1, 1), content_char_features=5000, content_char_ngram=(1, 4), content_word_features=5000, content_word_ngram=(1, 3) \n",
      "[CV]  C=0.5736152510448679, author_max_features=10, author_ngram=(1, 1), content_char_features=5000, content_char_ngram=(1, 4), content_word_features=3000, content_word_ngram=(1, 3), score=0.3617914625612316, total=  33.5s\n",
      "[CV] C=0.5736152510448679, author_max_features=10, author_ngram=(1, 1), content_char_features=5000, content_char_ngram=(1, 4), content_word_features=5000, content_word_ngram=(1, 3) \n",
      "[CV]  C=0.5736152510448679, author_max_features=10, author_ngram=(1, 1), content_char_features=5000, content_char_ngram=(1, 4), content_word_features=3000, content_word_ngram=(1, 3), score=0.35626437356264373, total=  33.3s\n",
      "[CV] C=0.5736152510448679, author_max_features=10, author_ngram=(1, 1), content_char_features=5000, content_char_ngram=(1, 4), content_word_features=5000, content_word_ngram=(1, 3) \n",
      "[CV]  C=0.5736152510448679, author_max_features=10, author_ngram=(1, 1), content_char_features=5000, content_char_ngram=(1, 4), content_word_features=3000, content_word_ngram=(1, 3), score=0.3607442977190876, total=  33.7s\n",
      "[CV] C=0.5736152510448679, author_max_features=10, author_ngram=(1, 1), content_char_features=5000, content_char_ngram=(1, 4), content_word_features=7000, content_word_ngram=(1, 3) \n",
      "[CV]  C=0.5736152510448679, author_max_features=10, author_ngram=(1, 1), content_char_features=5000, content_char_ngram=(1, 4), content_word_features=5000, content_word_ngram=(1, 3), score=0.35706429357064295, total=  33.4s\n",
      "[CV] C=0.5736152510448679, author_max_features=10, author_ngram=(1, 1), content_char_features=5000, content_char_ngram=(1, 4), content_word_features=7000, content_word_ngram=(1, 3) \n",
      "[CV]  C=0.5736152510448679, author_max_features=10, author_ngram=(1, 1), content_char_features=5000, content_char_ngram=(1, 4), content_word_features=5000, content_word_ngram=(1, 3), score=0.36174469787915164, total=  33.5s\n",
      "[CV] C=0.5736152510448679, author_max_features=10, author_ngram=(1, 1), content_char_features=5000, content_char_ngram=(1, 4), content_word_features=7000, content_word_ngram=(1, 3) \n",
      "[CV]  C=0.5736152510448679, author_max_features=10, author_ngram=(1, 1), content_char_features=5000, content_char_ngram=(1, 4), content_word_features=5000, content_word_ngram=(1, 3), score=0.3646905928221534, total=  34.0s\n",
      "[CV] C=0.5736152510448679, author_max_features=10, author_ngram=(1, 1), content_char_features=5000, content_char_ngram=(1, 4), content_word_features=10000, content_word_ngram=(1, 3) \n"
     ]
    },
    {
     "name": "stderr",
     "output_type": "stream",
     "text": [
      "[Parallel(n_jobs=4)]: Done  24 tasks      | elapsed:  3.7min\n"
     ]
    },
    {
     "name": "stdout",
     "output_type": "stream",
     "text": [
      "[CV]  C=0.5736152510448679, author_max_features=10, author_ngram=(1, 1), content_char_features=5000, content_char_ngram=(1, 4), content_word_features=7000, content_word_ngram=(1, 3), score=0.36379086274117767, total=  33.2s\n",
      "[CV] C=0.5736152510448679, author_max_features=10, author_ngram=(1, 1), content_char_features=5000, content_char_ngram=(1, 4), content_word_features=10000, content_word_ngram=(1, 3) \n",
      "[CV]  C=0.5736152510448679, author_max_features=10, author_ngram=(1, 1), content_char_features=5000, content_char_ngram=(1, 4), content_word_features=7000, content_word_ngram=(1, 3), score=0.35636436356364365, total=  33.3s\n",
      "[CV] C=0.5736152510448679, author_max_features=10, author_ngram=(1, 1), content_char_features=5000, content_char_ngram=(1, 4), content_word_features=10000, content_word_ngram=(1, 3) \n",
      "[CV]  C=0.5736152510448679, author_max_features=10, author_ngram=(1, 1), content_char_features=5000, content_char_ngram=(1, 4), content_word_features=10000, content_word_ngram=(1, 3), score=0.3645906228131561, total=  33.1s\n",
      "[CV] C=0.5736152510448679, author_max_features=10, author_ngram=(1, 1), content_char_features=5000, content_char_ngram=(1, 4), content_word_features=15000, content_word_ngram=(1, 3) \n",
      "[CV]  C=0.5736152510448679, author_max_features=10, author_ngram=(1, 1), content_char_features=5000, content_char_ngram=(1, 4), content_word_features=7000, content_word_ngram=(1, 3), score=0.36204481792717086, total=  33.3s\n",
      "[CV] C=0.5736152510448679, author_max_features=10, author_ngram=(1, 1), content_char_features=5000, content_char_ngram=(1, 4), content_word_features=15000, content_word_ngram=(1, 3) \n",
      "[CV]  C=0.5736152510448679, author_max_features=10, author_ngram=(1, 1), content_char_features=5000, content_char_ngram=(1, 4), content_word_features=10000, content_word_ngram=(1, 3), score=0.3568643135686431, total=  33.7s\n",
      "[CV] C=0.5736152510448679, author_max_features=10, author_ngram=(1, 1), content_char_features=5000, content_char_ngram=(1, 4), content_word_features=15000, content_word_ngram=(1, 3) \n",
      "[CV]  C=0.5736152510448679, author_max_features=10, author_ngram=(1, 1), content_char_features=5000, content_char_ngram=(1, 4), content_word_features=15000, content_word_ngram=(1, 3), score=0.36509047285814256, total=  33.9s\n",
      "[CV] C=0.5736152510448679, author_max_features=10, author_ngram=(1, 1), content_char_features=5000, content_char_ngram=(1, 4), content_word_features=20000, content_word_ngram=(1, 3) \n",
      "[CV]  C=0.5736152510448679, author_max_features=10, author_ngram=(1, 1), content_char_features=5000, content_char_ngram=(1, 4), content_word_features=10000, content_word_ngram=(1, 3), score=0.3627450980392157, total=  34.5s\n",
      "[CV] C=0.5736152510448679, author_max_features=10, author_ngram=(1, 1), content_char_features=5000, content_char_ngram=(1, 4), content_word_features=20000, content_word_ngram=(1, 3) \n",
      "[CV]  C=0.5736152510448679, author_max_features=10, author_ngram=(1, 1), content_char_features=5000, content_char_ngram=(1, 4), content_word_features=15000, content_word_ngram=(1, 3), score=0.3564643535646435, total=  34.2s\n",
      "[CV] C=0.5736152510448679, author_max_features=10, author_ngram=(1, 1), content_char_features=5000, content_char_ngram=(1, 4), content_word_features=20000, content_word_ngram=(1, 3) \n",
      "[CV]  C=0.5736152510448679, author_max_features=10, author_ngram=(1, 1), content_char_features=5000, content_char_ngram=(1, 4), content_word_features=15000, content_word_ngram=(1, 3), score=0.3631452581032413, total=  33.1s\n",
      "[CV] C=0.5736152510448679, author_max_features=10, author_ngram=(1, 1), content_char_features=5000, content_char_ngram=(1, 4), content_word_features=25000, content_word_ngram=(1, 3) \n"
     ]
    },
    {
     "name": "stderr",
     "output_type": "stream",
     "text": [
      "[Parallel(n_jobs=4)]: Done  33 tasks      | elapsed:  5.5min\n"
     ]
    },
    {
     "name": "stdout",
     "output_type": "stream",
     "text": [
      "[CV]  C=0.5736152510448679, author_max_features=10, author_ngram=(1, 1), content_char_features=5000, content_char_ngram=(1, 4), content_word_features=20000, content_word_ngram=(1, 3), score=0.36519044286713986, total=  34.3s\n",
      "[CV] C=0.5736152510448679, author_max_features=10, author_ngram=(1, 1), content_char_features=5000, content_char_ngram=(1, 4), content_word_features=25000, content_word_ngram=(1, 3) \n",
      "[CV]  C=0.5736152510448679, author_max_features=10, author_ngram=(1, 1), content_char_features=5000, content_char_ngram=(1, 4), content_word_features=20000, content_word_ngram=(1, 3), score=0.35776422357764226, total=  34.4s\n",
      "[CV] C=0.5736152510448679, author_max_features=10, author_ngram=(1, 1), content_char_features=5000, content_char_ngram=(1, 4), content_word_features=25000, content_word_ngram=(1, 3) \n",
      "[CV]  C=0.5736152510448679, author_max_features=10, author_ngram=(1, 1), content_char_features=5000, content_char_ngram=(1, 4), content_word_features=20000, content_word_ngram=(1, 3), score=0.3638455382152861, total=  34.2s\n",
      "[CV] C=0.5736152510448679, author_max_features=10, author_ngram=(1, 1), content_char_features=5000, content_char_ngram=(1, 4), content_word_features=30000, content_word_ngram=(1, 3) \n",
      "[CV]  C=0.5736152510448679, author_max_features=10, author_ngram=(1, 1), content_char_features=5000, content_char_ngram=(1, 4), content_word_features=25000, content_word_ngram=(1, 3), score=0.36589023293012096, total=  31.3s\n",
      "[CV] C=0.5736152510448679, author_max_features=10, author_ngram=(1, 1), content_char_features=5000, content_char_ngram=(1, 4), content_word_features=30000, content_word_ngram=(1, 3) \n",
      "[CV]  C=0.5736152510448679, author_max_features=10, author_ngram=(1, 1), content_char_features=5000, content_char_ngram=(1, 4), content_word_features=30000, content_word_ngram=(1, 3), score=0.3654903528941318, total=  33.8s\n",
      "[CV]  C=0.5736152510448679, author_max_features=10, author_ngram=(1, 1), content_char_features=5000, content_char_ngram=(1, 4), content_word_features=25000, content_word_ngram=(1, 3), score=0.35866413358664134, total=  34.1s\n",
      "[CV] C=0.5736152510448679, author_max_features=10, author_ngram=(1, 1), content_char_features=5000, content_char_ngram=(1, 4), content_word_features=30000, content_word_ngram=(1, 3) \n",
      "[CV]  C=0.5736152510448679, author_max_features=10, author_ngram=(1, 1), content_char_features=5000, content_char_ngram=(1, 4), content_word_features=25000, content_word_ngram=(1, 3), score=0.36424569827931175, total=  34.2s\n"
     ]
    },
    {
     "name": "stderr",
     "output_type": "stream",
     "text": [
      "[Parallel(n_jobs=4)]: Done  40 out of  42 | elapsed:  6.2min remaining:   18.5s\n"
     ]
    },
    {
     "name": "stdout",
     "output_type": "stream",
     "text": [
      "[CV]  C=0.5736152510448679, author_max_features=10, author_ngram=(1, 1), content_char_features=5000, content_char_ngram=(1, 4), content_word_features=30000, content_word_ngram=(1, 3), score=0.3591640835916408, total=  20.5s\n",
      "[CV]  C=0.5736152510448679, author_max_features=10, author_ngram=(1, 1), content_char_features=5000, content_char_ngram=(1, 4), content_word_features=30000, content_word_ngram=(1, 3), score=0.3648459383753501, total=  20.2s\n"
     ]
    },
    {
     "name": "stderr",
     "output_type": "stream",
     "text": [
      "[Parallel(n_jobs=4)]: Done  42 out of  42 | elapsed:  6.5min finished\n"
     ]
    },
    {
     "name": "stdout",
     "output_type": "stream",
     "text": [
      "Iteration 3. Best: {'C': 0.5736152510448679, 'author_max_features': 10, 'author_ngram': (1, 1), 'content_char_features': 5000, 'content_char_ngram': (1, 4), 'content_word_features': 30000, 'content_word_ngram': (1, 3)}, 0.3631666666666667\n",
      "Iteration 3. New start params: {'C': 0.5736152510448679, 'author_max_features': 10, 'author_ngram': (1, 1), 'content_char_features': 5000, 'content_char_ngram': (1, 4), 'content_word_features': 30000, 'content_word_ngram': (1, 3)}\n",
      "\n",
      "Iteration 4. Fitting with params {'C': array([ 0.01      ,  0.01268961,  0.01610262,  0.0204336 ,  0.02592944,\n",
      "        0.03290345,  0.04175319,  0.05298317,  0.06723358,  0.08531679,\n",
      "        0.10826367,  0.13738238,  0.17433288,  0.22122163,  0.28072162,\n",
      "        0.35622479,  0.45203537,  0.57361525,  0.72789538,  0.92367086,\n",
      "        1.1721023 ,  1.48735211,  1.88739182,  2.39502662,  3.03919538,\n",
      "        3.85662042,  4.89390092,  6.21016942,  7.88046282, 10.        ]), 'author_max_features': [10], 'author_ngram': [(1, 1)], 'content_char_features': [5000], 'content_char_ngram': [(1, 4)], 'content_word_features': [30000], 'content_word_ngram': [(1, 3)]}\n",
      "Fitting 3 folds for each of 30 candidates, totalling 90 fits\n",
      "[CV] C=0.01, author_max_features=10, author_ngram=(1, 1), content_char_features=5000, content_char_ngram=(1, 4), content_word_features=30000, content_word_ngram=(1, 3) \n",
      "[CV] C=0.01, author_max_features=10, author_ngram=(1, 1), content_char_features=5000, content_char_ngram=(1, 4), content_word_features=30000, content_word_ngram=(1, 3) \n",
      "[CV] C=0.01, author_max_features=10, author_ngram=(1, 1), content_char_features=5000, content_char_ngram=(1, 4), content_word_features=30000, content_word_ngram=(1, 3) \n",
      "[CV] C=0.01268961003167922, author_max_features=10, author_ngram=(1, 1), content_char_features=5000, content_char_ngram=(1, 4), content_word_features=30000, content_word_ngram=(1, 3) \n",
      "[CV]  C=0.01, author_max_features=10, author_ngram=(1, 1), content_char_features=5000, content_char_ngram=(1, 4), content_word_features=30000, content_word_ngram=(1, 3), score=0.28921323602919125, total=  18.4s\n",
      "[CV] C=0.01268961003167922, author_max_features=10, author_ngram=(1, 1), content_char_features=5000, content_char_ngram=(1, 4), content_word_features=30000, content_word_ngram=(1, 3) \n",
      "[CV]  C=0.01, author_max_features=10, author_ngram=(1, 1), content_char_features=5000, content_char_ngram=(1, 4), content_word_features=30000, content_word_ngram=(1, 3), score=0.2856714328567143, total=  18.5s\n",
      "[CV] C=0.01268961003167922, author_max_features=10, author_ngram=(1, 1), content_char_features=5000, content_char_ngram=(1, 4), content_word_features=30000, content_word_ngram=(1, 3) \n",
      "[CV]  C=0.01, author_max_features=10, author_ngram=(1, 1), content_char_features=5000, content_char_ngram=(1, 4), content_word_features=30000, content_word_ngram=(1, 3), score=0.28771508603441376, total=  18.5s\n",
      "[CV]  C=0.01268961003167922, author_max_features=10, author_ngram=(1, 1), content_char_features=5000, content_char_ngram=(1, 4), content_word_features=30000, content_word_ngram=(1, 3), score=0.2936119164250725, total=  18.5s\n",
      "[CV] C=0.01610262027560939, author_max_features=10, author_ngram=(1, 1), content_char_features=5000, content_char_ngram=(1, 4), content_word_features=30000, content_word_ngram=(1, 3) \n",
      "[CV] C=0.01610262027560939, author_max_features=10, author_ngram=(1, 1), content_char_features=5000, content_char_ngram=(1, 4), content_word_features=30000, content_word_ngram=(1, 3) \n",
      "[CV]  C=0.01268961003167922, author_max_features=10, author_ngram=(1, 1), content_char_features=5000, content_char_ngram=(1, 4), content_word_features=30000, content_word_ngram=(1, 3), score=0.28817118288171184, total=  18.2s\n",
      "[CV] C=0.01610262027560939, author_max_features=10, author_ngram=(1, 1), content_char_features=5000, content_char_ngram=(1, 4), content_word_features=30000, content_word_ngram=(1, 3) \n"
     ]
    },
    {
     "name": "stderr",
     "output_type": "stream",
     "text": [
      "[Parallel(n_jobs=4)]: Done   5 tasks      | elapsed:   43.0s\n"
     ]
    },
    {
     "name": "stdout",
     "output_type": "stream",
     "text": [
      "[CV]  C=0.01268961003167922, author_max_features=10, author_ngram=(1, 1), content_char_features=5000, content_char_ngram=(1, 4), content_word_features=30000, content_word_ngram=(1, 3), score=0.2925170068027211, total=  18.3s\n",
      "[CV] C=0.020433597178569417, author_max_features=10, author_ngram=(1, 1), content_char_features=5000, content_char_ngram=(1, 4), content_word_features=30000, content_word_ngram=(1, 3) \n",
      "[CV]  C=0.01610262027560939, author_max_features=10, author_ngram=(1, 1), content_char_features=5000, content_char_ngram=(1, 4), content_word_features=30000, content_word_ngram=(1, 3), score=0.2986104168749375, total=  18.4s\n",
      "[CV] C=0.020433597178569417, author_max_features=10, author_ngram=(1, 1), content_char_features=5000, content_char_ngram=(1, 4), content_word_features=30000, content_word_ngram=(1, 3) \n",
      "[CV]  C=0.01610262027560939, author_max_features=10, author_ngram=(1, 1), content_char_features=5000, content_char_ngram=(1, 4), content_word_features=30000, content_word_ngram=(1, 3), score=0.29287071292870714, total=  18.4s\n",
      "[CV] C=0.020433597178569417, author_max_features=10, author_ngram=(1, 1), content_char_features=5000, content_char_ngram=(1, 4), content_word_features=30000, content_word_ngram=(1, 3) \n",
      "[CV]  C=0.01610262027560939, author_max_features=10, author_ngram=(1, 1), content_char_features=5000, content_char_ngram=(1, 4), content_word_features=30000, content_word_ngram=(1, 3), score=0.29751900760304123, total=  18.3s\n",
      "[CV] C=0.02592943797404667, author_max_features=10, author_ngram=(1, 1), content_char_features=5000, content_char_ngram=(1, 4), content_word_features=30000, content_word_ngram=(1, 3) \n",
      "[CV]  C=0.020433597178569417, author_max_features=10, author_ngram=(1, 1), content_char_features=5000, content_char_ngram=(1, 4), content_word_features=30000, content_word_ngram=(1, 3), score=0.30370888733379986, total=  18.8s\n",
      "[CV] C=0.02592943797404667, author_max_features=10, author_ngram=(1, 1), content_char_features=5000, content_char_ngram=(1, 4), content_word_features=30000, content_word_ngram=(1, 3) \n"
     ]
    },
    {
     "name": "stderr",
     "output_type": "stream",
     "text": [
      "[Parallel(n_jobs=4)]: Done  10 tasks      | elapsed:  1.1min\n"
     ]
    },
    {
     "name": "stdout",
     "output_type": "stream",
     "text": [
      "[CV]  C=0.020433597178569417, author_max_features=10, author_ngram=(1, 1), content_char_features=5000, content_char_ngram=(1, 4), content_word_features=30000, content_word_ngram=(1, 3), score=0.3000699930006999, total=  18.7s\n",
      "[CV] C=0.02592943797404667, author_max_features=10, author_ngram=(1, 1), content_char_features=5000, content_char_ngram=(1, 4), content_word_features=30000, content_word_ngram=(1, 3) \n",
      "[CV]  C=0.020433597178569417, author_max_features=10, author_ngram=(1, 1), content_char_features=5000, content_char_ngram=(1, 4), content_word_features=30000, content_word_ngram=(1, 3), score=0.3013205282112845, total=  18.7s\n",
      "[CV] C=0.03290344562312668, author_max_features=10, author_ngram=(1, 1), content_char_features=5000, content_char_ngram=(1, 4), content_word_features=30000, content_word_ngram=(1, 3) \n",
      "[CV]  C=0.02592943797404667, author_max_features=10, author_ngram=(1, 1), content_char_features=5000, content_char_ngram=(1, 4), content_word_features=30000, content_word_ngram=(1, 3), score=0.312406278116565, total=  19.1s\n",
      "[CV] C=0.03290344562312668, author_max_features=10, author_ngram=(1, 1), content_char_features=5000, content_char_ngram=(1, 4), content_word_features=30000, content_word_ngram=(1, 3) \n",
      "[CV]  C=0.02592943797404667, author_max_features=10, author_ngram=(1, 1), content_char_features=5000, content_char_ngram=(1, 4), content_word_features=30000, content_word_ngram=(1, 3), score=0.30596940305969406, total=  19.5s\n",
      "[CV] C=0.03290344562312668, author_max_features=10, author_ngram=(1, 1), content_char_features=5000, content_char_ngram=(1, 4), content_word_features=30000, content_word_ngram=(1, 3) \n",
      "[CV]  C=0.02592943797404667, author_max_features=10, author_ngram=(1, 1), content_char_features=5000, content_char_ngram=(1, 4), content_word_features=30000, content_word_ngram=(1, 3), score=0.30682272909163666, total=  19.6s\n",
      "[CV]  C=0.03290344562312668, author_max_features=10, author_ngram=(1, 1), content_char_features=5000, content_char_ngram=(1, 4), content_word_features=30000, content_word_ngram=(1, 3), score=0.3202039388183545, total=  19.6s\n",
      "[CV] C=0.041753189365604, author_max_features=10, author_ngram=(1, 1), content_char_features=5000, content_char_ngram=(1, 4), content_word_features=30000, content_word_ngram=(1, 3) \n",
      "[CV] C=0.041753189365604, author_max_features=10, author_ngram=(1, 1), content_char_features=5000, content_char_ngram=(1, 4), content_word_features=30000, content_word_ngram=(1, 3) \n",
      "[CV]  C=0.03290344562312668, author_max_features=10, author_ngram=(1, 1), content_char_features=5000, content_char_ngram=(1, 4), content_word_features=30000, content_word_ngram=(1, 3), score=0.31516848315168483, total=  18.7s\n",
      "[CV] C=0.041753189365604, author_max_features=10, author_ngram=(1, 1), content_char_features=5000, content_char_ngram=(1, 4), content_word_features=30000, content_word_ngram=(1, 3) \n"
     ]
    },
    {
     "name": "stderr",
     "output_type": "stream",
     "text": [
      "[Parallel(n_jobs=4)]: Done  17 tasks      | elapsed:  1.8min\n"
     ]
    },
    {
     "name": "stdout",
     "output_type": "stream",
     "text": [
      "[CV]  C=0.03290344562312668, author_max_features=10, author_ngram=(1, 1), content_char_features=5000, content_char_ngram=(1, 4), content_word_features=30000, content_word_ngram=(1, 3), score=0.31402561024409764, total=  19.7s\n",
      "[CV] C=0.05298316906283707, author_max_features=10, author_ngram=(1, 1), content_char_features=5000, content_char_ngram=(1, 4), content_word_features=30000, content_word_ngram=(1, 3) \n",
      "[CV]  C=0.041753189365604, author_max_features=10, author_ngram=(1, 1), content_char_features=5000, content_char_ngram=(1, 4), content_word_features=30000, content_word_ngram=(1, 3), score=0.31966803319668036, total=  20.0s\n",
      "[CV]  C=0.041753189365604, author_max_features=10, author_ngram=(1, 1), content_char_features=5000, content_char_ngram=(1, 4), content_word_features=30000, content_word_ngram=(1, 3), score=0.32700189943017094, total=  20.0s\n",
      "[CV] C=0.05298316906283707, author_max_features=10, author_ngram=(1, 1), content_char_features=5000, content_char_ngram=(1, 4), content_word_features=30000, content_word_ngram=(1, 3) \n",
      "[CV] C=0.05298316906283707, author_max_features=10, author_ngram=(1, 1), content_char_features=5000, content_char_ngram=(1, 4), content_word_features=30000, content_word_ngram=(1, 3) \n",
      "[CV]  C=0.041753189365604, author_max_features=10, author_ngram=(1, 1), content_char_features=5000, content_char_ngram=(1, 4), content_word_features=30000, content_word_ngram=(1, 3), score=0.319827931172469, total=  17.4s\n",
      "[CV] C=0.06723357536499334, author_max_features=10, author_ngram=(1, 1), content_char_features=5000, content_char_ngram=(1, 4), content_word_features=30000, content_word_ngram=(1, 3) \n",
      "[CV]  C=0.05298316906283707, author_max_features=10, author_ngram=(1, 1), content_char_features=5000, content_char_ngram=(1, 4), content_word_features=30000, content_word_ngram=(1, 3), score=0.33479956013196044, total=  20.6s\n",
      "[CV] C=0.06723357536499334, author_max_features=10, author_ngram=(1, 1), content_char_features=5000, content_char_ngram=(1, 4), content_word_features=30000, content_word_ngram=(1, 3) \n",
      "[CV]  C=0.05298316906283707, author_max_features=10, author_ngram=(1, 1), content_char_features=5000, content_char_ngram=(1, 4), content_word_features=30000, content_word_ngram=(1, 3), score=0.33013205282112845, total=  20.2s\n",
      "[CV] C=0.06723357536499334, author_max_features=10, author_ngram=(1, 1), content_char_features=5000, content_char_ngram=(1, 4), content_word_features=30000, content_word_ngram=(1, 3) \n",
      "[CV]  C=0.05298316906283707, author_max_features=10, author_ngram=(1, 1), content_char_features=5000, content_char_ngram=(1, 4), content_word_features=30000, content_word_ngram=(1, 3), score=0.3270672932706729, total=  20.3s\n",
      "[CV] C=0.08531678524172806, author_max_features=10, author_ngram=(1, 1), content_char_features=5000, content_char_ngram=(1, 4), content_word_features=30000, content_word_ngram=(1, 3) \n"
     ]
    },
    {
     "name": "stderr",
     "output_type": "stream",
     "text": [
      "[Parallel(n_jobs=4)]: Done  24 tasks      | elapsed:  2.3min\n"
     ]
    },
    {
     "name": "stdout",
     "output_type": "stream",
     "text": [
      "[CV]  C=0.06723357536499334, author_max_features=10, author_ngram=(1, 1), content_char_features=5000, content_char_ngram=(1, 4), content_word_features=30000, content_word_ngram=(1, 3), score=0.33999800059982005, total=  16.2s\n",
      "[CV] C=0.08531678524172806, author_max_features=10, author_ngram=(1, 1), content_char_features=5000, content_char_ngram=(1, 4), content_word_features=30000, content_word_ngram=(1, 3) \n",
      "[CV]  C=0.06723357536499334, author_max_features=10, author_ngram=(1, 1), content_char_features=5000, content_char_ngram=(1, 4), content_word_features=30000, content_word_ngram=(1, 3), score=0.32986701329867013, total=  21.4s\n",
      "[CV] C=0.08531678524172806, author_max_features=10, author_ngram=(1, 1), content_char_features=5000, content_char_ngram=(1, 4), content_word_features=30000, content_word_ngram=(1, 3) \n",
      "[CV]  C=0.06723357536499334, author_max_features=10, author_ngram=(1, 1), content_char_features=5000, content_char_ngram=(1, 4), content_word_features=30000, content_word_ngram=(1, 3), score=0.33733493397358943, total=  21.3s\n",
      "[CV] C=0.10826367338740546, author_max_features=10, author_ngram=(1, 1), content_char_features=5000, content_char_ngram=(1, 4), content_word_features=30000, content_word_ngram=(1, 3) \n",
      "[CV]  C=0.08531678524172806, author_max_features=10, author_ngram=(1, 1), content_char_features=5000, content_char_ngram=(1, 4), content_word_features=30000, content_word_ngram=(1, 3), score=0.3473957812656203, total=  21.7s\n",
      "[CV] C=0.10826367338740546, author_max_features=10, author_ngram=(1, 1), content_char_features=5000, content_char_ngram=(1, 4), content_word_features=30000, content_word_ngram=(1, 3) \n",
      "[CV]  C=0.08531678524172806, author_max_features=10, author_ngram=(1, 1), content_char_features=5000, content_char_ngram=(1, 4), content_word_features=30000, content_word_ngram=(1, 3), score=0.3357664233576642, total=  16.9s\n",
      "[CV] C=0.10826367338740546, author_max_features=10, author_ngram=(1, 1), content_char_features=5000, content_char_ngram=(1, 4), content_word_features=30000, content_word_ngram=(1, 3) \n",
      "[CV]  C=0.08531678524172806, author_max_features=10, author_ngram=(1, 1), content_char_features=5000, content_char_ngram=(1, 4), content_word_features=30000, content_word_ngram=(1, 3), score=0.3436374549819928, total=  21.5s\n",
      "[CV] C=0.1373823795883263, author_max_features=10, author_ngram=(1, 1), content_char_features=5000, content_char_ngram=(1, 4), content_word_features=30000, content_word_ngram=(1, 3) \n",
      "[CV]  C=0.10826367338740546, author_max_features=10, author_ngram=(1, 1), content_char_features=5000, content_char_ngram=(1, 4), content_word_features=30000, content_word_ngram=(1, 3), score=0.35129461161651504, total=  22.3s\n",
      "[CV] C=0.1373823795883263, author_max_features=10, author_ngram=(1, 1), content_char_features=5000, content_char_ngram=(1, 4), content_word_features=30000, content_word_ngram=(1, 3) \n",
      "[CV]  C=0.10826367338740546, author_max_features=10, author_ngram=(1, 1), content_char_features=5000, content_char_ngram=(1, 4), content_word_features=30000, content_word_ngram=(1, 3), score=0.34096590340965904, total=  22.4s\n",
      "[CV] C=0.1373823795883263, author_max_features=10, author_ngram=(1, 1), content_char_features=5000, content_char_ngram=(1, 4), content_word_features=30000, content_word_ngram=(1, 3) \n",
      "[CV]  C=0.10826367338740546, author_max_features=10, author_ngram=(1, 1), content_char_features=5000, content_char_ngram=(1, 4), content_word_features=30000, content_word_ngram=(1, 3), score=0.34893957583033214, total=  18.0s\n",
      "[CV] C=0.17433288221999882, author_max_features=10, author_ngram=(1, 1), content_char_features=5000, content_char_ngram=(1, 4), content_word_features=30000, content_word_ngram=(1, 3) \n"
     ]
    },
    {
     "name": "stderr",
     "output_type": "stream",
     "text": [
      "[Parallel(n_jobs=4)]: Done  33 tasks      | elapsed:  3.2min\n"
     ]
    },
    {
     "name": "stdout",
     "output_type": "stream",
     "text": [
      "[CV]  C=0.1373823795883263, author_max_features=10, author_ngram=(1, 1), content_char_features=5000, content_char_ngram=(1, 4), content_word_features=30000, content_word_ngram=(1, 3), score=0.355593322003399, total=  23.3s\n",
      "[CV] C=0.17433288221999882, author_max_features=10, author_ngram=(1, 1), content_char_features=5000, content_char_ngram=(1, 4), content_word_features=30000, content_word_ngram=(1, 3) \n",
      "[CV]  C=0.1373823795883263, author_max_features=10, author_ngram=(1, 1), content_char_features=5000, content_char_ngram=(1, 4), content_word_features=30000, content_word_ngram=(1, 3), score=0.34406559344065596, total=  24.4s\n",
      "[CV] C=0.17433288221999882, author_max_features=10, author_ngram=(1, 1), content_char_features=5000, content_char_ngram=(1, 4), content_word_features=30000, content_word_ngram=(1, 3) \n",
      "[CV]  C=0.1373823795883263, author_max_features=10, author_ngram=(1, 1), content_char_features=5000, content_char_ngram=(1, 4), content_word_features=30000, content_word_ngram=(1, 3), score=0.3525410164065626, total=  24.3s\n",
      "[CV] C=0.2212216291070449, author_max_features=10, author_ngram=(1, 1), content_char_features=5000, content_char_ngram=(1, 4), content_word_features=30000, content_word_ngram=(1, 3) \n",
      "[CV]  C=0.17433288221999882, author_max_features=10, author_ngram=(1, 1), content_char_features=5000, content_char_ngram=(1, 4), content_word_features=30000, content_word_ngram=(1, 3), score=0.36039188243526943, total=  22.7s\n",
      "[CV] C=0.2212216291070449, author_max_features=10, author_ngram=(1, 1), content_char_features=5000, content_char_ngram=(1, 4), content_word_features=30000, content_word_ngram=(1, 3) \n",
      "[CV]  C=0.17433288221999882, author_max_features=10, author_ngram=(1, 1), content_char_features=5000, content_char_ngram=(1, 4), content_word_features=30000, content_word_ngram=(1, 3), score=0.3478652134786521, total=  23.5s\n",
      "[CV] C=0.2212216291070449, author_max_features=10, author_ngram=(1, 1), content_char_features=5000, content_char_ngram=(1, 4), content_word_features=30000, content_word_ngram=(1, 3) \n",
      "[CV]  C=0.17433288221999882, author_max_features=10, author_ngram=(1, 1), content_char_features=5000, content_char_ngram=(1, 4), content_word_features=30000, content_word_ngram=(1, 3), score=0.3554421768707483, total=  25.3s\n",
      "[CV] C=0.2807216203941177, author_max_features=10, author_ngram=(1, 1), content_char_features=5000, content_char_ngram=(1, 4), content_word_features=30000, content_word_ngram=(1, 3) \n",
      "[CV]  C=0.2212216291070449, author_max_features=10, author_ngram=(1, 1), content_char_features=5000, content_char_ngram=(1, 4), content_word_features=30000, content_word_ngram=(1, 3), score=0.36449065280415877, total=  26.3s\n",
      "[CV] C=0.2807216203941177, author_max_features=10, author_ngram=(1, 1), content_char_features=5000, content_char_ngram=(1, 4), content_word_features=30000, content_word_ngram=(1, 3) \n",
      "[CV]  C=0.2212216291070449, author_max_features=10, author_ngram=(1, 1), content_char_features=5000, content_char_ngram=(1, 4), content_word_features=30000, content_word_ngram=(1, 3), score=0.35036496350364965, total=  24.5s\n",
      "[CV] C=0.2807216203941177, author_max_features=10, author_ngram=(1, 1), content_char_features=5000, content_char_ngram=(1, 4), content_word_features=30000, content_word_ngram=(1, 3) \n",
      "[CV]  C=0.2212216291070449, author_max_features=10, author_ngram=(1, 1), content_char_features=5000, content_char_ngram=(1, 4), content_word_features=30000, content_word_ngram=(1, 3), score=0.35704281712685076, total=  22.4s\n",
      "[CV] C=0.3562247890262442, author_max_features=10, author_ngram=(1, 1), content_char_features=5000, content_char_ngram=(1, 4), content_word_features=30000, content_word_ngram=(1, 3) \n"
     ]
    },
    {
     "name": "stderr",
     "output_type": "stream",
     "text": [
      "[Parallel(n_jobs=4)]: Done  42 tasks      | elapsed:  4.4min\n"
     ]
    },
    {
     "name": "stdout",
     "output_type": "stream",
     "text": [
      "[CV]  C=0.2807216203941177, author_max_features=10, author_ngram=(1, 1), content_char_features=5000, content_char_ngram=(1, 4), content_word_features=30000, content_word_ngram=(1, 3), score=0.3683894831550535, total=  27.6s\n",
      "[CV] C=0.3562247890262442, author_max_features=10, author_ngram=(1, 1), content_char_features=5000, content_char_ngram=(1, 4), content_word_features=30000, content_word_ngram=(1, 3) \n",
      "[CV]  C=0.2807216203941177, author_max_features=10, author_ngram=(1, 1), content_char_features=5000, content_char_ngram=(1, 4), content_word_features=30000, content_word_ngram=(1, 3), score=0.35326467353264673, total=  27.4s\n",
      "[CV] C=0.3562247890262442, author_max_features=10, author_ngram=(1, 1), content_char_features=5000, content_char_ngram=(1, 4), content_word_features=30000, content_word_ngram=(1, 3) \n",
      "[CV]  C=0.2807216203941177, author_max_features=10, author_ngram=(1, 1), content_char_features=5000, content_char_ngram=(1, 4), content_word_features=30000, content_word_ngram=(1, 3), score=0.3595438175270108, total=  26.7s\n",
      "[CV] C=0.4520353656360243, author_max_features=10, author_ngram=(1, 1), content_char_features=5000, content_char_ngram=(1, 4), content_word_features=30000, content_word_ngram=(1, 3) \n",
      "[CV]  C=0.3562247890262442, author_max_features=10, author_ngram=(1, 1), content_char_features=5000, content_char_ngram=(1, 4), content_word_features=30000, content_word_ngram=(1, 3), score=0.3689893032090373, total=  22.9s\n",
      "[CV] C=0.4520353656360243, author_max_features=10, author_ngram=(1, 1), content_char_features=5000, content_char_ngram=(1, 4), content_word_features=30000, content_word_ngram=(1, 3) \n",
      "[CV]  C=0.3562247890262442, author_max_features=10, author_ngram=(1, 1), content_char_features=5000, content_char_ngram=(1, 4), content_word_features=30000, content_word_ngram=(1, 3), score=0.3544645535446455, total=  29.1s\n",
      "[CV] C=0.4520353656360243, author_max_features=10, author_ngram=(1, 1), content_char_features=5000, content_char_ngram=(1, 4), content_word_features=30000, content_word_ngram=(1, 3) \n",
      "[CV]  C=0.3562247890262442, author_max_features=10, author_ngram=(1, 1), content_char_features=5000, content_char_ngram=(1, 4), content_word_features=30000, content_word_ngram=(1, 3), score=0.36204481792717086, total=  29.6s\n",
      "[CV] C=0.5736152510448679, author_max_features=10, author_ngram=(1, 1), content_char_features=5000, content_char_ngram=(1, 4), content_word_features=30000, content_word_ngram=(1, 3) \n",
      "[CV]  C=0.4520353656360243, author_max_features=10, author_ngram=(1, 1), content_char_features=5000, content_char_ngram=(1, 4), content_word_features=30000, content_word_ngram=(1, 3), score=0.3674897530740778, total=  29.6s\n",
      "[CV] C=0.5736152510448679, author_max_features=10, author_ngram=(1, 1), content_char_features=5000, content_char_ngram=(1, 4), content_word_features=30000, content_word_ngram=(1, 3) \n",
      "[CV]  C=0.4520353656360243, author_max_features=10, author_ngram=(1, 1), content_char_features=5000, content_char_ngram=(1, 4), content_word_features=30000, content_word_ngram=(1, 3), score=0.35536446355364465, total=  23.1s\n",
      "[CV] C=0.5736152510448679, author_max_features=10, author_ngram=(1, 1), content_char_features=5000, content_char_ngram=(1, 4), content_word_features=30000, content_word_ngram=(1, 3) \n",
      "[CV]  C=0.4520353656360243, author_max_features=10, author_ngram=(1, 1), content_char_features=5000, content_char_ngram=(1, 4), content_word_features=30000, content_word_ngram=(1, 3), score=0.36134453781512604, total=  28.6s\n",
      "[CV] C=0.727895384398315, author_max_features=10, author_ngram=(1, 1), content_char_features=5000, content_char_ngram=(1, 4), content_word_features=30000, content_word_ngram=(1, 3) \n",
      "[CV]  C=0.5736152510448679, author_max_features=10, author_ngram=(1, 1), content_char_features=5000, content_char_ngram=(1, 4), content_word_features=30000, content_word_ngram=(1, 3), score=0.3682895131460562, total=  32.8s\n",
      "[CV] C=0.727895384398315, author_max_features=10, author_ngram=(1, 1), content_char_features=5000, content_char_ngram=(1, 4), content_word_features=30000, content_word_ngram=(1, 3) \n",
      "[CV]  C=0.5736152510448679, author_max_features=10, author_ngram=(1, 1), content_char_features=5000, content_char_ngram=(1, 4), content_word_features=30000, content_word_ngram=(1, 3), score=0.35606439356064395, total=  32.5s\n",
      "[CV] C=0.727895384398315, author_max_features=10, author_ngram=(1, 1), content_char_features=5000, content_char_ngram=(1, 4), content_word_features=30000, content_word_ngram=(1, 3) \n"
     ]
    },
    {
     "name": "stderr",
     "output_type": "stream",
     "text": [
      "[Parallel(n_jobs=4)]: Done  53 tasks      | elapsed:  5.7min\n"
     ]
    },
    {
     "name": "stdout",
     "output_type": "stream",
     "text": [
      "[CV]  C=0.5736152510448679, author_max_features=10, author_ngram=(1, 1), content_char_features=5000, content_char_ngram=(1, 4), content_word_features=30000, content_word_ngram=(1, 3), score=0.36134453781512604, total=  28.7s\n",
      "[CV] C=0.9236708571873861, author_max_features=10, author_ngram=(1, 1), content_char_features=5000, content_char_ngram=(1, 4), content_word_features=30000, content_word_ngram=(1, 3) \n",
      "[CV]  C=0.727895384398315, author_max_features=10, author_ngram=(1, 1), content_char_features=5000, content_char_ngram=(1, 4), content_word_features=30000, content_word_ngram=(1, 3), score=0.36798960311906426, total=  30.1s\n",
      "[CV] C=0.9236708571873861, author_max_features=10, author_ngram=(1, 1), content_char_features=5000, content_char_ngram=(1, 4), content_word_features=30000, content_word_ngram=(1, 3) \n",
      "[CV]  C=0.727895384398315, author_max_features=10, author_ngram=(1, 1), content_char_features=5000, content_char_ngram=(1, 4), content_word_features=30000, content_word_ngram=(1, 3), score=0.35626437356264373, total=  34.4s\n",
      "[CV] C=0.9236708571873861, author_max_features=10, author_ngram=(1, 1), content_char_features=5000, content_char_ngram=(1, 4), content_word_features=30000, content_word_ngram=(1, 3) \n",
      "[CV]  C=0.727895384398315, author_max_features=10, author_ngram=(1, 1), content_char_features=5000, content_char_ngram=(1, 4), content_word_features=30000, content_word_ngram=(1, 3), score=0.360344137655062, total=  35.1s\n",
      "[CV] C=1.1721022975334805, author_max_features=10, author_ngram=(1, 1), content_char_features=5000, content_char_ngram=(1, 4), content_word_features=30000, content_word_ngram=(1, 3) \n",
      "[CV]  C=0.9236708571873861, author_max_features=10, author_ngram=(1, 1), content_char_features=5000, content_char_ngram=(1, 4), content_word_features=30000, content_word_ngram=(1, 3), score=0.3682895131460562, total=  34.4s\n",
      "[CV] C=1.1721022975334805, author_max_features=10, author_ngram=(1, 1), content_char_features=5000, content_char_ngram=(1, 4), content_word_features=30000, content_word_ngram=(1, 3) \n",
      "[CV]  C=0.9236708571873861, author_max_features=10, author_ngram=(1, 1), content_char_features=5000, content_char_ngram=(1, 4), content_word_features=30000, content_word_ngram=(1, 3), score=0.35606439356064395, total=  30.4s\n",
      "[CV] C=1.1721022975334805, author_max_features=10, author_ngram=(1, 1), content_char_features=5000, content_char_ngram=(1, 4), content_word_features=30000, content_word_ngram=(1, 3) \n",
      "[CV]  C=0.9236708571873861, author_max_features=10, author_ngram=(1, 1), content_char_features=5000, content_char_ngram=(1, 4), content_word_features=30000, content_word_ngram=(1, 3), score=0.3558423369347739, total=  36.2s\n",
      "[CV] C=1.4873521072935119, author_max_features=10, author_ngram=(1, 1), content_char_features=5000, content_char_ngram=(1, 4), content_word_features=30000, content_word_ngram=(1, 3) \n",
      "[CV]  C=1.1721022975334805, author_max_features=10, author_ngram=(1, 1), content_char_features=5000, content_char_ngram=(1, 4), content_word_features=30000, content_word_ngram=(1, 3), score=0.3689893032090373, total=  39.4s\n",
      "[CV] C=1.4873521072935119, author_max_features=10, author_ngram=(1, 1), content_char_features=5000, content_char_ngram=(1, 4), content_word_features=30000, content_word_ngram=(1, 3) \n",
      "[CV]  C=1.1721022975334805, author_max_features=10, author_ngram=(1, 1), content_char_features=5000, content_char_ngram=(1, 4), content_word_features=30000, content_word_ngram=(1, 3), score=0.35576442355764426, total=  38.0s\n",
      "[CV] C=1.4873521072935119, author_max_features=10, author_ngram=(1, 1), content_char_features=5000, content_char_ngram=(1, 4), content_word_features=30000, content_word_ngram=(1, 3) \n",
      "[CV]  C=1.1721022975334805, author_max_features=10, author_ngram=(1, 1), content_char_features=5000, content_char_ngram=(1, 4), content_word_features=30000, content_word_ngram=(1, 3), score=0.3557422969187675, total=  33.3s\n",
      "[CV] C=1.8873918221350976, author_max_features=10, author_ngram=(1, 1), content_char_features=5000, content_char_ngram=(1, 4), content_word_features=30000, content_word_ngram=(1, 3) \n",
      "[CV]  C=1.4873521072935119, author_max_features=10, author_ngram=(1, 1), content_char_features=5000, content_char_ngram=(1, 4), content_word_features=30000, content_word_ngram=(1, 3), score=0.36479056283115063, total=  40.8s\n",
      "[CV] C=1.8873918221350976, author_max_features=10, author_ngram=(1, 1), content_char_features=5000, content_char_ngram=(1, 4), content_word_features=30000, content_word_ngram=(1, 3) \n"
     ]
    },
    {
     "name": "stderr",
     "output_type": "stream",
     "text": [
      "[Parallel(n_jobs=4)]: Done  64 tasks      | elapsed:  7.8min\n"
     ]
    },
    {
     "name": "stdout",
     "output_type": "stream",
     "text": [
      "[CV]  C=1.4873521072935119, author_max_features=10, author_ngram=(1, 1), content_char_features=5000, content_char_ngram=(1, 4), content_word_features=30000, content_word_ngram=(1, 3), score=0.35366463353664634, total=  42.4s\n",
      "[CV] C=1.8873918221350976, author_max_features=10, author_ngram=(1, 1), content_char_features=5000, content_char_ngram=(1, 4), content_word_features=30000, content_word_ngram=(1, 3) \n",
      "[CV]  C=1.4873521072935119, author_max_features=10, author_ngram=(1, 1), content_char_features=5000, content_char_ngram=(1, 4), content_word_features=30000, content_word_ngram=(1, 3), score=0.352140856342537, total=  41.5s\n",
      "[CV] C=2.395026619987486, author_max_features=10, author_ngram=(1, 1), content_char_features=5000, content_char_ngram=(1, 4), content_word_features=30000, content_word_ngram=(1, 3) \n",
      "[CV]  C=1.8873918221350976, author_max_features=10, author_ngram=(1, 1), content_char_features=5000, content_char_ngram=(1, 4), content_word_features=30000, content_word_ngram=(1, 3), score=0.3581925422373288, total=  39.5s\n",
      "[CV] C=2.395026619987486, author_max_features=10, author_ngram=(1, 1), content_char_features=5000, content_char_ngram=(1, 4), content_word_features=30000, content_word_ngram=(1, 3) \n",
      "[CV]  C=1.8873918221350976, author_max_features=10, author_ngram=(1, 1), content_char_features=5000, content_char_ngram=(1, 4), content_word_features=30000, content_word_ngram=(1, 3), score=0.3494650534946505, total=  43.0s\n",
      "[CV] C=2.395026619987486, author_max_features=10, author_ngram=(1, 1), content_char_features=5000, content_char_ngram=(1, 4), content_word_features=30000, content_word_ngram=(1, 3) \n",
      "[CV]  C=1.8873918221350976, author_max_features=10, author_ngram=(1, 1), content_char_features=5000, content_char_ngram=(1, 4), content_word_features=30000, content_word_ngram=(1, 3), score=0.3479391756702681, total=  45.0s\n",
      "[CV] C=3.039195382313198, author_max_features=10, author_ngram=(1, 1), content_char_features=5000, content_char_ngram=(1, 4), content_word_features=30000, content_word_ngram=(1, 3) \n",
      "[CV]  C=2.395026619987486, author_max_features=10, author_ngram=(1, 1), content_char_features=5000, content_char_ngram=(1, 4), content_word_features=30000, content_word_ngram=(1, 3), score=0.35429371188643405, total=  47.3s\n",
      "[CV] C=3.039195382313198, author_max_features=10, author_ngram=(1, 1), content_char_features=5000, content_char_ngram=(1, 4), content_word_features=30000, content_word_ngram=(1, 3) \n",
      "[CV]  C=2.395026619987486, author_max_features=10, author_ngram=(1, 1), content_char_features=5000, content_char_ngram=(1, 4), content_word_features=30000, content_word_ngram=(1, 3), score=0.34496550344965504, total=  44.0s\n",
      "[CV] C=3.039195382313198, author_max_features=10, author_ngram=(1, 1), content_char_features=5000, content_char_ngram=(1, 4), content_word_features=30000, content_word_ngram=(1, 3) \n",
      "[CV]  C=2.395026619987486, author_max_features=10, author_ngram=(1, 1), content_char_features=5000, content_char_ngram=(1, 4), content_word_features=30000, content_word_ngram=(1, 3), score=0.3433373349339736, total=  43.4s\n",
      "[CV] C=3.856620421163472, author_max_features=10, author_ngram=(1, 1), content_char_features=5000, content_char_ngram=(1, 4), content_word_features=30000, content_word_ngram=(1, 3) \n",
      "[CV]  C=3.039195382313198, author_max_features=10, author_ngram=(1, 1), content_char_features=5000, content_char_ngram=(1, 4), content_word_features=30000, content_word_ngram=(1, 3), score=0.35009497150854746, total=  53.0s\n",
      "[CV] C=3.856620421163472, author_max_features=10, author_ngram=(1, 1), content_char_features=5000, content_char_ngram=(1, 4), content_word_features=30000, content_word_ngram=(1, 3) \n",
      "[CV]  C=3.039195382313198, author_max_features=10, author_ngram=(1, 1), content_char_features=5000, content_char_ngram=(1, 4), content_word_features=30000, content_word_ngram=(1, 3), score=0.34096590340965904, total=  51.8s\n",
      "[CV] C=3.856620421163472, author_max_features=10, author_ngram=(1, 1), content_char_features=5000, content_char_ngram=(1, 4), content_word_features=30000, content_word_ngram=(1, 3) \n",
      "[CV]  C=3.039195382313198, author_max_features=10, author_ngram=(1, 1), content_char_features=5000, content_char_ngram=(1, 4), content_word_features=30000, content_word_ngram=(1, 3), score=0.33843537414965985, total=  50.0s\n",
      "[CV] C=4.893900918477494, author_max_features=10, author_ngram=(1, 1), content_char_features=5000, content_char_ngram=(1, 4), content_word_features=30000, content_word_ngram=(1, 3) \n",
      "[CV]  C=3.856620421163472, author_max_features=10, author_ngram=(1, 1), content_char_features=5000, content_char_ngram=(1, 4), content_word_features=30000, content_word_ngram=(1, 3), score=0.3446965910226932, total=  51.2s\n",
      "[CV] C=4.893900918477494, author_max_features=10, author_ngram=(1, 1), content_char_features=5000, content_char_ngram=(1, 4), content_word_features=30000, content_word_ngram=(1, 3) \n",
      "[CV]  C=3.856620421163472, author_max_features=10, author_ngram=(1, 1), content_char_features=5000, content_char_ngram=(1, 4), content_word_features=30000, content_word_ngram=(1, 3), score=0.33436656334366566, total=  57.8s\n",
      "[CV] C=4.893900918477494, author_max_features=10, author_ngram=(1, 1), content_char_features=5000, content_char_ngram=(1, 4), content_word_features=30000, content_word_ngram=(1, 3) \n"
     ]
    },
    {
     "name": "stderr",
     "output_type": "stream",
     "text": [
      "[Parallel(n_jobs=4)]: Done  77 tasks      | elapsed: 10.7min\n"
     ]
    },
    {
     "name": "stdout",
     "output_type": "stream",
     "text": [
      "[CV]  C=3.856620421163472, author_max_features=10, author_ngram=(1, 1), content_char_features=5000, content_char_ngram=(1, 4), content_word_features=30000, content_word_ngram=(1, 3), score=0.33383353341336536, total=  56.9s\n",
      "[CV] C=6.2101694189156165, author_max_features=10, author_ngram=(1, 1), content_char_features=5000, content_char_ngram=(1, 4), content_word_features=30000, content_word_ngram=(1, 3) \n",
      "[CV]  C=4.893900918477494, author_max_features=10, author_ngram=(1, 1), content_char_features=5000, content_char_ngram=(1, 4), content_word_features=30000, content_word_ngram=(1, 3), score=0.3417974607617715, total= 1.0min\n",
      "[CV] C=6.2101694189156165, author_max_features=10, author_ngram=(1, 1), content_char_features=5000, content_char_ngram=(1, 4), content_word_features=30000, content_word_ngram=(1, 3) \n",
      "[CV]  C=4.893900918477494, author_max_features=10, author_ngram=(1, 1), content_char_features=5000, content_char_ngram=(1, 4), content_word_features=30000, content_word_ngram=(1, 3), score=0.3290670932906709, total=  58.8s\n",
      "[CV] C=6.2101694189156165, author_max_features=10, author_ngram=(1, 1), content_char_features=5000, content_char_ngram=(1, 4), content_word_features=30000, content_word_ngram=(1, 3) \n",
      "[CV]  C=4.893900918477494, author_max_features=10, author_ngram=(1, 1), content_char_features=5000, content_char_ngram=(1, 4), content_word_features=30000, content_word_ngram=(1, 3), score=0.3284313725490196, total= 1.1min\n",
      "[CV] C=7.880462815669913, author_max_features=10, author_ngram=(1, 1), content_char_features=5000, content_char_ngram=(1, 4), content_word_features=30000, content_word_ngram=(1, 3) \n",
      "[CV]  C=6.2101694189156165, author_max_features=10, author_ngram=(1, 1), content_char_features=5000, content_char_ngram=(1, 4), content_word_features=30000, content_word_ngram=(1, 3), score=0.33559932020393884, total= 1.1min\n",
      "[CV] C=7.880462815669913, author_max_features=10, author_ngram=(1, 1), content_char_features=5000, content_char_ngram=(1, 4), content_word_features=30000, content_word_ngram=(1, 3) \n",
      "[CV]  C=6.2101694189156165, author_max_features=10, author_ngram=(1, 1), content_char_features=5000, content_char_ngram=(1, 4), content_word_features=30000, content_word_ngram=(1, 3), score=0.3240675932406759, total= 1.1min\n",
      "[CV] C=7.880462815669913, author_max_features=10, author_ngram=(1, 1), content_char_features=5000, content_char_ngram=(1, 4), content_word_features=30000, content_word_ngram=(1, 3) \n",
      "[CV]  C=6.2101694189156165, author_max_features=10, author_ngram=(1, 1), content_char_features=5000, content_char_ngram=(1, 4), content_word_features=30000, content_word_ngram=(1, 3), score=0.32272909163665464, total= 1.1min\n",
      "[CV] C=10.0, author_max_features=10, author_ngram=(1, 1), content_char_features=5000, content_char_ngram=(1, 4), content_word_features=30000, content_word_ngram=(1, 3) \n",
      "[CV]  C=7.880462815669913, author_max_features=10, author_ngram=(1, 1), content_char_features=5000, content_char_ngram=(1, 4), content_word_features=30000, content_word_ngram=(1, 3), score=0.32940117964610616, total= 1.2min\n",
      "[CV] C=10.0, author_max_features=10, author_ngram=(1, 1), content_char_features=5000, content_char_ngram=(1, 4), content_word_features=30000, content_word_ngram=(1, 3) \n",
      "[CV]  C=7.880462815669913, author_max_features=10, author_ngram=(1, 1), content_char_features=5000, content_char_ngram=(1, 4), content_word_features=30000, content_word_ngram=(1, 3), score=0.31866813318668136, total= 1.3min\n",
      "[CV] C=10.0, author_max_features=10, author_ngram=(1, 1), content_char_features=5000, content_char_ngram=(1, 4), content_word_features=30000, content_word_ngram=(1, 3) \n",
      "[CV]  C=7.880462815669913, author_max_features=10, author_ngram=(1, 1), content_char_features=5000, content_char_ngram=(1, 4), content_word_features=30000, content_word_ngram=(1, 3), score=0.31812725090036015, total= 1.2min\n",
      "[CV]  C=10.0, author_max_features=10, author_ngram=(1, 1), content_char_features=5000, content_char_ngram=(1, 4), content_word_features=30000, content_word_ngram=(1, 3), score=0.32550234929521144, total= 1.2min\n",
      "[CV]  C=10.0, author_max_features=10, author_ngram=(1, 1), content_char_features=5000, content_char_ngram=(1, 4), content_word_features=30000, content_word_ngram=(1, 3), score=0.3150684931506849, total=  57.3s\n",
      "[CV]  C=10.0, author_max_features=10, author_ngram=(1, 1), content_char_features=5000, content_char_ngram=(1, 4), content_word_features=30000, content_word_ngram=(1, 3), score=0.3125250100040016, total=  54.4s\n"
     ]
    },
    {
     "name": "stderr",
     "output_type": "stream",
     "text": [
      "[Parallel(n_jobs=4)]: Done  90 out of  90 | elapsed: 14.1min finished\n"
     ]
    },
    {
     "name": "stdout",
     "output_type": "stream",
     "text": [
      "Iteration 4. Best: {'C': 0.5736152510448679, 'author_max_features': 10, 'author_ngram': (1, 1), 'content_char_features': 5000, 'content_char_ngram': (1, 4), 'content_word_features': 30000, 'content_word_ngram': (1, 3)}, 0.3619\n",
      "Iteration 4. New start params: {'C': 0.5736152510448679, 'author_max_features': 10, 'author_ngram': (1, 1), 'content_char_features': 5000, 'content_char_ngram': (1, 4), 'content_word_features': 30000, 'content_word_ngram': (1, 3)}\n"
     ]
    },
    {
     "data": {
      "text/plain": [
       "{'C': 0.5736152510448679,\n",
       " 'author_max_features': 10,\n",
       " 'author_ngram': (1, 1),\n",
       " 'content_char_features': 5000,\n",
       " 'content_char_ngram': (1, 4),\n",
       " 'content_word_features': 30000,\n",
       " 'content_word_ngram': (1, 3)}"
      ]
     },
     "execution_count": 51,
     "metadata": {},
     "output_type": "execute_result"
    }
   ],
   "source": [
    "params = {\n",
    "    \"C\": 10. ** np.linspace(-2, +1, 30),\n",
    "    \"author_max_features\" : [10, 100, 300, 500, 700, 1000],\n",
    "    \"content_char_features\" : [10, 100, 300, 500, 700, 1000, 3000, 5000, 7000, 10000, 15000, 20000, 25000, 30000],\n",
    "    \"content_word_features\" : [10, 100, 300, 500, 700, 1000, 3000, 5000, 7000, 10000, 15000, 20000, 25000, 30000],\n",
    "    \"author_ngram\" : [(1, 1), (1, 3), (1, 4), (1, 5), (2, 3), (2, 4), (2, 5), (3, 5)],\n",
    "    \"content_char_ngram\" : [(1, 1), (1, 3), (1, 4), (1, 5), (2, 3), (2, 4), (2, 5), (3, 5)],\n",
    "    \"content_word_ngram\" : [(1, 1), (1, 3), (1, 4), (1, 5), (2, 3), (2, 4), (2, 5), (3, 5)],\n",
    "}\n",
    "\n",
    "start_params = {\n",
    "    'C': 0.5736152510448679,\n",
    "    'author_max_features': 10,\n",
    "    'author_ngram': (1, 1),\n",
    "    'content_char_features': 5000,\n",
    "    'content_char_ngram': (1, 4),\n",
    "    'content_word_features': 30000,\n",
    "    'content_word_ngram': (1, 3)\n",
    "}\n",
    "\n",
    "clf = SupaDupaModel(C=0.1)\n",
    "ms = MagicSearch(clf, params, start_params, iters=5, logfile=\"ms_log.txt\")\n",
    "new_start_params =  ms.fit(df_train, y_train)\n",
    "new_start_params"
   ]
  },
  {
   "cell_type": "code",
   "execution_count": 53,
   "metadata": {},
   "outputs": [
    {
     "data": {
      "text/plain": [
       "{'C': 0.5736152510448679,\n",
       " 'author_max_features': 10,\n",
       " 'author_ngram': (1, 1),\n",
       " 'content_char_features': 5000,\n",
       " 'content_char_ngram': (1, 4),\n",
       " 'content_word_features': 30000,\n",
       " 'content_word_ngram': (1, 3)}"
      ]
     },
     "execution_count": 53,
     "metadata": {},
     "output_type": "execute_result"
    }
   ],
   "source": [
    "new_start_params"
   ]
  },
  {
   "cell_type": "code",
   "execution_count": 46,
   "metadata": {},
   "outputs": [
    {
     "name": "stdout",
     "output_type": "stream",
     "text": [
      "CPU times: user 17min 29s, sys: 484 ms, total: 17min 29s\n",
      "Wall time: 17min 31s\n"
     ]
    }
   ],
   "source": [
    "%%time\n",
    "f_train_train, f_train_test, y_train_train, y_train_test = train_test_split(f_train, y_train, test_size=0.3)\n",
    "clf = SVC()\n",
    "clf.fit(f_train_train, y_train_train)\n",
    "accuracy_score(clf.predict(f_train_test), y_train_test)"
   ]
  },
  {
   "cell_type": "code",
   "execution_count": 47,
   "metadata": {},
   "outputs": [
    {
     "data": {
      "text/plain": [
       "0.20977777777777779"
      ]
     },
     "execution_count": 47,
     "metadata": {},
     "output_type": "execute_result"
    }
   ],
   "source": [
    "accuracy_score(clf.predict(f_train_test), y_train_test)"
   ]
  },
  {
   "cell_type": "markdown",
   "metadata": {},
   "source": [
    "### Submit"
   ]
  },
  {
   "cell_type": "code",
   "execution_count": 54,
   "metadata": {},
   "outputs": [
    {
     "data": {
      "text/html": [
       "<div>\n",
       "<style scoped>\n",
       "    .dataframe tbody tr th:only-of-type {\n",
       "        vertical-align: middle;\n",
       "    }\n",
       "\n",
       "    .dataframe tbody tr th {\n",
       "        vertical-align: top;\n",
       "    }\n",
       "\n",
       "    .dataframe thead th {\n",
       "        text-align: right;\n",
       "    }\n",
       "</style>\n",
       "<table border=\"1\" class=\"dataframe\">\n",
       "  <thead>\n",
       "    <tr style=\"text-align: right;\">\n",
       "      <th></th>\n",
       "      <th>id</th>\n",
       "      <th>author</th>\n",
       "      <th>content</th>\n",
       "    </tr>\n",
       "  </thead>\n",
       "  <tbody>\n",
       "    <tr>\n",
       "      <th>0</th>\n",
       "      <td>32823</td>\n",
       "      <td>valicast</td>\n",
       "      <td>Good Morning</td>\n",
       "    </tr>\n",
       "    <tr>\n",
       "      <th>1</th>\n",
       "      <td>16298</td>\n",
       "      <td>btb103</td>\n",
       "      <td>I just put my computer up on craigslist. I've ...</td>\n",
       "    </tr>\n",
       "    <tr>\n",
       "      <th>2</th>\n",
       "      <td>28505</td>\n",
       "      <td>anavil</td>\n",
       "      <td>in ten minutes shopping   demi lovato-back aro...</td>\n",
       "    </tr>\n",
       "    <tr>\n",
       "      <th>3</th>\n",
       "      <td>6689</td>\n",
       "      <td>ritwik1st</td>\n",
       "      <td>From twitterberry moved to ubertwitter - suffe...</td>\n",
       "    </tr>\n",
       "    <tr>\n",
       "      <th>4</th>\n",
       "      <td>26893</td>\n",
       "      <td>TightFreebies</td>\n",
       "      <td>@thriftymom TEAR*</td>\n",
       "    </tr>\n",
       "  </tbody>\n",
       "</table>\n",
       "</div>"
      ],
      "text/plain": [
       "      id         author                                            content\n",
       "0  32823       valicast                                       Good Morning\n",
       "1  16298         btb103  I just put my computer up on craigslist. I've ...\n",
       "2  28505         anavil  in ten minutes shopping   demi lovato-back aro...\n",
       "3   6689      ritwik1st  From twitterberry moved to ubertwitter - suffe...\n",
       "4  26893  TightFreebies                                  @thriftymom TEAR*"
      ]
     },
     "execution_count": 54,
     "metadata": {},
     "output_type": "execute_result"
    }
   ],
   "source": [
    "df_test = pd.read_csv(folder + \"test.csv\")\n",
    "df_test.head()"
   ]
  },
  {
   "cell_type": "code",
   "execution_count": 56,
   "metadata": {},
   "outputs": [
    {
     "data": {
      "text/html": [
       "<div>\n",
       "<style scoped>\n",
       "    .dataframe tbody tr th:only-of-type {\n",
       "        vertical-align: middle;\n",
       "    }\n",
       "\n",
       "    .dataframe tbody tr th {\n",
       "        vertical-align: top;\n",
       "    }\n",
       "\n",
       "    .dataframe thead th {\n",
       "        text-align: right;\n",
       "    }\n",
       "</style>\n",
       "<table border=\"1\" class=\"dataframe\">\n",
       "  <thead>\n",
       "    <tr style=\"text-align: right;\">\n",
       "      <th></th>\n",
       "      <th>id</th>\n",
       "      <th>sentiment</th>\n",
       "    </tr>\n",
       "  </thead>\n",
       "  <tbody>\n",
       "    <tr>\n",
       "      <th>0</th>\n",
       "      <td>32823</td>\n",
       "      <td>neutral</td>\n",
       "    </tr>\n",
       "    <tr>\n",
       "      <th>1</th>\n",
       "      <td>16298</td>\n",
       "      <td>neutral</td>\n",
       "    </tr>\n",
       "    <tr>\n",
       "      <th>2</th>\n",
       "      <td>28505</td>\n",
       "      <td>neutral</td>\n",
       "    </tr>\n",
       "    <tr>\n",
       "      <th>3</th>\n",
       "      <td>6689</td>\n",
       "      <td>neutral</td>\n",
       "    </tr>\n",
       "    <tr>\n",
       "      <th>4</th>\n",
       "      <td>26893</td>\n",
       "      <td>neutral</td>\n",
       "    </tr>\n",
       "  </tbody>\n",
       "</table>\n",
       "</div>"
      ],
      "text/plain": [
       "      id sentiment\n",
       "0  32823   neutral\n",
       "1  16298   neutral\n",
       "2  28505   neutral\n",
       "3   6689   neutral\n",
       "4  26893   neutral"
      ]
     },
     "execution_count": 56,
     "metadata": {},
     "output_type": "execute_result"
    }
   ],
   "source": [
    "df_sub  = pd.read_csv(folder + \"sampleSubmission.csv\")\n",
    "df_sub.head()"
   ]
  },
  {
   "cell_type": "code",
   "execution_count": 64,
   "metadata": {},
   "outputs": [
    {
     "data": {
      "text/plain": [
       "\"SupaDupaModel:{'C': 0.5736152510448679, 'author_max_features': 10, 'content_char_features': 5000, 'content_word_features': 30000, 'author_ngram': (1, 1), 'content_char_ngram': (1, 4), 'content_word_ngram': (1, 3)}\""
      ]
     },
     "execution_count": 64,
     "metadata": {},
     "output_type": "execute_result"
    }
   ],
   "source": [
    "clf = SupaDupaModel(**new_start_params)\n",
    "str(clf)"
   ]
  },
  {
   "cell_type": "code",
   "execution_count": 67,
   "metadata": {},
   "outputs": [
    {
     "data": {
      "text/plain": [
       "array(['neutral', 'neutral', 'love', ..., 'worry', 'worry', 'neutral'],\n",
       "      dtype=object)"
      ]
     },
     "execution_count": 67,
     "metadata": {},
     "output_type": "execute_result"
    }
   ],
   "source": [
    "clf.fit(df_train, y_train)\n",
    "prediction = clf.predict(df_test)\n",
    "prediction"
   ]
  },
  {
   "cell_type": "code",
   "execution_count": 68,
   "metadata": {},
   "outputs": [
    {
     "data": {
      "text/html": [
       "<div>\n",
       "<style scoped>\n",
       "    .dataframe tbody tr th:only-of-type {\n",
       "        vertical-align: middle;\n",
       "    }\n",
       "\n",
       "    .dataframe tbody tr th {\n",
       "        vertical-align: top;\n",
       "    }\n",
       "\n",
       "    .dataframe thead th {\n",
       "        text-align: right;\n",
       "    }\n",
       "</style>\n",
       "<table border=\"1\" class=\"dataframe\">\n",
       "  <thead>\n",
       "    <tr style=\"text-align: right;\">\n",
       "      <th></th>\n",
       "      <th>id</th>\n",
       "      <th>sentiment</th>\n",
       "    </tr>\n",
       "  </thead>\n",
       "  <tbody>\n",
       "    <tr>\n",
       "      <th>0</th>\n",
       "      <td>32823</td>\n",
       "      <td>neutral</td>\n",
       "    </tr>\n",
       "    <tr>\n",
       "      <th>1</th>\n",
       "      <td>16298</td>\n",
       "      <td>neutral</td>\n",
       "    </tr>\n",
       "    <tr>\n",
       "      <th>2</th>\n",
       "      <td>28505</td>\n",
       "      <td>love</td>\n",
       "    </tr>\n",
       "    <tr>\n",
       "      <th>3</th>\n",
       "      <td>6689</td>\n",
       "      <td>neutral</td>\n",
       "    </tr>\n",
       "    <tr>\n",
       "      <th>4</th>\n",
       "      <td>26893</td>\n",
       "      <td>neutral</td>\n",
       "    </tr>\n",
       "  </tbody>\n",
       "</table>\n",
       "</div>"
      ],
      "text/plain": [
       "      id sentiment\n",
       "0  32823   neutral\n",
       "1  16298   neutral\n",
       "2  28505      love\n",
       "3   6689   neutral\n",
       "4  26893   neutral"
      ]
     },
     "execution_count": 68,
     "metadata": {},
     "output_type": "execute_result"
    }
   ],
   "source": [
    "df_sub.sentiment = prediction\n",
    "df_sub.head()"
   ]
  },
  {
   "cell_type": "code",
   "execution_count": 69,
   "metadata": {},
   "outputs": [],
   "source": [
    "df_sub.to_csv(\"sub.csv\", index=False)"
   ]
  },
  {
   "cell_type": "code",
   "execution_count": 70,
   "metadata": {},
   "outputs": [
    {
     "name": "stdout",
     "output_type": "stream",
     "text": [
      "id,sentiment\r\n",
      "32823,neutral\r\n",
      "16298,neutral\r\n",
      "28505,love\r\n",
      "6689,neutral\r\n",
      "cat: ошибка записи: Обрыв канала\r\n"
     ]
    }
   ],
   "source": [
    "!cat sub.csv | head -n 5\n"
   ]
  },
  {
   "cell_type": "markdown",
   "metadata": {},
   "source": [
    "______________________________\n",
    "<h1 align=\"center\">Теоретические задачи (20%)</h1> \n",
    "\n",
    "** Задача 1**\n",
    "Покажите, что регуляризатор в задаче линейной классификации имеет вероятностный смысл априорного распределения параметров моделей. Какие распределения задают 𝑙1-регуляризатор и 𝑙2-регуляризатор?\n",
    "\n",
    "** Задача 2**\n",
    "Покажите, что в случае линейно разделимой выборки функционал, максимизируемый при обучении логистической регрессии, достигает своего максимума в бесконечности (при бесконечно больших значениях компонент вектора весов), а значит для процесса обучения необходимо добавить регуляризационный член.\n",
    "\n",
    "** Задача 3**\n",
    "Задана выборка объектов, каждый из которых принадлежит одному из двух классов $Y = \\{1; -1\\}$. В некотором спрямляющем пространстве, задаваемом ядром $K_1(x_1; x_2)$, эта выборка является линейно разделимой, а в некотором спрямляющем пространстве, задаваемом ядром $K_2(x_1; x_2)$, не является линейно разделимой. Существует ли спрямляемое пространство, задаваемое ядром $K(x_1; x_2) = K_1(x_1; x_2) + K_2(x_1; x_2)$, в котором эта выборка будет линейно разделимой?\n",
    "\n",
    "** Задача 4**\n",
    "Покажите, что если предварительно центрировать выборку в задаче линейной регрессии, то параметр сдвига $𝑤_0$ (коэффициент перед константой) получится равным нулю."
   ]
  },
  {
   "cell_type": "code",
   "execution_count": null,
   "metadata": {},
   "outputs": [],
   "source": []
  }
 ],
 "metadata": {
  "kernelspec": {
   "display_name": "Python 3",
   "language": "python",
   "name": "python3"
  },
  "language_info": {
   "codemirror_mode": {
    "name": "ipython",
    "version": 3
   },
   "file_extension": ".py",
   "mimetype": "text/x-python",
   "name": "python",
   "nbconvert_exporter": "python",
   "pygments_lexer": "ipython3",
   "version": "3.6.4"
  }
 },
 "nbformat": 4,
 "nbformat_minor": 1
}
