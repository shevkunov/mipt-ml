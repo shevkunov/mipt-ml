{
 "cells": [
  {
   "cell_type": "markdown",
   "metadata": {},
   "source": [
    "<span style=\"font-size: 14pt\">MIPT, Advanced ML, Spring 2018</span>\n",
    "\n",
    "<span style=\"font-size: 16pt\"> HW #5: Linear Models \n",
    "\n",
    "<span style=\"color:blue; font-size: 12pt\">Alexey Romanenko </span>,\n",
    "<span style=\"color:blue; font-size: 12pt; font-family: 'Verdana'\"> alexromsput@gmail.com</span>\n"
   ]
  },
  {
   "cell_type": "markdown",
   "metadata": {},
   "source": [
    "<h1 align=\"center\">Organization Info</h1> \n",
    "\n",
    "* Дедлайн **11 апреля 2018 02:59** для всех групп.\n",
    "* В качестве решения задания нужно прислать ноутбук с подробными комментариями (<span style='color:red'> без присланного решения результат контеста не будет засчитан </span>).\n",
    "* <span style='color:red'>Название команды в контесте должно соответствовать шаблону: НомерГруппы_Имя_Фамилия, например, 594_Ivan_Ivanov</span>."
   ]
  },
  {
   "cell_type": "markdown",
   "metadata": {},
   "source": [
    "**Оформление дз**: \n",
    "- Присылайте выполненное задание на почту ``ml.course.mipt@gmail.com``\n",
    "- Укажите тему письма в следующем формате ``ML2018_fall_<номер_группы>_<фамилия>``, к примеру -- ``ML2018_fall_495_ivanov``\n",
    "- Выполненное дз сохраните в файл ``<фамилия>_<группа>_task<номер>.ipnb, к примеру`` -- ``ivanov_401_task5.ipnb``\n",
    "\n",
    "**Вопросы**:\n",
    "- Присылайте вопросы на почту ``ml.course.mipt@gmail.com``\n",
    "- Укажите тему письма в следующем формате ``ML2018_fall Question <Содержание вопроса>``\n",
    "\n",
    "\n",
    "--------\n",
    "- **PS1:** Используются автоматические фильтры, и просто не найдем ваше дз, если вы неаккуратно его подпишите.\n",
    "- **PS2:**  Просроченный дедлайн снижает максимальный вес задания по формуле, указнной на первом семинаре\n",
    "- **PS3:** Допустимы исправление кода предложенного кода ниже, если вы считаете"
   ]
  },
  {
   "cell_type": "markdown",
   "metadata": {},
   "source": [
    "<h1 align=\"center\">Check Questions </h1> "
   ]
  },
  {
   "cell_type": "markdown",
   "metadata": {},
   "source": [
    "Ниже приводится список вопросов, с ответами на которые может быть полезно разобраться\n",
    "для понимания темы.\n",
    "\n",
    "**1.** Как выглядит решающее правило в линейной классификации? А зависимость, которой мы приближаем ответы в линейной регрессии?\n",
    "\n",
    "**2.** Что такое функции потерь в задачах классификации и регрессии? Зачем они нужны?\n",
    "\n",
    "**3.** Что такое регуляризаторы? Какими они бывают в задачах линейной классификации и регрессии? Зачем они нужны?\n",
    "\n",
    "**4.** Как в общем виде выглядит оптимизационная задача в линейной классификации или линейной регрессии?\n",
    "\n",
    "**5.** Как работает настройка весов в линейной модели с помощью SGD (Stochastic Gradient Decent)? Как выглядит правило обновления весов?\n",
    "\n",
    "**6.** Учитывается ли коэффициент сдвига w0 в регуляризаторе? Почему?\n",
    "\n",
    "**7.** Почему линейные модели рекомендуется применять к выборке с нормированными значениями признаков?\n",
    "\n",
    "**8.** Как выглядит оптимизационная задача в логистической регрессии? А в SVM?\n",
    "\n",
    "**9.** Выпишите и докажите формулу для весов в линейной регрессии (с квадратичной функцией потерь).\n",
    "То же самое для гребневой регрессии.\n",
    "\n",
    "**10.** Выпишите SGD для логистической регрессии с $l2$-регуляризацией и для SVM с линейным ядром.\n",
    "\n",
    "**11.** В чем заключается идея ядер в SVM?\n",
    "\n",
    "**12.** Какие преимущества и недостатки есть у линейных моделей?\n",
    "\n",
    "**13.** На какие 3 матрицы раскладывается произвольная матрица при SVD? Что такое сингулярные числа"
   ]
  },
  {
   "cell_type": "markdown",
   "metadata": {},
   "source": [
    "________________________________\n",
    "\n"
   ]
  },
  {
   "cell_type": "code",
   "execution_count": 1,
   "metadata": {},
   "outputs": [],
   "source": [
    "import re\n",
    "import numpy as np\n",
    "import pandas as pd\n",
    "import scipy\n",
    "\n",
    "from sklearn.linear_model import SGDClassifier\n",
    "from sklearn.svm import SVC, LinearSVC\n",
    "from sklearn.linear_model import LogisticRegression\n",
    "\n",
    "from sklearn.metrics import accuracy_score, roc_auc_score\n",
    "from sklearn.model_selection import cross_val_score, GridSearchCV, ShuffleSplit, StratifiedKFold\n",
    "\n",
    "from sklearn.preprocessing import normalize\n",
    "from sklearn.feature_extraction.text import TfidfVectorizer\n",
    "from sklearn.model_selection import train_test_split\n",
    "%matplotlib inline"
   ]
  },
  {
   "cell_type": "markdown",
   "metadata": {},
   "source": [
    "<h1 align=\"center\">Contest 1 (40%)</h1> \n",
    "** Ссылка на контест: ** https://www.kaggle.com/t/68e2660e41d94d64a3c2251a1df16ab3"
   ]
  },
  {
   "cell_type": "markdown",
   "metadata": {},
   "source": [
    "# Критерии оценивания\n",
    "Для того чтобы получить оценку нужно\n",
    "* 1) прислать код вашей модели (можно использовать только линейные модели), которая выдает один из финальных сабмиттов.\n",
    "* 2) чтобы получить\n",
    "    - хор (5)  и выше нужно превзойти результат benchmark_1;\n",
    "    - отл (8) и выше нужно превзойти результат benchmark_2;\n",
    "* 3) Ваше имя в лидерборде должно иметь вид <НомерГруппы>\\_Имя\\_Фамилия, например: 594\\_Иван\\_Иванов. Если имя не будет соответствовать формату организаторы вправе снизить оценку."
   ]
  },
  {
   "cell_type": "code",
   "execution_count": null,
   "metadata": {},
   "outputs": [],
   "source": [
    "# your code here"
   ]
  },
  {
   "cell_type": "markdown",
   "metadata": {},
   "source": [
    "<h1 align=\"center\">Contest 2 (40%)</h1> \n",
    "* Ссылка на контест: https://www.kaggle.com/t/2343d1882c6842258e3825b4a8a1e5a8\n",
    "\n",
    "# Критерии оценивания\n",
    "Для того чтобы получить оценку нужно\n",
    "* 1) Прислать код вашей модели, которая выдает один из финальных сабмиттов.\n",
    "* 2) чтобы получить\n",
    "    - хор (5)  и выше нужно превзойти результат benchmark_1;\n",
    "    - отл (8) и выше нужно превзойти результат benchmark_2;\n",
    "* 3) Ваше имя в лидерборде должно иметь вид <НомерГруппы>\\_Имя\\_Фамилия, например: 594\\_Иван\\_Иванов. Если имя не будет соответствовать формату организаторы вправе снизить оценку."
   ]
  },
  {
   "cell_type": "markdown",
   "metadata": {},
   "source": [
    "### Loading train"
   ]
  },
  {
   "cell_type": "code",
   "execution_count": 2,
   "metadata": {},
   "outputs": [
    {
     "name": "stdout",
     "output_type": "stream",
     "text": [
      "sampleSubmission.csv  test.csv\ttrain.csv\r\n"
     ]
    }
   ],
   "source": [
    "folder = \"~/workspace/datasets/ml-mipt-spring2018-hw5-v2/\"\n",
    "!ls $folder"
   ]
  },
  {
   "cell_type": "code",
   "execution_count": 3,
   "metadata": {},
   "outputs": [
    {
     "data": {
      "text/html": [
       "<div>\n",
       "<style scoped>\n",
       "    .dataframe tbody tr th:only-of-type {\n",
       "        vertical-align: middle;\n",
       "    }\n",
       "\n",
       "    .dataframe tbody tr th {\n",
       "        vertical-align: top;\n",
       "    }\n",
       "\n",
       "    .dataframe thead th {\n",
       "        text-align: right;\n",
       "    }\n",
       "</style>\n",
       "<table border=\"1\" class=\"dataframe\">\n",
       "  <thead>\n",
       "    <tr style=\"text-align: right;\">\n",
       "      <th></th>\n",
       "      <th>Unnamed: 0</th>\n",
       "      <th>author</th>\n",
       "      <th>content</th>\n",
       "      <th>sentiment</th>\n",
       "    </tr>\n",
       "  </thead>\n",
       "  <tbody>\n",
       "    <tr>\n",
       "      <th>0</th>\n",
       "      <td>26898</td>\n",
       "      <td>richardepryor</td>\n",
       "      <td>@treasaint salad stuff, some chillis, whatever...</td>\n",
       "      <td>happiness</td>\n",
       "    </tr>\n",
       "    <tr>\n",
       "      <th>1</th>\n",
       "      <td>27635</td>\n",
       "      <td>reese</td>\n",
       "      <td>@sunnyjamiel sunny, I'm a workin' on it. It's ...</td>\n",
       "      <td>neutral</td>\n",
       "    </tr>\n",
       "    <tr>\n",
       "      <th>2</th>\n",
       "      <td>3036</td>\n",
       "      <td>mutedriposte</td>\n",
       "      <td>@jolynnchew so early??</td>\n",
       "      <td>surprise</td>\n",
       "    </tr>\n",
       "    <tr>\n",
       "      <th>3</th>\n",
       "      <td>5604</td>\n",
       "      <td>sakizzie_1102</td>\n",
       "      <td>So now, I have conjunctivitis in my left eye. ...</td>\n",
       "      <td>sadness</td>\n",
       "    </tr>\n",
       "    <tr>\n",
       "      <th>4</th>\n",
       "      <td>36111</td>\n",
       "      <td>poptrash</td>\n",
       "      <td>Out and about in Deal, Kent. More sunshine req...</td>\n",
       "      <td>love</td>\n",
       "    </tr>\n",
       "  </tbody>\n",
       "</table>\n",
       "</div>"
      ],
      "text/plain": [
       "   Unnamed: 0         author  \\\n",
       "0       26898  richardepryor   \n",
       "1       27635          reese   \n",
       "2        3036   mutedriposte   \n",
       "3        5604  sakizzie_1102   \n",
       "4       36111       poptrash   \n",
       "\n",
       "                                             content  sentiment  \n",
       "0  @treasaint salad stuff, some chillis, whatever...  happiness  \n",
       "1  @sunnyjamiel sunny, I'm a workin' on it. It's ...    neutral  \n",
       "2                             @jolynnchew so early??   surprise  \n",
       "3  So now, I have conjunctivitis in my left eye. ...    sadness  \n",
       "4  Out and about in Deal, Kent. More sunshine req...       love  "
      ]
     },
     "execution_count": 3,
     "metadata": {},
     "output_type": "execute_result"
    }
   ],
   "source": [
    "df_train = pd.read_csv(folder + \"train.csv\")\n",
    "df_train.head()"
   ]
  },
  {
   "cell_type": "code",
   "execution_count": 4,
   "metadata": {},
   "outputs": [
    {
     "name": "stdout",
     "output_type": "stream",
     "text": [
      "['anger', 'boredom', 'empty', 'enthusiasm', 'fun', 'happiness', 'hate', 'love', 'neutral', 'relief', 'sadness', 'surprise', 'worry']\n"
     ]
    }
   ],
   "source": [
    "labels = list(np.unique(df_train.sentiment))\n",
    "print(labels)"
   ]
  },
  {
   "cell_type": "code",
   "execution_count": 5,
   "metadata": {},
   "outputs": [
    {
     "data": {
      "text/plain": [
       "array([0.00276667, 0.00453333, 0.0208    , 0.0185    , 0.04516667,\n",
       "       0.1307    , 0.03303333, 0.0967    , 0.21516667, 0.03636667,\n",
       "       0.12836667, 0.0557    , 0.2122    ])"
      ]
     },
     "execution_count": 5,
     "metadata": {},
     "output_type": "execute_result"
    }
   ],
   "source": [
    "np.unique(df_train.sentiment, return_counts=True)[1] / len(df_train)"
   ]
  },
  {
   "cell_type": "code",
   "execution_count": 6,
   "metadata": {},
   "outputs": [
    {
     "data": {
      "text/plain": [
       "(26148, 30000)"
      ]
     },
     "execution_count": 6,
     "metadata": {},
     "output_type": "execute_result"
    }
   ],
   "source": [
    "len(np.unique(df_train.author)), len(df_train)"
   ]
  },
  {
   "cell_type": "code",
   "execution_count": 7,
   "metadata": {},
   "outputs": [
    {
     "name": "stdout",
     "output_type": "stream",
     "text": [
      "CPU times: user 828 ms, sys: 3.26 ms, total: 831 ms\n",
      "Wall time: 1.71 s\n"
     ]
    }
   ],
   "source": [
    "%%time\n",
    "author_vect = TfidfVectorizer(lowercase=False, analyzer=\"char\", ngram_range=(1, 3), max_features=1000)\n",
    "author_vect.fit(df_train.author.values)\n",
    "f_author = author_vect.transform(df_train.author.values)"
   ]
  },
  {
   "cell_type": "code",
   "execution_count": 8,
   "metadata": {},
   "outputs": [
    {
     "name": "stdout",
     "output_type": "stream",
     "text": [
      "CPU times: user 9.92 s, sys: 241 ms, total: 10.2 s\n",
      "Wall time: 10.2 s\n"
     ]
    }
   ],
   "source": [
    "%%time\n",
    "content_char_vect = TfidfVectorizer(stop_words=\"english\", analyzer=\"char\", ngram_range=(1, 5), max_features=10000)\n",
    "content_char_vect.fit(df_train.content.values)\n",
    "f_content_char = content_char_vect.transform(df_train.content.values)"
   ]
  },
  {
   "cell_type": "code",
   "execution_count": 9,
   "metadata": {},
   "outputs": [
    {
     "name": "stdout",
     "output_type": "stream",
     "text": [
      "CPU times: user 2.81 s, sys: 15.1 ms, total: 2.82 s\n",
      "Wall time: 2.82 s\n"
     ]
    }
   ],
   "source": [
    "%%time\n",
    "content_word_vect = TfidfVectorizer(stop_words=\"english\", analyzer=\"word\", ngram_range=(1, 5), max_features=10000)\n",
    "content_word_vect.fit(df_train.content.values)\n",
    "f_content_word = content_word_vect.transform(df_train.content.values)"
   ]
  },
  {
   "cell_type": "code",
   "execution_count": 10,
   "metadata": {},
   "outputs": [
    {
     "data": {
      "text/plain": [
       "(30000, 21000)"
      ]
     },
     "execution_count": 10,
     "metadata": {},
     "output_type": "execute_result"
    }
   ],
   "source": [
    "f_train = scipy.sparse.hstack([f_author, f_content_char, f_content_word])\n",
    "f_train.shape"
   ]
  },
  {
   "cell_type": "code",
   "execution_count": 11,
   "metadata": {},
   "outputs": [],
   "source": [
    "y_train = df_train.sentiment.values"
   ]
  },
  {
   "cell_type": "markdown",
   "metadata": {},
   "source": [
    "### Cross val"
   ]
  },
  {
   "cell_type": "code",
   "execution_count": 46,
   "metadata": {},
   "outputs": [
    {
     "name": "stdout",
     "output_type": "stream",
     "text": [
      "CPU times: user 17min 29s, sys: 484 ms, total: 17min 29s\n",
      "Wall time: 17min 31s\n"
     ]
    }
   ],
   "source": [
    "%%time\n",
    "f_train_train, f_train_test, y_train_train, y_train_test = train_test_split(f_train, y_train, test_size=0.3)\n",
    "clf = SVC()\n",
    "clf.fit(f_train_train, y_train_train)\n",
    "accuracy_score(clf.predict(f_train_test), y_train_test)"
   ]
  },
  {
   "cell_type": "code",
   "execution_count": 47,
   "metadata": {},
   "outputs": [
    {
     "data": {
      "text/plain": [
       "0.20977777777777779"
      ]
     },
     "execution_count": 47,
     "metadata": {},
     "output_type": "execute_result"
    }
   ],
   "source": [
    "accuracy_score(clf.predict(f_train_test), y_train_test)"
   ]
  },
  {
   "cell_type": "code",
   "execution_count": 27,
   "metadata": {
    "scrolled": true
   },
   "outputs": [
    {
     "name": "stdout",
     "output_type": "stream",
     "text": [
      "Fitting 3 folds for each of 30 candidates, totalling 90 fits\n",
      "[CV] C=0.01 ..........................................................\n",
      "[CV] C=0.01 ..........................................................\n",
      "[CV] C=0.01 ..........................................................\n",
      "[CV] ................ C=0.01, score=0.29461161651504547, total=   7.6s\n",
      "[CV] C=0.01268961003167922 ...........................................\n",
      "[CV] ................. C=0.01, score=0.2856714328567143, total=   7.7s\n",
      "[CV] C=0.01268961003167922 ...........................................\n",
      "[CV] ................. C=0.01, score=0.2893157262905162, total=   7.8s\n",
      "[CV] C=0.01268961003167922 ...........................................\n"
     ]
    },
    {
     "name": "stderr",
     "output_type": "stream",
     "text": [
      "[Parallel(n_jobs=3)]: Done   2 tasks      | elapsed:    8.1s\n"
     ]
    },
    {
     "name": "stdout",
     "output_type": "stream",
     "text": [
      "[CV] . C=0.01268961003167922, score=0.29901029691092673, total=   8.0s\n",
      "[CV] C=0.01610262027560939 ...........................................\n",
      "[CV] .... C=0.01268961003167922, score=0.28997100289971, total=   8.0s\n",
      "[CV] C=0.01610262027560939 ...........................................\n",
      "[CV] .. C=0.01268961003167922, score=0.2932172869147659, total=   8.0s\n",
      "[CV] C=0.01610262027560939 ...........................................\n",
      "[CV] . C=0.01610262027560939, score=0.30240927721683497, total=   8.1s\n",
      "[CV] C=0.020433597178569417 ..........................................\n",
      "[CV] .. C=0.01610262027560939, score=0.2953704629537046, total=   8.0s\n",
      "[CV] C=0.020433597178569417 ..........................................\n",
      "[CV] .. C=0.01610262027560939, score=0.2976190476190476, total=   7.9s\n"
     ]
    },
    {
     "name": "stderr",
     "output_type": "stream",
     "text": [
      "[Parallel(n_jobs=3)]: Done   7 tasks      | elapsed:   24.1s\n"
     ]
    },
    {
     "name": "stdout",
     "output_type": "stream",
     "text": [
      "[CV] C=0.020433597178569417 ..........................................\n",
      "[CV] . C=0.020433597178569417, score=0.3072078376487054, total=   8.4s\n",
      "[CV] C=0.02592943797404667 ...........................................\n",
      "[CV]  C=0.020433597178569417, score=0.29887011298870114, total=   8.3s\n",
      "[CV] C=0.02592943797404667 ...........................................\n",
      "[CV]  C=0.020433597178569417, score=0.30232092837134855, total=   8.3s\n",
      "[CV] C=0.02592943797404667 ...........................................\n"
     ]
    },
    {
     "name": "stderr",
     "output_type": "stream",
     "text": [
      "[Parallel(n_jobs=3)]: Done  12 tasks      | elapsed:   32.8s\n"
     ]
    },
    {
     "name": "stdout",
     "output_type": "stream",
     "text": [
      "[CV] .. C=0.02592943797404667, score=0.3117064880535839, total=   8.4s\n",
      "[CV] C=0.03290344562312668 ...........................................\n",
      "[CV] . C=0.02592943797404667, score=0.30912364945978393, total=   8.3s\n",
      "[CV] C=0.03290344562312668 ...........................................\n",
      "[CV] . C=0.02592943797404667, score=0.30796920307969206, total=   8.6s\n",
      "[CV] C=0.03290344562312668 ...........................................\n",
      "[CV] . C=0.03290344562312668, score=0.31810456862941117, total=   9.2s\n",
      "[CV] C=0.041753189365604 .............................................\n",
      "[CV] .. C=0.03290344562312668, score=0.3134686531346865, total=   9.3s\n",
      "[CV] C=0.041753189365604 .............................................\n",
      "[CV] .. C=0.03290344562312668, score=0.3153261304521809, total=   9.3s\n",
      "[CV] C=0.041753189365604 .............................................\n",
      "[CV] .... C=0.041753189365604, score=0.3236029191242627, total=   9.8s\n",
      "[CV] C=0.05298316906283707 ...........................................\n",
      "[CV] ... C=0.041753189365604, score=0.32126787321267875, total=   9.7s\n",
      "[CV] C=0.05298316906283707 ...........................................\n"
     ]
    },
    {
     "name": "stderr",
     "output_type": "stream",
     "text": [
      "[Parallel(n_jobs=3)]: Done  19 tasks      | elapsed:  1.0min\n"
     ]
    },
    {
     "name": "stdout",
     "output_type": "stream",
     "text": [
      "[CV] .... C=0.041753189365604, score=0.3216286514605842, total=   9.6s\n",
      "[CV] C=0.05298316906283707 ...........................................\n",
      "[CV] .. C=0.05298316906283707, score=0.3304008797360792, total=   9.6s\n",
      "[CV] C=0.06723357536499334 ...........................................\n",
      "[CV] ... C=0.05298316906283707, score=0.328031212484994, total=   9.5s\n",
      "[CV] C=0.06723357536499334 ...........................................\n",
      "[CV] . C=0.05298316906283707, score=0.32586741325867413, total=   9.8s\n",
      "[CV] C=0.06723357536499334 ...........................................\n",
      "[CV] . C=0.06723357536499334, score=0.33619914025792264, total=  10.2s\n",
      "[CV] C=0.08531678524172806 ...........................................\n",
      "[CV] . C=0.06723357536499334, score=0.33186681331866813, total=  10.2s\n",
      "[CV] C=0.08531678524172806 ...........................................\n",
      "[CV] .. C=0.06723357536499334, score=0.3328331332533013, total=  10.1s\n",
      "[CV] C=0.08531678524172806 ...........................................\n"
     ]
    },
    {
     "name": "stderr",
     "output_type": "stream",
     "text": [
      "[Parallel(n_jobs=3)]: Done  26 tasks      | elapsed:  1.3min\n"
     ]
    },
    {
     "name": "stdout",
     "output_type": "stream",
     "text": [
      "[CV] . C=0.08531678524172806, score=0.34149755073477955, total=  10.3s\n",
      "[CV] C=0.10826367338740546 ...........................................\n",
      "[CV] . C=0.08531678524172806, score=0.33696630336966304, total=  10.2s\n",
      "[CV] C=0.10826367338740546 ...........................................\n",
      "[CV] . C=0.08531678524172806, score=0.33803521408563425, total=  10.4s\n",
      "[CV] C=0.10826367338740546 ...........................................\n",
      "[CV] .. C=0.10826367338740546, score=0.3461961411576527, total=  10.9s\n",
      "[CV] C=0.1373823795883263 ............................................\n",
      "[CV] . C=0.10826367338740546, score=0.33966603339666035, total=  10.8s\n",
      "[CV] C=0.1373823795883263 ............................................\n",
      "[CV] . C=0.10826367338740546, score=0.34203681472589037, total=  10.8s\n",
      "[CV] C=0.1373823795883263 ............................................\n",
      "[CV] ... C=0.1373823795883263, score=0.3487953613915825, total=  11.9s\n",
      "[CV] C=0.17433288221999882 ...........................................\n",
      "[CV] .. C=0.1373823795883263, score=0.34306569343065696, total=  11.8s\n",
      "[CV] C=0.17433288221999882 ...........................................\n"
     ]
    },
    {
     "name": "stderr",
     "output_type": "stream",
     "text": [
      "[Parallel(n_jobs=3)]: Done  35 tasks      | elapsed:  1.9min\n"
     ]
    },
    {
     "name": "stdout",
     "output_type": "stream",
     "text": [
      "[CV] ... C=0.1373823795883263, score=0.3438375350140056, total=  12.0s\n",
      "[CV] C=0.17433288221999882 ...........................................\n",
      "[CV] .. C=0.17433288221999882, score=0.3486953913825852, total=  12.5s\n",
      "[CV] C=0.2212216291070449 ............................................\n",
      "[CV] .. C=0.17433288221999882, score=0.3442376950780312, total=  12.4s\n",
      "[CV] C=0.2212216291070449 ............................................\n",
      "[CV] . C=0.17433288221999882, score=0.34606539346065396, total=  12.8s\n",
      "[CV] C=0.2212216291070449 ............................................\n",
      "[CV] ... C=0.2212216291070449, score=0.3491650834916508, total=  13.6s\n",
      "[CV] C=0.2807216203941177 ............................................\n",
      "[CV] .. C=0.2212216291070449, score=0.35169449165250427, total=  14.0s\n",
      "[CV] ... C=0.2212216291070449, score=0.3465386154461785, total=  13.6s\n",
      "[CV] C=0.2807216203941177 ............................................\n",
      "[CV] C=0.2807216203941177 ............................................\n",
      "[CV] ... C=0.2807216203941177, score=0.3518648135186481, total=  14.0s\n",
      "[CV] C=0.3562247890262442 ............................................\n",
      "[CV] .. C=0.2807216203941177, score=0.35259422173347993, total=  14.2s\n",
      "[CV] C=0.3562247890262442 ............................................\n"
     ]
    },
    {
     "name": "stderr",
     "output_type": "stream",
     "text": [
      "[Parallel(n_jobs=3)]: Done  44 tasks      | elapsed:  2.6min\n"
     ]
    },
    {
     "name": "stdout",
     "output_type": "stream",
     "text": [
      "[CV] ... C=0.2807216203941177, score=0.3484393757503001, total=  14.2s\n",
      "[CV] C=0.3562247890262442 ............................................\n",
      "[CV] .. C=0.3562247890262442, score=0.35296470352964704, total=  14.1s\n",
      "[CV] C=0.4520353656360243 ............................................\n",
      "[CV] .. C=0.3562247890262442, score=0.35119464160751773, total=  14.3s\n",
      "[CV] C=0.4520353656360243 ............................................\n",
      "[CV] ... C=0.3562247890262442, score=0.3491396558623449, total=  14.3s\n",
      "[CV] C=0.4520353656360243 ............................................\n",
      "[CV] .. C=0.4520353656360243, score=0.35139458162551235, total=  16.0s\n",
      "[CV] C=0.5736152510448679 ............................................\n",
      "[CV] .. C=0.4520353656360243, score=0.35436456354364565, total=  16.2s\n",
      "[CV] C=0.5736152510448679 ............................................\n",
      "[CV] ... C=0.4520353656360243, score=0.3490396158463385, total=  16.1s\n",
      "[CV] C=0.5736152510448679 ............................................\n",
      "[CV] ... C=0.5736152510448679, score=0.3503948815355393, total=  17.1s\n",
      "[CV] C=0.727895384398315 .............................................\n",
      "[CV] .. C=0.5736152510448679, score=0.35096490350964904, total=  16.8s\n",
      "[CV] C=0.727895384398315 .............................................\n",
      "[CV] ... C=0.5736152510448679, score=0.3473389355742297, total=  16.8s\n",
      "[CV] C=0.727895384398315 .............................................\n",
      "[CV] .... C=0.727895384398315, score=0.3475390156062425, total=  18.2s\n",
      "[CV] C=0.9236708571873861 ............................................\n",
      "[CV] ... C=0.727895384398315, score=0.34769569129261224, total=  18.5s\n",
      "[CV] ... C=0.727895384398315, score=0.34976502349765026, total=  18.4s\n",
      "[CV] C=0.9236708571873861 ............................................\n"
     ]
    },
    {
     "name": "stderr",
     "output_type": "stream",
     "text": [
      "[Parallel(n_jobs=3)]: Done  55 tasks      | elapsed:  3.7min\n"
     ]
    },
    {
     "name": "stdout",
     "output_type": "stream",
     "text": [
      "[CV] C=0.9236708571873861 ............................................\n",
      "[CV] ... C=0.9236708571873861, score=0.3455963211036689, total=  19.7s\n",
      "[CV] C=1.1721022975334805 ............................................\n",
      "[CV] .. C=0.9236708571873861, score=0.34826517348265174, total=  19.8s\n",
      "[CV] C=1.1721022975334805 ............................................\n",
      "[CV] ... C=0.9236708571873861, score=0.3438375350140056, total=  19.8s\n",
      "[CV] C=1.1721022975334805 ............................................\n",
      "[CV] ... C=1.1721022975334805, score=0.3454654534546545, total=  20.5s\n",
      "[CV] C=1.4873521072935119 ............................................\n",
      "[CV] ... C=1.1721022975334805, score=0.3417974607617715, total=  20.8s\n",
      "[CV] C=1.4873521072935119 ............................................\n",
      "[CV] ... C=1.1721022975334805, score=0.3397358943577431, total=  20.6s\n",
      "[CV] C=1.4873521072935119 ............................................\n",
      "[CV] ... C=1.4873521072935119, score=0.3388983305008497, total=  22.1s\n",
      "[CV] C=1.8873918221350976 ............................................\n",
      "[CV] .. C=1.4873521072935119, score=0.34226577342265774, total=  22.4s\n",
      "[CV] C=1.8873918221350976 ............................................\n",
      "[CV] ... C=1.4873521072935119, score=0.3330332132853141, total=  22.2s\n",
      "[CV] C=1.8873918221350976 ............................................\n"
     ]
    },
    {
     "name": "stderr",
     "output_type": "stream",
     "text": [
      "[Parallel(n_jobs=3)]: Done  66 tasks      | elapsed:  4.7min\n"
     ]
    },
    {
     "name": "stdout",
     "output_type": "stream",
     "text": [
      "[CV] .. C=1.8873918221350976, score=0.32973189275710285, total=  24.1s\n",
      "[CV] C=2.395026619987486 .............................................\n",
      "[CV] .. C=1.8873918221350976, score=0.33596640335966405, total=  24.4s\n",
      "[CV] C=2.395026619987486 .............................................\n",
      "[CV] .. C=1.8873918221350976, score=0.33399980005998203, total=  25.0s\n",
      "[CV] C=2.395026619987486 .............................................\n",
      "[CV] .... C=2.395026619987486, score=0.3266306522609044, total=  25.3s\n",
      "[CV] C=3.039195382313198 .............................................\n",
      "[CV] ... C=2.395026619987486, score=0.32930120963710885, total=  25.6s\n",
      "[CV] C=3.039195382313198 .............................................\n",
      "[CV] .... C=2.395026619987486, score=0.3311668833116688, total=  26.3s\n",
      "[CV] C=3.039195382313198 .............................................\n",
      "[CV] .... C=3.039195382313198, score=0.3221033689893032, total=  27.9s\n",
      "[CV] C=3.856620421163472 .............................................\n",
      "[CV] .... C=3.039195382313198, score=0.3300669933006699, total=  28.1s\n",
      "[CV] C=3.856620421163472 .............................................\n",
      "[CV] .... C=3.039195382313198, score=0.3236294517807123, total=  28.4s\n",
      "[CV] C=3.856620421163472 .............................................\n",
      "[CV] .... C=3.856620421163472, score=0.3247675232476752, total=  30.5s\n",
      "[CV] C=4.893900918477494 .............................................\n",
      "[CV] .... C=3.856620421163472, score=0.3185044486654004, total=  31.2s\n",
      "[CV] C=4.893900918477494 .............................................\n",
      "[CV] .... C=3.856620421163472, score=0.3194277711084434, total=  29.9s\n",
      "[CV] C=4.893900918477494 .............................................\n",
      "[CV] .... C=4.893900918477494, score=0.3161264505802321, total=  32.9s\n",
      "[CV] .... C=4.893900918477494, score=0.3194680531946805, total=  33.0s\n",
      "[CV] C=6.2101694189156165 ............................................\n",
      "[CV] ... C=4.893900918477494, score=0.31420573827851644, total=  33.4s\n",
      "[CV] C=6.2101694189156165 ............................................\n"
     ]
    },
    {
     "name": "stderr",
     "output_type": "stream",
     "text": [
      "[Parallel(n_jobs=3)]: Done  79 tasks      | elapsed:  7.1min\n"
     ]
    },
    {
     "name": "stdout",
     "output_type": "stream",
     "text": [
      "[CV] C=6.2101694189156165 ............................................\n",
      "[CV] ... C=6.2101694189156165, score=0.3147685231476852, total=  33.4s\n",
      "[CV] C=7.880462815669913 .............................................\n",
      "[CV] ... C=6.2101694189156165, score=0.3086074177746676, total=  34.5s\n",
      "[CV] C=7.880462815669913 .............................................\n",
      "[CV] .. C=6.2101694189156165, score=0.31132452981192477, total=  34.3s\n",
      "[CV] C=7.880462815669913 .............................................\n",
      "[CV] .... C=7.880462815669913, score=0.3040087973607918, total=  38.1s\n",
      "[CV] C=10.0 ..........................................................\n",
      "[CV] .... C=7.880462815669913, score=0.3074229691876751, total=  37.6s\n",
      "[CV] C=10.0 ..........................................................\n",
      "[CV] .... C=7.880462815669913, score=0.3096690330966903, total=  38.8s\n",
      "[CV] C=10.0 ..........................................................\n",
      "[CV] ................ C=10.0, score=0.30000999700089975, total=  40.3s\n",
      "[CV] ................ C=10.0, score=0.30382152861144457, total=  39.4s\n",
      "[CV] ................ C=10.0, score=0.30386961303869614, total=  40.8s\n"
     ]
    },
    {
     "name": "stderr",
     "output_type": "stream",
     "text": [
      "[Parallel(n_jobs=3)]: Done  90 out of  90 | elapsed:  9.0min finished\n"
     ]
    },
    {
     "name": "stdout",
     "output_type": "stream",
     "text": [
      "CPU times: user 23.5 s, sys: 300 ms, total: 23.8 s\n",
      "Wall time: 9min 11s\n"
     ]
    }
   ],
   "source": [
    "%%time\n",
    "params = {\"C\": 10. ** np.linspace(-2, +1, 30)}\n",
    "clf = LogisticRegression(C=0.1)\n",
    "gscv = GridSearchCV(clf, params, n_jobs=3, verbose=10)\n",
    "gscv.fit(f_train, y_train)"
   ]
  },
  {
   "cell_type": "code",
   "execution_count": 28,
   "metadata": {},
   "outputs": [
    {
     "data": {
      "text/plain": [
       "({'C': 0.4520353656360243}, 0.3516)"
      ]
     },
     "execution_count": 28,
     "metadata": {},
     "output_type": "execute_result"
    }
   ],
   "source": [
    "gscv.best_params_, gscv.best_score_  # ({'C': 0.29763514416313175}, 0.35126666666666667)"
   ]
  },
  {
   "cell_type": "markdown",
   "metadata": {},
   "source": [
    "### Submit"
   ]
  },
  {
   "cell_type": "code",
   "execution_count": 29,
   "metadata": {},
   "outputs": [
    {
     "data": {
      "text/html": [
       "<div>\n",
       "<style scoped>\n",
       "    .dataframe tbody tr th:only-of-type {\n",
       "        vertical-align: middle;\n",
       "    }\n",
       "\n",
       "    .dataframe tbody tr th {\n",
       "        vertical-align: top;\n",
       "    }\n",
       "\n",
       "    .dataframe thead th {\n",
       "        text-align: right;\n",
       "    }\n",
       "</style>\n",
       "<table border=\"1\" class=\"dataframe\">\n",
       "  <thead>\n",
       "    <tr style=\"text-align: right;\">\n",
       "      <th></th>\n",
       "      <th>id</th>\n",
       "      <th>author</th>\n",
       "      <th>content</th>\n",
       "    </tr>\n",
       "  </thead>\n",
       "  <tbody>\n",
       "    <tr>\n",
       "      <th>0</th>\n",
       "      <td>32823</td>\n",
       "      <td>valicast</td>\n",
       "      <td>Good Morning</td>\n",
       "    </tr>\n",
       "    <tr>\n",
       "      <th>1</th>\n",
       "      <td>16298</td>\n",
       "      <td>btb103</td>\n",
       "      <td>I just put my computer up on craigslist. I've ...</td>\n",
       "    </tr>\n",
       "    <tr>\n",
       "      <th>2</th>\n",
       "      <td>28505</td>\n",
       "      <td>anavil</td>\n",
       "      <td>in ten minutes shopping   demi lovato-back aro...</td>\n",
       "    </tr>\n",
       "    <tr>\n",
       "      <th>3</th>\n",
       "      <td>6689</td>\n",
       "      <td>ritwik1st</td>\n",
       "      <td>From twitterberry moved to ubertwitter - suffe...</td>\n",
       "    </tr>\n",
       "    <tr>\n",
       "      <th>4</th>\n",
       "      <td>26893</td>\n",
       "      <td>TightFreebies</td>\n",
       "      <td>@thriftymom TEAR*</td>\n",
       "    </tr>\n",
       "  </tbody>\n",
       "</table>\n",
       "</div>"
      ],
      "text/plain": [
       "      id         author                                            content\n",
       "0  32823       valicast                                       Good Morning\n",
       "1  16298         btb103  I just put my computer up on craigslist. I've ...\n",
       "2  28505         anavil  in ten minutes shopping   demi lovato-back aro...\n",
       "3   6689      ritwik1st  From twitterberry moved to ubertwitter - suffe...\n",
       "4  26893  TightFreebies                                  @thriftymom TEAR*"
      ]
     },
     "execution_count": 29,
     "metadata": {},
     "output_type": "execute_result"
    }
   ],
   "source": [
    "df_test = pd.read_csv(folder + \"test.csv\")\n",
    "df_test.head()"
   ]
  },
  {
   "cell_type": "code",
   "execution_count": 30,
   "metadata": {},
   "outputs": [
    {
     "data": {
      "text/plain": [
       "(10000, 21000)"
      ]
     },
     "execution_count": 30,
     "metadata": {},
     "output_type": "execute_result"
    }
   ],
   "source": [
    "f_test_author = author_vect.transform(df_test.author.values)\n",
    "f_test_content_char = content_char_vect.transform(df_test.content.values)\n",
    "f_test_content_word = content_word_vect.transform(df_test.content.values)\n",
    "f_test = scipy.sparse.hstack([f_test_author, f_test_content_char, f_test_content_word])\n",
    "f_test.shape"
   ]
  },
  {
   "cell_type": "code",
   "execution_count": 31,
   "metadata": {},
   "outputs": [
    {
     "data": {
      "text/html": [
       "<div>\n",
       "<style scoped>\n",
       "    .dataframe tbody tr th:only-of-type {\n",
       "        vertical-align: middle;\n",
       "    }\n",
       "\n",
       "    .dataframe tbody tr th {\n",
       "        vertical-align: top;\n",
       "    }\n",
       "\n",
       "    .dataframe thead th {\n",
       "        text-align: right;\n",
       "    }\n",
       "</style>\n",
       "<table border=\"1\" class=\"dataframe\">\n",
       "  <thead>\n",
       "    <tr style=\"text-align: right;\">\n",
       "      <th></th>\n",
       "      <th>id</th>\n",
       "      <th>sentiment</th>\n",
       "    </tr>\n",
       "  </thead>\n",
       "  <tbody>\n",
       "    <tr>\n",
       "      <th>0</th>\n",
       "      <td>32823</td>\n",
       "      <td>neutral</td>\n",
       "    </tr>\n",
       "    <tr>\n",
       "      <th>1</th>\n",
       "      <td>16298</td>\n",
       "      <td>neutral</td>\n",
       "    </tr>\n",
       "    <tr>\n",
       "      <th>2</th>\n",
       "      <td>28505</td>\n",
       "      <td>neutral</td>\n",
       "    </tr>\n",
       "    <tr>\n",
       "      <th>3</th>\n",
       "      <td>6689</td>\n",
       "      <td>neutral</td>\n",
       "    </tr>\n",
       "    <tr>\n",
       "      <th>4</th>\n",
       "      <td>26893</td>\n",
       "      <td>neutral</td>\n",
       "    </tr>\n",
       "  </tbody>\n",
       "</table>\n",
       "</div>"
      ],
      "text/plain": [
       "      id sentiment\n",
       "0  32823   neutral\n",
       "1  16298   neutral\n",
       "2  28505   neutral\n",
       "3   6689   neutral\n",
       "4  26893   neutral"
      ]
     },
     "execution_count": 31,
     "metadata": {},
     "output_type": "execute_result"
    }
   ],
   "source": [
    "df_sub  = pd.read_csv(folder + \"sampleSubmission.csv\")\n",
    "df_sub.head()"
   ]
  },
  {
   "cell_type": "code",
   "execution_count": 32,
   "metadata": {},
   "outputs": [
    {
     "data": {
      "text/plain": [
       "LogisticRegression(C=0.4520353656360243, class_weight=None, dual=False,\n",
       "          fit_intercept=True, intercept_scaling=1, max_iter=100,\n",
       "          multi_class='ovr', n_jobs=1, penalty='l2', random_state=None,\n",
       "          solver='liblinear', tol=0.0001, verbose=0, warm_start=False)"
      ]
     },
     "execution_count": 32,
     "metadata": {},
     "output_type": "execute_result"
    }
   ],
   "source": [
    "clf = LogisticRegression(**gscv.best_params_)\n",
    "clf"
   ]
  },
  {
   "cell_type": "code",
   "execution_count": 33,
   "metadata": {},
   "outputs": [
    {
     "data": {
      "text/plain": [
       "array(['neutral', 'neutral', 'love', ..., 'sadness', 'worry', 'neutral'],\n",
       "      dtype=object)"
      ]
     },
     "execution_count": 33,
     "metadata": {},
     "output_type": "execute_result"
    }
   ],
   "source": [
    "clf.fit(f_train, y_train)\n",
    "prediction = clf.predict(f_test)\n",
    "prediction"
   ]
  },
  {
   "cell_type": "code",
   "execution_count": 34,
   "metadata": {},
   "outputs": [
    {
     "data": {
      "text/html": [
       "<div>\n",
       "<style scoped>\n",
       "    .dataframe tbody tr th:only-of-type {\n",
       "        vertical-align: middle;\n",
       "    }\n",
       "\n",
       "    .dataframe tbody tr th {\n",
       "        vertical-align: top;\n",
       "    }\n",
       "\n",
       "    .dataframe thead th {\n",
       "        text-align: right;\n",
       "    }\n",
       "</style>\n",
       "<table border=\"1\" class=\"dataframe\">\n",
       "  <thead>\n",
       "    <tr style=\"text-align: right;\">\n",
       "      <th></th>\n",
       "      <th>id</th>\n",
       "      <th>sentiment</th>\n",
       "    </tr>\n",
       "  </thead>\n",
       "  <tbody>\n",
       "    <tr>\n",
       "      <th>0</th>\n",
       "      <td>32823</td>\n",
       "      <td>neutral</td>\n",
       "    </tr>\n",
       "    <tr>\n",
       "      <th>1</th>\n",
       "      <td>16298</td>\n",
       "      <td>neutral</td>\n",
       "    </tr>\n",
       "    <tr>\n",
       "      <th>2</th>\n",
       "      <td>28505</td>\n",
       "      <td>love</td>\n",
       "    </tr>\n",
       "    <tr>\n",
       "      <th>3</th>\n",
       "      <td>6689</td>\n",
       "      <td>neutral</td>\n",
       "    </tr>\n",
       "    <tr>\n",
       "      <th>4</th>\n",
       "      <td>26893</td>\n",
       "      <td>neutral</td>\n",
       "    </tr>\n",
       "  </tbody>\n",
       "</table>\n",
       "</div>"
      ],
      "text/plain": [
       "      id sentiment\n",
       "0  32823   neutral\n",
       "1  16298   neutral\n",
       "2  28505      love\n",
       "3   6689   neutral\n",
       "4  26893   neutral"
      ]
     },
     "execution_count": 34,
     "metadata": {},
     "output_type": "execute_result"
    }
   ],
   "source": [
    "df_sub.sentiment = prediction\n",
    "df_sub.head()"
   ]
  },
  {
   "cell_type": "code",
   "execution_count": 35,
   "metadata": {},
   "outputs": [],
   "source": [
    "df_sub.to_csv(\"sub.csv\", index=False)"
   ]
  },
  {
   "cell_type": "code",
   "execution_count": 36,
   "metadata": {},
   "outputs": [
    {
     "name": "stdout",
     "output_type": "stream",
     "text": [
      "id,sentiment\r\n",
      "32823,neutral\r\n",
      "16298,neutral\r\n",
      "28505,love\r\n",
      "6689,neutral\r\n",
      "cat: ошибка записи: Обрыв канала\r\n"
     ]
    }
   ],
   "source": [
    "!cat sub.csv | head -n 5\n"
   ]
  },
  {
   "cell_type": "markdown",
   "metadata": {},
   "source": [
    "______________________________\n",
    "<h1 align=\"center\">Теоретические задачи (20%)</h1> \n",
    "\n",
    "** Задача 1**\n",
    "Покажите, что регуляризатор в задаче линейной классификации имеет вероятностный смысл априорного распределения параметров моделей. Какие распределения задают 𝑙1-регуляризатор и 𝑙2-регуляризатор?\n",
    "\n",
    "** Задача 2**\n",
    "Покажите, что в случае линейно разделимой выборки функционал, максимизируемый при обучении логистической регрессии, достигает своего максимума в бесконечности (при бесконечно больших значениях компонент вектора весов), а значит для процесса обучения необходимо добавить регуляризационный член.\n",
    "\n",
    "** Задача 3**\n",
    "Задана выборка объектов, каждый из которых принадлежит одному из двух классов $Y = \\{1; -1\\}$. В некотором спрямляющем пространстве, задаваемом ядром $K_1(x_1; x_2)$, эта выборка является линейно разделимой, а в некотором спрямляющем пространстве, задаваемом ядром $K_2(x_1; x_2)$, не является линейно разделимой. Существует ли спрямляемое пространство, задаваемое ядром $K(x_1; x_2) = K_1(x_1; x_2) + K_2(x_1; x_2)$, в котором эта выборка будет линейно разделимой?\n",
    "\n",
    "** Задача 4**\n",
    "Покажите, что если предварительно центрировать выборку в задаче линейной регрессии, то параметр сдвига $𝑤_0$ (коэффициент перед константой) получится равным нулю."
   ]
  },
  {
   "cell_type": "code",
   "execution_count": null,
   "metadata": {},
   "outputs": [],
   "source": []
  }
 ],
 "metadata": {
  "kernelspec": {
   "display_name": "Python 3",
   "language": "python",
   "name": "python3"
  },
  "language_info": {
   "codemirror_mode": {
    "name": "ipython",
    "version": 3
   },
   "file_extension": ".py",
   "mimetype": "text/x-python",
   "name": "python",
   "nbconvert_exporter": "python",
   "pygments_lexer": "ipython3",
   "version": "3.6.4"
  }
 },
 "nbformat": 4,
 "nbformat_minor": 1
}
