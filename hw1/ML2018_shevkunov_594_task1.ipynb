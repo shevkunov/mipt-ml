{
 "cells": [
  {
   "cell_type": "markdown",
   "metadata": {},
   "source": [
    "<span style=\"font-size: 14pt\">Домашнее задание №1 </span>\n",
    "\n",
    "<span style=\"color: red; font-size: 14pt\">Deadline: 27.02.2018 23:59:59</span>\n",
    "\n",
    "<span style=\"font-size: 10pt\">ФИВТ, АПТ, Курс по машинному обучению, Весна 2018</span>\n",
    "\n",
    "<span style=\"color:blue; font-size: 10pt\">Alexey Romanenko, </span>\n",
    "<span style=\"color:blue; font-size: 10pt; font-family: 'Verdana'\">alexromsput@gmail.com</span>\n"
   ]
  },
  {
   "cell_type": "markdown",
   "metadata": {},
   "source": [
    "<h1 align=\"center\">Organization Info</h1> "
   ]
  },
  {
   "cell_type": "markdown",
   "metadata": {},
   "source": [
    "**Дополнительный материал для выполнения дз**:\n",
    "- Воронцов К. В. Математические методы обучения по прецедентам. 2012. \n",
    "- Мерков А. Б. Распознавание образов. Введение в методы статистического обучения. Едиториал УРСС. 2011. 256 стр.\n",
    "- Hastie T., Tibshirani R., Friedman J. The Elements of Statistical Learning. Springer: Data Mining, Inference, and Prediction. — 2nd ed. — Springer-Verlag. 2009. — 746 p.\n",
    "- C. M. Bishop. Pattern Recognition and Machine Learning. — Springer, Series: Information Science and Statistics. 2006. — 738 p.\n",
    "\n",
    "**Оформление дз**: \n",
    "- Присылайте выполненное задание на почту ``ml.course.mipt@gmail.com``\n",
    "- Укажите тему письма в следующем формате ``ML2018_fall <номер_группы> <фамилия>``, к примеру -- ``ML2018_fall 596 ivanov``\n",
    "- Выполненное дз сохраните в файл ``<фамилия>_<группа>_task<номер задания>.ipnb``, к примеру -- ``ML2018_596_task1.ipnb``\n",
    "\n",
    "**Вопросы**:\n",
    "- Присылайте вопросы на почту ``ml.course.mipt@gmail.com``\n",
    "- Укажите тему письма в следующем формате ``ML2018_fall Question <Содержание вопроса>``\n",
    "\n",
    "--------\n",
    "- **PS1**: Используются автоматические фильтры, и просто не найдем ваше дз, если вы не аккуратно его подпишите.\n",
    "- **PS2**: Просроченный дедлайн снижает максимальный вес задания по формуле, указнной на первом семинаре"
   ]
  },
  {
   "cell_type": "markdown",
   "metadata": {},
   "source": [
    "<h1 align=\"center\"> Вопросы для самоконтроля </h1> \n",
    "\n",
    "Ниже приводится список вопросов, с ответами на которые может быть полезно разобраться для комфортного выполнения задания.\n",
    "\n",
    "* Основные понятия\n",
    "    1. Что такое задачи классификации, кластеризации и регрессии? Какие из них относятся к supervised learning, а какие-к unsupervised learning?\n",
    "    2. Что такое переобучение и недообучение? Как их можно детектировать?\n",
    "    3. Что такое обучающая и тестовая выборки, кросс-валидация? Как устроена k-fold cross validation?\n",
    "    4. Разложение ошибки метода обучения на bias и Variance: как ведут себя обе величины, когда увеличивается сложность семейства настраиваемых алгоритмов?\n",
    "\n",
    "\n",
    "* Простые методы\n",
    "    1. Как работает kNN в задаче классификации?\n",
    "    2. Как работает kNN с весами объектов в задаче классификации и в задаче регрессии?\n",
    "    3. Как работает наивный байесовский классификатор, в чем заключается его \"наивность\"?\n",
    "    4. Как приближается исходная зависимость y от x в линейной регрессии и как настраиваются веса в ней?\n",
    "    5. В чем суть проклятия размерности?\n",
    "\n",
    "\n",
    "* Измерение ошибки/точности в задачах классификации и регрессии\n",
    "    1. Как вычисляются и в каких задачах (классификации/регрессии) применяются метрики:\n",
    "    accuracy, precision, recall, F1-measure, ROC-AUC, PR-AUC, MSE, MAE, RMSE?\n",
    "    2. Решается задача бинарной классификации (с двумя классами - 0 и 1), в которой при-\n",
    "    меры из класса 0 составляют 95% выборки. Какие метрики из перечисленных в преды-\n",
    "    дущем вопросе предпочтительней использовать?\n",
    "    3. К оценке какой величины для распределения y при условии x приводят MSE и MAE?\n",
    "    4. Какая из метрик должня использоваться в задаче регрессии, чтобы ответ был равен медиане распределения прогнозируемой случайно величины?\n",
    "\n",
    "\n",
    "* Python, numpy, scipy, matplotlib, sklearn, pandas\n",
    "    1. Типы данных list, tuple, dict, set, str, unicode, hashable и unhashable типы. \n",
    "    2. Зачем нужны numpy и scipy? Какой тип данных в numpy используется для работы с\n",
    "    многомерными массивами? Отличия в индексации двумерного ndarray и списка списков.\n",
    "    3. Как в scipy решить численно несложную оптимизационную задачу? Какие методы оп-\n",
    "    тимизации в нем представлены?\n",
    "    4. Как по списку значений x и списку значений y в этих точках построить график y(x) в\n",
    "    matplotlib?\n",
    "    5. Как в sklearn обучить модель на обучающей выборке и получить прогнозы на тестовой?\n",
    "    6. Какие есть средства для измерения качества модели в sklearn? Как посчтитать качество\n",
    "    в k-fold cross validation?\n",
    "    7. Какие метрики можно использовать в cross_val_score из sklearn?\n",
    "    8. Как считать выборку из csv в pandas DataFrame? А как записать DataFrame в файл? Как\n",
    "    указывать при чтении/записи кодировку, используемые разделители, наличие/отсутствие\n",
    "    заголовков у колонок?\n",
    "    9. Как по списку значений x и списку значений y в этих точках построить график y(x) в\n",
    "    matplotlib?"
   ]
  },
  {
   "cell_type": "markdown",
   "metadata": {},
   "source": [
    "<h1 align=\"center\">Теоретические вопросы (2 балла) </h1> "
   ]
  },
  {
   "cell_type": "markdown",
   "metadata": {},
   "source": [
    "** Задача 1**\n",
    "Покажите, что ROC-AUC  в случае, когда классификатор даёт случайные ответы $a(x) = 1$ с вероятностью $p$ и $a(x) = 0$ с вероятностью $1 − p$, будет в среднем равен 0.5, независимо от p и доли класса 1 в обучающей выборке."
   ]
  },
  {
   "cell_type": "markdown",
   "metadata": {},
   "source": [
    "**Решение:**\n",
    "Из алгоритма построения ROC c лекции, можно получить следующую трактовку ROC AUG: Это доля пар обьектов, которые наш алгоритм правильно упорядочил, т.е. алгоритм с меньшим значением дискриминантной функции имеет \"меньший\" класс. \n",
    "\n",
    "Формально: $a_i = a(x_i)$ - предсказания алгоритма, случайная велична $a_i \\sim Bern(p)$, $X = (x_1 ... x_n)$ - признаки, тогда:\n",
    "\n",
    "$$AUG = \\frac{\\sum\\limits_{i = 1}^{n} \\sum\\limits_{j = 1}^n I(y_i < y_j) F(a_i, a_j)}{\\sum\\limits_{i = 1}^{n} \\sum\\limits_{j = 1}^n I(y_i < y_j)} \n",
    "\\\\\n",
    "\\begin{equation*}\n",
    "F(a_i, a_j) = \n",
    " \\begin{cases}\n",
    "   1 &\\text{, $a_i < a_j$}\\\\\n",
    "   0.5 &\\text{, $a_i = a_j$}\\\\\n",
    "   0 &\\text{, $a_i > a_j$}\n",
    " \\end{cases}\n",
    "\\end{equation*}\n",
    "$$\n",
    "\n",
    "В среднем равно 0.5 $\\leftrightarrow$ матожидание равно 0.5. Пусть доля класса 1 в выборке равна a, соответственно, доля класса 0 равна (1 - a). \n",
    "\n",
    "$$\n",
    "E(\\frac{\\sum\\limits_{i = 1}^{n} \\sum\\limits_{j = 1}^n I(y_i < y_j) F(a_i, a_j)}{\\sum\\limits_{i = 1}^{n} \\sum\\limits_{j = 1}^n I(y_i < y_j)}) =\n",
    "\\frac{E(\\sum\\limits_{i = 1}^{n} \\sum\\limits_{j = 1}^n I(y_i < y_j) F(a_i, a_j))}{\\sum\\limits_{i = 1}^{n} \\sum\\limits_{j = 1}^n I(y_i < y_j)} = \n",
    "\\frac{\\sum\\limits_{i = 1}^{n} \\sum\\limits_{j = 1}^n E[I(y_i < y_j) F(a_i, a_j)]}{\\sum\\limits_{i = 1}^{n} \\sum\\limits_{j = 1}^n I(y_i < y_j)} = \\\\\n",
    "= \\frac{\\sum\\limits_{i = 1}^{n} \\sum\\limits_{j = 1}^n I(y_i < y_j) E[F(a_i, a_j)]}{\\sum\\limits_{i = 1}^{n} \\sum\\limits_{j = 1}^n I(y_i < y_j)} = E[F(a_1, a_n)] =\n",
    "1 \\times (a (1 - a)) + 0.5 \\times ( a^2 + (1- a)^2) + 0 =\n",
    "a - a^2 + 0.5 (a^2 + 1 - 2 a + a^2) =\n",
    "\\\\\n",
    "= a^2( 0.5 \\times 2 - 1) + a (1 - 0.5 \\times 2) + 0.5 = 0.5\n",
    "$$\n",
    "\n",
    "Первое, второе, третье равенства - линейность матожидания, четвёртое - данное матожидание одинаково для любых $i \\neq j$ (требуем $n > 1$, иначе $AUG \\in \\{0,1\\}$)"
   ]
  },
  {
   "cell_type": "markdown",
   "metadata": {},
   "source": [
    "**Задача 2**\n",
    "Покажите, что с ростом размерности пространства признаков при равномерном распределении точек в кубе $[0; 1]^𝑑$ вероятность попасть в куб $[0; 0, 99]^𝑑$ стремится к нулю. Это одна из иллюстраций проклятия размерностей (dimension curse). Попробуйте придумать или найти еще какую-нибудь иллюстрацию к этому явлению и кратко изложить.\n",
    "\n",
    "**Решение:**\n",
    "$$\\forall p < 1 : P(x \\in [0; p]^𝑑) = p^d \\xrightarrow[d \\rightarrow +\\infty]{} 0$$\n",
    "\n",
    "**Иллюстрация:**\n",
    "Впишем в наш d-мерный куб d-мерную сферу. Тогда вероятность попасть в неё стремится к нулю. Доказывается подстановкой формул обьёма:\n",
    "\n",
    "$$\\frac{V_{hypersphere}}{V_{hypercube}}=\\frac{\\pi^{d/2}}{d2^{d-1}\\Gamma(d/2)}\\xrightarrow[d \\rightarrow \\infty]{} 0$$ \n",
    "\n",
    "**Иллюстрация:**\n",
    "Все расстояния при росте размерности расстояния между n точками в нашем кубе становятся малоотличимы:\n",
    "$$\\lim_{d \\to \\infty} E\\left(\\frac{\\operatorname{dist}_{\\max} (d) - \\operatorname{dist}_{\\min} (d)}{\\operatorname{dist}_{\\min} (d)}\\right) \n",
    "\\to 0$$"
   ]
  },
  {
   "cell_type": "markdown",
   "metadata": {
    "collapsed": true
   },
   "source": [
    "<h1 align=\"center\">Практическая часть (3 балла) </h1> "
   ]
  },
  {
   "cell_type": "code",
   "execution_count": 31,
   "metadata": {},
   "outputs": [],
   "source": [
    "import pandas as pd\n",
    "from sklearn.preprocessing import LabelEncoder, LabelBinarizer\n",
    "\n",
    "import numpy as np\n",
    "import matplotlib.pyplot as plt\n",
    "from sklearn.neighbors import KNeighborsClassifier\n",
    "from sklearn.model_selection import train_test_split\n",
    "import sklearn.datasets\n",
    "import itertools\n",
    "import tqdm\n",
    "\n",
    "from sklearn.metrics import accuracy_score\n",
    "from __future__ import print_function\n",
    "\n",
    "import warnings\n",
    "\n",
    "import copy\n",
    "\n",
    "import collections"
   ]
  },
  {
   "cell_type": "markdown",
   "metadata": {},
   "source": [
    "Используя данные из задачи классификации доходов индивидуума http://archive.ics.uci.edu/ml/machine-learning-databases/adult, постройте зависимость величин bias, variance и noise для следующих **пар** \"модель|параметр\"\n",
    "\n",
    "* kNN, $n\\_neigbours$ - число соседей при классификации;\n",
    "* $p$ - степень метрики Минковского;\n",
    "* $\\ell\\_train$ - длина обучающий выборки;\n",
    "\n",
    "\n",
    "По каждому построенному графику (для каждого параметра должен быть отдельный график) объясните полученную картину. Совпадает ли она с теоретическими ожиданиями (см. семинар 2)?"
   ]
  },
  {
   "cell_type": "code",
   "execution_count": 32,
   "metadata": {},
   "outputs": [
    {
     "name": "stdout",
     "output_type": "stream",
     "text": [
      "--2018-02-27 17:26:46--  http://archive.ics.uci.edu/ml/machine-learning-databases/adult/adult.data\n",
      "Распознаётся archive.ics.uci.edu (archive.ics.uci.edu)... 128.195.10.249\n",
      "Подключение к archive.ics.uci.edu (archive.ics.uci.edu)|128.195.10.249|:80... соединение установлено.\n",
      "HTTP-запрос отправлен. Ожидание ответа... 200 OK\n",
      "Длина: 3974305 (3,8M) [text/plain]\n",
      "Сохранение в каталог: ««adult.data.1»».\n",
      "\n",
      "adult.data.1        100%[===================>]   3,79M   842KB/s    in 6,8s    \n",
      "\n",
      "2018-02-27 17:26:53 (567 KB/s) - «adult.data.1» сохранён [3974305/3974305]\n",
      "\n"
     ]
    }
   ],
   "source": [
    "!wget http://archive.ics.uci.edu/ml/machine-learning-databases/adult/adult.data"
   ]
  },
  {
   "cell_type": "code",
   "execution_count": 33,
   "metadata": {},
   "outputs": [
    {
     "data": {
      "text/html": [
       "<div>\n",
       "<style scoped>\n",
       "    .dataframe tbody tr th:only-of-type {\n",
       "        vertical-align: middle;\n",
       "    }\n",
       "\n",
       "    .dataframe tbody tr th {\n",
       "        vertical-align: top;\n",
       "    }\n",
       "\n",
       "    .dataframe thead th {\n",
       "        text-align: right;\n",
       "    }\n",
       "</style>\n",
       "<table border=\"1\" class=\"dataframe\">\n",
       "  <thead>\n",
       "    <tr style=\"text-align: right;\">\n",
       "      <th></th>\n",
       "      <th>0</th>\n",
       "      <th>1</th>\n",
       "      <th>2</th>\n",
       "      <th>3</th>\n",
       "      <th>4</th>\n",
       "      <th>5</th>\n",
       "      <th>6</th>\n",
       "      <th>7</th>\n",
       "      <th>8</th>\n",
       "      <th>9</th>\n",
       "      <th>10</th>\n",
       "      <th>11</th>\n",
       "      <th>12</th>\n",
       "      <th>13</th>\n",
       "      <th>14</th>\n",
       "    </tr>\n",
       "  </thead>\n",
       "  <tbody>\n",
       "    <tr>\n",
       "      <th>0</th>\n",
       "      <td>39</td>\n",
       "      <td>State-gov</td>\n",
       "      <td>77516</td>\n",
       "      <td>Bachelors</td>\n",
       "      <td>13</td>\n",
       "      <td>Never-married</td>\n",
       "      <td>Adm-clerical</td>\n",
       "      <td>Not-in-family</td>\n",
       "      <td>White</td>\n",
       "      <td>Male</td>\n",
       "      <td>2174</td>\n",
       "      <td>0</td>\n",
       "      <td>40</td>\n",
       "      <td>United-States</td>\n",
       "      <td>&lt;=50K</td>\n",
       "    </tr>\n",
       "    <tr>\n",
       "      <th>1</th>\n",
       "      <td>50</td>\n",
       "      <td>Self-emp-not-inc</td>\n",
       "      <td>83311</td>\n",
       "      <td>Bachelors</td>\n",
       "      <td>13</td>\n",
       "      <td>Married-civ-spouse</td>\n",
       "      <td>Exec-managerial</td>\n",
       "      <td>Husband</td>\n",
       "      <td>White</td>\n",
       "      <td>Male</td>\n",
       "      <td>0</td>\n",
       "      <td>0</td>\n",
       "      <td>13</td>\n",
       "      <td>United-States</td>\n",
       "      <td>&lt;=50K</td>\n",
       "    </tr>\n",
       "    <tr>\n",
       "      <th>2</th>\n",
       "      <td>38</td>\n",
       "      <td>Private</td>\n",
       "      <td>215646</td>\n",
       "      <td>HS-grad</td>\n",
       "      <td>9</td>\n",
       "      <td>Divorced</td>\n",
       "      <td>Handlers-cleaners</td>\n",
       "      <td>Not-in-family</td>\n",
       "      <td>White</td>\n",
       "      <td>Male</td>\n",
       "      <td>0</td>\n",
       "      <td>0</td>\n",
       "      <td>40</td>\n",
       "      <td>United-States</td>\n",
       "      <td>&lt;=50K</td>\n",
       "    </tr>\n",
       "  </tbody>\n",
       "</table>\n",
       "</div>"
      ],
      "text/plain": [
       "   0                  1       2           3   4                    5   \\\n",
       "0  39          State-gov   77516   Bachelors  13        Never-married   \n",
       "1  50   Self-emp-not-inc   83311   Bachelors  13   Married-civ-spouse   \n",
       "2  38            Private  215646     HS-grad   9             Divorced   \n",
       "\n",
       "                   6               7       8      9     10  11  12  \\\n",
       "0        Adm-clerical   Not-in-family   White   Male  2174   0  40   \n",
       "1     Exec-managerial         Husband   White   Male     0   0  13   \n",
       "2   Handlers-cleaners   Not-in-family   White   Male     0   0  40   \n",
       "\n",
       "               13      14  \n",
       "0   United-States   <=50K  \n",
       "1   United-States   <=50K  \n",
       "2   United-States   <=50K  "
      ]
     },
     "execution_count": 33,
     "metadata": {},
     "output_type": "execute_result"
    }
   ],
   "source": [
    "df = pd.read_csv(\"adult.data\", sep=\",\", header=None)\n",
    "df.head(3)"
   ]
  },
  {
   "cell_type": "code",
   "execution_count": 34,
   "metadata": {},
   "outputs": [
    {
     "data": {
      "text/html": [
       "<div>\n",
       "<style scoped>\n",
       "    .dataframe tbody tr th:only-of-type {\n",
       "        vertical-align: middle;\n",
       "    }\n",
       "\n",
       "    .dataframe tbody tr th {\n",
       "        vertical-align: top;\n",
       "    }\n",
       "\n",
       "    .dataframe thead th {\n",
       "        text-align: right;\n",
       "    }\n",
       "</style>\n",
       "<table border=\"1\" class=\"dataframe\">\n",
       "  <thead>\n",
       "    <tr style=\"text-align: right;\">\n",
       "      <th></th>\n",
       "      <th>0</th>\n",
       "      <th>1</th>\n",
       "      <th>2</th>\n",
       "      <th>3</th>\n",
       "      <th>4</th>\n",
       "      <th>5</th>\n",
       "      <th>6</th>\n",
       "      <th>7</th>\n",
       "      <th>8</th>\n",
       "      <th>9</th>\n",
       "      <th>10</th>\n",
       "      <th>11</th>\n",
       "      <th>12</th>\n",
       "      <th>13</th>\n",
       "      <th>14</th>\n",
       "    </tr>\n",
       "  </thead>\n",
       "  <tbody>\n",
       "    <tr>\n",
       "      <th>32558</th>\n",
       "      <td>58</td>\n",
       "      <td>Private</td>\n",
       "      <td>151910</td>\n",
       "      <td>HS-grad</td>\n",
       "      <td>9</td>\n",
       "      <td>Widowed</td>\n",
       "      <td>Adm-clerical</td>\n",
       "      <td>Unmarried</td>\n",
       "      <td>White</td>\n",
       "      <td>Female</td>\n",
       "      <td>0</td>\n",
       "      <td>0</td>\n",
       "      <td>40</td>\n",
       "      <td>United-States</td>\n",
       "      <td>&lt;=50K</td>\n",
       "    </tr>\n",
       "    <tr>\n",
       "      <th>32559</th>\n",
       "      <td>22</td>\n",
       "      <td>Private</td>\n",
       "      <td>201490</td>\n",
       "      <td>HS-grad</td>\n",
       "      <td>9</td>\n",
       "      <td>Never-married</td>\n",
       "      <td>Adm-clerical</td>\n",
       "      <td>Own-child</td>\n",
       "      <td>White</td>\n",
       "      <td>Male</td>\n",
       "      <td>0</td>\n",
       "      <td>0</td>\n",
       "      <td>20</td>\n",
       "      <td>United-States</td>\n",
       "      <td>&lt;=50K</td>\n",
       "    </tr>\n",
       "    <tr>\n",
       "      <th>32560</th>\n",
       "      <td>52</td>\n",
       "      <td>Self-emp-inc</td>\n",
       "      <td>287927</td>\n",
       "      <td>HS-grad</td>\n",
       "      <td>9</td>\n",
       "      <td>Married-civ-spouse</td>\n",
       "      <td>Exec-managerial</td>\n",
       "      <td>Wife</td>\n",
       "      <td>White</td>\n",
       "      <td>Female</td>\n",
       "      <td>15024</td>\n",
       "      <td>0</td>\n",
       "      <td>40</td>\n",
       "      <td>United-States</td>\n",
       "      <td>&gt;50K</td>\n",
       "    </tr>\n",
       "  </tbody>\n",
       "</table>\n",
       "</div>"
      ],
      "text/plain": [
       "       0              1       2         3   4                    5   \\\n",
       "32558  58        Private  151910   HS-grad   9              Widowed   \n",
       "32559  22        Private  201490   HS-grad   9        Never-married   \n",
       "32560  52   Self-emp-inc  287927   HS-grad   9   Married-civ-spouse   \n",
       "\n",
       "                     6           7       8        9      10  11  12  \\\n",
       "32558      Adm-clerical   Unmarried   White   Female      0   0  40   \n",
       "32559      Adm-clerical   Own-child   White     Male      0   0  20   \n",
       "32560   Exec-managerial        Wife   White   Female  15024   0  40   \n",
       "\n",
       "                   13      14  \n",
       "32558   United-States   <=50K  \n",
       "32559   United-States   <=50K  \n",
       "32560   United-States    >50K  "
      ]
     },
     "execution_count": 34,
     "metadata": {},
     "output_type": "execute_result"
    }
   ],
   "source": [
    "df.tail(3)"
   ]
  },
  {
   "cell_type": "markdown",
   "metadata": {},
   "source": [
    "Преобразуем строковые признаки к числовым (а как расстояние-то искать?)"
   ]
  },
  {
   "cell_type": "code",
   "execution_count": 35,
   "metadata": {},
   "outputs": [
    {
     "data": {
      "text/html": [
       "<div>\n",
       "<style scoped>\n",
       "    .dataframe tbody tr th:only-of-type {\n",
       "        vertical-align: middle;\n",
       "    }\n",
       "\n",
       "    .dataframe tbody tr th {\n",
       "        vertical-align: top;\n",
       "    }\n",
       "\n",
       "    .dataframe thead th {\n",
       "        text-align: right;\n",
       "    }\n",
       "</style>\n",
       "<table border=\"1\" class=\"dataframe\">\n",
       "  <thead>\n",
       "    <tr style=\"text-align: right;\">\n",
       "      <th></th>\n",
       "      <th>0</th>\n",
       "      <th>1</th>\n",
       "      <th>2</th>\n",
       "      <th>3</th>\n",
       "      <th>4</th>\n",
       "      <th>5</th>\n",
       "      <th>6</th>\n",
       "      <th>7</th>\n",
       "      <th>8</th>\n",
       "      <th>9</th>\n",
       "      <th>10</th>\n",
       "      <th>11</th>\n",
       "      <th>12</th>\n",
       "      <th>13</th>\n",
       "      <th>14</th>\n",
       "    </tr>\n",
       "  </thead>\n",
       "  <tbody>\n",
       "    <tr>\n",
       "      <th>0</th>\n",
       "      <td>39</td>\n",
       "      <td>7</td>\n",
       "      <td>77516</td>\n",
       "      <td>9</td>\n",
       "      <td>13</td>\n",
       "      <td>4</td>\n",
       "      <td>1</td>\n",
       "      <td>1</td>\n",
       "      <td>4</td>\n",
       "      <td>1</td>\n",
       "      <td>2174</td>\n",
       "      <td>0</td>\n",
       "      <td>40</td>\n",
       "      <td>39</td>\n",
       "      <td>0</td>\n",
       "    </tr>\n",
       "    <tr>\n",
       "      <th>1</th>\n",
       "      <td>50</td>\n",
       "      <td>6</td>\n",
       "      <td>83311</td>\n",
       "      <td>9</td>\n",
       "      <td>13</td>\n",
       "      <td>2</td>\n",
       "      <td>4</td>\n",
       "      <td>0</td>\n",
       "      <td>4</td>\n",
       "      <td>1</td>\n",
       "      <td>0</td>\n",
       "      <td>0</td>\n",
       "      <td>13</td>\n",
       "      <td>39</td>\n",
       "      <td>0</td>\n",
       "    </tr>\n",
       "    <tr>\n",
       "      <th>2</th>\n",
       "      <td>38</td>\n",
       "      <td>4</td>\n",
       "      <td>215646</td>\n",
       "      <td>11</td>\n",
       "      <td>9</td>\n",
       "      <td>0</td>\n",
       "      <td>6</td>\n",
       "      <td>1</td>\n",
       "      <td>4</td>\n",
       "      <td>1</td>\n",
       "      <td>0</td>\n",
       "      <td>0</td>\n",
       "      <td>40</td>\n",
       "      <td>39</td>\n",
       "      <td>0</td>\n",
       "    </tr>\n",
       "  </tbody>\n",
       "</table>\n",
       "</div>"
      ],
      "text/plain": [
       "   0   1       2   3   4   5   6   7   8   9     10  11  12  13  14\n",
       "0  39   7   77516   9  13   4   1   1   4   1  2174   0  40  39   0\n",
       "1  50   6   83311   9  13   2   4   0   4   1     0   0  13  39   0\n",
       "2  38   4  215646  11   9   0   6   1   4   1     0   0  40  39   0"
      ]
     },
     "execution_count": 35,
     "metadata": {},
     "output_type": "execute_result"
    }
   ],
   "source": [
    "to_encode = [1, 3, 5, 6, 7, 8, 9, 13, 14]\n",
    "\n",
    "for column in to_encode:\n",
    "    le = LabelEncoder()\n",
    "    df[column] = le.fit_transform(df[column])\n",
    "    \n",
    "df.head(3)"
   ]
  },
  {
   "cell_type": "code",
   "execution_count": 36,
   "metadata": {},
   "outputs": [
    {
     "data": {
      "text/html": [
       "<div>\n",
       "<style scoped>\n",
       "    .dataframe tbody tr th:only-of-type {\n",
       "        vertical-align: middle;\n",
       "    }\n",
       "\n",
       "    .dataframe tbody tr th {\n",
       "        vertical-align: top;\n",
       "    }\n",
       "\n",
       "    .dataframe thead th {\n",
       "        text-align: right;\n",
       "    }\n",
       "</style>\n",
       "<table border=\"1\" class=\"dataframe\">\n",
       "  <thead>\n",
       "    <tr style=\"text-align: right;\">\n",
       "      <th></th>\n",
       "      <th>0</th>\n",
       "      <th>1</th>\n",
       "      <th>2</th>\n",
       "      <th>3</th>\n",
       "      <th>4</th>\n",
       "      <th>5</th>\n",
       "      <th>6</th>\n",
       "      <th>7</th>\n",
       "      <th>8</th>\n",
       "      <th>9</th>\n",
       "      <th>10</th>\n",
       "      <th>11</th>\n",
       "      <th>12</th>\n",
       "      <th>13</th>\n",
       "      <th>14</th>\n",
       "    </tr>\n",
       "  </thead>\n",
       "  <tbody>\n",
       "    <tr>\n",
       "      <th>32558</th>\n",
       "      <td>58</td>\n",
       "      <td>4</td>\n",
       "      <td>151910</td>\n",
       "      <td>11</td>\n",
       "      <td>9</td>\n",
       "      <td>6</td>\n",
       "      <td>1</td>\n",
       "      <td>4</td>\n",
       "      <td>4</td>\n",
       "      <td>0</td>\n",
       "      <td>0</td>\n",
       "      <td>0</td>\n",
       "      <td>40</td>\n",
       "      <td>39</td>\n",
       "      <td>0</td>\n",
       "    </tr>\n",
       "    <tr>\n",
       "      <th>32559</th>\n",
       "      <td>22</td>\n",
       "      <td>4</td>\n",
       "      <td>201490</td>\n",
       "      <td>11</td>\n",
       "      <td>9</td>\n",
       "      <td>4</td>\n",
       "      <td>1</td>\n",
       "      <td>3</td>\n",
       "      <td>4</td>\n",
       "      <td>1</td>\n",
       "      <td>0</td>\n",
       "      <td>0</td>\n",
       "      <td>20</td>\n",
       "      <td>39</td>\n",
       "      <td>0</td>\n",
       "    </tr>\n",
       "    <tr>\n",
       "      <th>32560</th>\n",
       "      <td>52</td>\n",
       "      <td>5</td>\n",
       "      <td>287927</td>\n",
       "      <td>11</td>\n",
       "      <td>9</td>\n",
       "      <td>2</td>\n",
       "      <td>4</td>\n",
       "      <td>5</td>\n",
       "      <td>4</td>\n",
       "      <td>0</td>\n",
       "      <td>15024</td>\n",
       "      <td>0</td>\n",
       "      <td>40</td>\n",
       "      <td>39</td>\n",
       "      <td>1</td>\n",
       "    </tr>\n",
       "  </tbody>\n",
       "</table>\n",
       "</div>"
      ],
      "text/plain": [
       "       0   1       2   3   4   5   6   7   8   9      10  11  12  13  14\n",
       "32558  58   4  151910  11   9   6   1   4   4   0      0   0  40  39   0\n",
       "32559  22   4  201490  11   9   4   1   3   4   1      0   0  20  39   0\n",
       "32560  52   5  287927  11   9   2   4   5   4   0  15024   0  40  39   1"
      ]
     },
     "execution_count": 36,
     "metadata": {},
     "output_type": "execute_result"
    }
   ],
   "source": [
    "df.tail(3)"
   ]
  },
  {
   "cell_type": "markdown",
   "metadata": {},
   "source": [
    "Этого не сказано нигде в задании, но наверное, мы предсказываем зарплату (последний столбец, два класса: <=50K, >50K, преобразовали в 0, 1 соответственно) "
   ]
  },
  {
   "cell_type": "code",
   "execution_count": 37,
   "metadata": {},
   "outputs": [],
   "source": [
    "# Settings\n",
    "n_repeat = 100       # Number of iterations for computing expectations\n",
    "test_size = 0.5       # (Relative) Size of the test set\n",
    "\n",
    "# Исследуемая сетка параметров\n",
    "# пояснение: длина train выборки должна варироваться от 50% до 200% относительно длины тестовой выборки  \n",
    "parameters = {\"k\":list(range(1, 20)), \"p\":np.arange(1, 10, 0.5), \"l_train\":np.arange(0.5, 2, 0.1)}\n",
    "\n",
    "\n",
    "# Get Data\n",
    "train , test = train_test_split(df, test_size=test_size, random_state=17)"
   ]
  },
  {
   "cell_type": "code",
   "execution_count": 38,
   "metadata": {},
   "outputs": [],
   "source": [
    "# Для того чтобы оценить bias и variance нужно сгенерировать случайные\n",
    "# подвыборки с возвращением из исходного массива данных \n",
    "# (бутстрепинг)\n",
    "\n",
    "X_train = []\n",
    "y_train = []\n",
    "\n",
    "for i in range(n_repeat):\n",
    "    sample_train = train.sample(n=len(train), replace=True) \n",
    "    X, y = sample_train[list(range(14))].values, sample_train[14].values\n",
    "    X_train.append(X)\n",
    "    y_train.append(y)\n",
    "    \n",
    "X_test, y_test = test[list(range(14))].values, test[14].values\n",
    "n_test = len(y_test)"
   ]
  },
  {
   "cell_type": "code",
   "execution_count": 39,
   "metadata": {},
   "outputs": [
    {
     "name": "stdout",
     "output_type": "stream",
     "text": [
      "16281\n"
     ]
    }
   ],
   "source": [
    "print(n_test)"
   ]
  },
  {
   "cell_type": "code",
   "execution_count": 42,
   "metadata": {},
   "outputs": [],
   "source": [
    "def magic(p_name, p_true_name, bias_variance_df):\n",
    "    for parameter in tqdm.tqdm_notebook(parameters[p_name]):\n",
    "        # Compute predictions\n",
    "        y_predict = np.zeros((n_test, n_repeat))\n",
    "\n",
    "        for i in range(n_repeat):\n",
    "            estimator = None\n",
    "            if (not (p_true_name is None)):\n",
    "                estimator = KNeighborsClassifier(**{p_true_name:parameter, \"n_jobs\":-1}).fit(X_train[i], y_train[i])\n",
    "            else:\n",
    "                size = int(len(X_train[0]) * parameter)\n",
    "                estimator = KNeighborsClassifier(**{\"n_jobs\":-1}).fit(X_train[i][:size], y_train[i][:size])\n",
    "            y_predict[:, i] = estimator.predict(X_test)\n",
    "\n",
    "        # Bias^2 + Variance + Noise decomposition of the mean squared error\n",
    "        y_error = np.zeros(n_test)\n",
    "\n",
    "        for i in range(n_repeat):\n",
    "                y_error += (y_test[:] - y_predict[:, i]) ** 2\n",
    "\n",
    "        y_error /= (n_repeat )\n",
    "\n",
    "        # В каждой точке тестовой выборки bias положим равным квадрату разности реального значения \n",
    "        # и среднего предсказанного значения по всем обучающим выборкам.\n",
    "        y_bias = (y_test - np.mean(y_predict, axis=1)) ** 2\n",
    "\n",
    "        # Variance положим равным среднеквадратичному разбросу значений по всем обучающим выборкам. \n",
    "        # Итоговое значение bias и variance возьмём равным среднему по всем точкам тестовой выборки\n",
    "        y_var = np.var(y_predict, axis=1)\n",
    "\n",
    "        bias_variance_df.loc[bias_variance_df[p_name]==parameter, 'bias'] = y_bias.mean()\n",
    "            # сохраните среднее значение bias^2 для данного значения параметра\n",
    "        bias_variance_df.loc[bias_variance_df[p_name]==parameter, 'variance'] = y_var.mean()  # ???\n",
    "            # сохраните среднее значение variance для данного значения параметра\n",
    "        bias_variance_df.loc[bias_variance_df[p_name]==parameter, 'error'] = y_error.mean()\n",
    "            # сохраните среднее значени error для данного значения параметра\n",
    "    return bias_variance_df"
   ]
  },
  {
   "cell_type": "markdown",
   "metadata": {},
   "source": [
    "## Анализ p"
   ]
  },
  {
   "cell_type": "code",
   "execution_count": 44,
   "metadata": {},
   "outputs": [
    {
     "data": {
      "application/vnd.jupyter.widget-view+json": {
       "model_id": "5dc4596c26f84d7dae9c3745a57aba9c",
       "version_major": 2,
       "version_minor": 0
      },
      "text/html": [
       "<p>Failed to display Jupyter Widget of type <code>HBox</code>.</p>\n",
       "<p>\n",
       "  If you're reading this message in the Jupyter Notebook or JupyterLab Notebook, it may mean\n",
       "  that the widgets JavaScript is still loading. If this message persists, it\n",
       "  likely means that the widgets JavaScript library is either not installed or\n",
       "  not enabled. See the <a href=\"https://ipywidgets.readthedocs.io/en/stable/user_install.html\">Jupyter\n",
       "  Widgets Documentation</a> for setup instructions.\n",
       "</p>\n",
       "<p>\n",
       "  If you're reading this message in another frontend (for example, a static\n",
       "  rendering on GitHub or <a href=\"https://nbviewer.jupyter.org/\">NBViewer</a>),\n",
       "  it may mean that your frontend doesn't currently support widgets.\n",
       "</p>\n"
      ],
      "text/plain": [
       "HBox(children=(IntProgress(value=0, max=18), HTML(value=u'')))"
      ]
     },
     "metadata": {},
     "output_type": "display_data"
    },
    {
     "name": "stdout",
     "output_type": "stream",
     "text": [
      "\n"
     ]
    }
   ],
   "source": [
    "# Для каждого значения парамера оцените значение error, bias и variance согласно следующей схеме\n",
    "p_name = 'p'\n",
    "p_true_name = p_name\n",
    "bias_variance_df_p = pd.DataFrame.from_dict({p_name:parameters[p_name],'bias':list([np.NaN]*len(parameters[p_name]))\n",
    "                                           , 'variance':list([np.NaN]*len(parameters[p_name]))\n",
    "                                           , 'error':list([np.NaN]*len(parameters[p_name]))})\n",
    "\n",
    "bias_variance_df_p = magic(p_name, p_true_name, bias_variance_df_p)"
   ]
  },
  {
   "cell_type": "code",
   "execution_count": 45,
   "metadata": {},
   "outputs": [
    {
     "data": {
      "text/html": [
       "<div>\n",
       "<style scoped>\n",
       "    .dataframe tbody tr th:only-of-type {\n",
       "        vertical-align: middle;\n",
       "    }\n",
       "\n",
       "    .dataframe tbody tr th {\n",
       "        vertical-align: top;\n",
       "    }\n",
       "\n",
       "    .dataframe thead th {\n",
       "        text-align: right;\n",
       "    }\n",
       "</style>\n",
       "<table border=\"1\" class=\"dataframe\">\n",
       "  <thead>\n",
       "    <tr style=\"text-align: right;\">\n",
       "      <th></th>\n",
       "      <th>bias</th>\n",
       "      <th>error</th>\n",
       "      <th>p</th>\n",
       "      <th>variance</th>\n",
       "    </tr>\n",
       "  </thead>\n",
       "  <tbody>\n",
       "    <tr>\n",
       "      <th>0</th>\n",
       "      <td>0.174156</td>\n",
       "      <td>0.258133</td>\n",
       "      <td>1.0</td>\n",
       "      <td>0.083977</td>\n",
       "    </tr>\n",
       "    <tr>\n",
       "      <th>1</th>\n",
       "      <td>0.177382</td>\n",
       "      <td>0.261330</td>\n",
       "      <td>1.5</td>\n",
       "      <td>0.083948</td>\n",
       "    </tr>\n",
       "    <tr>\n",
       "      <th>2</th>\n",
       "      <td>0.178161</td>\n",
       "      <td>0.261902</td>\n",
       "      <td>2.0</td>\n",
       "      <td>0.083741</td>\n",
       "    </tr>\n",
       "    <tr>\n",
       "      <th>3</th>\n",
       "      <td>0.178683</td>\n",
       "      <td>0.262327</td>\n",
       "      <td>2.5</td>\n",
       "      <td>0.083644</td>\n",
       "    </tr>\n",
       "    <tr>\n",
       "      <th>4</th>\n",
       "      <td>0.178666</td>\n",
       "      <td>0.262336</td>\n",
       "      <td>3.0</td>\n",
       "      <td>0.083670</td>\n",
       "    </tr>\n",
       "    <tr>\n",
       "      <th>5</th>\n",
       "      <td>0.178861</td>\n",
       "      <td>0.262500</td>\n",
       "      <td>3.5</td>\n",
       "      <td>0.083639</td>\n",
       "    </tr>\n",
       "    <tr>\n",
       "      <th>6</th>\n",
       "      <td>0.178917</td>\n",
       "      <td>0.262615</td>\n",
       "      <td>4.0</td>\n",
       "      <td>0.083698</td>\n",
       "    </tr>\n",
       "    <tr>\n",
       "      <th>7</th>\n",
       "      <td>0.178895</td>\n",
       "      <td>0.262596</td>\n",
       "      <td>4.5</td>\n",
       "      <td>0.083701</td>\n",
       "    </tr>\n",
       "    <tr>\n",
       "      <th>8</th>\n",
       "      <td>0.178897</td>\n",
       "      <td>0.262639</td>\n",
       "      <td>5.0</td>\n",
       "      <td>0.083741</td>\n",
       "    </tr>\n",
       "    <tr>\n",
       "      <th>9</th>\n",
       "      <td>0.178920</td>\n",
       "      <td>0.262621</td>\n",
       "      <td>5.5</td>\n",
       "      <td>0.083701</td>\n",
       "    </tr>\n",
       "    <tr>\n",
       "      <th>10</th>\n",
       "      <td>0.178939</td>\n",
       "      <td>0.262632</td>\n",
       "      <td>6.0</td>\n",
       "      <td>0.083693</td>\n",
       "    </tr>\n",
       "    <tr>\n",
       "      <th>11</th>\n",
       "      <td>0.178948</td>\n",
       "      <td>0.262637</td>\n",
       "      <td>6.5</td>\n",
       "      <td>0.083689</td>\n",
       "    </tr>\n",
       "    <tr>\n",
       "      <th>12</th>\n",
       "      <td>0.178956</td>\n",
       "      <td>0.262629</td>\n",
       "      <td>7.0</td>\n",
       "      <td>0.083674</td>\n",
       "    </tr>\n",
       "    <tr>\n",
       "      <th>13</th>\n",
       "      <td>0.178938</td>\n",
       "      <td>0.262601</td>\n",
       "      <td>7.5</td>\n",
       "      <td>0.083663</td>\n",
       "    </tr>\n",
       "    <tr>\n",
       "      <th>14</th>\n",
       "      <td>0.178930</td>\n",
       "      <td>0.262593</td>\n",
       "      <td>8.0</td>\n",
       "      <td>0.083663</td>\n",
       "    </tr>\n",
       "    <tr>\n",
       "      <th>15</th>\n",
       "      <td>0.178969</td>\n",
       "      <td>0.262628</td>\n",
       "      <td>8.5</td>\n",
       "      <td>0.083659</td>\n",
       "    </tr>\n",
       "    <tr>\n",
       "      <th>16</th>\n",
       "      <td>0.179009</td>\n",
       "      <td>0.262662</td>\n",
       "      <td>9.0</td>\n",
       "      <td>0.083653</td>\n",
       "    </tr>\n",
       "    <tr>\n",
       "      <th>17</th>\n",
       "      <td>0.179011</td>\n",
       "      <td>0.262651</td>\n",
       "      <td>9.5</td>\n",
       "      <td>0.083640</td>\n",
       "    </tr>\n",
       "  </tbody>\n",
       "</table>\n",
       "</div>"
      ],
      "text/plain": [
       "        bias     error    p  variance\n",
       "0   0.174156  0.258133  1.0  0.083977\n",
       "1   0.177382  0.261330  1.5  0.083948\n",
       "2   0.178161  0.261902  2.0  0.083741\n",
       "3   0.178683  0.262327  2.5  0.083644\n",
       "4   0.178666  0.262336  3.0  0.083670\n",
       "5   0.178861  0.262500  3.5  0.083639\n",
       "6   0.178917  0.262615  4.0  0.083698\n",
       "7   0.178895  0.262596  4.5  0.083701\n",
       "8   0.178897  0.262639  5.0  0.083741\n",
       "9   0.178920  0.262621  5.5  0.083701\n",
       "10  0.178939  0.262632  6.0  0.083693\n",
       "11  0.178948  0.262637  6.5  0.083689\n",
       "12  0.178956  0.262629  7.0  0.083674\n",
       "13  0.178938  0.262601  7.5  0.083663\n",
       "14  0.178930  0.262593  8.0  0.083663\n",
       "15  0.178969  0.262628  8.5  0.083659\n",
       "16  0.179009  0.262662  9.0  0.083653\n",
       "17  0.179011  0.262651  9.5  0.083640"
      ]
     },
     "execution_count": 45,
     "metadata": {},
     "output_type": "execute_result"
    }
   ],
   "source": [
    "bias_variance_df_p"
   ]
  },
  {
   "cell_type": "code",
   "execution_count": 55,
   "metadata": {},
   "outputs": [],
   "source": [
    "def plotmagic(p_name, df):\n",
    "    plt.figure(figsize=(14, 5))\n",
    "    for i, name in enumerate([\"bias\", \"error\", \"variance\"]):\n",
    "        plt.subplot(130 + i + 1)\n",
    "        plt.plot(parameters[p_name], df[name].values, label=name)\n",
    "        plt.xlabel(name)\n",
    "        plt.legend()\n",
    "    plt.show()"
   ]
  },
  {
   "cell_type": "code",
   "execution_count": 57,
   "metadata": {},
   "outputs": [
    {
     "data": {
      "image/png": "[encoded data removed]",
      "text/plain": [
       "<matplotlib.figure.Figure at 0x7fbd82424650>"
      ]
     },
     "metadata": {},
     "output_type": "display_data"
    },
    {
     "data": {
      "image/png": "[encoded data removed]",
      "text/plain": [
       "<matplotlib.figure.Figure at 0x7fbd821b45d0>"
      ]
     },
     "metadata": {},
     "output_type": "display_data"
    }
   ],
   "source": [
    "# нарисуйте зависимость bias, variance и error от значений параметров\n",
    "# plt.figure(figsize=(10, 8))\n",
    "bias_variance_df_p.set_index(p_name).plot(figsize=(14,8))\n",
    "plotmagic(p_name, bias_variance_df_p)"
   ]
  },
  {
   "cell_type": "markdown",
   "metadata": {},
   "source": [
    "**Комментарий:**\n",
    "\n",
    "Выглядит так, как будто сложность модели падает с ростом $p$. Больше ошибка, больше bias, меньше variance, т.е. противоложность графику роста сложности с семинара.\n",
    "\n",
    "Вообще, говоря, это логично, т.к. при росте p метрика минковского всё больше реагирует на самую большую компоненты координаты и всё меньше на малые компоненты, короче стремится к максимуму, т.е. грубо говоря, сложность действительно падает и теория выполняется.\n",
    "\n",
    "При этом растёт ошибки и сложности модели не хватает, недообучение."
   ]
  },
  {
   "cell_type": "markdown",
   "metadata": {},
   "source": [
    "## Анализ k"
   ]
  },
  {
   "cell_type": "code",
   "execution_count": 58,
   "metadata": {},
   "outputs": [
    {
     "data": {
      "application/vnd.jupyter.widget-view+json": {
       "model_id": "734887fc2d0f47fab4ff63a0a8ee8f09",
       "version_major": 2,
       "version_minor": 0
      },
      "text/html": [
       "<p>Failed to display Jupyter Widget of type <code>HBox</code>.</p>\n",
       "<p>\n",
       "  If you're reading this message in the Jupyter Notebook or JupyterLab Notebook, it may mean\n",
       "  that the widgets JavaScript is still loading. If this message persists, it\n",
       "  likely means that the widgets JavaScript library is either not installed or\n",
       "  not enabled. See the <a href=\"https://ipywidgets.readthedocs.io/en/stable/user_install.html\">Jupyter\n",
       "  Widgets Documentation</a> for setup instructions.\n",
       "</p>\n",
       "<p>\n",
       "  If you're reading this message in another frontend (for example, a static\n",
       "  rendering on GitHub or <a href=\"https://nbviewer.jupyter.org/\">NBViewer</a>),\n",
       "  it may mean that your frontend doesn't currently support widgets.\n",
       "</p>\n"
      ],
      "text/plain": [
       "HBox(children=(IntProgress(value=0, max=19), HTML(value=u'')))"
      ]
     },
     "metadata": {},
     "output_type": "display_data"
    },
    {
     "name": "stdout",
     "output_type": "stream",
     "text": [
      "\n"
     ]
    }
   ],
   "source": [
    "p_name ='k'\n",
    "p_true_name=\"n_neighbors\"\n",
    "bias_variance_df_k = pd.DataFrame.from_dict({p_name:parameters[p_name],'bias':list([np.NaN]*len(parameters[p_name]))\n",
    "                                           , 'variance':list([np.NaN]*len(parameters[p_name]))\n",
    "                                           , 'error':list([np.NaN]*len(parameters[p_name]))})\n",
    "\n",
    "bias_variance_df_k = magic(p_name, p_true_name, bias_variance_df_k)"
   ]
  },
  {
   "cell_type": "code",
   "execution_count": 59,
   "metadata": {},
   "outputs": [
    {
     "data": {
      "text/html": [
       "<div>\n",
       "<style scoped>\n",
       "    .dataframe tbody tr th:only-of-type {\n",
       "        vertical-align: middle;\n",
       "    }\n",
       "\n",
       "    .dataframe tbody tr th {\n",
       "        vertical-align: top;\n",
       "    }\n",
       "\n",
       "    .dataframe thead th {\n",
       "        text-align: right;\n",
       "    }\n",
       "</style>\n",
       "<table border=\"1\" class=\"dataframe\">\n",
       "  <thead>\n",
       "    <tr style=\"text-align: right;\">\n",
       "      <th></th>\n",
       "      <th>bias</th>\n",
       "      <th>error</th>\n",
       "      <th>k</th>\n",
       "      <th>variance</th>\n",
       "    </tr>\n",
       "  </thead>\n",
       "  <tbody>\n",
       "    <tr>\n",
       "      <th>0</th>\n",
       "      <td>0.207405</td>\n",
       "      <td>0.290292</td>\n",
       "      <td>1</td>\n",
       "      <td>0.082886</td>\n",
       "    </tr>\n",
       "    <tr>\n",
       "      <th>1</th>\n",
       "      <td>0.180316</td>\n",
       "      <td>0.251445</td>\n",
       "      <td>2</td>\n",
       "      <td>0.071129</td>\n",
       "    </tr>\n",
       "    <tr>\n",
       "      <th>2</th>\n",
       "      <td>0.181137</td>\n",
       "      <td>0.280435</td>\n",
       "      <td>3</td>\n",
       "      <td>0.099298</td>\n",
       "    </tr>\n",
       "    <tr>\n",
       "      <th>3</th>\n",
       "      <td>0.178128</td>\n",
       "      <td>0.243801</td>\n",
       "      <td>4</td>\n",
       "      <td>0.065672</td>\n",
       "    </tr>\n",
       "    <tr>\n",
       "      <th>4</th>\n",
       "      <td>0.178161</td>\n",
       "      <td>0.261902</td>\n",
       "      <td>5</td>\n",
       "      <td>0.083741</td>\n",
       "    </tr>\n",
       "    <tr>\n",
       "      <th>5</th>\n",
       "      <td>0.181242</td>\n",
       "      <td>0.235652</td>\n",
       "      <td>6</td>\n",
       "      <td>0.054410</td>\n",
       "    </tr>\n",
       "    <tr>\n",
       "      <th>6</th>\n",
       "      <td>0.180200</td>\n",
       "      <td>0.247961</td>\n",
       "      <td>7</td>\n",
       "      <td>0.067762</td>\n",
       "    </tr>\n",
       "    <tr>\n",
       "      <th>7</th>\n",
       "      <td>0.184330</td>\n",
       "      <td>0.229130</td>\n",
       "      <td>8</td>\n",
       "      <td>0.044800</td>\n",
       "    </tr>\n",
       "    <tr>\n",
       "      <th>8</th>\n",
       "      <td>0.182622</td>\n",
       "      <td>0.237261</td>\n",
       "      <td>9</td>\n",
       "      <td>0.054639</td>\n",
       "    </tr>\n",
       "    <tr>\n",
       "      <th>9</th>\n",
       "      <td>0.187458</td>\n",
       "      <td>0.224202</td>\n",
       "      <td>10</td>\n",
       "      <td>0.036743</td>\n",
       "    </tr>\n",
       "    <tr>\n",
       "      <th>10</th>\n",
       "      <td>0.185355</td>\n",
       "      <td>0.229655</td>\n",
       "      <td>11</td>\n",
       "      <td>0.044300</td>\n",
       "    </tr>\n",
       "    <tr>\n",
       "      <th>11</th>\n",
       "      <td>0.189713</td>\n",
       "      <td>0.220468</td>\n",
       "      <td>12</td>\n",
       "      <td>0.030755</td>\n",
       "    </tr>\n",
       "    <tr>\n",
       "      <th>12</th>\n",
       "      <td>0.187808</td>\n",
       "      <td>0.224601</td>\n",
       "      <td>13</td>\n",
       "      <td>0.036793</td>\n",
       "    </tr>\n",
       "    <tr>\n",
       "      <th>13</th>\n",
       "      <td>0.191927</td>\n",
       "      <td>0.217803</td>\n",
       "      <td>14</td>\n",
       "      <td>0.025876</td>\n",
       "    </tr>\n",
       "    <tr>\n",
       "      <th>14</th>\n",
       "      <td>0.190153</td>\n",
       "      <td>0.220717</td>\n",
       "      <td>15</td>\n",
       "      <td>0.030565</td>\n",
       "    </tr>\n",
       "    <tr>\n",
       "      <th>15</th>\n",
       "      <td>0.193720</td>\n",
       "      <td>0.216090</td>\n",
       "      <td>16</td>\n",
       "      <td>0.022370</td>\n",
       "    </tr>\n",
       "    <tr>\n",
       "      <th>16</th>\n",
       "      <td>0.192058</td>\n",
       "      <td>0.218071</td>\n",
       "      <td>17</td>\n",
       "      <td>0.026012</td>\n",
       "    </tr>\n",
       "    <tr>\n",
       "      <th>17</th>\n",
       "      <td>0.195199</td>\n",
       "      <td>0.214327</td>\n",
       "      <td>18</td>\n",
       "      <td>0.019127</td>\n",
       "    </tr>\n",
       "    <tr>\n",
       "      <th>18</th>\n",
       "      <td>0.193755</td>\n",
       "      <td>0.215739</td>\n",
       "      <td>19</td>\n",
       "      <td>0.021984</td>\n",
       "    </tr>\n",
       "  </tbody>\n",
       "</table>\n",
       "</div>"
      ],
      "text/plain": [
       "        bias     error   k  variance\n",
       "0   0.207405  0.290292   1  0.082886\n",
       "1   0.180316  0.251445   2  0.071129\n",
       "2   0.181137  0.280435   3  0.099298\n",
       "3   0.178128  0.243801   4  0.065672\n",
       "4   0.178161  0.261902   5  0.083741\n",
       "5   0.181242  0.235652   6  0.054410\n",
       "6   0.180200  0.247961   7  0.067762\n",
       "7   0.184330  0.229130   8  0.044800\n",
       "8   0.182622  0.237261   9  0.054639\n",
       "9   0.187458  0.224202  10  0.036743\n",
       "10  0.185355  0.229655  11  0.044300\n",
       "11  0.189713  0.220468  12  0.030755\n",
       "12  0.187808  0.224601  13  0.036793\n",
       "13  0.191927  0.217803  14  0.025876\n",
       "14  0.190153  0.220717  15  0.030565\n",
       "15  0.193720  0.216090  16  0.022370\n",
       "16  0.192058  0.218071  17  0.026012\n",
       "17  0.195199  0.214327  18  0.019127\n",
       "18  0.193755  0.215739  19  0.021984"
      ]
     },
     "execution_count": 59,
     "metadata": {},
     "output_type": "execute_result"
    }
   ],
   "source": [
    "bias_variance_df_k"
   ]
  },
  {
   "cell_type": "code",
   "execution_count": 60,
   "metadata": {},
   "outputs": [
    {
     "data": {
      "image/png": "[encoded data removed]",
      "text/plain": [
       "<matplotlib.figure.Figure at 0x7fbd81707510>"
      ]
     },
     "metadata": {},
     "output_type": "display_data"
    },
    {
     "data": {
      "image/png": "[encoded data removed]",
      "text/plain": [
       "<matplotlib.figure.Figure at 0x7fbd81846110>"
      ]
     },
     "metadata": {},
     "output_type": "display_data"
    }
   ],
   "source": [
    "bias_variance_df_k.set_index(p_name).plot(figsize=(10,8))\n",
    "plotmagic(p_name, bias_variance_df_k)"
   ]
  },
  {
   "cell_type": "markdown",
   "metadata": {},
   "source": [
    "**Комментарий:**\n",
    "Заметим, что \"пилочка\" - это чётность/нечётность k.\n",
    "Видим, что при росте k - ошибка падает, однако bias растёт, variance падает.\n",
    "В семинарском примере это означало бы, что сложность модели падает, в некотором смысле это действительно так: оценка всё больше стремится к константе - более встречающемуся классу, но \"сложность\" модели не так очевидна.\n",
    "\n",
    "Тем не менее, ошибка падает, как будто было переобучение. Но действительно, при k=1 мы просто запомнили обучающую выборку, что переобучение в явном виде."
   ]
  },
  {
   "cell_type": "markdown",
   "metadata": {},
   "source": [
    "## Анализ l_train"
   ]
  },
  {
   "cell_type": "code",
   "execution_count": 61,
   "metadata": {},
   "outputs": [
    {
     "data": {
      "application/vnd.jupyter.widget-view+json": {
       "model_id": "cada9d1208154083a58c54926fb6b3ae",
       "version_major": 2,
       "version_minor": 0
      },
      "text/html": [
       "<p>Failed to display Jupyter Widget of type <code>HBox</code>.</p>\n",
       "<p>\n",
       "  If you're reading this message in the Jupyter Notebook or JupyterLab Notebook, it may mean\n",
       "  that the widgets JavaScript is still loading. If this message persists, it\n",
       "  likely means that the widgets JavaScript library is either not installed or\n",
       "  not enabled. See the <a href=\"https://ipywidgets.readthedocs.io/en/stable/user_install.html\">Jupyter\n",
       "  Widgets Documentation</a> for setup instructions.\n",
       "</p>\n",
       "<p>\n",
       "  If you're reading this message in another frontend (for example, a static\n",
       "  rendering on GitHub or <a href=\"https://nbviewer.jupyter.org/\">NBViewer</a>),\n",
       "  it may mean that your frontend doesn't currently support widgets.\n",
       "</p>\n"
      ],
      "text/plain": [
       "HBox(children=(IntProgress(value=0, max=15), HTML(value=u'')))"
      ]
     },
     "metadata": {},
     "output_type": "display_data"
    },
    {
     "name": "stdout",
     "output_type": "stream",
     "text": [
      "\n"
     ]
    }
   ],
   "source": [
    "p_name = \"l_train\"\n",
    "p_true_name = None\n",
    "bias_variance_df_l = pd.DataFrame.from_dict({p_name:parameters[p_name],'bias':list([np.NaN]*len(parameters[p_name]))\n",
    "                                           , 'variance':list([np.NaN]*len(parameters[p_name]))\n",
    "                                           , 'error':list([np.NaN]*len(parameters[p_name]))})\n",
    "\n",
    "for parameter in tqdm.tqdm_notebook(parameters[p_name]):\n",
    "    X_train = []\n",
    "    y_train = []\n",
    "\n",
    "    size = int(len(train) * parameter)\n",
    "    \n",
    "    for i in range(n_repeat):\n",
    "        sample_train = train.sample(n=size, replace=True) \n",
    "        X, y = sample_train[list(range(14))].values, sample_train[14].values\n",
    "        X_train.append(X)\n",
    "        y_train.append(y)\n",
    "\n",
    "    X_test, y_test = test[list(range(14))].values, test[14].values\n",
    "    n_test = len(y_test)\n",
    "\n",
    "    # Compute predictions\n",
    "    y_predict = np.zeros((n_test, n_repeat))\n",
    "\n",
    "    for i in range(n_repeat):\n",
    "        estimator = None\n",
    "        estimator = KNeighborsClassifier(**{ \"n_jobs\":-1}).fit(X_train[i], y_train[i])\n",
    "        y_predict[:, i] = estimator.predict(X_test)\n",
    "\n",
    "    # Bias^2 + Variance + Noise decomposition of the mean squared error\n",
    "    y_error = np.zeros(n_test)\n",
    "\n",
    "    for i in range(n_repeat):\n",
    "            y_error += (y_test[:] - y_predict[:, i]) ** 2\n",
    "\n",
    "    y_error /= (n_repeat )\n",
    "\n",
    "    # В каждой точке тестовой выборки bias положим равным квадрату разности реального значения \n",
    "    # и среднего предсказанного значения по всем обучающим выборкам.\n",
    "    y_bias = (y_test - np.mean(y_predict, axis=1)) ** 2\n",
    "\n",
    "    # Variance положим равным среднеквадратичному разбросу значений по всем обучающим выборкам. \n",
    "    # Итоговое значение bias и variance возьмём равным среднему по всем точкам тестовой выборки\n",
    "    y_var = np.var(y_predict, axis=1)\n",
    "    bias_variance_df_l.loc[bias_variance_df_l[p_name]==parameter, 'bias'] = y_bias.mean()\n",
    "        # сохраните среднее значение bias^2 для данного значения параметра\n",
    "    bias_variance_df_l.loc[bias_variance_df_l[p_name]==parameter, 'variance'] = y_var.mean()  # ???\n",
    "        # сохраните среднее значение variance для данного значения параметра\n",
    "    bias_variance_df_l.loc[bias_variance_df_l[p_name]==parameter, 'error'] = y_error.mean()\n",
    "        # сохраните среднее значени error для данного значения параметра\n"
   ]
  },
  {
   "cell_type": "code",
   "execution_count": 62,
   "metadata": {},
   "outputs": [
    {
     "data": {
      "text/html": [
       "<div>\n",
       "<style scoped>\n",
       "    .dataframe tbody tr th:only-of-type {\n",
       "        vertical-align: middle;\n",
       "    }\n",
       "\n",
       "    .dataframe tbody tr th {\n",
       "        vertical-align: top;\n",
       "    }\n",
       "\n",
       "    .dataframe thead th {\n",
       "        text-align: right;\n",
       "    }\n",
       "</style>\n",
       "<table border=\"1\" class=\"dataframe\">\n",
       "  <thead>\n",
       "    <tr style=\"text-align: right;\">\n",
       "      <th></th>\n",
       "      <th>bias</th>\n",
       "      <th>error</th>\n",
       "      <th>l_train</th>\n",
       "      <th>variance</th>\n",
       "    </tr>\n",
       "  </thead>\n",
       "  <tbody>\n",
       "    <tr>\n",
       "      <th>0</th>\n",
       "      <td>0.174697</td>\n",
       "      <td>0.250718</td>\n",
       "      <td>0.5</td>\n",
       "      <td>0.076021</td>\n",
       "    </tr>\n",
       "    <tr>\n",
       "      <th>1</th>\n",
       "      <td>0.174870</td>\n",
       "      <td>0.253134</td>\n",
       "      <td>0.6</td>\n",
       "      <td>0.078264</td>\n",
       "    </tr>\n",
       "    <tr>\n",
       "      <th>2</th>\n",
       "      <td>0.175688</td>\n",
       "      <td>0.255188</td>\n",
       "      <td>0.7</td>\n",
       "      <td>0.079500</td>\n",
       "    </tr>\n",
       "    <tr>\n",
       "      <th>3</th>\n",
       "      <td>0.176161</td>\n",
       "      <td>0.257621</td>\n",
       "      <td>0.8</td>\n",
       "      <td>0.081460</td>\n",
       "    </tr>\n",
       "    <tr>\n",
       "      <th>4</th>\n",
       "      <td>0.176798</td>\n",
       "      <td>0.259928</td>\n",
       "      <td>0.9</td>\n",
       "      <td>0.083129</td>\n",
       "    </tr>\n",
       "    <tr>\n",
       "      <th>5</th>\n",
       "      <td>0.178154</td>\n",
       "      <td>0.262190</td>\n",
       "      <td>1.0</td>\n",
       "      <td>0.084036</td>\n",
       "    </tr>\n",
       "    <tr>\n",
       "      <th>6</th>\n",
       "      <td>0.179193</td>\n",
       "      <td>0.263906</td>\n",
       "      <td>1.1</td>\n",
       "      <td>0.084713</td>\n",
       "    </tr>\n",
       "    <tr>\n",
       "      <th>7</th>\n",
       "      <td>0.180634</td>\n",
       "      <td>0.265476</td>\n",
       "      <td>1.2</td>\n",
       "      <td>0.084841</td>\n",
       "    </tr>\n",
       "    <tr>\n",
       "      <th>8</th>\n",
       "      <td>0.182035</td>\n",
       "      <td>0.267365</td>\n",
       "      <td>1.3</td>\n",
       "      <td>0.085331</td>\n",
       "    </tr>\n",
       "    <tr>\n",
       "      <th>9</th>\n",
       "      <td>0.183182</td>\n",
       "      <td>0.268778</td>\n",
       "      <td>1.4</td>\n",
       "      <td>0.085596</td>\n",
       "    </tr>\n",
       "    <tr>\n",
       "      <th>10</th>\n",
       "      <td>0.184504</td>\n",
       "      <td>0.270595</td>\n",
       "      <td>1.5</td>\n",
       "      <td>0.086090</td>\n",
       "    </tr>\n",
       "    <tr>\n",
       "      <th>11</th>\n",
       "      <td>0.186032</td>\n",
       "      <td>0.272405</td>\n",
       "      <td>1.6</td>\n",
       "      <td>0.086373</td>\n",
       "    </tr>\n",
       "    <tr>\n",
       "      <th>12</th>\n",
       "      <td>0.187613</td>\n",
       "      <td>0.273908</td>\n",
       "      <td>1.7</td>\n",
       "      <td>0.086294</td>\n",
       "    </tr>\n",
       "    <tr>\n",
       "      <th>13</th>\n",
       "      <td>0.189260</td>\n",
       "      <td>0.275110</td>\n",
       "      <td>1.8</td>\n",
       "      <td>0.085850</td>\n",
       "    </tr>\n",
       "    <tr>\n",
       "      <th>14</th>\n",
       "      <td>0.190482</td>\n",
       "      <td>0.276130</td>\n",
       "      <td>1.9</td>\n",
       "      <td>0.085648</td>\n",
       "    </tr>\n",
       "  </tbody>\n",
       "</table>\n",
       "</div>"
      ],
      "text/plain": [
       "        bias     error  l_train  variance\n",
       "0   0.174697  0.250718      0.5  0.076021\n",
       "1   0.174870  0.253134      0.6  0.078264\n",
       "2   0.175688  0.255188      0.7  0.079500\n",
       "3   0.176161  0.257621      0.8  0.081460\n",
       "4   0.176798  0.259928      0.9  0.083129\n",
       "5   0.178154  0.262190      1.0  0.084036\n",
       "6   0.179193  0.263906      1.1  0.084713\n",
       "7   0.180634  0.265476      1.2  0.084841\n",
       "8   0.182035  0.267365      1.3  0.085331\n",
       "9   0.183182  0.268778      1.4  0.085596\n",
       "10  0.184504  0.270595      1.5  0.086090\n",
       "11  0.186032  0.272405      1.6  0.086373\n",
       "12  0.187613  0.273908      1.7  0.086294\n",
       "13  0.189260  0.275110      1.8  0.085850\n",
       "14  0.190482  0.276130      1.9  0.085648"
      ]
     },
     "execution_count": 62,
     "metadata": {},
     "output_type": "execute_result"
    }
   ],
   "source": [
    "bias_variance_df_l"
   ]
  },
  {
   "cell_type": "code",
   "execution_count": 64,
   "metadata": {},
   "outputs": [
    {
     "data": {
      "image/png": "[encoded data removed]",
      "text/plain": [
       "<matplotlib.figure.Figure at 0x7fbd8206d810>"
      ]
     },
     "metadata": {},
     "output_type": "display_data"
    },
    {
     "data": {
      "image/png": "[encoded data removed]",
      "text/plain": [
       "<matplotlib.figure.Figure at 0x7fbd81a0e350>"
      ]
     },
     "metadata": {},
     "output_type": "display_data"
    }
   ],
   "source": [
    "bias_variance_df_l.set_index(p_name).plot(figsize=(10,8))\n",
    "plotmagic(p_name, bias_variance_df_l)"
   ]
  },
  {
   "cell_type": "markdown",
   "metadata": {},
   "source": [
    "**Комментарий:**\n",
    "Проиходит странное, не согласующееся с теорией.\n",
    "Однако, учитывая размеры выборки, видимо, модель недостаточно сложна, чтобы обобщить данные и мы на них переобучаемся (больше данных - меньше качество), возможно нужно увеличить сложность модели.\n",
    "\n",
    "C другой стороны, в процентах числа меняются малозначительно, возможно, что текущая модель уже на малом числе данных хорошо работает, а при росте размера выборки просто имеем какие-то изменения, например, некоторое переобучение."
   ]
  },
  {
   "cell_type": "markdown",
   "metadata": {},
   "source": [
    "<h2 align=\"center\">Реализуйте kNN (2 балла)</h2>"
   ]
  },
  {
   "cell_type": "markdown",
   "metadata": {},
   "source": [
    "Обновим данные. Выкинем некоторые столбцы и отнормируем их, чтобы получить хорошее accuracy в дальнейшем. Код, берущий все признаки с преобразованием, как выше, получает accuracy = 0.72 на k = 3 и 0.74 на k = 7 (на тестовой, конечно же), но я не хочу засорять ноутбук лишним запуском кода."
   ]
  },
  {
   "cell_type": "code",
   "execution_count": 145,
   "metadata": {},
   "outputs": [],
   "source": [
    "features = [0, 2, 3, 4, 9, 10, 11, 12]\n",
    "X_std = train[features].values.std(axis=0)\n",
    "X_train, y_train = train[features].values / X_std, train[14].values\n",
    "X_test, y_test = test[features].values / X_std, test[14].values\n",
    "n_test = len(y_test)"
   ]
  },
  {
   "cell_type": "code",
   "execution_count": 146,
   "metadata": {},
   "outputs": [],
   "source": [
    "warnings.simplefilter(\"ignore\")\n",
    "\n",
    "\n",
    "class kNNClassifier():\n",
    "    def __init__(self, n_neighbours,\n",
    "                 metric=None,\n",
    "                 multi_metric=None,\n",
    "                 range_wrapper=lambda x: x):   # это британский что ли? вроде как бы \"n_neighbors\"\n",
    "        \"\"\"\n",
    "        Parameters\n",
    "        ----------\n",
    "        n_neighbours: int\n",
    "            Число соседей\n",
    "\n",
    "        metric: *alias\n",
    "            метрика измерения расстояний\n",
    "            (измеряет расстояние между двумя векторами)\n",
    "            \n",
    "        multi_metric: *alias\n",
    "            метрика измерения расстояний\n",
    "            (измеряет расстояние между вектором и вектором векторов\n",
    "            - ВНИМАНИЕ: нужно обьявиль только одну метрику\n",
    "            обычно - жутко быстрее)\n",
    "                \n",
    "            \n",
    "        range_wrapper: *alias\n",
    "            обёртка для for i in range_wrapper(range) в предсказании,\n",
    "            например tqdm.tqdm_notebook.\n",
    "            по умолчанию : lambda x : x\n",
    "\n",
    "          \"\"\"\n",
    "        \n",
    "        assert n_neighbours % 2 == 1  # На лекции предлагали требовать нечётное число\n",
    "        assert (not (metric is None)) ^ (not (multi_metric is None))\n",
    "        self.n_neighbours = n_neighbours\n",
    "        self.metric = metric\n",
    "        self.multi_metric = multi_metric\n",
    "        self.range_wrapper = range_wrapper\n",
    "        \n",
    "    def fit(self, X, y):\n",
    "        \"\"\"\n",
    "        \n",
    "        Parameters\n",
    "        ----------\n",
    "        X: 2d np.array\n",
    "        y: 1d np.array\n",
    "        \"\"\"\n",
    "\n",
    "        # Тут храните здесь описание объектов обучающей выборки\n",
    "        self.X_learn = np.copy(X)  # нельзя портить внешние данные\n",
    "        # Тут храните здесь ответы по каждому объекту обучающей выборки\n",
    "        self.y_learn = np.copy(y)\n",
    "\n",
    "        \n",
    "        return self\n",
    "\n",
    "    def kmin(self, X, k):\n",
    "        \"\"\"\n",
    "        \n",
    "        Parameters\n",
    "        ----------\n",
    "            X: 1d np.array\n",
    "                вектор расстояний\n",
    "            k: int\n",
    "                число соседей, т.е. сколько минимальных элементов нужно вернуть\n",
    "                Предполагаем, что k = O(1)\n",
    "                \n",
    "        Returns\n",
    "        -------\n",
    "            mins: list\n",
    "                индексы k минимальных элементов из X\n",
    "                \n",
    "        \"\"\"\n",
    "        if (len(X) <= k):\n",
    "            return range(len(X))\n",
    "        else:\n",
    "            mins = [(X[i], i) for i in range(k)]\n",
    "            mins.sort()\n",
    "            mins = [y for _, y in mins]\n",
    "            \n",
    "            for j in range(k, len(X)):\n",
    "                i = k\n",
    "                while (i > 0) and (X[mins[i-1]] > X[j]):\n",
    "                    i -= 1\n",
    "                    \n",
    "                if (i != k):\n",
    "                    mins = mins[0:i] + [j] + mins[i: k - 1]\n",
    "                    \n",
    "            return mins\n",
    "        \n",
    "    def classify(self, classes):\n",
    "        return collections.Counter(classes).most_common(1)[0][0]\n",
    "        \n",
    "    def predict(self, X):\n",
    "        \"\"\"\n",
    "\n",
    "        Parameters\n",
    "        ----------\n",
    "        X: 2d np.array\n",
    "            матрица объекты признаки на которых нужно сказать ответ\n",
    "\n",
    "        Returns\n",
    "        -------\n",
    "        y_pred: 1d np.array\n",
    "            Вектор классов для каждого объекта\n",
    "        \"\"\"\n",
    "        X = np.array(X) # на всякий случай\n",
    "        # print(X)\n",
    "        \n",
    "        y_pred = []\n",
    "        for i in self.range_wrapper(range(X.shape[0])):\n",
    "            # cделаем один цикл вместо двух, т.к. нам совершенно не обязательно\n",
    "            # хранить попарные расстояния для всех обьектов, коих ~256M, т.к.\n",
    "            # можно классифицировать на ходу и кранить расстояния только до одного\n",
    "            # обьекта. Дополнительно, так проще распраллелить код (а что, а вдруг?)\n",
    "            \n",
    "            # print(\"x_predict\", X[i].shape)\n",
    "            # =======================================\n",
    "            # рассчитайте расстояние до каждого объекта обучающей выборки\n",
    "            # ======================================\n",
    "            dist = None\n",
    "            if self.multi_metric == None:\n",
    "                dist = [self.metric(X[i], x_train) for x_train in self.X_learn]\n",
    "            else:\n",
    "                dist = self.multi_metric(X[i], self.X_learn)\n",
    "                # вообще, нормальные реализации метрик могут считать расстояния между ветором и списком\n",
    "                # векторов, но нам в чате сказали, что metric считает расстояние между двумя векторами,\n",
    "                # что в некоторых случаях заметно замедляет работу, т.к. metriс может быть написана на C/C++\n",
    "                # Тем более, речь о написании KD-Tree, к сожалению не идёт, хотя оно качественно ускоряет\n",
    "\n",
    "            # =======================================\n",
    "            # предскажите класс каждого из объектов\n",
    "            # =======================================\n",
    "\n",
    "            mins1 = self.kmin(dist, self.n_neighbours)\n",
    "            dist1 = [dist[j] for j in mins1]\n",
    "            #dist.sort()\n",
    "            #mins2 = dist[0:self.n_neighbours]\n",
    "\n",
    "            #print(mins1)\n",
    "            #print(dist1, mins2)\n",
    "            #assert dist1 == mins2\n",
    "            #print(dist1, mins2)\n",
    "\n",
    "            classes = self.y_learn[mins1]\n",
    "\n",
    "            y_pred.append(self.classify(classes))\n",
    "        return y_pred"
   ]
  },
  {
   "cell_type": "markdown",
   "metadata": {},
   "source": [
    "Подсчитаем accuracy"
   ]
  },
  {
   "cell_type": "code",
   "execution_count": 147,
   "metadata": {},
   "outputs": [
    {
     "data": {
      "application/vnd.jupyter.widget-view+json": {
       "model_id": "de79999a7f3b4abb8f0616866ab48f60",
       "version_major": 2,
       "version_minor": 0
      },
      "text/html": [
       "<p>Failed to display Jupyter Widget of type <code>HBox</code>.</p>\n",
       "<p>\n",
       "  If you're reading this message in the Jupyter Notebook or JupyterLab Notebook, it may mean\n",
       "  that the widgets JavaScript is still loading. If this message persists, it\n",
       "  likely means that the widgets JavaScript library is either not installed or\n",
       "  not enabled. See the <a href=\"https://ipywidgets.readthedocs.io/en/stable/user_install.html\">Jupyter\n",
       "  Widgets Documentation</a> for setup instructions.\n",
       "</p>\n",
       "<p>\n",
       "  If you're reading this message in another frontend (for example, a static\n",
       "  rendering on GitHub or <a href=\"https://nbviewer.jupyter.org/\">NBViewer</a>),\n",
       "  it may mean that your frontend doesn't currently support widgets.\n",
       "</p>\n"
      ],
      "text/plain": [
       "HBox(children=(IntProgress(value=0, max=16280), HTML(value=u'')))"
      ]
     },
     "metadata": {},
     "output_type": "display_data"
    },
    {
     "name": "stdout",
     "output_type": "stream",
     "text": [
      "\n",
      "k = 3, train accuracy = 0.886977886978\n"
     ]
    },
    {
     "data": {
      "application/vnd.jupyter.widget-view+json": {
       "model_id": "7634a1cc557f46eeb92480cf602d4793",
       "version_major": 2,
       "version_minor": 0
      },
      "text/html": [
       "<p>Failed to display Jupyter Widget of type <code>HBox</code>.</p>\n",
       "<p>\n",
       "  If you're reading this message in the Jupyter Notebook or JupyterLab Notebook, it may mean\n",
       "  that the widgets JavaScript is still loading. If this message persists, it\n",
       "  likely means that the widgets JavaScript library is either not installed or\n",
       "  not enabled. See the <a href=\"https://ipywidgets.readthedocs.io/en/stable/user_install.html\">Jupyter\n",
       "  Widgets Documentation</a> for setup instructions.\n",
       "</p>\n",
       "<p>\n",
       "  If you're reading this message in another frontend (for example, a static\n",
       "  rendering on GitHub or <a href=\"https://nbviewer.jupyter.org/\">NBViewer</a>),\n",
       "  it may mean that your frontend doesn't currently support widgets.\n",
       "</p>\n"
      ],
      "text/plain": [
       "HBox(children=(IntProgress(value=0, max=16281), HTML(value=u'')))"
      ]
     },
     "metadata": {},
     "output_type": "display_data"
    },
    {
     "name": "stdout",
     "output_type": "stream",
     "text": [
      "\n",
      "k = 3, test accuracy = 0.799828020392\n"
     ]
    },
    {
     "data": {
      "application/vnd.jupyter.widget-view+json": {
       "model_id": "a0dd40a2996449d1aa9749b7ef0a1d91",
       "version_major": 2,
       "version_minor": 0
      },
      "text/html": [
       "<p>Failed to display Jupyter Widget of type <code>HBox</code>.</p>\n",
       "<p>\n",
       "  If you're reading this message in the Jupyter Notebook or JupyterLab Notebook, it may mean\n",
       "  that the widgets JavaScript is still loading. If this message persists, it\n",
       "  likely means that the widgets JavaScript library is either not installed or\n",
       "  not enabled. See the <a href=\"https://ipywidgets.readthedocs.io/en/stable/user_install.html\">Jupyter\n",
       "  Widgets Documentation</a> for setup instructions.\n",
       "</p>\n",
       "<p>\n",
       "  If you're reading this message in another frontend (for example, a static\n",
       "  rendering on GitHub or <a href=\"https://nbviewer.jupyter.org/\">NBViewer</a>),\n",
       "  it may mean that your frontend doesn't currently support widgets.\n",
       "</p>\n"
      ],
      "text/plain": [
       "HBox(children=(IntProgress(value=0, max=16280), HTML(value=u'')))"
      ]
     },
     "metadata": {},
     "output_type": "display_data"
    },
    {
     "name": "stdout",
     "output_type": "stream",
     "text": [
      "\n",
      "k = 5, train accuracy = 0.866953316953\n"
     ]
    },
    {
     "data": {
      "application/vnd.jupyter.widget-view+json": {
       "model_id": "786879f5e50d4c27951ee3da4819f23d",
       "version_major": 2,
       "version_minor": 0
      },
      "text/html": [
       "<p>Failed to display Jupyter Widget of type <code>HBox</code>.</p>\n",
       "<p>\n",
       "  If you're reading this message in the Jupyter Notebook or JupyterLab Notebook, it may mean\n",
       "  that the widgets JavaScript is still loading. If this message persists, it\n",
       "  likely means that the widgets JavaScript library is either not installed or\n",
       "  not enabled. See the <a href=\"https://ipywidgets.readthedocs.io/en/stable/user_install.html\">Jupyter\n",
       "  Widgets Documentation</a> for setup instructions.\n",
       "</p>\n",
       "<p>\n",
       "  If you're reading this message in another frontend (for example, a static\n",
       "  rendering on GitHub or <a href=\"https://nbviewer.jupyter.org/\">NBViewer</a>),\n",
       "  it may mean that your frontend doesn't currently support widgets.\n",
       "</p>\n"
      ],
      "text/plain": [
       "HBox(children=(IntProgress(value=0, max=16281), HTML(value=u'')))"
      ]
     },
     "metadata": {},
     "output_type": "display_data"
    },
    {
     "name": "stdout",
     "output_type": "stream",
     "text": [
      "\n",
      "k = 5, test accuracy = 0.809348320128\n"
     ]
    },
    {
     "data": {
      "application/vnd.jupyter.widget-view+json": {
       "model_id": "64e5c734fc2c44b2ae0b9946c814032b",
       "version_major": 2,
       "version_minor": 0
      },
      "text/html": [
       "<p>Failed to display Jupyter Widget of type <code>HBox</code>.</p>\n",
       "<p>\n",
       "  If you're reading this message in the Jupyter Notebook or JupyterLab Notebook, it may mean\n",
       "  that the widgets JavaScript is still loading. If this message persists, it\n",
       "  likely means that the widgets JavaScript library is either not installed or\n",
       "  not enabled. See the <a href=\"https://ipywidgets.readthedocs.io/en/stable/user_install.html\">Jupyter\n",
       "  Widgets Documentation</a> for setup instructions.\n",
       "</p>\n",
       "<p>\n",
       "  If you're reading this message in another frontend (for example, a static\n",
       "  rendering on GitHub or <a href=\"https://nbviewer.jupyter.org/\">NBViewer</a>),\n",
       "  it may mean that your frontend doesn't currently support widgets.\n",
       "</p>\n"
      ],
      "text/plain": [
       "HBox(children=(IntProgress(value=0, max=16280), HTML(value=u'')))"
      ]
     },
     "metadata": {},
     "output_type": "display_data"
    },
    {
     "name": "stdout",
     "output_type": "stream",
     "text": [
      "\n",
      "k = 9, train accuracy = 0.851658476658\n"
     ]
    },
    {
     "data": {
      "application/vnd.jupyter.widget-view+json": {
       "model_id": "1219c9f7273f4de0ab462c5f022b9e67",
       "version_major": 2,
       "version_minor": 0
      },
      "text/html": [
       "<p>Failed to display Jupyter Widget of type <code>HBox</code>.</p>\n",
       "<p>\n",
       "  If you're reading this message in the Jupyter Notebook or JupyterLab Notebook, it may mean\n",
       "  that the widgets JavaScript is still loading. If this message persists, it\n",
       "  likely means that the widgets JavaScript library is either not installed or\n",
       "  not enabled. See the <a href=\"https://ipywidgets.readthedocs.io/en/stable/user_install.html\">Jupyter\n",
       "  Widgets Documentation</a> for setup instructions.\n",
       "</p>\n",
       "<p>\n",
       "  If you're reading this message in another frontend (for example, a static\n",
       "  rendering on GitHub or <a href=\"https://nbviewer.jupyter.org/\">NBViewer</a>),\n",
       "  it may mean that your frontend doesn't currently support widgets.\n",
       "</p>\n"
      ],
      "text/plain": [
       "HBox(children=(IntProgress(value=0, max=16281), HTML(value=u'')))"
      ]
     },
     "metadata": {},
     "output_type": "display_data"
    },
    {
     "name": "stdout",
     "output_type": "stream",
     "text": [
      "\n",
      "k = 9, test accuracy = 0.818745777286\n"
     ]
    }
   ],
   "source": [
    "# Запустите ваш алгоритм на данных http://archive.ics.uci.edu/ml/machine-learning-databases/adult\n",
    "\n",
    "# =======================================\n",
    "# Обучите классификатор при k=3, 5, и 10 <----\n",
    "#    10 - это же чётное число, будут проблемы, как говорилось на лекции,\n",
    "#    и вообще, мы должны бросать exception в этом случае. Возьмём 9\n",
    "# =======================================\n",
    "\n",
    "for k in [3, 5, 9]:\n",
    "    clf = kNNClassifier(n_neighbours=k,\n",
    "                        #metric=lambda x,y: ((x - y) **2).sum(),\n",
    "                        multi_metric=lambda x, ys: ((x - ys) ** 2).sum(axis=1),  # Ускоряет раз в 16\n",
    "                        range_wrapper=tqdm.tqdm_notebook)\n",
    "    clf.fit(X_train, y_train)\n",
    "    print(\"k = {}, train accuracy = {}\".format(k, accuracy_score(clf.predict(X_train), y_train)))\n",
    "    print(\"k = {}, test accuracy = {}\".format(k, accuracy_score(clf.predict(X_test), y_test)))"
   ]
  },
  {
   "cell_type": "markdown",
   "metadata": {},
   "source": [
    "**Комментарий:**\n",
    "В описании к данным сказано, что 3NN даёт ошибку : 15 Nearest-neighbor (3)    20.35\n",
    ", т.е. имеем accuracy 0.7965.\n",
    "# А у нас - лучше :)\n",
    "\n",
    "В качестве вывода по заданию - видно, что рост k сглаживает оценку, т.к. она начинает зависеть от большего числа элементов выборки, что хорошо визуализируется разделяющей кривой - кажется, что растёт обобщающая способность. Однако, при очень большом k разделяющая кривая становится слишком вялой и не различает тонкие зависимости в выборке"
   ]
  },
  {
   "cell_type": "markdown",
   "metadata": {},
   "source": [
    "<h1 align=\"center\">Отбор признаков (3 балла) </h1>"
   ]
  },
  {
   "cell_type": "markdown",
   "metadata": {},
   "source": [
    "Реализуйте алгоритм отбора признаков ADD_DELL и примените его для kNN на данных sklearn.datasets.digits(). \n",
    "Для этого предлагается реализовать следующие функции"
   ]
  },
  {
   "cell_type": "code",
   "execution_count": 148,
   "metadata": {},
   "outputs": [],
   "source": [
    "# может быть всё-таки стоило написать класс? :)\n",
    "\n",
    "# обновление минимального значения ошибки\n",
    "def update_Q_min_index(estimator, Q_min, Q_min_set, Q_min_index,\n",
    "                       feature_set, X_train, Y_train,\n",
    "                       X_test, Y_test, update_equal=False):\n",
    "    feature_set_size = len(feature_set)\n",
    "    estimator.fit(X_train[:, feature_set], Y_train)\n",
    "    error = 1 - accuracy_score(Y_test, estimator.predict(X_test[:, feature_set]))\n",
    "    if error < Q_min[feature_set_size]:\n",
    "        Q_min_set[feature_set_size] = feature_set\n",
    "        Q_min[feature_set_size] = error\n",
    "        if ((Q_min[feature_set_size] < Q_min[Q_min_index])\n",
    "                or (update_equal and Q_min[feature_set_size] == Q_min[Q_min_index])):\n",
    "            Q_min_index = feature_set_size\n",
    "    return Q_min_index\n",
    "\n",
    "\n",
    "# Нужно реализовать алгоритм добавление\n",
    "def add_one(estimator, feature_set, X_train, Y_train, X_test, Y_test,\n",
    "            look_forward=10, start_feature_set=[]):\n",
    "    Q_min = {0: float('+inf')}\n",
    "    Q_min_set = {0: []}\n",
    "    Q_min_index = 0\n",
    "    \n",
    "    # инициализация стартового набора признаков     \n",
    "    if start_feature_set:\n",
    "        estimator.fit(X_train[:, feature_set], Y_train)\n",
    "        error = 1 - accuracy_score(Y_test, estimator.predict(X_test[:, feature_set]))\n",
    "        Q_min = {len(start_feature_set) : error}\n",
    "        Q_min_set = {len(start_feature_set) : start_feature_set}\n",
    "        Q_min_index = len(start_feature_set)\n",
    "    \n",
    "    # добавление признаков     \n",
    "    for feature_set_size in range(len(start_feature_set) + 1, len(feature_set) + 1):\n",
    "        Q_min[feature_set_size] = float('+inf')\n",
    "        unused_features = set(feature_set).difference(set(Q_min_set[feature_set_size - 1]))\n",
    "        unused_features = list(unused_features)\n",
    "        #shuffle(unused_features)\n",
    "        for feature in unused_features:\n",
    "            new_feature_set = set(Q_min_set[feature_set_size - 1])\n",
    "            new_feature_set.add(feature)\n",
    "            new_feature_set = list(new_feature_set)\n",
    "            assert len(new_feature_set) == feature_set_size\n",
    "            # обновите список признаков\n",
    "            Q_min_index = update_Q_min_index(estimator,\n",
    "                                             Q_min, Q_min_set, Q_min_index,\n",
    "                                             new_feature_set,\n",
    "                                             X_train, Y_train, X_test, Y_test)\n",
    "            # обновите значение ошибки классификации\n",
    "        \n",
    "        print ('Q_min: %.4lf, set_size: %d, added: %s' % (\n",
    "            Q_min[feature_set_size], feature_set_size, set(Q_min_set[feature_set_size])\n",
    "                .difference(set(Q_min_set[feature_set_size - 1]))))        \n",
    "    \n",
    "    # критерий останова\n",
    "        if Q_min_index + look_forward <= feature_set_size:\n",
    "            break\n",
    "    return Q_min_set[Q_min_index]\n",
    "\n",
    "def del_one(estimator, feature_set, X_train, Y_train, X_test, Y_test, look_forward=10):\n",
    "    \n",
    "#     инициализация\n",
    "    estimator.fit(X_train[:, feature_set], Y_train)\n",
    "    error = 1 - accuracy_score(Y_test, estimator.predict(X_test[:, feature_set]))\n",
    "    Q_min = {len(feature_set): error}\n",
    "    Q_min_set = {len(feature_set): copy.deepcopy(feature_set)}\n",
    "    Q_min_index = len(feature_set)\n",
    "    \n",
    "#     итерационное удаление признаков\n",
    "    for feature_set_size in list(range(len(feature_set) - 1, 0, -1)):\n",
    "        Q_min[feature_set_size] = float('+inf')\n",
    "        features = copy.copy(Q_min_set[feature_set_size + 1])\n",
    "        # shuffle(features)  # а надо бы. Но будет не воспроизводимо\n",
    "        for feature in features:\n",
    "            new_feature_set = set(Q_min_set[feature_set_size + 1])\n",
    "            new_feature_set.remove(feature)\n",
    "            new_feature_set = list(new_feature_set)\n",
    "            assert len(new_feature_set) == feature_set_size\n",
    "            # обновите список признаков\n",
    "            Q_min_index = update_Q_min_index(estimator,\n",
    "                                             Q_min, Q_min_set, Q_min_index,\n",
    "                                             new_feature_set,\n",
    "                                             X_train, Y_train, X_test, Y_test)\n",
    "            # обновите значение ошибки классификации\n",
    "            \n",
    "        print ('Q_min: %.4lf, set_size: %d, deleted: %s' % (Q_min[feature_set_size], feature_set_size,\n",
    "            set(Q_min_set[feature_set_size + 1]).difference(set(Q_min_set[feature_set_size])),\n",
    "        ))\n",
    "        \n",
    "#         критерий останова\n",
    "        if feature_set_size + look_forward <= Q_min_index:\n",
    "            break\n",
    "    return Q_min_set[Q_min_index]\n",
    "\n",
    "# Наконец реализуйте ADD-DELL\n",
    "def add_del(estimator, feature_set, X_train, Y_train, X_test, Y_test, look_forward=10):\n",
    "    Q_min = None\n",
    "    Q_min_current = float('+inf')\n",
    "    start_feature_set = []\n",
    "    \n",
    "    #     количество итераций, приведших к НЕ УМЕНЬШЕНИЮ ошибки  \n",
    "    # иначе - зацикливаемся в случае, когда ошибка не меняется от итерации к итераци\n",
    "\n",
    "    bad_iteration_count = 2\n",
    "    \n",
    "    while (Q_min is None) or (Q_min_current < Q_min or bad_iteration_count):\n",
    "        Q_min = Q_min_current\n",
    "        start_feature_set = add_one(estimator, feature_set, X_train, Y_train,\n",
    "                                    X_test, Y_test, look_forward,\n",
    "                                    start_feature_set=start_feature_set)\n",
    "        start_feature_set = del_one(estimator, start_feature_set,\n",
    "                                    X_train, Y_train, X_test, Y_test, look_forward)\n",
    "        estimator.fit(X_train[:, start_feature_set], Y_train)\n",
    "        Q_min_current = 1 - accuracy_score(Y_test, estimator.predict(X_test[:, start_feature_set]))\n",
    "        \n",
    "        if Q_min_current >= Q_min:\n",
    "            bad_iteration_count -= 1\n",
    "        print ('Q_min: %.9lf, set_size: %d' % (Q_min_current, len(start_feature_set)))\n",
    "    return start_feature_set"
   ]
  },
  {
   "cell_type": "code",
   "execution_count": 149,
   "metadata": {},
   "outputs": [
    {
     "name": "stdout",
     "output_type": "stream",
     "text": [
      "Optical Recognition of Handwritten Digits Data Set\n",
      "===================================================\n",
      "\n",
      "Notes\n",
      "-----\n",
      "Data Set Characteristics:\n",
      "    :Number of Instances: 5620\n",
      "    :Number of Attributes: 64\n",
      "    :Attribute Information: 8x8 image of integer pixels in the range 0..16.\n",
      "    :Missing Attribute Values: None\n",
      "    :Creator: E. Alpaydin (alpaydin '@' boun.edu.tr)\n",
      "    :Date: July; 1998\n",
      "\n",
      "This is a copy of the test set of the UCI ML hand-written digits datasets\n",
      "http://archive.ics.uci.edu/ml/datasets/Optical+Recognition+of+Handwritten+Digits\n",
      "\n",
      "The data set contains images of hand-written digits: 10 classes where\n",
      "each class refers to a digit.\n",
      "\n",
      "Preprocessing programs made available by NIST were used to extract\n",
      "normalized bitmaps of handwritten digits from a preprinted form. From a\n",
      "total of 43 people, 30 contributed to the training set and different 13\n",
      "to the test set. 32x32 bitmaps are divided into nonoverlapping blocks of\n",
      "4x4 and the number of on pixels are counted in each block. This generates\n",
      "an input matrix of 8x8 where each element is an integer in the range\n",
      "0..16. This reduces dimensionality and gives invariance to small\n",
      "distortions.\n",
      "\n",
      "For info on NIST preprocessing routines, see M. D. Garris, J. L. Blue, G.\n",
      "T. Candela, D. L. Dimmick, J. Geist, P. J. Grother, S. A. Janet, and C.\n",
      "L. Wilson, NIST Form-Based Handprint Recognition System, NISTIR 5469,\n",
      "1994.\n",
      "\n",
      "References\n",
      "----------\n",
      "  - C. Kaynak (1995) Methods of Combining Multiple Classifiers and Their\n",
      "    Applications to Handwritten Digit Recognition, MSc Thesis, Institute of\n",
      "    Graduate Studies in Science and Engineering, Bogazici University.\n",
      "  - E. Alpaydin, C. Kaynak (1998) Cascading Classifiers, Kybernetika.\n",
      "  - Ken Tang and Ponnuthurai N. Suganthan and Xi Yao and A. Kai Qin.\n",
      "    Linear dimensionalityreduction using relevance weighted LDA. School of\n",
      "    Electrical and Electronic Engineering Nanyang Technological University.\n",
      "    2005.\n",
      "  - Claudio Gentile. A New Approximate Maximal Margin Classification\n",
      "    Algorithm. NIPS. 2000.\n",
      "\n"
     ]
    }
   ],
   "source": [
    "digits = sklearn.datasets.load_digits()\n",
    "print(digits[\"DESCR\"])"
   ]
  },
  {
   "cell_type": "code",
   "execution_count": 150,
   "metadata": {},
   "outputs": [
    {
     "data": {
      "text/plain": [
       "['images', 'data', 'target_names', 'DESCR', 'target']"
      ]
     },
     "execution_count": 150,
     "metadata": {},
     "output_type": "execute_result"
    }
   ],
   "source": [
    "digits.keys()"
   ]
  },
  {
   "cell_type": "code",
   "execution_count": 151,
   "metadata": {},
   "outputs": [
    {
     "data": {
      "text/plain": [
       "(array([[ 0.,  0.,  5., ...,  0.,  0.,  0.],\n",
       "        [ 0.,  0.,  0., ..., 10.,  0.,  0.],\n",
       "        [ 0.,  0.,  0., ..., 16.,  9.,  0.],\n",
       "        ...,\n",
       "        [ 0.,  0.,  1., ...,  6.,  0.,  0.],\n",
       "        [ 0.,  0.,  2., ..., 12.,  0.,  0.],\n",
       "        [ 0.,  0., 10., ..., 12.,  1.,  0.]]), array([0, 1, 2, ..., 8, 9, 8]))"
      ]
     },
     "execution_count": 151,
     "metadata": {},
     "output_type": "execute_result"
    }
   ],
   "source": [
    "X = digits[\"data\"]\n",
    "y = digits[\"target\"]\n",
    "X, y"
   ]
  },
  {
   "cell_type": "code",
   "execution_count": 154,
   "metadata": {
    "scrolled": false
   },
   "outputs": [
    {
     "name": "stdout",
     "output_type": "stream",
     "text": [
      "Q_min: 0.7475, set_size: 1, added: set([33])\n",
      "Q_min: 0.5909, set_size: 2, added: set([21])\n",
      "Q_min: 0.4579, set_size: 3, added: set([5])\n",
      "Q_min: 0.3552, set_size: 4, added: set([43])\n",
      "Q_min: 0.2609, set_size: 5, added: set([26])\n",
      "Q_min: 0.2003, set_size: 6, added: set([10])\n",
      "Q_min: 0.1582, set_size: 7, added: set([61])\n",
      "Q_min: 0.1246, set_size: 8, added: set([27])\n",
      "Q_min: 0.0875, set_size: 9, added: set([36])\n",
      "Q_min: 0.0657, set_size: 10, added: set([44])\n",
      "Q_min: 0.0522, set_size: 11, added: set([3])\n",
      "Q_min: 0.0438, set_size: 12, added: set([12])\n",
      "Q_min: 0.0370, set_size: 13, added: set([42])\n",
      "Q_min: 0.0269, set_size: 14, added: set([51])\n",
      "Q_min: 0.0236, set_size: 15, added: set([53])\n",
      "Q_min: 0.0219, set_size: 16, added: set([13])\n",
      "Q_min: 0.0152, set_size: 17, added: set([19])\n",
      "Q_min: 0.0118, set_size: 18, added: set([46])\n",
      "Q_min: 0.0118, set_size: 19, added: set([0])\n",
      "Q_min: 0.0118, set_size: 20, added: set([1])\n",
      "Q_min: 0.0118, set_size: 21, added: set([7])\n",
      "Q_min: 0.0118, set_size: 22, added: set([8])\n",
      "Q_min: 0.0118, set_size: 17, deleted: set([10])\n",
      "Q_min: 0.0135, set_size: 16, deleted: set([33])\n",
      "Q_min: 0.0152, set_size: 15, deleted: set([3])\n",
      "Q_min: 0.0236, set_size: 14, deleted: set([43])\n",
      "Q_min: 0.011784512, set_size: 18\n",
      "Q_min: 0.0118, set_size: 19, added: set([0])\n",
      "Q_min: 0.0118, set_size: 20, added: set([1])\n",
      "Q_min: 0.0118, set_size: 21, added: set([7])\n",
      "Q_min: 0.0118, set_size: 22, added: set([8])\n",
      "Q_min: 0.0118, set_size: 17, deleted: set([10])\n",
      "Q_min: 0.0135, set_size: 16, deleted: set([33])\n",
      "Q_min: 0.0152, set_size: 15, deleted: set([3])\n",
      "Q_min: 0.0236, set_size: 14, deleted: set([43])\n",
      "Q_min: 0.011784512, set_size: 18\n",
      "Q_min: 0.0118, set_size: 19, added: set([0])\n",
      "Q_min: 0.0118, set_size: 20, added: set([1])\n",
      "Q_min: 0.0118, set_size: 21, added: set([7])\n",
      "Q_min: 0.0118, set_size: 22, added: set([8])\n",
      "Q_min: 0.0118, set_size: 17, deleted: set([10])\n",
      "Q_min: 0.0135, set_size: 16, deleted: set([33])\n",
      "Q_min: 0.0152, set_size: 15, deleted: set([3])\n",
      "Q_min: 0.0236, set_size: 14, deleted: set([43])\n",
      "Q_min: 0.011784512, set_size: 18\n",
      "CPU times: user 21.5 s, sys: 3.97 ms, total: 21.5 s\n",
      "Wall time: 21.5 s\n",
      "CPU times: user 19.2 ms, sys: 0 ns, total: 19.2 ms\n",
      "Wall time: 19 ms\n"
     ]
    },
    {
     "data": {
      "text/plain": [
       "0.9882154882154882"
      ]
     },
     "execution_count": 154,
     "metadata": {},
     "output_type": "execute_result"
    }
   ],
   "source": [
    "# X_train, Y_train, X_test, Y_test = скайчайте данные и разбейте их на тест/трейн\n",
    "X_train, X_test, y_train, y_test = train_test_split(X, y, test_size=0.33, random_state=42)\n",
    "\n",
    "# проверьте вашу реализацию \n",
    "estimator = KNeighborsClassifier()  # <--- Это sklearn, наша реализация называется по другому, проверим ниже\n",
    "%time feature_set = add_del(estimator, list(range(X_train.shape[1])), X_train, y_train, X_test, y_test, look_forward=4)\n",
    "%time accuracy_score(y_test, estimator.fit(X_train[:, feature_set], y_train).predict(X_test[:, feature_set]))\n",
    "# 0.9882154882154882"
   ]
  },
  {
   "cell_type": "code",
   "execution_count": 155,
   "metadata": {
    "scrolled": false
   },
   "outputs": [
    {
     "name": "stdout",
     "output_type": "stream",
     "text": [
      "Q_min: 0.7643, set_size: 1, added: set([20])\n",
      "Q_min: 0.6178, set_size: 2, added: set([36])\n",
      "Q_min: 0.5017, set_size: 3, added: set([61])\n",
      "Q_min: 0.3670, set_size: 4, added: set([13])\n",
      "Q_min: 0.2727, set_size: 5, added: set([42])\n",
      "Q_min: 0.2037, set_size: 6, added: set([10])\n",
      "Q_min: 0.1599, set_size: 7, added: set([43])\n",
      "Q_min: 0.1162, set_size: 8, added: set([21])\n",
      "Q_min: 0.0673, set_size: 9, added: set([26])\n",
      "Q_min: 0.0572, set_size: 10, added: set([52])\n",
      "Q_min: 0.0438, set_size: 11, added: set([45])\n",
      "Q_min: 0.0354, set_size: 12, added: set([27])\n",
      "Q_min: 0.0253, set_size: 13, added: set([5])\n",
      "Q_min: 0.0219, set_size: 14, added: set([53])\n",
      "Q_min: 0.0185, set_size: 15, added: set([51])\n",
      "Q_min: 0.0152, set_size: 16, added: set([29])\n",
      "Q_min: 0.0135, set_size: 17, added: set([9])\n",
      "Q_min: 0.0101, set_size: 18, added: set([38])\n",
      "Q_min: 0.0084, set_size: 19, added: set([46])\n",
      "Q_min: 0.0084, set_size: 20, added: set([0])\n",
      "Q_min: 0.0084, set_size: 21, added: set([1])\n",
      "Q_min: 0.0084, set_size: 22, added: set([8])\n",
      "Q_min: 0.0084, set_size: 23, added: set([16])\n",
      "Q_min: 0.0101, set_size: 18, deleted: set([46])\n",
      "Q_min: 0.0118, set_size: 17, deleted: set([43])\n",
      "Q_min: 0.0135, set_size: 16, deleted: set([38])\n",
      "Q_min: 0.0168, set_size: 15, deleted: set([61])\n",
      "Q_min: 0.008417508, set_size: 19\n",
      "Q_min: 0.0084, set_size: 20, added: set([0])\n",
      "Q_min: 0.0084, set_size: 21, added: set([1])\n",
      "Q_min: 0.0084, set_size: 22, added: set([8])\n",
      "Q_min: 0.0084, set_size: 23, added: set([16])\n",
      "Q_min: 0.0101, set_size: 18, deleted: set([46])\n",
      "Q_min: 0.0118, set_size: 17, deleted: set([43])\n",
      "Q_min: 0.0135, set_size: 16, deleted: set([38])\n",
      "Q_min: 0.0168, set_size: 15, deleted: set([61])\n",
      "Q_min: 0.008417508, set_size: 19\n",
      "Q_min: 0.0084, set_size: 20, added: set([0])\n",
      "Q_min: 0.0084, set_size: 21, added: set([1])\n",
      "Q_min: 0.0084, set_size: 22, added: set([8])\n",
      "Q_min: 0.0084, set_size: 23, added: set([16])\n",
      "Q_min: 0.0101, set_size: 18, deleted: set([46])\n",
      "Q_min: 0.0118, set_size: 17, deleted: set([43])\n",
      "Q_min: 0.0135, set_size: 16, deleted: set([38])\n",
      "Q_min: 0.0168, set_size: 15, deleted: set([61])\n",
      "Q_min: 0.008417508, set_size: 19\n",
      "CPU times: user 6min 8s, sys: 75 ms, total: 6min 8s\n",
      "Wall time: 6min 8s\n",
      "CPU times: user 224 ms, sys: 2 µs, total: 224 ms\n",
      "Wall time: 221 ms\n"
     ]
    },
    {
     "data": {
      "text/plain": [
       "0.9915824915824916"
      ]
     },
     "execution_count": 155,
     "metadata": {},
     "output_type": "execute_result"
    }
   ],
   "source": [
    "# проверьте вашу реализацию\n",
    "estimator = kNNClassifier(n_neighbours=5,  # как в sklearn по умолчанию\n",
    "                          multi_metric=lambda x, ys: ((x - ys) ** 2).sum(axis=1))  # <-- это МОЯ реализация\n",
    "%time feature_set = add_del(estimator, list(range(X_train.shape[1])), X_train, y_train, X_test, y_test, look_forward=4)\n",
    "%time accuracy_score(y_test, estimator.fit(X_train[:, feature_set], y_train).predict(X_test[:, feature_set]))"
   ]
  },
  {
   "cell_type": "markdown",
   "metadata": {},
   "source": [
    "**Комментарий:** Результат работы нашего алгоритма почти такой же, как у sklearn (некоторое преимущество в нашу пользу), хотя наш алгоритм и работает существенно медленно (в sklearn используются опционально kd-tree или ball-tree).\n",
    "\n",
    "В целом, приёмка пройдена."
   ]
  },
  {
   "cell_type": "code",
   "execution_count": null,
   "metadata": {},
   "outputs": [],
   "source": []
  }
 ],
 "metadata": {
  "anaconda-cloud": {},
  "kernelspec": {
   "display_name": "Python 3",
   "language": "python",
   "name": "python3"
  },
  "language_info": {
   "codemirror_mode": {
    "name": "ipython",
    "version": 3
   },
   "file_extension": ".py",
   "mimetype": "text/x-python",
   "name": "python",
   "nbconvert_exporter": "python",
   "pygments_lexer": "ipython3",
   "version": "3.6.4"
  }
 },
 "nbformat": 4,
 "nbformat_minor": 1
}
