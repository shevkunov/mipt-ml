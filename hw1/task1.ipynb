{
 "cells": [
  {
   "cell_type": "markdown",
   "metadata": {},
   "source": [
    "<span style=\"font-size: 14pt\">Домашнее задание №1 </span>\n",
    "\n",
    "<span style=\"color: red; font-size: 14pt\">Deadline: 27.02.2018 23:59:59</span>\n",
    "\n",
    "<span style=\"font-size: 10pt\">ФИВТ, АПТ, Курс по машинному обучению, Весна 2018</span>\n",
    "\n",
    "<span style=\"color:blue; font-size: 10pt\">Alexey Romanenko, </span>\n",
    "<span style=\"color:blue; font-size: 10pt; font-family: 'Verdana'\">alexromsput@gmail.com</span>\n"
   ]
  },
  {
   "cell_type": "markdown",
   "metadata": {},
   "source": [
    "<h1 align=\"center\">Organization Info</h1> "
   ]
  },
  {
   "cell_type": "markdown",
   "metadata": {},
   "source": [
    "**Дополнительный материал для выполнения дз**:\n",
    "- Воронцов К. В. Математические методы обучения по прецедентам. 2012. \n",
    "- Мерков А. Б. Распознавание образов. Введение в методы статистического обучения. Едиториал УРСС. 2011. 256 стр.\n",
    "- Hastie T., Tibshirani R., Friedman J. The Elements of Statistical Learning. Springer: Data Mining, Inference, and Prediction. — 2nd ed. — Springer-Verlag. 2009. — 746 p.\n",
    "- C. M. Bishop. Pattern Recognition and Machine Learning. — Springer, Series: Information Science and Statistics. 2006. — 738 p.\n",
    "\n",
    "**Оформление дз**: \n",
    "- Присылайте выполненное задание на почту ``ml.course.mipt@gmail.com``\n",
    "- Укажите тему письма в следующем формате ``ML2018_fall <номер_группы> <фамилия>``, к примеру -- ``ML2018_fall 596 ivanov``\n",
    "- Выполненное дз сохраните в файл ``<фамилия>_<группа>_task<номер задания>.ipnb``, к примеру -- ``ML2018_596_task1.ipnb``\n",
    "\n",
    "**Вопросы**:\n",
    "- Присылайте вопросы на почту ``ml.course.mipt@gmail.com``\n",
    "- Укажите тему письма в следующем формате ``ML2018_fall Question <Содержание вопроса>``\n",
    "\n",
    "--------\n",
    "- **PS1**: Используются автоматические фильтры, и просто не найдем ваше дз, если вы не аккуратно его подпишите.\n",
    "- **PS2**: Просроченный дедлайн снижает максимальный вес задания по формуле, указнной на первом семинаре"
   ]
  },
  {
   "cell_type": "markdown",
   "metadata": {},
   "source": [
    "<h1 align=\"center\"> Вопросы для самоконтроля </h1> \n",
    "\n",
    "Ниже приводится список вопросов, с ответами на которые может быть полезно разобраться для комфортного выполнения задания.\n",
    "\n",
    "* Основные понятия\n",
    "    1. Что такое задачи классификации, кластеризации и регрессии? Какие из них относятся к supervised learning, а какие-к unsupervised learning?\n",
    "    2. Что такое переобучение и недообучение? Как их можно детектировать?\n",
    "    3. Что такое обучающая и тестовая выборки, кросс-валидация? Как устроена k-fold cross validation?\n",
    "    4. Разложение ошибки метода обучения на bias и Variance: как ведут себя обе величины, когда увеличивается сложность семейства настраиваемых алгоритмов?\n",
    "\n",
    "\n",
    "* Простые методы\n",
    "    1. Как работает kNN в задаче классификации?\n",
    "    2. Как работает kNN с весами объектов в задаче классификации и в задаче регрессии?\n",
    "    3. Как работает наивный байесовский классификатор, в чем заключается его \"наивность\"?\n",
    "    4. Как приближается исходная зависимость y от x в линейной регрессии и как настраиваются веса в ней?\n",
    "    5. В чем суть проклятия размерности?\n",
    "\n",
    "\n",
    "* Измерение ошибки/точности в задачах классификации и регрессии\n",
    "    1. Как вычисляются и в каких задачах (классификации/регрессии) применяются метрики:\n",
    "    accuracy, precision, recall, F1-measure, ROC-AUC, PR-AUC, MSE, MAE, RMSE?\n",
    "    2. Решается задача бинарной классификации (с двумя классами - 0 и 1), в которой при-\n",
    "    меры из класса 0 составляют 95% выборки. Какие метрики из перечисленных в преды-\n",
    "    дущем вопросе предпочтительней использовать?\n",
    "    3. К оценке какой величины для распределения y при условии x приводят MSE и MAE?\n",
    "    4. Какая из метрик должня использоваться в задаче регрессии, чтобы ответ был равен медиане распределения прогнозируемой случайно величины?\n",
    "\n",
    "\n",
    "* Python, numpy, scipy, matplotlib, sklearn, pandas\n",
    "    1. Типы данных list, tuple, dict, set, str, unicode, hashable и unhashable типы. \n",
    "    2. Зачем нужны numpy и scipy? Какой тип данных в numpy используется для работы с\n",
    "    многомерными массивами? Отличия в индексации двумерного ndarray и списка списков.\n",
    "    3. Как в scipy решить численно несложную оптимизационную задачу? Какие методы оп-\n",
    "    тимизации в нем представлены?\n",
    "    4. Как по списку значений x и списку значений y в этих точках построить график y(x) в\n",
    "    matplotlib?\n",
    "    5. Как в sklearn обучить модель на обучающей выборке и получить прогнозы на тестовой?\n",
    "    6. Какие есть средства для измерения качества модели в sklearn? Как посчтитать качество\n",
    "    в k-fold cross validation?\n",
    "    7. Какие метрики можно использовать в cross_val_score из sklearn?\n",
    "    8. Как считать выборку из csv в pandas DataFrame? А как записать DataFrame в файл? Как\n",
    "    указывать при чтении/записи кодировку, используемые разделители, наличие/отсутствие\n",
    "    заголовков у колонок?\n",
    "    9. Как по списку значений x и списку значений y в этих точках построить график y(x) в\n",
    "    matplotlib?"
   ]
  },
  {
   "cell_type": "markdown",
   "metadata": {},
   "source": [
    "<h1 align=\"center\">Теоретические вопросы (2 балла) </h1> "
   ]
  },
  {
   "cell_type": "markdown",
   "metadata": {},
   "source": [
    "** Задача 1**\n",
    "Покажите, что ROC-AUC  в случае, когда классификатор даёт случайные ответы $a(x) = 1$ с вероятностью $p$ и $a(x) = 0$ с вероятностью $1 − p$, будет в среднем равен 0.5, независимо от p и доли класса 1 в обучающей выборке.\n",
    "\n",
    "<Решение:>"
   ]
  },
  {
   "cell_type": "markdown",
   "metadata": {},
   "source": [
    "** Задача 2**\n",
    "Покажите, что с ростом размерности пространства признаков при равномерном распределении точек в кубе $[0; 1]^𝑑$ вероятность попасть в куб $[0; 0, 99]^𝑑$ стремится к нулю. Это одна из иллюстраций проклятия размерностей (dimension curse). Попробуйте придумать или найти еще какую-нибудь иллюстрацию к этому явлению и кратко изложить.\n",
    "\n",
    "**Решение:**\n",
    "$$\\forall p < 1 : P(x \\in [0; p]^𝑑) = p^d \\xrightarrow[d \\rightarrow +\\infty]{} 0$$"
   ]
  },
  {
   "cell_type": "markdown",
   "metadata": {
    "collapsed": true
   },
   "source": [
    "<h1 align=\"center\">Практическая часть (3 балла) </h1> "
   ]
  },
  {
   "cell_type": "markdown",
   "metadata": {},
   "source": [
    "Используя данные из задачи классификации доходов индивидуума http://archive.ics.uci.edu/ml/machine-learning-databases/adult, постройте зависимость величин bias, variance и noise для следующих **пар** \"модель|параметр\"\n",
    "\n",
    "* kNN, $n\\_neigbours$ - число соседей при классификации;\n",
    "* $p$ - степень метрики Минковского;\n",
    "* $\\ell\\_train$ - длина обучающий выборки;\n",
    "\n",
    "\n",
    "По каждому построенному графику (для каждого параметра должен быть отдельный график) объясните полученную картину. Совпадает ли она с теоретическими ожиданиями (см. семинар 2)?"
   ]
  },
  {
   "cell_type": "code",
   "execution_count": 1,
   "metadata": {},
   "outputs": [
    {
     "name": "stdout",
     "output_type": "stream",
     "text": [
      "--2018-02-24 14:21:25--  http://archive.ics.uci.edu/ml/machine-learning-databases/adult/adult.data\n",
      "Распознаётся archive.ics.uci.edu (archive.ics.uci.edu)... 128.195.10.249\n",
      "Подключение к archive.ics.uci.edu (archive.ics.uci.edu)|128.195.10.249|:80... соединение установлено.\n",
      "HTTP-запрос отправлен. Ожидание ответа... 200 OK\n",
      "Длина: 3974305 (3,8M) [text/plain]\n",
      "Сохранение в каталог: ««adult.data»».\n",
      "\n",
      "adult.data          100%[===================>]   3,79M   215KB/s    in 29s     \n",
      "\n",
      "2018-02-24 14:21:54 (133 KB/s) - «adult.data» сохранён [3974305/3974305]\n",
      "\n"
     ]
    }
   ],
   "source": [
    "!wget http://archive.ics.uci.edu/ml/machine-learning-databases/adult/adult.data"
   ]
  },
  {
   "cell_type": "code",
   "execution_count": 1,
   "metadata": {},
   "outputs": [
    {
     "data": {
      "text/html": [
       "<div>\n",
       "<style scoped>\n",
       "    .dataframe tbody tr th:only-of-type {\n",
       "        vertical-align: middle;\n",
       "    }\n",
       "\n",
       "    .dataframe tbody tr th {\n",
       "        vertical-align: top;\n",
       "    }\n",
       "\n",
       "    .dataframe thead th {\n",
       "        text-align: right;\n",
       "    }\n",
       "</style>\n",
       "<table border=\"1\" class=\"dataframe\">\n",
       "  <thead>\n",
       "    <tr style=\"text-align: right;\">\n",
       "      <th></th>\n",
       "      <th>0</th>\n",
       "      <th>1</th>\n",
       "      <th>2</th>\n",
       "      <th>3</th>\n",
       "      <th>4</th>\n",
       "      <th>5</th>\n",
       "      <th>6</th>\n",
       "      <th>7</th>\n",
       "      <th>8</th>\n",
       "      <th>9</th>\n",
       "      <th>10</th>\n",
       "      <th>11</th>\n",
       "      <th>12</th>\n",
       "      <th>13</th>\n",
       "      <th>14</th>\n",
       "    </tr>\n",
       "  </thead>\n",
       "  <tbody>\n",
       "    <tr>\n",
       "      <th>0</th>\n",
       "      <td>39</td>\n",
       "      <td>State-gov</td>\n",
       "      <td>77516</td>\n",
       "      <td>Bachelors</td>\n",
       "      <td>13</td>\n",
       "      <td>Never-married</td>\n",
       "      <td>Adm-clerical</td>\n",
       "      <td>Not-in-family</td>\n",
       "      <td>White</td>\n",
       "      <td>Male</td>\n",
       "      <td>2174</td>\n",
       "      <td>0</td>\n",
       "      <td>40</td>\n",
       "      <td>United-States</td>\n",
       "      <td>&lt;=50K</td>\n",
       "    </tr>\n",
       "    <tr>\n",
       "      <th>1</th>\n",
       "      <td>50</td>\n",
       "      <td>Self-emp-not-inc</td>\n",
       "      <td>83311</td>\n",
       "      <td>Bachelors</td>\n",
       "      <td>13</td>\n",
       "      <td>Married-civ-spouse</td>\n",
       "      <td>Exec-managerial</td>\n",
       "      <td>Husband</td>\n",
       "      <td>White</td>\n",
       "      <td>Male</td>\n",
       "      <td>0</td>\n",
       "      <td>0</td>\n",
       "      <td>13</td>\n",
       "      <td>United-States</td>\n",
       "      <td>&lt;=50K</td>\n",
       "    </tr>\n",
       "    <tr>\n",
       "      <th>2</th>\n",
       "      <td>38</td>\n",
       "      <td>Private</td>\n",
       "      <td>215646</td>\n",
       "      <td>HS-grad</td>\n",
       "      <td>9</td>\n",
       "      <td>Divorced</td>\n",
       "      <td>Handlers-cleaners</td>\n",
       "      <td>Not-in-family</td>\n",
       "      <td>White</td>\n",
       "      <td>Male</td>\n",
       "      <td>0</td>\n",
       "      <td>0</td>\n",
       "      <td>40</td>\n",
       "      <td>United-States</td>\n",
       "      <td>&lt;=50K</td>\n",
       "    </tr>\n",
       "  </tbody>\n",
       "</table>\n",
       "</div>"
      ],
      "text/plain": [
       "   0                  1       2           3   4                    5   \\\n",
       "0  39          State-gov   77516   Bachelors  13        Never-married   \n",
       "1  50   Self-emp-not-inc   83311   Bachelors  13   Married-civ-spouse   \n",
       "2  38            Private  215646     HS-grad   9             Divorced   \n",
       "\n",
       "                   6               7       8      9     10  11  12  \\\n",
       "0        Adm-clerical   Not-in-family   White   Male  2174   0  40   \n",
       "1     Exec-managerial         Husband   White   Male     0   0  13   \n",
       "2   Handlers-cleaners   Not-in-family   White   Male     0   0  40   \n",
       "\n",
       "               13      14  \n",
       "0   United-States   <=50K  \n",
       "1   United-States   <=50K  \n",
       "2   United-States   <=50K  "
      ]
     },
     "execution_count": 1,
     "metadata": {},
     "output_type": "execute_result"
    }
   ],
   "source": [
    "import pandas as pd\n",
    "df = pd.read_csv(\"adult.data\", sep=\",\", header=None)\n",
    "df.head(3)"
   ]
  },
  {
   "cell_type": "code",
   "execution_count": 2,
   "metadata": {},
   "outputs": [
    {
     "data": {
      "text/html": [
       "<div>\n",
       "<style scoped>\n",
       "    .dataframe tbody tr th:only-of-type {\n",
       "        vertical-align: middle;\n",
       "    }\n",
       "\n",
       "    .dataframe tbody tr th {\n",
       "        vertical-align: top;\n",
       "    }\n",
       "\n",
       "    .dataframe thead th {\n",
       "        text-align: right;\n",
       "    }\n",
       "</style>\n",
       "<table border=\"1\" class=\"dataframe\">\n",
       "  <thead>\n",
       "    <tr style=\"text-align: right;\">\n",
       "      <th></th>\n",
       "      <th>0</th>\n",
       "      <th>1</th>\n",
       "      <th>2</th>\n",
       "      <th>3</th>\n",
       "      <th>4</th>\n",
       "      <th>5</th>\n",
       "      <th>6</th>\n",
       "      <th>7</th>\n",
       "      <th>8</th>\n",
       "      <th>9</th>\n",
       "      <th>10</th>\n",
       "      <th>11</th>\n",
       "      <th>12</th>\n",
       "      <th>13</th>\n",
       "      <th>14</th>\n",
       "    </tr>\n",
       "  </thead>\n",
       "  <tbody>\n",
       "    <tr>\n",
       "      <th>32558</th>\n",
       "      <td>58</td>\n",
       "      <td>Private</td>\n",
       "      <td>151910</td>\n",
       "      <td>HS-grad</td>\n",
       "      <td>9</td>\n",
       "      <td>Widowed</td>\n",
       "      <td>Adm-clerical</td>\n",
       "      <td>Unmarried</td>\n",
       "      <td>White</td>\n",
       "      <td>Female</td>\n",
       "      <td>0</td>\n",
       "      <td>0</td>\n",
       "      <td>40</td>\n",
       "      <td>United-States</td>\n",
       "      <td>&lt;=50K</td>\n",
       "    </tr>\n",
       "    <tr>\n",
       "      <th>32559</th>\n",
       "      <td>22</td>\n",
       "      <td>Private</td>\n",
       "      <td>201490</td>\n",
       "      <td>HS-grad</td>\n",
       "      <td>9</td>\n",
       "      <td>Never-married</td>\n",
       "      <td>Adm-clerical</td>\n",
       "      <td>Own-child</td>\n",
       "      <td>White</td>\n",
       "      <td>Male</td>\n",
       "      <td>0</td>\n",
       "      <td>0</td>\n",
       "      <td>20</td>\n",
       "      <td>United-States</td>\n",
       "      <td>&lt;=50K</td>\n",
       "    </tr>\n",
       "    <tr>\n",
       "      <th>32560</th>\n",
       "      <td>52</td>\n",
       "      <td>Self-emp-inc</td>\n",
       "      <td>287927</td>\n",
       "      <td>HS-grad</td>\n",
       "      <td>9</td>\n",
       "      <td>Married-civ-spouse</td>\n",
       "      <td>Exec-managerial</td>\n",
       "      <td>Wife</td>\n",
       "      <td>White</td>\n",
       "      <td>Female</td>\n",
       "      <td>15024</td>\n",
       "      <td>0</td>\n",
       "      <td>40</td>\n",
       "      <td>United-States</td>\n",
       "      <td>&gt;50K</td>\n",
       "    </tr>\n",
       "  </tbody>\n",
       "</table>\n",
       "</div>"
      ],
      "text/plain": [
       "       0              1       2         3   4                    5   \\\n",
       "32558  58        Private  151910   HS-grad   9              Widowed   \n",
       "32559  22        Private  201490   HS-grad   9        Never-married   \n",
       "32560  52   Self-emp-inc  287927   HS-grad   9   Married-civ-spouse   \n",
       "\n",
       "                     6           7       8        9      10  11  12  \\\n",
       "32558      Adm-clerical   Unmarried   White   Female      0   0  40   \n",
       "32559      Adm-clerical   Own-child   White     Male      0   0  20   \n",
       "32560   Exec-managerial        Wife   White   Female  15024   0  40   \n",
       "\n",
       "                   13      14  \n",
       "32558   United-States   <=50K  \n",
       "32559   United-States   <=50K  \n",
       "32560   United-States    >50K  "
      ]
     },
     "execution_count": 2,
     "metadata": {},
     "output_type": "execute_result"
    }
   ],
   "source": [
    "df.tail(3)"
   ]
  },
  {
   "cell_type": "markdown",
   "metadata": {},
   "source": [
    "Преобразуем строковые признаки к числовым (а как расстояние-то искать?)"
   ]
  },
  {
   "cell_type": "code",
   "execution_count": 3,
   "metadata": {},
   "outputs": [
    {
     "data": {
      "text/html": [
       "<div>\n",
       "<style scoped>\n",
       "    .dataframe tbody tr th:only-of-type {\n",
       "        vertical-align: middle;\n",
       "    }\n",
       "\n",
       "    .dataframe tbody tr th {\n",
       "        vertical-align: top;\n",
       "    }\n",
       "\n",
       "    .dataframe thead th {\n",
       "        text-align: right;\n",
       "    }\n",
       "</style>\n",
       "<table border=\"1\" class=\"dataframe\">\n",
       "  <thead>\n",
       "    <tr style=\"text-align: right;\">\n",
       "      <th></th>\n",
       "      <th>0</th>\n",
       "      <th>1</th>\n",
       "      <th>2</th>\n",
       "      <th>3</th>\n",
       "      <th>4</th>\n",
       "      <th>5</th>\n",
       "      <th>6</th>\n",
       "      <th>7</th>\n",
       "      <th>8</th>\n",
       "      <th>9</th>\n",
       "      <th>10</th>\n",
       "      <th>11</th>\n",
       "      <th>12</th>\n",
       "      <th>13</th>\n",
       "      <th>14</th>\n",
       "    </tr>\n",
       "  </thead>\n",
       "  <tbody>\n",
       "    <tr>\n",
       "      <th>0</th>\n",
       "      <td>39</td>\n",
       "      <td>7</td>\n",
       "      <td>77516</td>\n",
       "      <td>9</td>\n",
       "      <td>13</td>\n",
       "      <td>4</td>\n",
       "      <td>1</td>\n",
       "      <td>1</td>\n",
       "      <td>4</td>\n",
       "      <td>1</td>\n",
       "      <td>2174</td>\n",
       "      <td>0</td>\n",
       "      <td>40</td>\n",
       "      <td>39</td>\n",
       "      <td>0</td>\n",
       "    </tr>\n",
       "    <tr>\n",
       "      <th>1</th>\n",
       "      <td>50</td>\n",
       "      <td>6</td>\n",
       "      <td>83311</td>\n",
       "      <td>9</td>\n",
       "      <td>13</td>\n",
       "      <td>2</td>\n",
       "      <td>4</td>\n",
       "      <td>0</td>\n",
       "      <td>4</td>\n",
       "      <td>1</td>\n",
       "      <td>0</td>\n",
       "      <td>0</td>\n",
       "      <td>13</td>\n",
       "      <td>39</td>\n",
       "      <td>0</td>\n",
       "    </tr>\n",
       "    <tr>\n",
       "      <th>2</th>\n",
       "      <td>38</td>\n",
       "      <td>4</td>\n",
       "      <td>215646</td>\n",
       "      <td>11</td>\n",
       "      <td>9</td>\n",
       "      <td>0</td>\n",
       "      <td>6</td>\n",
       "      <td>1</td>\n",
       "      <td>4</td>\n",
       "      <td>1</td>\n",
       "      <td>0</td>\n",
       "      <td>0</td>\n",
       "      <td>40</td>\n",
       "      <td>39</td>\n",
       "      <td>0</td>\n",
       "    </tr>\n",
       "  </tbody>\n",
       "</table>\n",
       "</div>"
      ],
      "text/plain": [
       "   0   1       2   3   4   5   6   7   8   9     10  11  12  13  14\n",
       "0  39   7   77516   9  13   4   1   1   4   1  2174   0  40  39   0\n",
       "1  50   6   83311   9  13   2   4   0   4   1     0   0  13  39   0\n",
       "2  38   4  215646  11   9   0   6   1   4   1     0   0  40  39   0"
      ]
     },
     "execution_count": 3,
     "metadata": {},
     "output_type": "execute_result"
    }
   ],
   "source": [
    "from sklearn.preprocessing import LabelEncoder, LabelBinarizer\n",
    "\n",
    "to_encode = [1, 3, 5, 6, 7, 8, 9, 13, 14]\n",
    "\n",
    "for column in to_encode:\n",
    "    le = LabelEncoder()\n",
    "    df[column] = le.fit_transform(df[column])\n",
    "    \n",
    "df.head(3)"
   ]
  },
  {
   "cell_type": "code",
   "execution_count": 4,
   "metadata": {},
   "outputs": [
    {
     "data": {
      "text/html": [
       "<div>\n",
       "<style scoped>\n",
       "    .dataframe tbody tr th:only-of-type {\n",
       "        vertical-align: middle;\n",
       "    }\n",
       "\n",
       "    .dataframe tbody tr th {\n",
       "        vertical-align: top;\n",
       "    }\n",
       "\n",
       "    .dataframe thead th {\n",
       "        text-align: right;\n",
       "    }\n",
       "</style>\n",
       "<table border=\"1\" class=\"dataframe\">\n",
       "  <thead>\n",
       "    <tr style=\"text-align: right;\">\n",
       "      <th></th>\n",
       "      <th>0</th>\n",
       "      <th>1</th>\n",
       "      <th>2</th>\n",
       "      <th>3</th>\n",
       "      <th>4</th>\n",
       "      <th>5</th>\n",
       "      <th>6</th>\n",
       "      <th>7</th>\n",
       "      <th>8</th>\n",
       "      <th>9</th>\n",
       "      <th>10</th>\n",
       "      <th>11</th>\n",
       "      <th>12</th>\n",
       "      <th>13</th>\n",
       "      <th>14</th>\n",
       "    </tr>\n",
       "  </thead>\n",
       "  <tbody>\n",
       "    <tr>\n",
       "      <th>32558</th>\n",
       "      <td>58</td>\n",
       "      <td>4</td>\n",
       "      <td>151910</td>\n",
       "      <td>11</td>\n",
       "      <td>9</td>\n",
       "      <td>6</td>\n",
       "      <td>1</td>\n",
       "      <td>4</td>\n",
       "      <td>4</td>\n",
       "      <td>0</td>\n",
       "      <td>0</td>\n",
       "      <td>0</td>\n",
       "      <td>40</td>\n",
       "      <td>39</td>\n",
       "      <td>0</td>\n",
       "    </tr>\n",
       "    <tr>\n",
       "      <th>32559</th>\n",
       "      <td>22</td>\n",
       "      <td>4</td>\n",
       "      <td>201490</td>\n",
       "      <td>11</td>\n",
       "      <td>9</td>\n",
       "      <td>4</td>\n",
       "      <td>1</td>\n",
       "      <td>3</td>\n",
       "      <td>4</td>\n",
       "      <td>1</td>\n",
       "      <td>0</td>\n",
       "      <td>0</td>\n",
       "      <td>20</td>\n",
       "      <td>39</td>\n",
       "      <td>0</td>\n",
       "    </tr>\n",
       "    <tr>\n",
       "      <th>32560</th>\n",
       "      <td>52</td>\n",
       "      <td>5</td>\n",
       "      <td>287927</td>\n",
       "      <td>11</td>\n",
       "      <td>9</td>\n",
       "      <td>2</td>\n",
       "      <td>4</td>\n",
       "      <td>5</td>\n",
       "      <td>4</td>\n",
       "      <td>0</td>\n",
       "      <td>15024</td>\n",
       "      <td>0</td>\n",
       "      <td>40</td>\n",
       "      <td>39</td>\n",
       "      <td>1</td>\n",
       "    </tr>\n",
       "  </tbody>\n",
       "</table>\n",
       "</div>"
      ],
      "text/plain": [
       "       0   1       2   3   4   5   6   7   8   9      10  11  12  13  14\n",
       "32558  58   4  151910  11   9   6   1   4   4   0      0   0  40  39   0\n",
       "32559  22   4  201490  11   9   4   1   3   4   1      0   0  20  39   0\n",
       "32560  52   5  287927  11   9   2   4   5   4   0  15024   0  40  39   1"
      ]
     },
     "execution_count": 4,
     "metadata": {},
     "output_type": "execute_result"
    }
   ],
   "source": [
    "df.tail(3)"
   ]
  },
  {
   "cell_type": "markdown",
   "metadata": {},
   "source": [
    "Этого не сказано нигде в задании, но наверное, мы предсказываем зарплату (последний столбец, два класса: <=50K, >50K, преобразовали в 0, 1 соответственно) "
   ]
  },
  {
   "cell_type": "code",
   "execution_count": 5,
   "metadata": {},
   "outputs": [],
   "source": [
    "import numpy as np\n",
    "import matplotlib.pyplot as plt\n",
    "from sklearn.neighbors import KNeighborsClassifier\n",
    "from sklearn.model_selection import train_test_split\n",
    "import itertools\n",
    "import tqdm\n",
    "\n",
    "# Settings\n",
    "n_repeat = 100       # Number of iterations for computing expectations\n",
    "test_size = 0.5       # (Relative) Size of the test set\n",
    "\n",
    "# Исследуемая сетка параметров\n",
    "# пояснение: длина train выборки должна варироваться от 50% до 200% относительно длины тестовой выборки  \n",
    "parameters = {\"k\":list(range(1, 20)), \"p\":np.arange(1, 10, 0.5), \"l_train\":np.arange(0.5, 2, 0.1)}\n",
    "\n",
    "\n",
    "# Get Data\n",
    "train , test = train_test_split(df, test_size=test_size, random_state=17)"
   ]
  },
  {
   "cell_type": "code",
   "execution_count": 6,
   "metadata": {},
   "outputs": [],
   "source": [
    "# Для того чтобы оценить bias и variance нужно сгенерировать случайные\n",
    "# подвыборки с возвращением из исходного массива данных \n",
    "# (бутстрепинг)\n",
    "\n",
    "X_train = []\n",
    "y_train = []\n",
    "\n",
    "for i in range(n_repeat):\n",
    "    sample_train = train.sample(n=len(train), replace=True) \n",
    "    X, y = sample_train[list(range(14))].values, sample_train[14].values\n",
    "    X_train.append(X)\n",
    "    y_train.append(y)\n",
    "    \n",
    "X_test, y_test = test[list(range(14))].values, test[14].values\n",
    "n_test = len(y_test)"
   ]
  },
  {
   "cell_type": "code",
   "execution_count": 95,
   "metadata": {},
   "outputs": [],
   "source": [
    "def magic(p_name, p_true_name, bias_variance_df):\n",
    "    for parameter in tqdm.tqdm_notebook(parameters[p_name]):\n",
    "        # Compute predictions\n",
    "        y_predict = np.zeros((n_test, n_repeat))\n",
    "\n",
    "        for i in range(n_repeat):\n",
    "            estimator = None\n",
    "            if (not (p_true_name is None)):\n",
    "                estimator = KNeighborsClassifier(**{p_true_name:parameter, \"n_jobs\":-1}).fit(X_train[i], y_train[i])\n",
    "            else:\n",
    "                size = int(len(X_train[0]) * parameter)\n",
    "                estimator = KNeighborsClassifier(**{\"n_jobs\":-1}).fit(X_train[i][:size], y_train[i][:size])\n",
    "            y_predict[:, i] = estimator.predict(X_test)\n",
    "\n",
    "        # Bias^2 + Variance + Noise decomposition of the mean squared error\n",
    "        y_error = np.zeros(n_test)\n",
    "\n",
    "        for i in range(n_repeat):\n",
    "            y_error[i] = ((y_test - y_predict[:, i]) ** 2).mean()\n",
    "\n",
    "        # y_error /= (n_test * n_repeat) ???!\n",
    "\n",
    "        # В каждой точке тестовой выборки bias положим равным квадрату разности реального значения \n",
    "        # и среднего предсказанного значения по всем обучающим выборкам.\n",
    "        y_bias = (y_test - np.mean(y_predict, axis=1)) ** 2\n",
    "\n",
    "        # Variance положим равным среднеквадратичному разбросу значений по всем обучающим выборкам. \n",
    "        # Итоговое значение bias и variance возьмём равным среднему по всем точкам тестовой выборки\n",
    "        y_var = np.var(y_predict, axis=1)\n",
    "\n",
    "        bias_variance_df.loc[bias_variance_df[p_name]==parameter, 'bias'] = y_bias.mean()\n",
    "            # сохраните среднее значение bias^2 для данного значения параметра\n",
    "        bias_variance_df.loc[bias_variance_df[p_name]==parameter, 'variance'] = y_var.mean()  # ???\n",
    "            # сохраните среднее значение variance для данного значения параметра\n",
    "        bias_variance_df.loc[bias_variance_df[p_name]==parameter, 'error'] = y_error.mean()\n",
    "            # сохраните среднее значени error для данного значения параметра\n",
    "    return bias_variance_df"
   ]
  },
  {
   "cell_type": "code",
   "execution_count": 96,
   "metadata": {},
   "outputs": [
    {
     "data": {
      "application/vnd.jupyter.widget-view+json": {
       "model_id": "13f0cc689b5143ff94ffe90e953cbff4",
       "version_major": 2,
       "version_minor": 0
      },
      "text/html": [
       "<p>Failed to display Jupyter Widget of type <code>HBox</code>.</p>\n",
       "<p>\n",
       "  If you're reading this message in the Jupyter Notebook or JupyterLab Notebook, it may mean\n",
       "  that the widgets JavaScript is still loading. If this message persists, it\n",
       "  likely means that the widgets JavaScript library is either not installed or\n",
       "  not enabled. See the <a href=\"https://ipywidgets.readthedocs.io/en/stable/user_install.html\">Jupyter\n",
       "  Widgets Documentation</a> for setup instructions.\n",
       "</p>\n",
       "<p>\n",
       "  If you're reading this message in another frontend (for example, a static\n",
       "  rendering on GitHub or <a href=\"https://nbviewer.jupyter.org/\">NBViewer</a>),\n",
       "  it may mean that your frontend doesn't currently support widgets.\n",
       "</p>\n"
      ],
      "text/plain": [
       "HBox(children=(IntProgress(value=0, max=18), HTML(value=u'')))"
      ]
     },
     "metadata": {},
     "output_type": "display_data"
    },
    {
     "name": "stdout",
     "output_type": "stream",
     "text": [
      "\n"
     ]
    }
   ],
   "source": [
    "# Для каждого значения парамера оцените значение error, bias и variance согласно следующей схеме\n",
    "p_name = 'p'\n",
    "p_true_name = p_name\n",
    "bias_variance_df_p = pd.DataFrame.from_dict({p_name:parameters[p_name],'bias':list([np.NaN]*len(parameters[p_name]))\n",
    "                                           , 'variance':list([np.NaN]*len(parameters[p_name]))\n",
    "                                           , 'error':list([np.NaN]*len(parameters[p_name]))})\n",
    "\n",
    "bias_variance_df_p = magic(p_name, p_true_name, bias_variance_df_p)"
   ]
  },
  {
   "cell_type": "code",
   "execution_count": 97,
   "metadata": {},
   "outputs": [
    {
     "data": {
      "text/html": [
       "<div>\n",
       "<style scoped>\n",
       "    .dataframe tbody tr th:only-of-type {\n",
       "        vertical-align: middle;\n",
       "    }\n",
       "\n",
       "    .dataframe tbody tr th {\n",
       "        vertical-align: top;\n",
       "    }\n",
       "\n",
       "    .dataframe thead th {\n",
       "        text-align: right;\n",
       "    }\n",
       "</style>\n",
       "<table border=\"1\" class=\"dataframe\">\n",
       "  <thead>\n",
       "    <tr style=\"text-align: right;\">\n",
       "      <th></th>\n",
       "      <th>bias</th>\n",
       "      <th>error</th>\n",
       "      <th>p</th>\n",
       "      <th>variance</th>\n",
       "    </tr>\n",
       "  </thead>\n",
       "  <tbody>\n",
       "    <tr>\n",
       "      <th>0</th>\n",
       "      <td>0.174160</td>\n",
       "      <td>0.001586</td>\n",
       "      <td>1.0</td>\n",
       "      <td>0.084044</td>\n",
       "    </tr>\n",
       "    <tr>\n",
       "      <th>1</th>\n",
       "      <td>0.177241</td>\n",
       "      <td>0.001604</td>\n",
       "      <td>1.5</td>\n",
       "      <td>0.083873</td>\n",
       "    </tr>\n",
       "    <tr>\n",
       "      <th>2</th>\n",
       "      <td>0.177999</td>\n",
       "      <td>0.001607</td>\n",
       "      <td>2.0</td>\n",
       "      <td>0.083652</td>\n",
       "    </tr>\n",
       "  </tbody>\n",
       "</table>\n",
       "</div>"
      ],
      "text/plain": [
       "       bias     error    p  variance\n",
       "0  0.174160  0.001586  1.0  0.084044\n",
       "1  0.177241  0.001604  1.5  0.083873\n",
       "2  0.177999  0.001607  2.0  0.083652"
      ]
     },
     "execution_count": 97,
     "metadata": {},
     "output_type": "execute_result"
    }
   ],
   "source": [
    "bias_variance_df_p.head(3)"
   ]
  },
  {
   "cell_type": "code",
   "execution_count": 98,
   "metadata": {},
   "outputs": [
    {
     "data": {
      "text/plain": [
       "<matplotlib.axes._subplots.AxesSubplot at 0x7f912c13c790>"
      ]
     },
     "execution_count": 98,
     "metadata": {},
     "output_type": "execute_result"
    },
    {
     "data": {
      "image/png": "[encoded data removed]",
      "text/plain": [
       "<matplotlib.figure.Figure at 0x7f90f8a3a450>"
      ]
     },
     "metadata": {},
     "output_type": "display_data"
    }
   ],
   "source": [
    "# нарисуйте зависимость bias, variance и error от значений параметров\n",
    "# plt.figure(figsize=(10, 8))\n",
    "bias_variance_df_p.set_index(p_name).plot(figsize=(10,8))"
   ]
  },
  {
   "cell_type": "code",
   "execution_count": 100,
   "metadata": {},
   "outputs": [
    {
     "data": {
      "application/vnd.jupyter.widget-view+json": {
       "model_id": "b72de0023f834cbaa7bba2d9f75a71cd",
       "version_major": 2,
       "version_minor": 0
      },
      "text/html": [
       "<p>Failed to display Jupyter Widget of type <code>HBox</code>.</p>\n",
       "<p>\n",
       "  If you're reading this message in the Jupyter Notebook or JupyterLab Notebook, it may mean\n",
       "  that the widgets JavaScript is still loading. If this message persists, it\n",
       "  likely means that the widgets JavaScript library is either not installed or\n",
       "  not enabled. See the <a href=\"https://ipywidgets.readthedocs.io/en/stable/user_install.html\">Jupyter\n",
       "  Widgets Documentation</a> for setup instructions.\n",
       "</p>\n",
       "<p>\n",
       "  If you're reading this message in another frontend (for example, a static\n",
       "  rendering on GitHub or <a href=\"https://nbviewer.jupyter.org/\">NBViewer</a>),\n",
       "  it may mean that your frontend doesn't currently support widgets.\n",
       "</p>\n"
      ],
      "text/plain": [
       "HBox(children=(IntProgress(value=0, max=19), HTML(value=u'')))"
      ]
     },
     "metadata": {},
     "output_type": "display_data"
    },
    {
     "name": "stdout",
     "output_type": "stream",
     "text": [
      "\n"
     ]
    }
   ],
   "source": [
    "p_name ='k'\n",
    "p_true_name=\"n_neighbors\"\n",
    "bias_variance_df_k = pd.DataFrame.from_dict({p_name:parameters[p_name],'bias':list([np.NaN]*len(parameters[p_name]))\n",
    "                                           , 'variance':list([np.NaN]*len(parameters[p_name]))\n",
    "                                           , 'error':list([np.NaN]*len(parameters[p_name]))})\n",
    "\n",
    "bias_variance_df_k = magic(p_name, p_true_name, bias_variance_df_k)"
   ]
  },
  {
   "cell_type": "code",
   "execution_count": 101,
   "metadata": {},
   "outputs": [
    {
     "data": {
      "text/plain": [
       "<matplotlib.axes._subplots.AxesSubplot at 0x7f9130a7f090>"
      ]
     },
     "execution_count": 101,
     "metadata": {},
     "output_type": "execute_result"
    },
    {
     "data": {
      "image/png": "[encoded data removed]",
      "text/plain": [
       "<matplotlib.figure.Figure at 0x7f912ec62990>"
      ]
     },
     "metadata": {},
     "output_type": "display_data"
    }
   ],
   "source": [
    "bias_variance_df_k.set_index(p_name).plot(figsize=(10,8))"
   ]
  },
  {
   "cell_type": "code",
   "execution_count": 102,
   "metadata": {},
   "outputs": [
    {
     "data": {
      "application/vnd.jupyter.widget-view+json": {
       "model_id": "f436b9a39e004c92b9fab13e14ede35e",
       "version_major": 2,
       "version_minor": 0
      },
      "text/html": [
       "<p>Failed to display Jupyter Widget of type <code>HBox</code>.</p>\n",
       "<p>\n",
       "  If you're reading this message in the Jupyter Notebook or JupyterLab Notebook, it may mean\n",
       "  that the widgets JavaScript is still loading. If this message persists, it\n",
       "  likely means that the widgets JavaScript library is either not installed or\n",
       "  not enabled. See the <a href=\"https://ipywidgets.readthedocs.io/en/stable/user_install.html\">Jupyter\n",
       "  Widgets Documentation</a> for setup instructions.\n",
       "</p>\n",
       "<p>\n",
       "  If you're reading this message in another frontend (for example, a static\n",
       "  rendering on GitHub or <a href=\"https://nbviewer.jupyter.org/\">NBViewer</a>),\n",
       "  it may mean that your frontend doesn't currently support widgets.\n",
       "</p>\n"
      ],
      "text/plain": [
       "HBox(children=(IntProgress(value=0, max=15), HTML(value=u'')))"
      ]
     },
     "metadata": {},
     "output_type": "display_data"
    },
    {
     "name": "stdout",
     "output_type": "stream",
     "text": [
      "\n"
     ]
    }
   ],
   "source": [
    "p_name = \"l_train\"\n",
    "p_true_name = None\n",
    "bias_variance_df_l = pd.DataFrame.from_dict({p_name:parameters[p_name],'bias':list([np.NaN]*len(parameters[p_name]))\n",
    "                                           , 'variance':list([np.NaN]*len(parameters[p_name]))\n",
    "                                           , 'error':list([np.NaN]*len(parameters[p_name]))})\n",
    "\n",
    "for parameter in tqdm.tqdm_notebook(parameters[p_name]):\n",
    "    X_train = []\n",
    "    y_train = []\n",
    "\n",
    "    size = int(len(train) * parameter)\n",
    "    \n",
    "    for i in range(n_repeat):\n",
    "        sample_train = train.sample(n=size, replace=True) \n",
    "        X, y = sample_train[list(range(14))].values, sample_train[14].values\n",
    "        X_train.append(X)\n",
    "        y_train.append(y)\n",
    "\n",
    "    X_test, y_test = test[list(range(14))].values, test[14].values\n",
    "    n_test = len(y_test)\n",
    "\n",
    "    # Compute predictions\n",
    "    y_predict = np.zeros((n_test, n_repeat))\n",
    "\n",
    "    for i in range(n_repeat):\n",
    "        estimator = None\n",
    "        estimator = KNeighborsClassifier(**{ \"n_jobs\":-1}).fit(X_train[i], y_train[i])\n",
    "        y_predict[:, i] = estimator.predict(X_test)\n",
    "\n",
    "    # Bias^2 + Variance + Noise decomposition of the mean squared error\n",
    "    y_error = np.zeros(n_test)\n",
    "\n",
    "    for i in range(n_repeat):\n",
    "        y_error[i] = ((y_test - y_predict[:, i]) ** 2).mean()\n",
    "\n",
    "    # y_error /= (n_test * n_repeat) ???!\n",
    "\n",
    "    # В каждой точке тестовой выборки bias положим равным квадрату разности реального значения \n",
    "    # и среднего предсказанного значения по всем обучающим выборкам.\n",
    "    y_bias = (y_test - np.mean(y_predict, axis=1)) ** 2\n",
    "\n",
    "    # Variance положим равным среднеквадратичному разбросу значений по всем обучающим выборкам. \n",
    "    # Итоговое значение bias и variance возьмём равным среднему по всем точкам тестовой выборки\n",
    "    y_var = np.var(y_predict, axis=1)\n",
    "    bias_variance_df_l.loc[bias_variance_df_l[p_name]==parameter, 'bias'] = y_bias.mean()\n",
    "        # сохраните среднее значение bias^2 для данного значения параметра\n",
    "    bias_variance_df_l.loc[bias_variance_df_l[p_name]==parameter, 'variance'] = y_var.mean()  # ???\n",
    "        # сохраните среднее значение variance для данного значения параметра\n",
    "    bias_variance_df_l.loc[bias_variance_df_l[p_name]==parameter, 'error'] = y_error.mean()\n",
    "        # сохраните среднее значени error для данного значения параметра\n"
   ]
  },
  {
   "cell_type": "code",
   "execution_count": 103,
   "metadata": {},
   "outputs": [
    {
     "data": {
      "text/html": [
       "<div>\n",
       "<style scoped>\n",
       "    .dataframe tbody tr th:only-of-type {\n",
       "        vertical-align: middle;\n",
       "    }\n",
       "\n",
       "    .dataframe tbody tr th {\n",
       "        vertical-align: top;\n",
       "    }\n",
       "\n",
       "    .dataframe thead th {\n",
       "        text-align: right;\n",
       "    }\n",
       "</style>\n",
       "<table border=\"1\" class=\"dataframe\">\n",
       "  <thead>\n",
       "    <tr style=\"text-align: right;\">\n",
       "      <th></th>\n",
       "      <th>bias</th>\n",
       "      <th>error</th>\n",
       "      <th>l_train</th>\n",
       "      <th>variance</th>\n",
       "    </tr>\n",
       "  </thead>\n",
       "  <tbody>\n",
       "    <tr>\n",
       "      <th>0</th>\n",
       "      <td>0.175255</td>\n",
       "      <td>0.001544</td>\n",
       "      <td>0.5</td>\n",
       "      <td>0.076105</td>\n",
       "    </tr>\n",
       "    <tr>\n",
       "      <th>1</th>\n",
       "      <td>0.175598</td>\n",
       "      <td>0.001558</td>\n",
       "      <td>0.6</td>\n",
       "      <td>0.078088</td>\n",
       "    </tr>\n",
       "    <tr>\n",
       "      <th>2</th>\n",
       "      <td>0.175651</td>\n",
       "      <td>0.001571</td>\n",
       "      <td>0.7</td>\n",
       "      <td>0.080159</td>\n",
       "    </tr>\n",
       "    <tr>\n",
       "      <th>3</th>\n",
       "      <td>0.175865</td>\n",
       "      <td>0.001579</td>\n",
       "      <td>0.8</td>\n",
       "      <td>0.081236</td>\n",
       "    </tr>\n",
       "    <tr>\n",
       "      <th>4</th>\n",
       "      <td>0.177333</td>\n",
       "      <td>0.001594</td>\n",
       "      <td>0.9</td>\n",
       "      <td>0.082145</td>\n",
       "    </tr>\n",
       "    <tr>\n",
       "      <th>5</th>\n",
       "      <td>0.177489</td>\n",
       "      <td>0.001603</td>\n",
       "      <td>1.0</td>\n",
       "      <td>0.083434</td>\n",
       "    </tr>\n",
       "    <tr>\n",
       "      <th>6</th>\n",
       "      <td>0.179244</td>\n",
       "      <td>0.001617</td>\n",
       "      <td>1.1</td>\n",
       "      <td>0.083961</td>\n",
       "    </tr>\n",
       "    <tr>\n",
       "      <th>7</th>\n",
       "      <td>0.180669</td>\n",
       "      <td>0.001630</td>\n",
       "      <td>1.2</td>\n",
       "      <td>0.084785</td>\n",
       "    </tr>\n",
       "    <tr>\n",
       "      <th>8</th>\n",
       "      <td>0.181368</td>\n",
       "      <td>0.001638</td>\n",
       "      <td>1.3</td>\n",
       "      <td>0.085323</td>\n",
       "    </tr>\n",
       "    <tr>\n",
       "      <th>9</th>\n",
       "      <td>0.183022</td>\n",
       "      <td>0.001653</td>\n",
       "      <td>1.4</td>\n",
       "      <td>0.086102</td>\n",
       "    </tr>\n",
       "    <tr>\n",
       "      <th>10</th>\n",
       "      <td>0.184159</td>\n",
       "      <td>0.001658</td>\n",
       "      <td>1.5</td>\n",
       "      <td>0.085847</td>\n",
       "    </tr>\n",
       "    <tr>\n",
       "      <th>11</th>\n",
       "      <td>0.185701</td>\n",
       "      <td>0.001671</td>\n",
       "      <td>1.6</td>\n",
       "      <td>0.086371</td>\n",
       "    </tr>\n",
       "    <tr>\n",
       "      <th>12</th>\n",
       "      <td>0.186914</td>\n",
       "      <td>0.001680</td>\n",
       "      <td>1.7</td>\n",
       "      <td>0.086683</td>\n",
       "    </tr>\n",
       "    <tr>\n",
       "      <th>13</th>\n",
       "      <td>0.188617</td>\n",
       "      <td>0.001687</td>\n",
       "      <td>1.8</td>\n",
       "      <td>0.086086</td>\n",
       "    </tr>\n",
       "    <tr>\n",
       "      <th>14</th>\n",
       "      <td>0.189959</td>\n",
       "      <td>0.001692</td>\n",
       "      <td>1.9</td>\n",
       "      <td>0.085567</td>\n",
       "    </tr>\n",
       "  </tbody>\n",
       "</table>\n",
       "</div>"
      ],
      "text/plain": [
       "        bias     error  l_train  variance\n",
       "0   0.175255  0.001544      0.5  0.076105\n",
       "1   0.175598  0.001558      0.6  0.078088\n",
       "2   0.175651  0.001571      0.7  0.080159\n",
       "3   0.175865  0.001579      0.8  0.081236\n",
       "4   0.177333  0.001594      0.9  0.082145\n",
       "5   0.177489  0.001603      1.0  0.083434\n",
       "6   0.179244  0.001617      1.1  0.083961\n",
       "7   0.180669  0.001630      1.2  0.084785\n",
       "8   0.181368  0.001638      1.3  0.085323\n",
       "9   0.183022  0.001653      1.4  0.086102\n",
       "10  0.184159  0.001658      1.5  0.085847\n",
       "11  0.185701  0.001671      1.6  0.086371\n",
       "12  0.186914  0.001680      1.7  0.086683\n",
       "13  0.188617  0.001687      1.8  0.086086\n",
       "14  0.189959  0.001692      1.9  0.085567"
      ]
     },
     "execution_count": 103,
     "metadata": {},
     "output_type": "execute_result"
    }
   ],
   "source": [
    "bias_variance_df_l.head(15)"
   ]
  },
  {
   "cell_type": "code",
   "execution_count": 104,
   "metadata": {},
   "outputs": [
    {
     "data": {
      "text/plain": [
       "<matplotlib.axes._subplots.AxesSubplot at 0x7f912c33fc50>"
      ]
     },
     "execution_count": 104,
     "metadata": {},
     "output_type": "execute_result"
    },
    {
     "data": {
      "image/png": "[encoded data removed]",
      "text/plain": [
       "<matplotlib.figure.Figure at 0x7f90f8e32510>"
      ]
     },
     "metadata": {},
     "output_type": "display_data"
    }
   ],
   "source": [
    "bias_variance_df_l.set_index(p_name).plot(figsize=(10,8))"
   ]
  },
  {
   "cell_type": "markdown",
   "metadata": {},
   "source": [
    "<h2 align=\"center\">Реализуйте kNN (2 балла)</h2>"
   ]
  },
  {
   "cell_type": "markdown",
   "metadata": {},
   "source": [
    "Обновим данные. Выкинем некоторые столбцы, чтобы получить хорошее accuracy в дальнейшем. Код, берущий все признаки с преобразованием, как выше, получает accuracy = 0.72 на k = 3 и 0.74 на k = 7 (на тестовой, конечно же), но я не хочу засорять ноутбук лишним запуском кода."
   ]
  },
  {
   "cell_type": "code",
   "execution_count": 51,
   "metadata": {},
   "outputs": [],
   "source": [
    "features = [0, 2, 3, 4, 9, 10, 11, 12]\n",
    "X_std = train[features].values.std(axis=0)\n",
    "X_train, y_train = train[features].values / X_std, train[14].values\n",
    "X_test, y_test = test[features].values / X_std, test[14].values\n",
    "n_test = len(y_test)"
   ]
  },
  {
   "cell_type": "code",
   "execution_count": 52,
   "metadata": {},
   "outputs": [],
   "source": [
    "import warnings\n",
    "import numpy as np\n",
    "\n",
    "warnings.simplefilter(\"ignore\")\n",
    "\n",
    "\n",
    "class kNNClassifier():\n",
    "    def __init__(self, n_neighbours,\n",
    "                 metric=None,\n",
    "                 multi_metric=None,\n",
    "                 range_wrapper=lambda x: x):   # это британский что ли? вроде как бы \"n_neighbors\"\n",
    "        \"\"\"\n",
    "        Parameters\n",
    "        ----------\n",
    "        n_neighbours: int\n",
    "            Число соседей\n",
    "\n",
    "        metric: *alias\n",
    "            метрика измерения расстояний\n",
    "            (измеряет расстояние между двумя векторами)\n",
    "            \n",
    "        multi_metric: *alias\n",
    "            метрика измерения расстояний\n",
    "            (измеряет расстояние между вектором и вектором векторов\n",
    "            - ВНИМАНИЕ: нужно обьявиль только одну метрику\n",
    "            обычно - жутко быстрее)\n",
    "                \n",
    "            \n",
    "        range_wrapper: *alias\n",
    "            обёртка для for i in range_wrapper(range) в предсказании,\n",
    "            например tqdm.tqdm_notebook.\n",
    "            по умолчанию : lambda x : x\n",
    "\n",
    "          \"\"\"\n",
    "        \n",
    "        assert n_neighbours % 2 == 1  # На лекции предлагали требовать нечётное число\n",
    "        assert (not (metric is None)) ^ (not (multi_metric is None))\n",
    "        self.n_neighbours = n_neighbours\n",
    "        self.metric = metric\n",
    "        self.multi_metric = multi_metric\n",
    "        self.range_wrapper = range_wrapper\n",
    "        \n",
    "    def fit(self, X, y):\n",
    "        \"\"\"\n",
    "        \n",
    "        Parameters\n",
    "        ----------\n",
    "        X: 2d np.array\n",
    "        y: 1d np.array\n",
    "            классы должны быть 0 и 1,\n",
    "            иначе нужно переопределить classify\n",
    "        \"\"\"\n",
    "\n",
    "        # Тут храните здесь описание объектов обучающей выборки\n",
    "        self.X_learn = np.copy(X)  # нельзя портить внешние данные\n",
    "        # Тут храните здесь ответы по каждому объекту обучающей выборки\n",
    "        self.y_learn = np.copy(y)\n",
    "\n",
    "        \n",
    "        return self\n",
    "\n",
    "    def kmin(self, X, k):\n",
    "        \"\"\"\n",
    "        \n",
    "        Parameters\n",
    "        ----------\n",
    "            X: 1d np.array\n",
    "                вектор расстояний\n",
    "            k: int\n",
    "                число соседей, т.е. сколько минимальных элементов нужно вернуть\n",
    "                Предполагаем, что k = O(1)\n",
    "                \n",
    "        Returns\n",
    "        -------\n",
    "            mins: list\n",
    "                индексы k минимальных элементов из X\n",
    "                \n",
    "        \"\"\"\n",
    "        if (len(X) <= k):\n",
    "            return range(len(X))\n",
    "        else:\n",
    "            mins = [(X[i], i) for i in range(k)]\n",
    "            mins.sort()\n",
    "            mins = [y for _, y in mins]\n",
    "            \n",
    "            for j in range(k, len(X)):\n",
    "                i = k\n",
    "                while (i > 0) and (X[mins[i-1]] > X[j]):\n",
    "                    i -= 1\n",
    "                    \n",
    "                if (i != k):\n",
    "                    mins = mins[0:i] + [j] + mins[i: k - 1]\n",
    "                    \n",
    "            return mins\n",
    "        \n",
    "    def classify(self, classes):\n",
    "        got = (classes.mean() >= 0.5) * 1\n",
    "        #print(classes, got)\n",
    "        return got\n",
    "        \n",
    "    def predict(self, X):\n",
    "        \"\"\"\n",
    "\n",
    "        Parameters\n",
    "        ----------\n",
    "        X: 2d np.array\n",
    "            матрица объекты признаки на которых нужно сказать ответ\n",
    "\n",
    "        Returns\n",
    "        -------\n",
    "        y_pred: 1d np.array\n",
    "            Вектор классов для каждого объекта\n",
    "        \"\"\"\n",
    "        X = np.array(X) # на всякий случай\n",
    "        # print(X)\n",
    "        \n",
    "        y_pred = []\n",
    "        for i in self.range_wrapper(range(X.shape[0])):\n",
    "            # cделаем один цикл вместо двух, т.к. нам совершенно не обязательно\n",
    "            # хранить попарные расстояния для всех обьектов, коих ~256M, т.к.\n",
    "            # можно классифицировать на ходу и кранить расстояния только до одного\n",
    "            # обьекта. Дополнительно, так проще распраллелить код (а что, а вдруг?)\n",
    "            \n",
    "            # print(\"x_predict\", X[i].shape)\n",
    "            # =======================================\n",
    "            # рассчитайте расстояние до каждого объекта обучающей выборки\n",
    "            # ======================================\n",
    "            dist = None\n",
    "            if self.multi_metric == None:\n",
    "                dist = [self.metric(X[i], x_train) for x_train in self.X_learn]\n",
    "            else:\n",
    "                dist = self.multi_metric(X[i], self.X_learn)\n",
    "                # вообще, нормальные реализации метрик могут считать расстояния между ветором и списком\n",
    "                # векторов, но нам в чате сказали, что metric считает расстояние между двумя векторами,\n",
    "                # что в некоторых случаях заметно замедляет работу, т.к. metriс может быть написана на C/C++\n",
    "                # Тем более, речь о написании KD-Tree, к сожалению не идёт, хотя оно качественно ускоряет\n",
    "\n",
    "            # =======================================\n",
    "            # предскажите класс каждого из объектов\n",
    "            # =======================================\n",
    "\n",
    "            mins1 = self.kmin(dist, self.n_neighbours)\n",
    "            dist1 = [dist[j] for j in mins1]\n",
    "            #dist.sort()\n",
    "            #mins2 = dist[0:self.n_neighbours]\n",
    "\n",
    "            #print(mins1)\n",
    "            #print(dist1, mins2)\n",
    "            #assert dist1 == mins2\n",
    "            #print(dist1, mins2)\n",
    "\n",
    "            classes = self.y_learn[mins1]\n",
    "\n",
    "            y_pred.append(self.classify(classes))\n",
    "        return y_pred"
   ]
  },
  {
   "cell_type": "markdown",
   "metadata": {},
   "source": [
    "Подсчитаем accuracy"
   ]
  },
  {
   "cell_type": "code",
   "execution_count": 54,
   "metadata": {},
   "outputs": [
    {
     "data": {
      "application/vnd.jupyter.widget-view+json": {
       "model_id": "7d3a5303e116440e9e375534ce91aa1c",
       "version_major": 2,
       "version_minor": 0
      },
      "text/html": [
       "<p>Failed to display Jupyter Widget of type <code>HBox</code>.</p>\n",
       "<p>\n",
       "  If you're reading this message in the Jupyter Notebook or JupyterLab Notebook, it may mean\n",
       "  that the widgets JavaScript is still loading. If this message persists, it\n",
       "  likely means that the widgets JavaScript library is either not installed or\n",
       "  not enabled. See the <a href=\"https://ipywidgets.readthedocs.io/en/stable/user_install.html\">Jupyter\n",
       "  Widgets Documentation</a> for setup instructions.\n",
       "</p>\n",
       "<p>\n",
       "  If you're reading this message in another frontend (for example, a static\n",
       "  rendering on GitHub or <a href=\"https://nbviewer.jupyter.org/\">NBViewer</a>),\n",
       "  it may mean that your frontend doesn't currently support widgets.\n",
       "</p>\n"
      ],
      "text/plain": [
       "HBox(children=(IntProgress(value=0, max=16280), HTML(value=u'')))"
      ]
     },
     "metadata": {},
     "output_type": "display_data"
    },
    {
     "name": "stdout",
     "output_type": "stream",
     "text": [
      "\n",
      "k = 3, train accuracy = 0.886977886978\n"
     ]
    },
    {
     "data": {
      "application/vnd.jupyter.widget-view+json": {
       "model_id": "2353e253046b4ecdb2eb2f208f28ffb1",
       "version_major": 2,
       "version_minor": 0
      },
      "text/html": [
       "<p>Failed to display Jupyter Widget of type <code>HBox</code>.</p>\n",
       "<p>\n",
       "  If you're reading this message in the Jupyter Notebook or JupyterLab Notebook, it may mean\n",
       "  that the widgets JavaScript is still loading. If this message persists, it\n",
       "  likely means that the widgets JavaScript library is either not installed or\n",
       "  not enabled. See the <a href=\"https://ipywidgets.readthedocs.io/en/stable/user_install.html\">Jupyter\n",
       "  Widgets Documentation</a> for setup instructions.\n",
       "</p>\n",
       "<p>\n",
       "  If you're reading this message in another frontend (for example, a static\n",
       "  rendering on GitHub or <a href=\"https://nbviewer.jupyter.org/\">NBViewer</a>),\n",
       "  it may mean that your frontend doesn't currently support widgets.\n",
       "</p>\n"
      ],
      "text/plain": [
       "HBox(children=(IntProgress(value=0, max=16281), HTML(value=u'')))"
      ]
     },
     "metadata": {},
     "output_type": "display_data"
    },
    {
     "name": "stdout",
     "output_type": "stream",
     "text": [
      "\n",
      "k = 3, test accuracy = 0.799828020392\n"
     ]
    },
    {
     "data": {
      "application/vnd.jupyter.widget-view+json": {
       "model_id": "0f71be2dcf3041358ffba24ae9d6b39b",
       "version_major": 2,
       "version_minor": 0
      },
      "text/html": [
       "<p>Failed to display Jupyter Widget of type <code>HBox</code>.</p>\n",
       "<p>\n",
       "  If you're reading this message in the Jupyter Notebook or JupyterLab Notebook, it may mean\n",
       "  that the widgets JavaScript is still loading. If this message persists, it\n",
       "  likely means that the widgets JavaScript library is either not installed or\n",
       "  not enabled. See the <a href=\"https://ipywidgets.readthedocs.io/en/stable/user_install.html\">Jupyter\n",
       "  Widgets Documentation</a> for setup instructions.\n",
       "</p>\n",
       "<p>\n",
       "  If you're reading this message in another frontend (for example, a static\n",
       "  rendering on GitHub or <a href=\"https://nbviewer.jupyter.org/\">NBViewer</a>),\n",
       "  it may mean that your frontend doesn't currently support widgets.\n",
       "</p>\n"
      ],
      "text/plain": [
       "HBox(children=(IntProgress(value=0, max=16280), HTML(value=u'')))"
      ]
     },
     "metadata": {},
     "output_type": "display_data"
    },
    {
     "name": "stdout",
     "output_type": "stream",
     "text": [
      "\n",
      "k = 5, train accuracy = 0.866953316953\n"
     ]
    },
    {
     "data": {
      "application/vnd.jupyter.widget-view+json": {
       "model_id": "8207ac81050c478d91d1df3fb7a9b063",
       "version_major": 2,
       "version_minor": 0
      },
      "text/html": [
       "<p>Failed to display Jupyter Widget of type <code>HBox</code>.</p>\n",
       "<p>\n",
       "  If you're reading this message in the Jupyter Notebook or JupyterLab Notebook, it may mean\n",
       "  that the widgets JavaScript is still loading. If this message persists, it\n",
       "  likely means that the widgets JavaScript library is either not installed or\n",
       "  not enabled. See the <a href=\"https://ipywidgets.readthedocs.io/en/stable/user_install.html\">Jupyter\n",
       "  Widgets Documentation</a> for setup instructions.\n",
       "</p>\n",
       "<p>\n",
       "  If you're reading this message in another frontend (for example, a static\n",
       "  rendering on GitHub or <a href=\"https://nbviewer.jupyter.org/\">NBViewer</a>),\n",
       "  it may mean that your frontend doesn't currently support widgets.\n",
       "</p>\n"
      ],
      "text/plain": [
       "HBox(children=(IntProgress(value=0, max=16281), HTML(value=u'')))"
      ]
     },
     "metadata": {},
     "output_type": "display_data"
    },
    {
     "name": "stdout",
     "output_type": "stream",
     "text": [
      "\n",
      "k = 5, test accuracy = 0.809348320128\n"
     ]
    },
    {
     "data": {
      "application/vnd.jupyter.widget-view+json": {
       "model_id": "7e1e30f159b744e4bbef69cad67b960e",
       "version_major": 2,
       "version_minor": 0
      },
      "text/html": [
       "<p>Failed to display Jupyter Widget of type <code>HBox</code>.</p>\n",
       "<p>\n",
       "  If you're reading this message in the Jupyter Notebook or JupyterLab Notebook, it may mean\n",
       "  that the widgets JavaScript is still loading. If this message persists, it\n",
       "  likely means that the widgets JavaScript library is either not installed or\n",
       "  not enabled. See the <a href=\"https://ipywidgets.readthedocs.io/en/stable/user_install.html\">Jupyter\n",
       "  Widgets Documentation</a> for setup instructions.\n",
       "</p>\n",
       "<p>\n",
       "  If you're reading this message in another frontend (for example, a static\n",
       "  rendering on GitHub or <a href=\"https://nbviewer.jupyter.org/\">NBViewer</a>),\n",
       "  it may mean that your frontend doesn't currently support widgets.\n",
       "</p>\n"
      ],
      "text/plain": [
       "HBox(children=(IntProgress(value=0, max=16280), HTML(value=u'')))"
      ]
     },
     "metadata": {},
     "output_type": "display_data"
    },
    {
     "name": "stdout",
     "output_type": "stream",
     "text": [
      "\n",
      "k = 9, train accuracy = 0.851658476658\n"
     ]
    },
    {
     "data": {
      "application/vnd.jupyter.widget-view+json": {
       "model_id": "dbeb36b9199c43d68a5656b8596f6a5d",
       "version_major": 2,
       "version_minor": 0
      },
      "text/html": [
       "<p>Failed to display Jupyter Widget of type <code>HBox</code>.</p>\n",
       "<p>\n",
       "  If you're reading this message in the Jupyter Notebook or JupyterLab Notebook, it may mean\n",
       "  that the widgets JavaScript is still loading. If this message persists, it\n",
       "  likely means that the widgets JavaScript library is either not installed or\n",
       "  not enabled. See the <a href=\"https://ipywidgets.readthedocs.io/en/stable/user_install.html\">Jupyter\n",
       "  Widgets Documentation</a> for setup instructions.\n",
       "</p>\n",
       "<p>\n",
       "  If you're reading this message in another frontend (for example, a static\n",
       "  rendering on GitHub or <a href=\"https://nbviewer.jupyter.org/\">NBViewer</a>),\n",
       "  it may mean that your frontend doesn't currently support widgets.\n",
       "</p>\n"
      ],
      "text/plain": [
       "HBox(children=(IntProgress(value=0, max=16281), HTML(value=u'')))"
      ]
     },
     "metadata": {},
     "output_type": "display_data"
    },
    {
     "name": "stdout",
     "output_type": "stream",
     "text": [
      "\n",
      "k = 9, test accuracy = 0.818745777286\n"
     ]
    }
   ],
   "source": [
    "# Запустите ваш алгоритм на данных http://archive.ics.uci.edu/ml/machine-learning-databases/adult\n",
    "from sklearn.metrics import accuracy_score\n",
    "from __future__ import print_function\n",
    "\n",
    "# =======================================\n",
    "# Обучите классификатор при k=3, 5, и 10 <----\n",
    "#    10 - это же чётное число, будут проблемы, как говорилось на лекции,\n",
    "#    и вообще, мы должны бросать exception в этом случае. Возьмём 9\n",
    "# =======================================\n",
    "\n",
    "for k in [3, 5, 9]:\n",
    "    clf = kNNClassifier(n_neighbours=k,\n",
    "                        #metric=lambda x,y: ((x - y) **2).sum(),\n",
    "                        multi_metric=lambda x, ys: ((x - ys) ** 2).sum(axis=1),  # Ускоряет раз в 16\n",
    "                        range_wrapper=tqdm.tqdm_notebook)\n",
    "    clf.fit(X_train, y_train)\n",
    "    print(\"k = {}, train accuracy = {}\".format(k, accuracy_score(clf.predict(X_train), y_train)))\n",
    "    print(\"k = {}, test accuracy = {}\".format(k, accuracy_score(clf.predict(X_test), y_test)))"
   ]
  },
  {
   "cell_type": "markdown",
   "metadata": {},
   "source": [
    "**Комментарий:**\n",
    "В описании к данным сказано, что 3NN даёт ошибку : 15 Nearest-neighbor (3)    20.35\n",
    ", т.е. имеем accuracy 0.7965.\n",
    "# А у нас - лучше :)\n",
    "\n",
    "В качестве вывода по заданию - видно, что рост k сглаживает оценку, т.к. она начинает зависеть от большего числа элементов выборки, что хорошо визуализируется разделяющей кривой - кажется, что растёт обобщающая способность. Однако, при очень большом k разделяющая кривая становится слишком вялой и не различает тонкие зависимости в выборке"
   ]
  },
  {
   "cell_type": "markdown",
   "metadata": {},
   "source": [
    "<h1 align=\"center\">Отбор признаков (3 балла) </h1>"
   ]
  },
  {
   "cell_type": "markdown",
   "metadata": {},
   "source": [
    "Реализуйте алгоритм отбора признаков ADD_DELL и примените его для kNN на данных sklearn.datasets.digits(). \n",
    "Для этого предлагается реализовать следующие функции"
   ]
  },
  {
   "cell_type": "code",
   "execution_count": null,
   "metadata": {
    "collapsed": true
   },
   "outputs": [],
   "source": [
    "# обновление минимального значения ошибки\n",
    "def update_Q_min_index(estimator, Q_min, Q_min_set, Q_min_index,\n",
    "                       feature_set, X_train, Y_train,\n",
    "                       X_test, Y_test, update_equal=False):\n",
    "    feature_set_size = len(feature_set)\n",
    "    estimator.fit(X_train[:, feature_set], Y_train)\n",
    "    error = 1 - accuracy_score(Y_test, estimator.predict(X_test[:, feature_set]))\n",
    "    if error < Q_min[feature_set_size]:\n",
    "        Q_min_set[feature_set_size] = feature_set\n",
    "        Q_min[feature_set_size] = error\n",
    "        if ((Q_min[feature_set_size] < Q_min[Q_min_index])\n",
    "                or (update_equal and Q_min[feature_set_size] == Q_min[Q_min_index])):\n",
    "            Q_min_index = feature_set_size\n",
    "    return Q_min_index\n",
    "\n",
    "\n",
    "# Нужно реализовать алгоритм добавление\n",
    "def add_one(estimator, feature_set, X_train, Y_train, X_test, Y_test,\n",
    "            look_forward=10, start_feature_set=[]):\n",
    "    Q_min = {0: float('+inf')}\n",
    "    Q_min_set = {0: []}\n",
    "    Q_min_index = 0\n",
    "    \n",
    "    # инициализация стартового набора признаков     \n",
    "    if start_feature_set:\n",
    "        estimator.fit(X_train[:, feature_set], Y_train)\n",
    "        error = 1 - accuracy_score(Y_test, estimator.predict(X_test[:, feature_set]))\n",
    "        Q_min = {len(start_feature_set) : error}\n",
    "        Q_min_set = {len(start_feature_set) : start_feature_set}\n",
    "        Q_min_index = len(start_feature_set)\n",
    "    \n",
    "    # добавление признаков     \n",
    "    for feature_set_size in range(len(start_feature_set) + 1, len(feature_set) + 1):\n",
    "        Q_min[feature_set_size] = float('+inf')\n",
    "        unused_features = set(feature_set).difference(set(Q_min_set[feature_set_size - 1]))\n",
    "        unused_features = list(unused_features)\n",
    "        #shuffle(unused_features)\n",
    "        for feature in unused_features:\n",
    "            new_feature_set = # обновите список признаков\n",
    "            Q_min_index = обновите значение ошибки классификации\n",
    "        \n",
    "        print ('Q_min: %.4lf, set_size: %d, added: %s' % (\n",
    "            Q_min[feature_set_size], feature_set_size, Q_min_set[feature_set_size][-1]))        \n",
    "    \n",
    "    # критерий останова\n",
    "        if Q_min_index + look_forward <= feature_set_size:\n",
    "            break\n",
    "    return Q_min_set[Q_min_index]\n",
    "\n",
    "def del_one(estimator, feature_set, X_train, Y_train, X_test, Y_test, look_forward=10):\n",
    "    \n",
    "#     инициализация\n",
    "    estimator.fit(X_train[:, feature_set], Y_train)\n",
    "    error = 1 - accuracy_score(Y_test, estimator.predict(X_test[:, feature_set]))\n",
    "    Q_min = {len(feature_set): error}\n",
    "    Q_min_set = {len(feature_set): deepcopy(feature_set)}\n",
    "    Q_min_index = len(feature_set)\n",
    "    \n",
    "#     итерационное удаление признаков\n",
    "    for feature_set_size in list(range(len(feature_set) - 1, 0, -1)):\n",
    "        Q_min[feature_set_size] = float('+inf')\n",
    "        features = copy(Q_min_set[feature_set_size + 1])\n",
    "        # shuffle(features)\n",
    "        for feature in features:\n",
    "            new_feature_set = обновите список признаков\n",
    "            Q_min_index = обновите значение ошибки классификации\n",
    "            \n",
    "        print ('Q_min: %.4lf, set_size: %d, deleted: %s' % (Q_min[feature_set_size], feature_set_size,\n",
    "            set(Q_min_set[feature_set_size + 1]).difference(set(Q_min_set[feature_set_size])),\n",
    "        ))\n",
    "        \n",
    "#         критерий останова\n",
    "        if feature_set_size + look_forward <= Q_min_index:\n",
    "            break\n",
    "    return Q_min_set[Q_min_index]\n",
    "\n",
    "# Наконец реализуйте ADD-DELL\n",
    "def add_del(estimator, feature_set, X_train, Y_train, X_test, Y_test, look_forward=10):\n",
    "    Q_min = None\n",
    "    Q_min_current = float('+inf')\n",
    "    start_feature_set = []\n",
    "    \n",
    "#     количество итераций, приведших к увеличению ошибки\n",
    "    bad_iteration_count = 2\n",
    "    \n",
    "    while (Q_min is None) or (Q_min_current < Q_min or bad_iteration_count):\n",
    "        Q_min = Q_min_current\n",
    "        start_feature_set = add_one(estimator, feature_set, X_train, Y_train,\n",
    "                                    X_test, Y_test, look_forward,\n",
    "                                    start_feature_set=start_feature_set)\n",
    "        start_feature_set = del_one(estimator, start_feature_set,\n",
    "                                    X_train, Y_train, X_test, Y_test, look_forward)\n",
    "        estimator.fit(X_train[:, start_feature_set], Y_train)\n",
    "        Q_min_current = 1 - accuracy_score(Y_test, estimator.predict(X_test[:, start_feature_set]))\n",
    "        \n",
    "        if Q_min_current > Q_min:\n",
    "            bad_iteration_count -= 1\n",
    "        print ('Q_min: %.4lf, set_size: %d' % (Q_min_current, len(start_feature_set)))\n",
    "    return start_feature_set"
   ]
  },
  {
   "cell_type": "code",
   "execution_count": null,
   "metadata": {
    "collapsed": true
   },
   "outputs": [],
   "source": [
    "X_train, Y_train, X_test, Y_test = скайчайте данные и разбейте их на тест/трейн\n",
    "\n",
    "# проверьте вашу реализацию\n",
    "estimator = KNeighborsClassifier()\n",
    "%time feature_set = add_del(estimator, list(range(X_train.shape[1])), X_train, Y_train, X_test, Y_test, look_forward=4)\n",
    "%time accuracy_score(Y_test, estimator.fit(X_train[:, feature_set], Y_train).predict(X_test[:, feature_set]))"
   ]
  }
 ],
 "metadata": {
  "anaconda-cloud": {},
  "kernelspec": {
   "display_name": "Python 2",
   "language": "python",
   "name": "python2"
  },
  "language_info": {
   "codemirror_mode": {
    "name": "ipython",
    "version": 2
   },
   "file_extension": ".py",
   "mimetype": "text/x-python",
   "name": "python",
   "nbconvert_exporter": "python",
   "pygments_lexer": "ipython2",
   "version": "2.7.14"
  }
 },
 "nbformat": 4,
 "nbformat_minor": 1
}
