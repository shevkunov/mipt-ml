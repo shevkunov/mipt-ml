{
 "cells": [
  {
   "cell_type": "markdown",
   "metadata": {},
   "source": [
    "# Домашнее задание №3"
   ]
  },
  {
   "cell_type": "markdown",
   "metadata": {},
   "source": [
    "<span style=\"color: red; font-size: 14pt\">Дедлайн: 20 марта 23:59</span>"
   ]
  },
  {
   "cell_type": "markdown",
   "metadata": {},
   "source": [
    "Машинное обучение, ФИВТ, Весна 2018"
   ]
  },
  {
   "cell_type": "markdown",
   "metadata": {},
   "source": [
    "**Оформление дз**: \n",
    "- Присылайте выполненное задание на почту ``ml.course.mipt@gmail.com``\n",
    "- Укажите тему письма в следующем формате ``ML2018_fall <номер_группы> <фамилия>``, к примеру -- ``ML2018_fall 596 ivanov``\n",
    "- Выполненное дз сохраните в файл ``ML2018_<фамилия>_<группа>_task<номер задания>.ipnb``, к примеру -- ``ML2018_ivanov_596_task1.ipnb``\n",
    "\n",
    "**Вопросы**:\n",
    "- Присылайте вопросы на почту ``ml.course.mipt@gmail.com`` (или в телеграм-канал)\n",
    "- Укажите тему письма в следующем формате ``ML2018_fall Question <Содержание вопроса>``\n",
    "\n",
    "--------\n",
    "- **PS1**: Используются автоматические фильтры, мы не найдем ваше дз, если вы укажете тему письма в неправильном формате.\n",
    "- **PS2**: Просроченный дедлайн снижает максимальный вес задания по формуле, указнной на первом семинаре"
   ]
  },
  {
   "cell_type": "code",
   "execution_count": 1,
   "metadata": {},
   "outputs": [],
   "source": [
    "import pandas as pd\n",
    "import numpy as np\n",
    "import tqdm\n",
    "from sklearn.model_selection import train_test_split\n",
    "from sklearn.tree import DecisionTreeClassifier\n",
    "import sklearn\n",
    "import sklearn.base\n",
    "from sklearn.metrics import accuracy_score\n",
    "import matplotlib.pyplot as plt\n",
    "from sklearn.ensemble import RandomForestClassifier"
   ]
  },
  {
   "cell_type": "markdown",
   "metadata": {},
   "source": [
    "## Часть 1. Теоретические задачи"
   ]
  },
  {
   "cell_type": "markdown",
   "metadata": {},
   "source": [
    "##### 30% баллов за задание, оценочное время выполнения 30 минут"
   ]
  },
  {
   "cell_type": "markdown",
   "metadata": {},
   "source": [
    "### Задача 1 (10% баллов)"
   ]
  },
  {
   "cell_type": "markdown",
   "metadata": {},
   "source": [
    "Предположим, что мы решаем задачу бинарной классификации и что у нас есть три алгоритма $b_1(x)$, $b_2(x)$ и $b_3(x)$, каждый из которых ошибается с вероятностью p. Мы строим композицию взвешенным голосованием: алгоритмам присвоены значимости $w_1$, $w_2$ и $w_3$, и для вынесения вердикта суммируются значимости алгоритмов, проголосовавших за каждый из классов:\n",
    "\n",
    "$$a_0 = \\sum_{i=1}^3 w_i [b_i(x)=0]$$\n",
    "$$a_1 = \\sum_{i=1}^3 w_i [b_i(x)=1]$$\n",
    "\n",
    "\n",
    "Объект $x$ относится к классу, для которого такая сумма оказалась максимальной. Например, если первые два алгоритма голосуют за класс $0$, а третий — за класс $1$, то выбирается класс $0$, если $w_1 + w_2 > w_3$, и класс $1$ в противном случае. Какова вероятность ошибки такой композиции этих трех алгоритмов, если:\n",
    "1. $w_1 = 0.2, w_2 = 0.3, w_3 = 0.2$;\n",
    "2. $w_1 = 0.2, w_2 = 0.5, w_3 = 0.2$? "
   ]
  },
  {
   "cell_type": "markdown",
   "metadata": {},
   "source": [
    "**Решение:** Для начала заметим, что $a_i  = w_1 + w_2 + w_3 - a_{1-i}$ Более того, если разделить $a_i$ на сумму $w_i$, то видно, что итоговый ответ есть I(a_1 > 0.5) (равенство половине не достигается на этих конкретных $w_i$)\n",
    "\n",
    "Считая, что верный класс 1, переберём комбинации ответов, при которых алгоритм ошибается:"
   ]
  },
  {
   "cell_type": "code",
   "execution_count": 178,
   "metadata": {},
   "outputs": [
    {
     "name": "stdout",
     "output_type": "stream",
     "text": [
      "0 0 0\n",
      "0 0 1\n",
      "0 1 0\n",
      "1 0 0\n"
     ]
    }
   ],
   "source": [
    "for i1 in [0, 1]:  # проще написать код, чем перебрать 8 вариантов ручкам\n",
    "    for i2 in [0, 1]:\n",
    "        for i3 in [0, 1]:\n",
    "            s = i1 * 0.2 + i2 * 0.2 + i3 * 0.3\n",
    "            if (s < (0.2 + 0.2 + 0.3) / 2):\n",
    "                print(i1, i2, i3)"
   ]
  },
  {
   "cell_type": "markdown",
   "metadata": {},
   "source": [
    "Считая алгоритмы независимыми, получаем случай когда ошиблись все ($p^3$) и три случая когда ошиблись 2 из 3 ($3 (1 - p)p^2$). Итого $p^2 (p + 3(1-p)) = p^2 (3 - 2p)$\n",
    "\n",
    "Заметим, что если верный класс 0, то ничего не изменится (вообще, это очевидно):"
   ]
  },
  {
   "cell_type": "code",
   "execution_count": 179,
   "metadata": {},
   "outputs": [
    {
     "name": "stdout",
     "output_type": "stream",
     "text": [
      "0 1 1\n",
      "1 0 1\n",
      "1 1 0\n",
      "1 1 1\n"
     ]
    }
   ],
   "source": [
    "for i1 in [0, 1]:\n",
    "    for i2 in [0, 1]:\n",
    "        for i3 in [0, 1]:\n",
    "            s = i1 * 0.2 + i2 * 0.2 + i3 * 0.3\n",
    "            if (s > (0.2 + 0.2 + 0.3) / 2):\n",
    "                print(i1, i2, i3)"
   ]
  },
  {
   "cell_type": "markdown",
   "metadata": {},
   "source": [
    "**Итоговая вероятность**: $p^2 (3 - 2p)$"
   ]
  },
  {
   "cell_type": "markdown",
   "metadata": {},
   "source": [
    "____________\n",
    "Повторим для второго пункта:"
   ]
  },
  {
   "cell_type": "code",
   "execution_count": 180,
   "metadata": {},
   "outputs": [
    {
     "name": "stdout",
     "output_type": "stream",
     "text": [
      "0 0 0\n",
      "0 1 0\n",
      "1 0 0\n",
      "1 1 0\n"
     ]
    }
   ],
   "source": [
    "for i1 in [0, 1]:  # Верный класс = 1\n",
    "    for i2 in [0, 1]:\n",
    "        for i3 in [0, 1]:\n",
    "            s = i1 * 0.2 + i2 * 0.2 + i3 * 0.5\n",
    "            if (s < (0.2 + 0.2 + 0.5) / 2):\n",
    "                print(i1, i2, i3)"
   ]
  },
  {
   "cell_type": "code",
   "execution_count": 181,
   "metadata": {},
   "outputs": [
    {
     "name": "stdout",
     "output_type": "stream",
     "text": [
      "0 0 1\n",
      "0 1 1\n",
      "1 0 1\n",
      "1 1 1\n"
     ]
    }
   ],
   "source": [
    "for i1 in [0, 1]:  # Верный класс = 0\n",
    "    for i2 in [0, 1]:\n",
    "        for i3 in [0, 1]:\n",
    "            s = i1 * 0.2 + i2 * 0.2 + i3 * 0.5\n",
    "            if (s > (0.2 + 0.2 + 0.5) / 2):\n",
    "                print(i1, i2, i3)"
   ]
  },
  {
   "cell_type": "markdown",
   "metadata": {},
   "source": [
    "Имеем один случай, когда ошиблись все ($p^3$), два случая, когда ошиблись 2 из 3 ($2 p^2(1-p)$), один случай, когда ошибся 1 из 3 ($(1 - p)^2p$). Итого: $p(p^2 + 2 (p(1-p)) + (1-p)^2) = p(2p - p^2 + (1-p)^2) = p(2p - p^2 + 1 - 2p + p^2) = p$"
   ]
  },
  {
   "cell_type": "markdown",
   "metadata": {},
   "source": [
    "**Итоговая вероятность**: $p$ (короче говоря, выборы должны быть без преимущественного права, поскольку, при p < 0.5 (не случайное предсказание) вероятность ошибки в первом случае меньше)"
   ]
  },
  {
   "cell_type": "markdown",
   "metadata": {},
   "source": [
    "### Задача 2 (10% баллов)"
   ]
  },
  {
   "cell_type": "markdown",
   "metadata": {},
   "source": [
    "Рассмотрим задачу бинарной классификации. Будем считать, что все алгоритмы из базового семейства возвращают ответы из отрезка $[0,1]$, которые можно интерпретировать как вероятности принадлежности объектов классу $1$. В качестве функции потерь возьмем отрицательный логарифм правдоподобия:\n",
    "$$L(y,z) = -(y \\log{z}+(1-y)\\log{(1-z)})$$\n",
    "В формуле $y$ - правильный ответ, $z$ - ответ алгоритма. Выпишите формулы для поиска базовых алгоритмов $b_n$ и коэффициентов $\\gamma_n$ в градиентном бустинге."
   ]
  },
  {
   "cell_type": "markdown",
   "metadata": {},
   "source": [
    "**Решение:** Как было сказано на семинаре, нужно просто выписать алгоритм градиентного бустинга специфичный для этой функции"
   ]
  },
  {
   "cell_type": "markdown",
   "metadata": {},
   "source": [
    "$$\n",
    "\\frac{\\partial L(y, z)}{\\partial x} = \\frac{1- y}{1 - z} - \\frac{y}{z}\n",
    "$$"
   ]
  },
  {
   "cell_type": "markdown",
   "metadata": {},
   "source": [
    "Соответственно, если мы подставляем сигмоду для классификации, как говорилось на семинаре, получим:"
   ]
  },
  {
   "cell_type": "markdown",
   "metadata": {},
   "source": [
    "$$\n",
    "\\frac{\\partial L(y, \\sigma(z))}{\\partial x} =\n",
    "(\\frac{1- y}{1 - \\sigma(z)} - \\frac{y}{\\sigma(z)}) \\frac{\\partial \\sigma(z)}{\\partial z} = \n",
    "(\\frac{1- y}{1 - \\sigma(z)} - \\frac{y}{\\sigma(z)}) \\frac{-e^z}{(1 + e^z)^2}\n",
    "$$"
   ]
  },
  {
   "cell_type": "markdown",
   "metadata": {},
   "source": [
    "Итого:\n",
    "\n",
    "**Init**\n",
    "<font color=\"white\">___</font>$w_i = \\frac{1}{N}, \\forall{i} \\in 1..N$\n",
    "\n",
    "**for m in 1..M:**\n",
    "\n",
    "<font color=\"white\">___</font>$\\nabla Q$ = [$\\frac{\\partial L}{\\partial x}(y[i], F_{m-1}(X[i]))$ for i in 1...N]\n",
    "\n",
    "<font color=\"white\">___</font>$b_n$ = Model.fit(X, $\\nabla Q$)\n",
    "\n",
    "<font color=\"white\">___</font>$\\gamma_n$ = ${argmin}_{b \\in R} \\sum\\limits_{i = 1}^{N} L(F_{m-1}(X[i]) + b \\nabla Q_i)$\n",
    "\n",
    "<font color=\"white\">___</font>$F_n = F_{n-1} + \\gamma_n b_n$  # при вызове $F_n(x)$ вызываем $\\sum\\limits_{i=1}^{n}b_n(x)\\gamma_n$"
   ]
  },
  {
   "cell_type": "markdown",
   "metadata": {},
   "source": [
    "# Задача 3 (10% баллов)"
   ]
  },
  {
   "cell_type": "markdown",
   "metadata": {},
   "source": [
    "Известно, что на $n$-й итерации двухклассового метода AdaBoost\n",
    "был выбран базовый классификатор, допускающий ошибку только на одном объекте $x_j$. Найдите нормированный вес $w_j^{(n+1)}$ при этом объекте на следующей итерации."
   ]
  },
  {
   "cell_type": "markdown",
   "metadata": {},
   "source": [
    "**Решение:** Пусть $G_n$ совершает ошибку только на j-ом обьекте. \n",
    "Веса в AdaBoost пересчитываются так:"
   ]
  },
  {
   "cell_type": "markdown",
   "metadata": {},
   "source": [
    "$$\n",
    "err_n = \\frac{\\sum_{i=1}^{N}w_i I(y_i \\neq G_n(x_i))}{\\sum_{i=1}^{N}w_i} \\\\ \n",
    "\\alpha_n = log(\\frac{1- err_n}{err_n}) \\\\\n",
    "w_i := w_i exp(\\alpha_n I(y_i \\neq G_n(x_i)), \\forall i \\in {1..N}\n",
    "$$ "
   ]
  },
  {
   "cell_type": "markdown",
   "metadata": {},
   "source": [
    "Тогда получаем, что:\n",
    "$$\n",
    "err_n = \\frac{w_j}{\\sum_{i=1}^{N}w_i} \\\\\n",
    "\\Rightarrow a_n = log((\\frac{\\sum_{i=1, i \\neq j}^{N}w_i}{\\sum_{i=1}^{N}w_i}) / (\\frac{w_j}{\\sum_{i=1}^{N}w_i})) =\n",
    "log(\\frac{\\sum_{i=1, i \\neq j}^{N}w_i}{w_j}) \\\\\n",
    "$$\n",
    "Далее для всех $i \\neq j : w_i := w_i exp(0) = w_i$. Для $w_j$:\n",
    "$$\n",
    "(w_j^{n+1} \\equiv ) w_j := w_j exp(\\alpha_n) = w_j exp(log(\\frac{1 - err_n}{err_n})) = w_j \\frac{\\sum_{i=1, i \\neq j}^{N}w_i}{w_j} =\n",
    "\\sum_{i=1, i \\neq j}^{N}w_i\n",
    "$$\n"
   ]
  },
  {
   "cell_type": "markdown",
   "metadata": {},
   "source": [
    "Соответственно, если отномировать веса, то получим:\n",
    "$$1 - \\frac{w_j}{\\sum {w_i}}$$"
   ]
  },
  {
   "cell_type": "markdown",
   "metadata": {},
   "source": [
    "## Часть 2. Random Forest"
   ]
  },
  {
   "cell_type": "markdown",
   "metadata": {},
   "source": [
    "##### 70% баллов за задание, оценочное время выполнения 3 часа"
   ]
  },
  {
   "cell_type": "markdown",
   "metadata": {},
   "source": [
    "### Реализация (40%)"
   ]
  },
  {
   "cell_type": "markdown",
   "metadata": {},
   "source": [
    "**Необходимо реализовать класс `RandomForest`** (для решения задачи классификации)\n",
    "\n",
    "**Спецификация:**\n",
    "- класс наследуется от `sklearn.BaseEstimator`;\n",
    "- конструктор содержит следующие параметры: \n",
    "    - `num_trees` - количество деревьев в лесе;\n",
    "    - `max_depth` - максимальная глубина дерева (по умолчанию - `numpy.inf`); \n",
    "    - `max_features` - количество признаков, принимаемое к рассмотрению при разбиении (аналогичный параметр есть в sklearn имплементации). Параметр может принимать значения:\n",
    "        - int - тогда рассматриваем max_features признаков при каждом разбиении;\n",
    "        - float - max_features обозначает процент, int(max_features * n_features) признаков рассматривается при каждом разбиении;\n",
    "        - “sqrt” - max_features=sqrt(n_features);\n",
    "        - “log2” - max_features=log2(n_features);\n",
    "        - None - max_features=n_features;\n",
    "    - `criterion` - критерий разбиения (для классификации - 'gini' или 'entropy', по умолчанию - 'gini'); функции с подсчетом энтропийного и критерия Джини можно взять из предыдущего дз;\n",
    "    \n",
    "- класс имеет методы `fit` и `predict`;\n",
    "- метод `fit` принимает матрицу объектов `X` и вектор ответов `y` (объекты `numpy.ndarray`) и возвращает экземпляр класса\n",
    "    `RandomForest`, представляющий собой Random Forest, обученный по выборке `(X, y)` с учётом заданных в конструкторе параметров; \n",
    "- метод `predict` принимает матрицу объектов и возвращает вектор предсказанных ответов;"
   ]
  },
  {
   "cell_type": "code",
   "execution_count": 5,
   "metadata": {},
   "outputs": [],
   "source": [
    "def bagging(X, y, size):\n",
    "    \"\"\" Gives (size) bootstapped samples from (X, y)\"\"\"\n",
    "    indexes = np.random.choice(np.arange(X.shape[0]), size=(size, X.shape[0]))\n",
    "    return X[indexes, :], y[indexes]"
   ]
  },
  {
   "cell_type": "code",
   "execution_count": 41,
   "metadata": {},
   "outputs": [],
   "source": [
    "def lazy_rsm(feature_cnt, cnt):\n",
    "    indexes = np.random.choice(np.arange(feature_cnt), size=cnt, replace=False)\n",
    "    return indexes"
   ]
  },
  {
   "cell_type": "code",
   "execution_count": 47,
   "metadata": {},
   "outputs": [
    {
     "data": {
      "text/plain": [
       "array([2, 1])"
      ]
     },
     "execution_count": 47,
     "metadata": {},
     "output_type": "execute_result"
    }
   ],
   "source": [
    "X = np.array([\n",
    "    [1, 2, 3],\n",
    "    [4, 5, 6],\n",
    "    [7, 8, 9],\n",
    "])\n",
    "\n",
    "y = np.array([1, 2, 3])\n",
    "\n",
    "lazy_rsm(X.shape[1], 2)"
   ]
  },
  {
   "cell_type": "code",
   "execution_count": 143,
   "metadata": {},
   "outputs": [],
   "source": [
    "def get_features_count(max_features, n):\n",
    "    if type(max_features) == int:\n",
    "        return max_features\n",
    "    elif  type(max_features) == float:\n",
    "        return int(max_features * n)\n",
    "    elif max_features == \"sqrt\":\n",
    "        return int(n ** 0.5)\n",
    "    elif max_features == \"log2\":\n",
    "        return int(np.log2(n))\n",
    "    elif max_features is None:\n",
    "        return n\n",
    "    else:\n",
    "        raise RuntimeError"
   ]
  },
  {
   "cell_type": "code",
   "execution_count": 49,
   "metadata": {},
   "outputs": [
    {
     "data": {
      "text/plain": [
       "(array([[[1, 2, 3],\n",
       "         [7, 8, 9],\n",
       "         [4, 5, 6]],\n",
       " \n",
       "        [[1, 2, 3],\n",
       "         [7, 8, 9],\n",
       "         [1, 2, 3]],\n",
       " \n",
       "        [[7, 8, 9],\n",
       "         [1, 2, 3],\n",
       "         [1, 2, 3]],\n",
       " \n",
       "        [[4, 5, 6],\n",
       "         [4, 5, 6],\n",
       "         [4, 5, 6]],\n",
       " \n",
       "        [[4, 5, 6],\n",
       "         [7, 8, 9],\n",
       "         [1, 2, 3]]]), array([[1, 3, 2],\n",
       "        [1, 3, 1],\n",
       "        [3, 1, 1],\n",
       "        [2, 2, 2],\n",
       "        [2, 3, 1]]))"
      ]
     },
     "execution_count": 49,
     "metadata": {},
     "output_type": "execute_result"
    }
   ],
   "source": [
    "bagging(X, y, 5)"
   ]
  },
  {
   "cell_type": "code",
   "execution_count": 166,
   "metadata": {},
   "outputs": [],
   "source": [
    "class RandomForest(sklearn.base.BaseEstimator, sklearn.base.ClassifierMixin):\n",
    "    def __init__(self, num_trees, max_depth = np.inf, max_features = None, criterion = \"gini\", lazy_rsm = False):\n",
    "        self.num_trees = num_trees\n",
    "        self.max_depth = max_depth\n",
    "        self.max_features = max_features\n",
    "        self.criterion = criterion\n",
    "        self.trees = []\n",
    "        \n",
    "        self.lazy_rsm = lazy_rsm \n",
    "        self.trees_features = []\n",
    "    \n",
    "    def fit(self, X_train, y_train):\n",
    "        '''\n",
    "        Create trees here, using bagging and RSM.\n",
    "        '''\n",
    "        self.trees = []\n",
    "        self.trees_feature_indexes = []  # just for lazy RSM\n",
    "            \n",
    "        X_sampled, y_sampled = bagging(X_train, y_train, self.num_trees)\n",
    "        \n",
    "        for i in range(self.num_trees):\n",
    "            tree = DecisionTreeClassifier(criterion=self.criterion,\n",
    "                                          max_depth=self.max_depth if not np.isinf(self.max_depth) else None,\n",
    "                                          max_features=self.max_features if not self.lazy_rsm else None)\n",
    "            if self.lazy_rsm:\n",
    "                features = lazy_rsm(X_train.shape[1], get_features_count(self.max_features, X.shape[1]))\n",
    "                tree.fit(X_sampled[i][:, features], y_sampled[i])\n",
    "                self.trees_features.append(features)\n",
    "            else:\n",
    "                tree.fit(X_sampled[i], y_sampled[i])\n",
    "                \n",
    "            self.trees.append(tree)\n",
    "        return self\n",
    "    \n",
    "    def predict(self, X_test):\n",
    "        '''\n",
    "        Predict the label here using your grown trees.\n",
    "        '''\n",
    "        # y_pred = np.empty(X_test.shape[0])  # <--- зачем\n",
    "        # print(y_pred.dtype) # float64, будут проблемы\n",
    "        ensemble_prediciton = []\n",
    "        for i in range(self.num_trees):\n",
    "            if self.lazy_rsm:\n",
    "                features = self.trees_features[i]\n",
    "                ensemble_prediciton.append(self.trees[i].predict(X_test[:, features]))\n",
    "            else:\n",
    "                ensemble_prediciton.append(self.trees[i].predict(X_test))\n",
    "        ensemble_prediciton = np.array(ensemble_prediciton)\n",
    "        # print(ensemble_prediciton)\n",
    "        \n",
    "        predictions = []\n",
    "        for i in range(X_test.shape[0]):\n",
    "            uniqs, cnts = np.unique(ensemble_prediciton[:, i], return_counts=True)\n",
    "            # print(uniqs, cnts)\n",
    "            predictions.append(uniqs[cnts.argmax()])\n",
    "            # print(uniqs[cnts.argmax()])\n",
    "        return predictions"
   ]
  },
  {
   "cell_type": "code",
   "execution_count": 154,
   "metadata": {},
   "outputs": [
    {
     "data": {
      "text/plain": [
       "RandomForest(criterion='gini', lazy_rsm=False, max_depth=inf,\n",
       "       max_features=None, num_trees=50)"
      ]
     },
     "execution_count": 154,
     "metadata": {},
     "output_type": "execute_result"
    }
   ],
   "source": [
    "rf = RandomForest(50)\n",
    "rf.fit(X, y)"
   ]
  },
  {
   "cell_type": "code",
   "execution_count": 155,
   "metadata": {},
   "outputs": [
    {
     "data": {
      "text/plain": [
       "[1, 2, 3]"
      ]
     },
     "execution_count": 155,
     "metadata": {},
     "output_type": "execute_result"
    }
   ],
   "source": [
    "rf.predict(X)"
   ]
  },
  {
   "cell_type": "markdown",
   "metadata": {},
   "source": [
    "### Тестирование (15%)"
   ]
  },
  {
   "cell_type": "markdown",
   "metadata": {},
   "source": [
    "Загрузите датасет Wine Data Set (https://archive.ics.uci.edu/ml/datasets/wine). Разделите выборку на обучающую и тестовую с помощью метода `train_test_split`, используйте значения параметров `test_size=0.2`, `random_state=42`. Попробуйте обучить Random Forest на предложенном датасете"
   ]
  },
  {
   "cell_type": "code",
   "execution_count": 1,
   "metadata": {},
   "outputs": [
    {
     "name": "stdout",
     "output_type": "stream",
     "text": [
      "--2018-03-18 16:24:24--  https://archive.ics.uci.edu/ml/machine-learning-databases/wine/wine.data\n",
      "Распознаётся archive.ics.uci.edu (archive.ics.uci.edu)… 128.195.10.249\n",
      "Подключение к archive.ics.uci.edu (archive.ics.uci.edu)|128.195.10.249|:443... соединение установлено.\n",
      "HTTP-запрос отправлен. Ожидание ответа… 200 OK\n",
      "Длина: 10782 (11K) [text/plain]\n",
      "Сохранение в: «wine.data»\n",
      "\n",
      "wine.data           100%[===================>]  10,53K  --.-KB/s    за 0,002s  \n",
      "\n",
      "2018-03-18 16:24:26 (5,09 MB/s) - «wine.data» сохранён [10782/10782]\n",
      "\n"
     ]
    }
   ],
   "source": [
    "!wget https://archive.ics.uci.edu/ml/machine-learning-databases/wine/wine.data"
   ]
  },
  {
   "cell_type": "code",
   "execution_count": 10,
   "metadata": {},
   "outputs": [
    {
     "name": "stdout",
     "output_type": "stream",
     "text": [
      "1,14.23,1.71,2.43,15.6,127,2.8,3.06,.28,2.29,5.64,1.04,3.92,1065\r\n",
      "1,13.2,1.78,2.14,11.2,100,2.65,2.76,.26,1.28,4.38,1.05,3.4,1050\r\n",
      "1,13.16,2.36,2.67,18.6,101,2.8,3.24,.3,2.81,5.68,1.03,3.17,1185\r\n"
     ]
    }
   ],
   "source": [
    "!cat wine.data | head -n 3"
   ]
  },
  {
   "cell_type": "code",
   "execution_count": 11,
   "metadata": {},
   "outputs": [
    {
     "data": {
      "text/html": [
       "<div>\n",
       "<style scoped>\n",
       "    .dataframe tbody tr th:only-of-type {\n",
       "        vertical-align: middle;\n",
       "    }\n",
       "\n",
       "    .dataframe tbody tr th {\n",
       "        vertical-align: top;\n",
       "    }\n",
       "\n",
       "    .dataframe thead th {\n",
       "        text-align: right;\n",
       "    }\n",
       "</style>\n",
       "<table border=\"1\" class=\"dataframe\">\n",
       "  <thead>\n",
       "    <tr style=\"text-align: right;\">\n",
       "      <th></th>\n",
       "      <th>Wine Type</th>\n",
       "      <th>Alcohol</th>\n",
       "      <th>Malic acid</th>\n",
       "      <th>Ash</th>\n",
       "      <th>Alcalinity of ash</th>\n",
       "      <th>Magnesium</th>\n",
       "      <th>Total phenols</th>\n",
       "      <th>Flavanoids</th>\n",
       "      <th>Nonflavanoid phenols</th>\n",
       "      <th>Proanthocyanins</th>\n",
       "      <th>Color intensity</th>\n",
       "      <th>Hue</th>\n",
       "      <th>OD280/OD315 of diluted wines</th>\n",
       "      <th>Proline</th>\n",
       "    </tr>\n",
       "  </thead>\n",
       "  <tbody>\n",
       "    <tr>\n",
       "      <th>0</th>\n",
       "      <td>1</td>\n",
       "      <td>14.23</td>\n",
       "      <td>1.71</td>\n",
       "      <td>2.43</td>\n",
       "      <td>15.6</td>\n",
       "      <td>127</td>\n",
       "      <td>2.80</td>\n",
       "      <td>3.06</td>\n",
       "      <td>0.28</td>\n",
       "      <td>2.29</td>\n",
       "      <td>5.64</td>\n",
       "      <td>1.04</td>\n",
       "      <td>3.92</td>\n",
       "      <td>1065</td>\n",
       "    </tr>\n",
       "    <tr>\n",
       "      <th>1</th>\n",
       "      <td>1</td>\n",
       "      <td>13.20</td>\n",
       "      <td>1.78</td>\n",
       "      <td>2.14</td>\n",
       "      <td>11.2</td>\n",
       "      <td>100</td>\n",
       "      <td>2.65</td>\n",
       "      <td>2.76</td>\n",
       "      <td>0.26</td>\n",
       "      <td>1.28</td>\n",
       "      <td>4.38</td>\n",
       "      <td>1.05</td>\n",
       "      <td>3.40</td>\n",
       "      <td>1050</td>\n",
       "    </tr>\n",
       "    <tr>\n",
       "      <th>2</th>\n",
       "      <td>1</td>\n",
       "      <td>13.16</td>\n",
       "      <td>2.36</td>\n",
       "      <td>2.67</td>\n",
       "      <td>18.6</td>\n",
       "      <td>101</td>\n",
       "      <td>2.80</td>\n",
       "      <td>3.24</td>\n",
       "      <td>0.30</td>\n",
       "      <td>2.81</td>\n",
       "      <td>5.68</td>\n",
       "      <td>1.03</td>\n",
       "      <td>3.17</td>\n",
       "      <td>1185</td>\n",
       "    </tr>\n",
       "    <tr>\n",
       "      <th>3</th>\n",
       "      <td>1</td>\n",
       "      <td>14.37</td>\n",
       "      <td>1.95</td>\n",
       "      <td>2.50</td>\n",
       "      <td>16.8</td>\n",
       "      <td>113</td>\n",
       "      <td>3.85</td>\n",
       "      <td>3.49</td>\n",
       "      <td>0.24</td>\n",
       "      <td>2.18</td>\n",
       "      <td>7.80</td>\n",
       "      <td>0.86</td>\n",
       "      <td>3.45</td>\n",
       "      <td>1480</td>\n",
       "    </tr>\n",
       "    <tr>\n",
       "      <th>4</th>\n",
       "      <td>1</td>\n",
       "      <td>13.24</td>\n",
       "      <td>2.59</td>\n",
       "      <td>2.87</td>\n",
       "      <td>21.0</td>\n",
       "      <td>118</td>\n",
       "      <td>2.80</td>\n",
       "      <td>2.69</td>\n",
       "      <td>0.39</td>\n",
       "      <td>1.82</td>\n",
       "      <td>4.32</td>\n",
       "      <td>1.04</td>\n",
       "      <td>2.93</td>\n",
       "      <td>735</td>\n",
       "    </tr>\n",
       "  </tbody>\n",
       "</table>\n",
       "</div>"
      ],
      "text/plain": [
       "   Wine Type  Alcohol  Malic acid   Ash  Alcalinity of ash  Magnesium  \\\n",
       "0          1    14.23        1.71  2.43               15.6        127   \n",
       "1          1    13.20        1.78  2.14               11.2        100   \n",
       "2          1    13.16        2.36  2.67               18.6        101   \n",
       "3          1    14.37        1.95  2.50               16.8        113   \n",
       "4          1    13.24        2.59  2.87               21.0        118   \n",
       "\n",
       "   Total phenols  Flavanoids  Nonflavanoid phenols  Proanthocyanins  \\\n",
       "0           2.80        3.06                  0.28             2.29   \n",
       "1           2.65        2.76                  0.26             1.28   \n",
       "2           2.80        3.24                  0.30             2.81   \n",
       "3           3.85        3.49                  0.24             2.18   \n",
       "4           2.80        2.69                  0.39             1.82   \n",
       "\n",
       "   Color intensity   Hue  OD280/OD315 of diluted wines  Proline  \n",
       "0             5.64  1.04                          3.92     1065  \n",
       "1             4.38  1.05                          3.40     1050  \n",
       "2             5.68  1.03                          3.17     1185  \n",
       "3             7.80  0.86                          3.45     1480  \n",
       "4             4.32  1.04                          2.93      735  "
      ]
     },
     "execution_count": 11,
     "metadata": {},
     "output_type": "execute_result"
    }
   ],
   "source": [
    "header = [\n",
    "    \"Wine Type\",\n",
    "    \"Alcohol\",\n",
    "    \"Malic acid\",\n",
    "    \"Ash\",\n",
    "    \"Alcalinity of ash\",\n",
    "    \"Magnesium\",\n",
    "    \"Total phenols\",\n",
    "    \"Flavanoids\",\n",
    "    \"Nonflavanoid phenols\",\n",
    "    \"Proanthocyanins\",\n",
    "    \"Color intensity\",\n",
    "    \"Hue\",\n",
    "    \"OD280/OD315 of diluted wines\",\n",
    "    \"Proline\",\n",
    "]\n",
    "df = pd.read_csv(\"wine.data\", header=None)\n",
    "df.columns = header\n",
    "df.head()"
   ]
  },
  {
   "cell_type": "code",
   "execution_count": 12,
   "metadata": {},
   "outputs": [
    {
     "data": {
      "text/plain": [
       "((142, 13), (36, 13), (142,), (36,))"
      ]
     },
     "execution_count": 12,
     "metadata": {},
     "output_type": "execute_result"
    }
   ],
   "source": [
    "X = df[header[1:]].values\n",
    "y = df[header[0]].values\n",
    "X_train, X_test, y_train, y_test = train_test_split(X, y, test_size=0.2, random_state=42)\n",
    "X_train.shape, X_test.shape, y_train.shape, y_test.shape"
   ]
  },
  {
   "cell_type": "code",
   "execution_count": 13,
   "metadata": {},
   "outputs": [
    {
     "data": {
      "text/plain": [
       "0.9722222222222222"
      ]
     },
     "execution_count": 13,
     "metadata": {},
     "output_type": "execute_result"
    }
   ],
   "source": [
    "rf = RandomForest(25)\n",
    "rf.fit(X_train, y_train)\n",
    "accuracy_score(rf.predict(X_test), y_test)"
   ]
  },
  {
   "cell_type": "markdown",
   "metadata": {},
   "source": [
    "Покажите, как менялись значения критерия качества `accuracy` при увеличении параметра num_trees. Видны ли следы переобучения?"
   ]
  },
  {
   "cell_type": "markdown",
   "metadata": {},
   "source": [
    "**Комментарий:** лес у нас случайный, поэтому будем замерять среднее качество на 100 запусках."
   ]
  },
  {
   "cell_type": "markdown",
   "metadata": {},
   "source": [
    "Сравните качество работы вашей реализации RandomForest и реализации из sklearn."
   ]
  },
  {
   "cell_type": "markdown",
   "metadata": {},
   "source": [
    "**Комментарий:** построим один общий график"
   ]
  },
  {
   "cell_type": "code",
   "execution_count": 167,
   "metadata": {},
   "outputs": [],
   "source": [
    "def mean_accuracy_score(num_trees, model, runs=10, max_features=None, lazy_rsm=None):\n",
    "    results = np.zeros(runs)\n",
    "    for i in range(runs):\n",
    "        rf = None\n",
    "        if lazy_rsm is None:\n",
    "            rf = model(num_trees, max_features=max_features)\n",
    "        else:\n",
    "            rf = model(num_trees, max_features=max_features, lazy_rsm=lazy_rsm)\n",
    "        rf.fit(X_train, y_train)\n",
    "        results[i] = accuracy_score(rf.predict(X_test), y_test)\n",
    "    return results.mean()"
   ]
  },
  {
   "cell_type": "code",
   "execution_count": 168,
   "metadata": {},
   "outputs": [],
   "source": [
    "def plot_comparsion(max_features, grid_length=100, runs=100, lazy_rsm=False, run_sklearn=True):\n",
    "    grid = np.arange(grid_length) + 1\n",
    "    my_rf = np.zeros_like(grid).astype(float)\n",
    "    \n",
    "    for n in tqdm.tqdm_notebook(grid):\n",
    "        my_rf[n - 1] = mean_accuracy_score(n, RandomForest,\n",
    "                                           runs=runs,\n",
    "                                           max_features=max_features, lazy_rsm=lazy_rsm)\n",
    "    plt.plot(grid, my_rf, label=\"Our RF, max_features = {}, lazy_rsm = {} \".format(max_features, lazy_rsm))\n",
    "    \n",
    "    if run_sklearn:\n",
    "        sklearn_rf = np.zeros_like(grid).astype(float)\n",
    "        for n in tqdm.tqdm_notebook(grid):  # хотим измерять время отдельно\n",
    "            sklearn_rf[n - 1] = mean_accuracy_score(n, RandomForestClassifier, runs=runs, max_features=max_features)\n",
    "        plt.plot(grid, sklearn_rf, label=\"Sklearn RF, max_features = {}, lazy_rsm = {} \".format(max_features, lazy_rsm))\n",
    "    plt.legend()\n",
    "    plt.ylim((1.0, my_rf.min()))\n",
    "    "
   ]
  },
  {
   "cell_type": "code",
   "execution_count": 169,
   "metadata": {},
   "outputs": [
    {
     "data": {
      "application/vnd.jupyter.widget-view+json": {
       "model_id": "aa1171eaf323446db834c23fa1fae791",
       "version_major": 2,
       "version_minor": 0
      },
      "text/html": [
       "<p>Failed to display Jupyter Widget of type <code>HBox</code>.</p>\n",
       "<p>\n",
       "  If you're reading this message in the Jupyter Notebook or JupyterLab Notebook, it may mean\n",
       "  that the widgets JavaScript is still loading. If this message persists, it\n",
       "  likely means that the widgets JavaScript library is either not installed or\n",
       "  not enabled. See the <a href=\"https://ipywidgets.readthedocs.io/en/stable/user_install.html\">Jupyter\n",
       "  Widgets Documentation</a> for setup instructions.\n",
       "</p>\n",
       "<p>\n",
       "  If you're reading this message in another frontend (for example, a static\n",
       "  rendering on GitHub or <a href=\"https://nbviewer.jupyter.org/\">NBViewer</a>),\n",
       "  it may mean that your frontend doesn't currently support widgets.\n",
       "</p>\n"
      ],
      "text/plain": [
       "HBox(children=(IntProgress(value=0), HTML(value='')))"
      ]
     },
     "metadata": {},
     "output_type": "display_data"
    },
    {
     "name": "stdout",
     "output_type": "stream",
     "text": [
      "\n"
     ]
    },
    {
     "name": "stderr",
     "output_type": "stream",
     "text": [
      "Exception in thread Thread-62:\n",
      "Traceback (most recent call last):\n",
      "  File \"/home/shevkunov/anaconda3/lib/python3.6/threading.py\", line 916, in _bootstrap_inner\n",
      "    self.run()\n",
      "  File \"/home/shevkunov/anaconda3/lib/python3.6/site-packages/tqdm/_tqdm.py\", line 144, in run\n",
      "    for instance in self.tqdm_cls._instances:\n",
      "  File \"/home/shevkunov/anaconda3/lib/python3.6/_weakrefset.py\", line 60, in __iter__\n",
      "    for itemref in self.data:\n",
      "RuntimeError: Set changed size during iteration\n",
      "\n"
     ]
    },
    {
     "name": "stdout",
     "output_type": "stream",
     "text": [
      "\n"
     ]
    },
    {
     "data": {
      "application/vnd.jupyter.widget-view+json": {
       "model_id": "034c697dcb4440b3811cdd0f06fa62d7",
       "version_major": 2,
       "version_minor": 0
      },
      "text/html": [
       "<p>Failed to display Jupyter Widget of type <code>HBox</code>.</p>\n",
       "<p>\n",
       "  If you're reading this message in the Jupyter Notebook or JupyterLab Notebook, it may mean\n",
       "  that the widgets JavaScript is still loading. If this message persists, it\n",
       "  likely means that the widgets JavaScript library is either not installed or\n",
       "  not enabled. See the <a href=\"https://ipywidgets.readthedocs.io/en/stable/user_install.html\">Jupyter\n",
       "  Widgets Documentation</a> for setup instructions.\n",
       "</p>\n",
       "<p>\n",
       "  If you're reading this message in another frontend (for example, a static\n",
       "  rendering on GitHub or <a href=\"https://nbviewer.jupyter.org/\">NBViewer</a>),\n",
       "  it may mean that your frontend doesn't currently support widgets.\n",
       "</p>\n"
      ],
      "text/plain": [
       "HBox(children=(IntProgress(value=0), HTML(value='')))"
      ]
     },
     "metadata": {},
     "output_type": "display_data"
    },
    {
     "name": "stdout",
     "output_type": "stream",
     "text": [
      "\n"
     ]
    },
    {
     "data": {
      "application/vnd.jupyter.widget-view+json": {
       "model_id": "7d1935ba9aeb42a3bc64fbed209567d0",
       "version_major": 2,
       "version_minor": 0
      },
      "text/html": [
       "<p>Failed to display Jupyter Widget of type <code>HBox</code>.</p>\n",
       "<p>\n",
       "  If you're reading this message in the Jupyter Notebook or JupyterLab Notebook, it may mean\n",
       "  that the widgets JavaScript is still loading. If this message persists, it\n",
       "  likely means that the widgets JavaScript library is either not installed or\n",
       "  not enabled. See the <a href=\"https://ipywidgets.readthedocs.io/en/stable/user_install.html\">Jupyter\n",
       "  Widgets Documentation</a> for setup instructions.\n",
       "</p>\n",
       "<p>\n",
       "  If you're reading this message in another frontend (for example, a static\n",
       "  rendering on GitHub or <a href=\"https://nbviewer.jupyter.org/\">NBViewer</a>),\n",
       "  it may mean that your frontend doesn't currently support widgets.\n",
       "</p>\n"
      ],
      "text/plain": [
       "HBox(children=(IntProgress(value=0), HTML(value='')))"
      ]
     },
     "metadata": {},
     "output_type": "display_data"
    },
    {
     "name": "stdout",
     "output_type": "stream",
     "text": [
      "\n"
     ]
    },
    {
     "data": {
      "application/vnd.jupyter.widget-view+json": {
       "model_id": "2a1f64c75a8947b3bf9667b804918413",
       "version_major": 2,
       "version_minor": 0
      },
      "text/html": [
       "<p>Failed to display Jupyter Widget of type <code>HBox</code>.</p>\n",
       "<p>\n",
       "  If you're reading this message in the Jupyter Notebook or JupyterLab Notebook, it may mean\n",
       "  that the widgets JavaScript is still loading. If this message persists, it\n",
       "  likely means that the widgets JavaScript library is either not installed or\n",
       "  not enabled. See the <a href=\"https://ipywidgets.readthedocs.io/en/stable/user_install.html\">Jupyter\n",
       "  Widgets Documentation</a> for setup instructions.\n",
       "</p>\n",
       "<p>\n",
       "  If you're reading this message in another frontend (for example, a static\n",
       "  rendering on GitHub or <a href=\"https://nbviewer.jupyter.org/\">NBViewer</a>),\n",
       "  it may mean that your frontend doesn't currently support widgets.\n",
       "</p>\n"
      ],
      "text/plain": [
       "HBox(children=(IntProgress(value=0), HTML(value='')))"
      ]
     },
     "metadata": {},
     "output_type": "display_data"
    },
    {
     "name": "stdout",
     "output_type": "stream",
     "text": [
      "\n"
     ]
    },
    {
     "data": {
      "image/png": "[encoded data removed]",
      "text/plain": [
       "<matplotlib.figure.Figure at 0x7f181a1a1d30>"
      ]
     },
     "metadata": {},
     "output_type": "display_data"
    }
   ],
   "source": [
    "plt.figure(figsize=(14, 10))\n",
    "grid_length = 100\n",
    "plot_comparsion(None, grid_length)\n",
    "plot_comparsion(\"sqrt\", grid_length)\n",
    "plt.grid()\n",
    "plt.show()"
   ]
  },
  {
   "cell_type": "markdown",
   "metadata": {},
   "source": [
    "**Комментарий:** Следов переобучения не видно, более того, алгоритм работает по качеству также, как и лес из sklearn, а по времени даже быстрее."
   ]
  },
  {
   "cell_type": "markdown",
   "metadata": {},
   "source": [
    "### Модификация Random Forest (15%)"
   ]
  },
  {
   "cell_type": "markdown",
   "metadata": {},
   "source": [
    "Измените свою реализацию `RandomForest` так, чтобы случайное подмножество признаков выбиралось не в каждом сплите, а перед построением всего дерева. Сравните результат работы с обычным RandomForest."
   ]
  },
  {
   "cell_type": "code",
   "execution_count": 170,
   "metadata": {},
   "outputs": [
    {
     "data": {
      "text/plain": [
       "1.0"
      ]
     },
     "execution_count": 170,
     "metadata": {},
     "output_type": "execute_result"
    }
   ],
   "source": [
    "rf = RandomForest(50, max_features=\"sqrt\")\n",
    "rf.fit(X_train, y_train)\n",
    "accuracy_score(rf.predict(X_test), y_test)"
   ]
  },
  {
   "cell_type": "code",
   "execution_count": 171,
   "metadata": {},
   "outputs": [
    {
     "data": {
      "text/plain": [
       "0.9722222222222222"
      ]
     },
     "execution_count": 171,
     "metadata": {},
     "output_type": "execute_result"
    }
   ],
   "source": [
    "rf = RandomForest(50, lazy_rsm=True, max_features=\"sqrt\")\n",
    "rf.fit(X_train, y_train)\n",
    "accuracy_score(rf.predict(X_test), y_test)"
   ]
  },
  {
   "cell_type": "code",
   "execution_count": 182,
   "metadata": {},
   "outputs": [
    {
     "data": {
      "application/vnd.jupyter.widget-view+json": {
       "model_id": "06bc3d4e799d491d9c1d5645c73b2c17",
       "version_major": 2,
       "version_minor": 0
      },
      "text/html": [
       "<p>Failed to display Jupyter Widget of type <code>HBox</code>.</p>\n",
       "<p>\n",
       "  If you're reading this message in the Jupyter Notebook or JupyterLab Notebook, it may mean\n",
       "  that the widgets JavaScript is still loading. If this message persists, it\n",
       "  likely means that the widgets JavaScript library is either not installed or\n",
       "  not enabled. See the <a href=\"https://ipywidgets.readthedocs.io/en/stable/user_install.html\">Jupyter\n",
       "  Widgets Documentation</a> for setup instructions.\n",
       "</p>\n",
       "<p>\n",
       "  If you're reading this message in another frontend (for example, a static\n",
       "  rendering on GitHub or <a href=\"https://nbviewer.jupyter.org/\">NBViewer</a>),\n",
       "  it may mean that your frontend doesn't currently support widgets.\n",
       "</p>\n"
      ],
      "text/plain": [
       "HBox(children=(IntProgress(value=0, max=200), HTML(value='')))"
      ]
     },
     "metadata": {},
     "output_type": "display_data"
    },
    {
     "name": "stdout",
     "output_type": "stream",
     "text": [
      "\n"
     ]
    },
    {
     "data": {
      "application/vnd.jupyter.widget-view+json": {
       "model_id": "0d0a793423bf4b37bd9fccd288c90dd2",
       "version_major": 2,
       "version_minor": 0
      },
      "text/html": [
       "<p>Failed to display Jupyter Widget of type <code>HBox</code>.</p>\n",
       "<p>\n",
       "  If you're reading this message in the Jupyter Notebook or JupyterLab Notebook, it may mean\n",
       "  that the widgets JavaScript is still loading. If this message persists, it\n",
       "  likely means that the widgets JavaScript library is either not installed or\n",
       "  not enabled. See the <a href=\"https://ipywidgets.readthedocs.io/en/stable/user_install.html\">Jupyter\n",
       "  Widgets Documentation</a> for setup instructions.\n",
       "</p>\n",
       "<p>\n",
       "  If you're reading this message in another frontend (for example, a static\n",
       "  rendering on GitHub or <a href=\"https://nbviewer.jupyter.org/\">NBViewer</a>),\n",
       "  it may mean that your frontend doesn't currently support widgets.\n",
       "</p>\n"
      ],
      "text/plain": [
       "HBox(children=(IntProgress(value=0, max=200), HTML(value='')))"
      ]
     },
     "metadata": {},
     "output_type": "display_data"
    },
    {
     "name": "stdout",
     "output_type": "stream",
     "text": [
      "\n"
     ]
    },
    {
     "data": {
      "application/vnd.jupyter.widget-view+json": {
       "model_id": "a5192b9530d143afb0411c01da73335e",
       "version_major": 2,
       "version_minor": 0
      },
      "text/html": [
       "<p>Failed to display Jupyter Widget of type <code>HBox</code>.</p>\n",
       "<p>\n",
       "  If you're reading this message in the Jupyter Notebook or JupyterLab Notebook, it may mean\n",
       "  that the widgets JavaScript is still loading. If this message persists, it\n",
       "  likely means that the widgets JavaScript library is either not installed or\n",
       "  not enabled. See the <a href=\"https://ipywidgets.readthedocs.io/en/stable/user_install.html\">Jupyter\n",
       "  Widgets Documentation</a> for setup instructions.\n",
       "</p>\n",
       "<p>\n",
       "  If you're reading this message in another frontend (for example, a static\n",
       "  rendering on GitHub or <a href=\"https://nbviewer.jupyter.org/\">NBViewer</a>),\n",
       "  it may mean that your frontend doesn't currently support widgets.\n",
       "</p>\n"
      ],
      "text/plain": [
       "HBox(children=(IntProgress(value=0, max=200), HTML(value='')))"
      ]
     },
     "metadata": {},
     "output_type": "display_data"
    },
    {
     "name": "stdout",
     "output_type": "stream",
     "text": [
      "\n"
     ]
    },
    {
     "data": {
      "application/vnd.jupyter.widget-view+json": {
       "model_id": "a18285bb95ea47538f414e305ecd0575",
       "version_major": 2,
       "version_minor": 0
      },
      "text/html": [
       "<p>Failed to display Jupyter Widget of type <code>HBox</code>.</p>\n",
       "<p>\n",
       "  If you're reading this message in the Jupyter Notebook or JupyterLab Notebook, it may mean\n",
       "  that the widgets JavaScript is still loading. If this message persists, it\n",
       "  likely means that the widgets JavaScript library is either not installed or\n",
       "  not enabled. See the <a href=\"https://ipywidgets.readthedocs.io/en/stable/user_install.html\">Jupyter\n",
       "  Widgets Documentation</a> for setup instructions.\n",
       "</p>\n",
       "<p>\n",
       "  If you're reading this message in another frontend (for example, a static\n",
       "  rendering on GitHub or <a href=\"https://nbviewer.jupyter.org/\">NBViewer</a>),\n",
       "  it may mean that your frontend doesn't currently support widgets.\n",
       "</p>\n"
      ],
      "text/plain": [
       "HBox(children=(IntProgress(value=0, max=200), HTML(value='')))"
      ]
     },
     "metadata": {},
     "output_type": "display_data"
    },
    {
     "name": "stdout",
     "output_type": "stream",
     "text": [
      "\n"
     ]
    },
    {
     "data": {
      "image/png": "[encoded data removed]",
      "text/plain": [
       "<matplotlib.figure.Figure at 0x7f181a4129b0>"
      ]
     },
     "metadata": {},
     "output_type": "display_data"
    }
   ],
   "source": [
    "plt.figure(figsize=(14, 10))\n",
    "grid_length = 200\n",
    "runs = 100\n",
    "plot_comparsion(\"sqrt\", grid_length, runs=runs, lazy_rsm=False, run_sklearn=False)\n",
    "plot_comparsion(\"sqrt\", grid_length, runs=runs, lazy_rsm=True, run_sklearn=False)\n",
    "plot_comparsion(\"log2\", grid_length, runs=runs, lazy_rsm=False, run_sklearn=False)\n",
    "plot_comparsion(\"log2\", grid_length, runs=runs, lazy_rsm=True, run_sklearn=False)\n",
    "plt.grid()\n",
    "plt.show()"
   ]
  },
  {
   "cell_type": "markdown",
   "metadata": {},
   "source": [
    "**Комментарий:** Качество существенно упало, что было ожидаемо. При этом похоже, что упала не скорость сходимости, а именно качество."
   ]
  }
 ],
 "metadata": {
  "kernelspec": {
   "display_name": "Python 3",
   "language": "python",
   "name": "python3"
  },
  "language_info": {
   "codemirror_mode": {
    "name": "ipython",
    "version": 3
   },
   "file_extension": ".py",
   "mimetype": "text/x-python",
   "name": "python",
   "nbconvert_exporter": "python",
   "pygments_lexer": "ipython3",
   "version": "3.6.4"
  }
 },
 "nbformat": 4,
 "nbformat_minor": 2
}
